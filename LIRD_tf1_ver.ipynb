{
  "nbformat": 4,
  "nbformat_minor": 0,
  "metadata": {
    "colab": {
      "name": "LIRD_tf1_ver",
      "provenance": [],
      "collapsed_sections": [
        "gwoaes5UyJJS",
        "gfGFFQeZyQfG",
        "ZGvAXnJayWjt",
        "3-rEdckqygGY",
        "lVAPvO0Nyyy3",
        "KNP3jdofyh7M"
      ],
      "machine_shape": "hm",
      "include_colab_link": true
    },
    "kernelspec": {
      "name": "python3",
      "display_name": "Python 3"
    },
    "accelerator": "GPU"
  },
  "cells": [
    {
      "cell_type": "markdown",
      "metadata": {
        "id": "view-in-github",
        "colab_type": "text"
      },
      "source": [
        "<a href=\"https://colab.research.google.com/github/hwan27/thebest52/blob/master/LIRD_tf1_ver.ipynb\" target=\"_parent\"><img src=\"https://colab.research.google.com/assets/colab-badge.svg\" alt=\"Open In Colab\"/></a>"
      ]
    },
    {
      "cell_type": "code",
      "metadata": {
        "id": "4VCoNiElLnK4"
      },
      "source": [
        "from google.colab import files"
      ],
      "execution_count": null,
      "outputs": []
    },
    {
      "cell_type": "code",
      "metadata": {
        "colab": {
          "base_uri": "https://localhost:8080/"
        },
        "id": "sx42q6XFNbAe",
        "outputId": "e2114868-7a06-4d69-b18d-28d3eeafc6a4"
      },
      "source": [
        "!pip install tensorflow==1.15\n",
        "!pip install keras==2.3.1"
      ],
      "execution_count": null,
      "outputs": [
        {
          "output_type": "stream",
          "text": [
            "Collecting tensorflow==1.15\n",
            "\u001b[?25l  Downloading https://files.pythonhosted.org/packages/3f/98/5a99af92fb911d7a88a0005ad55005f35b4c1ba8d75fba02df726cd936e6/tensorflow-1.15.0-cp36-cp36m-manylinux2010_x86_64.whl (412.3MB)\n",
            "\u001b[K     |████████████████████████████████| 412.3MB 34kB/s \n",
            "\u001b[?25hRequirement already satisfied: astor>=0.6.0 in /usr/local/lib/python3.6/dist-packages (from tensorflow==1.15) (0.8.1)\n",
            "Requirement already satisfied: protobuf>=3.6.1 in /usr/local/lib/python3.6/dist-packages (from tensorflow==1.15) (3.12.4)\n",
            "Collecting gast==0.2.2\n",
            "  Downloading https://files.pythonhosted.org/packages/4e/35/11749bf99b2d4e3cceb4d55ca22590b0d7c2c62b9de38ac4a4a7f4687421/gast-0.2.2.tar.gz\n",
            "Requirement already satisfied: google-pasta>=0.1.6 in /usr/local/lib/python3.6/dist-packages (from tensorflow==1.15) (0.2.0)\n",
            "Requirement already satisfied: opt-einsum>=2.3.2 in /usr/local/lib/python3.6/dist-packages (from tensorflow==1.15) (3.3.0)\n",
            "Collecting tensorboard<1.16.0,>=1.15.0\n",
            "\u001b[?25l  Downloading https://files.pythonhosted.org/packages/1e/e9/d3d747a97f7188f48aa5eda486907f3b345cd409f0a0850468ba867db246/tensorboard-1.15.0-py3-none-any.whl (3.8MB)\n",
            "\u001b[K     |████████████████████████████████| 3.8MB 64.2MB/s \n",
            "\u001b[?25hRequirement already satisfied: termcolor>=1.1.0 in /usr/local/lib/python3.6/dist-packages (from tensorflow==1.15) (1.1.0)\n",
            "Requirement already satisfied: six>=1.10.0 in /usr/local/lib/python3.6/dist-packages (from tensorflow==1.15) (1.15.0)\n",
            "Requirement already satisfied: grpcio>=1.8.6 in /usr/local/lib/python3.6/dist-packages (from tensorflow==1.15) (1.33.2)\n",
            "Requirement already satisfied: absl-py>=0.7.0 in /usr/local/lib/python3.6/dist-packages (from tensorflow==1.15) (0.10.0)\n",
            "Collecting keras-applications>=1.0.8\n",
            "\u001b[?25l  Downloading https://files.pythonhosted.org/packages/71/e3/19762fdfc62877ae9102edf6342d71b28fbfd9dea3d2f96a882ce099b03f/Keras_Applications-1.0.8-py3-none-any.whl (50kB)\n",
            "\u001b[K     |████████████████████████████████| 51kB 8.3MB/s \n",
            "\u001b[?25hCollecting tensorflow-estimator==1.15.1\n",
            "\u001b[?25l  Downloading https://files.pythonhosted.org/packages/de/62/2ee9cd74c9fa2fa450877847ba560b260f5d0fb70ee0595203082dafcc9d/tensorflow_estimator-1.15.1-py2.py3-none-any.whl (503kB)\n",
            "\u001b[K     |████████████████████████████████| 512kB 58.8MB/s \n",
            "\u001b[?25hRequirement already satisfied: wrapt>=1.11.1 in /usr/local/lib/python3.6/dist-packages (from tensorflow==1.15) (1.12.1)\n",
            "Requirement already satisfied: keras-preprocessing>=1.0.5 in /usr/local/lib/python3.6/dist-packages (from tensorflow==1.15) (1.1.2)\n",
            "Requirement already satisfied: wheel>=0.26 in /usr/local/lib/python3.6/dist-packages (from tensorflow==1.15) (0.35.1)\n",
            "Requirement already satisfied: numpy<2.0,>=1.16.0 in /usr/local/lib/python3.6/dist-packages (from tensorflow==1.15) (1.18.5)\n",
            "Requirement already satisfied: setuptools in /usr/local/lib/python3.6/dist-packages (from protobuf>=3.6.1->tensorflow==1.15) (50.3.2)\n",
            "Requirement already satisfied: werkzeug>=0.11.15 in /usr/local/lib/python3.6/dist-packages (from tensorboard<1.16.0,>=1.15.0->tensorflow==1.15) (1.0.1)\n",
            "Requirement already satisfied: markdown>=2.6.8 in /usr/local/lib/python3.6/dist-packages (from tensorboard<1.16.0,>=1.15.0->tensorflow==1.15) (3.3.3)\n",
            "Requirement already satisfied: h5py in /usr/local/lib/python3.6/dist-packages (from keras-applications>=1.0.8->tensorflow==1.15) (2.10.0)\n",
            "Requirement already satisfied: importlib-metadata; python_version < \"3.8\" in /usr/local/lib/python3.6/dist-packages (from markdown>=2.6.8->tensorboard<1.16.0,>=1.15.0->tensorflow==1.15) (2.0.0)\n",
            "Requirement already satisfied: zipp>=0.5 in /usr/local/lib/python3.6/dist-packages (from importlib-metadata; python_version < \"3.8\"->markdown>=2.6.8->tensorboard<1.16.0,>=1.15.0->tensorflow==1.15) (3.4.0)\n",
            "Building wheels for collected packages: gast\n",
            "  Building wheel for gast (setup.py) ... \u001b[?25l\u001b[?25hdone\n",
            "  Created wheel for gast: filename=gast-0.2.2-cp36-none-any.whl size=7542 sha256=b7104b24f6e3c5b4dfbbf423af5871d91caf97071b186f67df74126ccaed3d67\n",
            "  Stored in directory: /root/.cache/pip/wheels/5c/2e/7e/a1d4d4fcebe6c381f378ce7743a3ced3699feb89bcfbdadadd\n",
            "Successfully built gast\n",
            "\u001b[31mERROR: tensorflow-probability 0.11.0 has requirement gast>=0.3.2, but you'll have gast 0.2.2 which is incompatible.\u001b[0m\n",
            "Installing collected packages: gast, tensorboard, keras-applications, tensorflow-estimator, tensorflow\n",
            "  Found existing installation: gast 0.3.3\n",
            "    Uninstalling gast-0.3.3:\n",
            "      Successfully uninstalled gast-0.3.3\n",
            "  Found existing installation: tensorboard 2.3.0\n",
            "    Uninstalling tensorboard-2.3.0:\n",
            "      Successfully uninstalled tensorboard-2.3.0\n",
            "  Found existing installation: tensorflow-estimator 2.3.0\n",
            "    Uninstalling tensorflow-estimator-2.3.0:\n",
            "      Successfully uninstalled tensorflow-estimator-2.3.0\n",
            "  Found existing installation: tensorflow 2.3.0\n",
            "    Uninstalling tensorflow-2.3.0:\n",
            "      Successfully uninstalled tensorflow-2.3.0\n",
            "Successfully installed gast-0.2.2 keras-applications-1.0.8 tensorboard-1.15.0 tensorflow-1.15.0 tensorflow-estimator-1.15.1\n",
            "Collecting keras==2.3.1\n",
            "\u001b[?25l  Downloading https://files.pythonhosted.org/packages/ad/fd/6bfe87920d7f4fd475acd28500a42482b6b84479832bdc0fe9e589a60ceb/Keras-2.3.1-py2.py3-none-any.whl (377kB)\n",
            "\u001b[K     |████████████████████████████████| 378kB 38kB/s \n",
            "\u001b[?25hRequirement already satisfied: h5py in /usr/local/lib/python3.6/dist-packages (from keras==2.3.1) (2.10.0)\n",
            "Requirement already satisfied: scipy>=0.14 in /usr/local/lib/python3.6/dist-packages (from keras==2.3.1) (1.4.1)\n",
            "Requirement already satisfied: keras-preprocessing>=1.0.5 in /usr/local/lib/python3.6/dist-packages (from keras==2.3.1) (1.1.2)\n",
            "Requirement already satisfied: keras-applications>=1.0.6 in /usr/local/lib/python3.6/dist-packages (from keras==2.3.1) (1.0.8)\n",
            "Requirement already satisfied: numpy>=1.9.1 in /usr/local/lib/python3.6/dist-packages (from keras==2.3.1) (1.18.5)\n",
            "Requirement already satisfied: six>=1.9.0 in /usr/local/lib/python3.6/dist-packages (from keras==2.3.1) (1.15.0)\n",
            "Requirement already satisfied: pyyaml in /usr/local/lib/python3.6/dist-packages (from keras==2.3.1) (3.13)\n",
            "Installing collected packages: keras\n",
            "  Found existing installation: Keras 2.4.3\n",
            "    Uninstalling Keras-2.4.3:\n",
            "      Successfully uninstalled Keras-2.4.3\n",
            "Successfully installed keras-2.3.1\n"
          ],
          "name": "stdout"
        }
      ]
    },
    {
      "cell_type": "code",
      "metadata": {
        "id": "uKmjjI_7qfaP",
        "colab": {
          "base_uri": "https://localhost:8080/"
        },
        "outputId": "3abe9f9e-ed5a-412d-e32f-af57ca94db2d"
      },
      "source": [
        "import itertools\n",
        "import pandas as pd\n",
        "import numpy as np\n",
        "import random\n",
        "import csv\n",
        "import time\n",
        "\n",
        "import matplotlib.pyplot as plt\n",
        "\n",
        "import tensorflow as tf\n",
        "\n",
        "import keras.backend as K\n",
        "from keras import Sequential\n",
        "from keras.layers import Dense, Dropout"
      ],
      "execution_count": null,
      "outputs": [
        {
          "output_type": "stream",
          "text": [
            "Using TensorFlow backend.\n"
          ],
          "name": "stderr"
        }
      ]
    },
    {
      "cell_type": "markdown",
      "metadata": {
        "id": "gwoaes5UyJJS"
      },
      "source": [
        "# MovieLens 100k Generator"
      ]
    },
    {
      "cell_type": "code",
      "metadata": {
        "id": "K2H9eM4YuOy6",
        "colab": {
          "base_uri": "https://localhost:8080/"
        },
        "outputId": "00a523b1-eb93-449c-b1ef-725e39a6e938"
      },
      "source": [
        "!wget http://files.grouplens.org/datasets/movielens/ml-100k.zip\n",
        "!unzip -q ml-100k.zip"
      ],
      "execution_count": null,
      "outputs": [
        {
          "output_type": "stream",
          "text": [
            "--2020-11-30 12:52:58--  http://files.grouplens.org/datasets/movielens/ml-100k.zip\n",
            "Resolving files.grouplens.org (files.grouplens.org)... 128.101.65.152\n",
            "Connecting to files.grouplens.org (files.grouplens.org)|128.101.65.152|:80... connected.\n",
            "HTTP request sent, awaiting response... 200 OK\n",
            "Length: 4924029 (4.7M) [application/zip]\n",
            "Saving to: ‘ml-100k.zip’\n",
            "\n",
            "ml-100k.zip         100%[===================>]   4.70M  4.71MB/s    in 1.0s    \n",
            "\n",
            "2020-11-30 12:52:59 (4.71 MB/s) - ‘ml-100k.zip’ saved [4924029/4924029]\n",
            "\n"
          ],
          "name": "stdout"
        }
      ]
    },
    {
      "cell_type": "code",
      "metadata": {
        "colab": {
          "base_uri": "https://localhost:8080/",
          "height": 138
        },
        "id": "a9GqztJLS4AJ",
        "outputId": "93c14607-98d1-4dc3-b7f7-c70ad13b02e2"
      },
      "source": [
        "data = pd.read_csv('ml-100k/u.data', sep='\\t', \n",
        "                    names=['userId', 'itemId', 'rating', 'timestamp'])\n",
        "# movie_titles = pd.read_csv(itempath, sep='|', names=['itemId', 'itemName'],\n",
        "#                         usecols=range(2), encoding='latin-1')"
      ],
      "execution_count": null,
      "outputs": [
        {
          "output_type": "error",
          "ename": "SyntaxError",
          "evalue": "ignored",
          "traceback": [
            "\u001b[0;36m  File \u001b[0;32m\"<ipython-input-25-32b46e47d8d7>\"\u001b[0;36m, line \u001b[0;32m2\u001b[0m\n\u001b[0;31m    #                         usecols=range(2), encoding='latin-1')\u001b[0m\n\u001b[0m                                                                   ^\u001b[0m\n\u001b[0;31mSyntaxError\u001b[0m\u001b[0;31m:\u001b[0m unexpected EOF while parsing\n"
          ]
        }
      ]
    },
    {
      "cell_type": "code",
      "metadata": {
        "id": "yST4dc3wtm2T"
      },
      "source": [
        "class DataGenerator():\n",
        "  def __init__(self, datapath, itempath):\n",
        "    '''\n",
        "    Load data from the DB MovieLens\n",
        "    List the users and the items\n",
        "    List all the users historic\n",
        "    '''\n",
        "    self.data  = self.load_datas(datapath, itempath)\n",
        "    self.users = self.data['userId'].unique()   #list of all users\n",
        "    self.items = self.data['itemId'].unique()   #list of all items\n",
        "    self.histo = self.gen_histo()\n",
        "    self.train = []\n",
        "    self.test  = []\n",
        "\n",
        "  def load_datas(self, datapath, itempath):\n",
        "    '''\n",
        "    Load the data and merge the name of each movie. \n",
        "    A row corresponds to a rate given by a user to a movie.\n",
        "\n",
        "     Parameters\n",
        "    ----------\n",
        "    datapath :  string\n",
        "                path to the data 100k MovieLens\n",
        "                contains usersId;itemId;rating \n",
        "    itempath :  string\n",
        "                path to the data 100k MovieLens\n",
        "                contains itemId;itemName\n",
        "     Returns\n",
        "    -------\n",
        "    result :    DataFrame\n",
        "                Contains all the ratings \n",
        "    '''\n",
        "    data = pd.read_csv(datapath, sep='\\t', \n",
        "                       names=['userId', 'itemId', 'rating', 'timestamp'])\n",
        "    movie_titles = pd.read_csv(itempath, sep='|', names=['itemId', 'itemName'],\n",
        "                           usecols=range(2), encoding='latin-1')\n",
        "    return data.merge(movie_titles,on='itemId', how='left')\n",
        "\n",
        "\n",
        "  def gen_histo(self):\n",
        "    '''\n",
        "    Group all rates given by users and store them from older to most recent.\n",
        "    \n",
        "    Returns\n",
        "    -------\n",
        "    result :    List(DataFrame)\n",
        "                List of the historic for each user\n",
        "    '''\n",
        "    historic_users = []\n",
        "    for i, u in enumerate(self.users):\n",
        "      temp = self.data[self.data['userId'] == u]\n",
        "      temp = temp.sort_values('timestamp').reset_index()\n",
        "      temp.drop('index', axis=1, inplace=True)\n",
        "      historic_users.append(temp)\n",
        "    return historic_users\n",
        "\n",
        "  def sample_histo(self, user_histo, action_ratio=0.8, max_samp_by_user=5,  max_state=100, max_action=50, nb_states=[], nb_actions=[]):\n",
        "    '''\n",
        "    For a given historic, make one or multiple sampling.\n",
        "    If no optional argument given for nb_states and nb_actions, then the sampling\n",
        "    is random and each sample can have differents size for action and state.\n",
        "    To normalize sampling we need to give list of the numbers of states and actions\n",
        "    to be sampled.\n",
        "\n",
        "    Parameters\n",
        "    ----------\n",
        "    user_histo :  DataFrame\n",
        "                      historic of user\n",
        "    delimiter :       string, optional\n",
        "                      delimiter for the csv\n",
        "    action_ratio :    float, optional\n",
        "                      ratio form which movies in history will be selected\n",
        "    max_samp_by_user: int, optional\n",
        "                      Nulber max of sample to make by user\n",
        "    max_state :       int, optional\n",
        "                      Number max of movies to take for the 'state' column\n",
        "    max_action :      int, optional\n",
        "                      Number max of movies to take for the 'action' action\n",
        "    nb_states :       array(int), optional\n",
        "                      Numbers of movies to be taken for each sample made on user's historic\n",
        "    nb_actions :      array(int), optional\n",
        "                      Numbers of rating to be taken for each sample made on user's historic\n",
        "    \n",
        "    Returns\n",
        "    -------\n",
        "    states :         List(String)\n",
        "                     All the states sampled, format of a sample: itemId&rating\n",
        "    actions :        List(String)\n",
        "                     All the actions sampled, format of a sample: itemId&rating\n",
        "  \n",
        "\n",
        "    Notes\n",
        "    -----\n",
        "    States must be before(timestamp<) the actions.\n",
        "    If given, size of nb_states is the numbller of sample by user\n",
        "    sizes of nb_states and nb_actions must be equals\n",
        "    '''\n",
        "\n",
        "    n = len(user_histo)\n",
        "    sep = int(action_ratio * n)\n",
        "    nb_sample = random.randint(1, max_samp_by_user)\n",
        "    if not nb_states:\n",
        "      nb_states = [min(random.randint(1, sep), max_state) for i in range(nb_sample)]\n",
        "    if not nb_actions:\n",
        "      nb_actions = [min(random.randint(1, n - sep), max_action) for i in range(nb_sample)]\n",
        "    assert len(nb_states) == len(nb_actions), 'Given array must have the same size'\n",
        "    \n",
        "    states  = []\n",
        "    actions = []\n",
        "    # SELECT SAMPLES IN HISTO\n",
        "    for i in range(len(nb_states)):\n",
        "      sample_states = user_histo.iloc[0:sep].sample(nb_states[i])\n",
        "      sample_actions = user_histo.iloc[-(n - sep):].sample(nb_actions[i])\n",
        "      \n",
        "      sample_state =  []\n",
        "      sample_action = []\n",
        "      for j in range(nb_states[i]):\n",
        "        row   = sample_states.iloc[j]\n",
        "        # FORMAT STATE\n",
        "        state = str(row.loc['itemId']) + '&' + str(row.loc['rating'])\n",
        "        sample_state.append(state)\n",
        "      \n",
        "      for j in range(nb_actions[i]):\n",
        "        row    = sample_actions.iloc[j]\n",
        "        # FORMAT ACTION\n",
        "        action = str(row.loc['itemId']) + '&' + str(row.loc['rating'])\n",
        "        sample_action.append(action)\n",
        "\n",
        "      states.append(sample_state)\n",
        "      actions.append(sample_action)\n",
        "    return states, actions\n",
        "\n",
        "  def gen_train_test(self, test_ratio, seed=None):\n",
        "    '''\n",
        "    Shuffle the historic of users and separate it in a train and a test set.\n",
        "    Store the ids for each set.\n",
        "    An user can't be in both set.\n",
        "\n",
        "     Parameters\n",
        "    ----------\n",
        "    test_ratio :  float\n",
        "                  Ratio to control the sizes of the sets\n",
        "    seed       :  float\n",
        "                  Seed on the shuffle\n",
        "    '''\n",
        "    n = len(self.histo)\n",
        "\n",
        "    if seed is not None:\n",
        "      random.Random(seed).shuffle(self.histo)\n",
        "    else:\n",
        "      random.shuffle(self.histo)\n",
        "\n",
        "    self.train = self.histo[:int((test_ratio * n))]\n",
        "    self.test  = self.histo[int((test_ratio * n)):]\n",
        "    self.user_train = [h.iloc[0,0] for h in self.train]\n",
        "    self.user_test  = [h.iloc[0,0] for h in self.test]\n",
        "    \n",
        "\n",
        "  def write_csv(self, filename, histo_to_write, delimiter=';', action_ratio=0.8, max_samp_by_user=5, max_state=100, max_action=50, nb_states=[], nb_actions=[]):\n",
        "    '''\n",
        "    From  a given historic, create a csv file with the format:\n",
        "    columns : state;action_reward;n_state\n",
        "    rows    : itemid&rating1 | itemid&rating2 | ... ; itemid&rating3 | ... | itemid&rating4; itemid&rating1 | itemid&rating2 | itemid&rating3 | ... | item&rating4\n",
        "    at filename location.\n",
        "\n",
        "    Parameters\n",
        "    ----------\n",
        "    filename :        string\n",
        "                      path to the file to be produced\n",
        "    histo_to_write :  List(DataFrame)\n",
        "                      List of the historic for each user\n",
        "    delimiter :       string, optional\n",
        "                      delimiter for the csv\n",
        "    action_ratio :    float, optional\n",
        "                      ratio form which movies in history will be selected\n",
        "    max_samp_by_user: int, optional\n",
        "                      Nulber max of sample to make by user\n",
        "    max_state :       int, optional\n",
        "                      Number max of movies to take for the 'state' column\n",
        "    max_action :      int, optional\n",
        "                      Number max of movies to take for the 'action' action\n",
        "    nb_states :       array(int), optional\n",
        "                      Numbers of movies to be taken for each sample made on user's historic\n",
        "    nb_actions :      array(int), optional\n",
        "                      Numbers of rating to be taken for each sample made on user's historic\n",
        "\n",
        "    Notes\n",
        "    -----\n",
        "    if given, size of nb_states is the numbller of sample by user\n",
        "    sizes of nb_states and nb_actions must be equals\n",
        "\n",
        "    '''\n",
        "    with open(filename, mode='w') as file:\n",
        "      f_writer = csv.writer(file, delimiter=delimiter)\n",
        "      f_writer.writerow(['state', 'action_reward', 'n_state'])\n",
        "      for user_histo in histo_to_write:\n",
        "        states, actions = self.sample_histo(user_histo, action_ratio, max_samp_by_user, max_state, max_action, nb_states, nb_actions)\n",
        "        for i in range(len(states)):\n",
        "          # FORMAT STATE\n",
        "          state_str   = '|'.join(states[i])\n",
        "          # FORMAT ACTION\n",
        "          action_str  = '|'.join(actions[i])\n",
        "          # FORMAT N_STATE\n",
        "          n_state_str = state_str + '|' + action_str\n",
        "          f_writer.writerow([state_str, action_str, n_state_str])"
      ],
      "execution_count": null,
      "outputs": []
    },
    {
      "cell_type": "markdown",
      "metadata": {
        "id": "gfGFFQeZyQfG"
      },
      "source": [
        "# Movies Embeddings"
      ]
    },
    {
      "cell_type": "code",
      "metadata": {
        "id": "578-inzm24sj"
      },
      "source": [
        "class EmbeddingsGenerator:\n",
        "  def  __init__(self, train_users, data):\n",
        "    self.train_users = train_users\n",
        "\n",
        "    #preprocess\n",
        "    self.data = data.sort_values(by=['timestamp'])\n",
        "    #make them start at 0\n",
        "    self.data['userId'] = self.data['userId'] - 1\n",
        "    self.data['itemId'] = self.data['itemId'] - 1\n",
        "    self.user_count = self.data['userId'].max() + 1\n",
        "    self.movie_count = self.data['itemId'].max() + 1\n",
        "    self.user_movies = {} #list of rated movies by each user\n",
        "    for userId in range(self.user_count):\n",
        "      self.user_movies[userId] = self.data[self.data.userId == userId]['itemId'].tolist()\n",
        "    self.m = self.model()\n",
        "\n",
        "  def model(self, hidden_layer_size=100):\n",
        "    m = Sequential()\n",
        "    m.add(Dense(hidden_layer_size, input_shape=(1, self.movie_count)))\n",
        "    m.add(Dropout(0.2))\n",
        "    m.add(Dense(self.movie_count, activation='softmax'))\n",
        "    m.compile(optimizer='adam', loss='categorical_crossentropy', metrics=['accuracy'])\n",
        "    return m\n",
        "  \n",
        "  def generate_input(self, user_id):\n",
        "    '''\n",
        "    Returns a context and a target for the user_id\n",
        "    context: user's history with one random movie removed\n",
        "    target: id of random removed movie\n",
        "    '''\n",
        "    user_movies_count = len(self.user_movies[user_id])\n",
        "    #picking random movie\n",
        "    random_index = np.random.randint(0, user_movies_count-1) # -1 avoids taking the last movie\n",
        "    #setting target\n",
        "    target = np.zeros((1, self.movie_count))\n",
        "    target[0][self.user_movies[user_id][random_index]] = 1\n",
        "    #setting context\n",
        "    context = np.zeros((1, self.movie_count))\n",
        "    context[0][self.user_movies[user_id][:random_index] + self.user_movies[user_id][random_index+1:]] = 1\n",
        "    return context, target\n",
        "\n",
        "  def train(self, nb_epochs = 300, batch_size = 10000):\n",
        "    '''\n",
        "    Trains the model from train_users's history\n",
        "    '''\n",
        "    for i in range(nb_epochs):\n",
        "      print('%d/%d' % (i+1, nb_epochs))\n",
        "      batch = [self.generate_input(user_id=np.random.choice(self.train_users) - 1) for _ in range(batch_size)]\n",
        "      X_train = np.array([b[0] for b in batch])\n",
        "      y_train = np.array([b[1] for b in batch])\n",
        "      self.m.fit(X_train, y_train, epochs=1, validation_split=0.5)\n",
        "\n",
        "  def test(self, test_users, batch_size = 100000):\n",
        "    '''\n",
        "    Returns [loss, accuracy] on the test set\n",
        "    '''\n",
        "    batch_test = [self.generate_input(user_id=np.random.choice(test_users) - 1) for _ in range(batch_size)]\n",
        "    X_test = np.array([b[0] for b in batch_test])\n",
        "    y_test = np.array([b[1] for b in batch_test])\n",
        "    return self.m.evaluate(X_test, y_test)\n",
        "\n",
        "  def save_embeddings(self, file_name):\n",
        "    '''\n",
        "    Generates a csv file containg the vector embedding for each movie.\n",
        "    '''\n",
        "    inp = self.m.input                                           # input placeholder\n",
        "    outputs = [layer.output for layer in self.m.layers]          # all layer outputs\n",
        "    functor = K.function([inp, K.learning_phase()], outputs )   # evaluation function\n",
        "\n",
        "    #append embeddings to vectors\n",
        "    vectors = []\n",
        "    for movie_id in range(self.movie_count):\n",
        "      movie = np.zeros((1, 1, self.movie_count))\n",
        "      movie[0][0][movie_id] = 1\n",
        "      layer_outs = functor([movie])\n",
        "      vector = [str(v) for v in layer_outs[0][0][0]]\n",
        "      vector = '|'.join(vector)\n",
        "      vectors.append([movie_id, vector])\n",
        "\n",
        "    #saves as a csv file\n",
        "    embeddings = pd.DataFrame(vectors, columns=['item_id', 'vectors']).astype({'item_id': 'int32'})\n",
        "    embeddings.to_csv(file_name, sep=';', index=False)\n",
        "    files.download(file_name) "
      ],
      "execution_count": null,
      "outputs": []
    },
    {
      "cell_type": "code",
      "metadata": {
        "id": "wpKB5xexLvSI"
      },
      "source": [
        "class Embeddings:\n",
        "  def __init__(self, item_embeddings):\n",
        "    self.item_embeddings = item_embeddings\n",
        "  \n",
        "  def size(self):\n",
        "    return self.item_embeddings.shape[1]\n",
        "  \n",
        "  def get_embedding_vector(self):\n",
        "    return self.item_embeddings\n",
        "  \n",
        "  def get_embedding(self, item_index):\n",
        "    return self.item_embeddings[item_index]\n",
        "\n",
        "  def embed(self, item_list):\n",
        "    return np.array([self.get_embedding(item) for item in item_list])"
      ],
      "execution_count": null,
      "outputs": []
    },
    {
      "cell_type": "code",
      "metadata": {
        "id": "AolIkmf0LWZP"
      },
      "source": [
        "def read_file(data_path):\n",
        "  ''' Load data from train.csv or test.csv. '''\n",
        "\n",
        "  data = pd.read_csv(data_path, sep=';')\n",
        "  for col in ['state', 'n_state', 'action_reward']:\n",
        "    data[col] = [np.array([[np.int(k) for k in ee.split('&')] for ee in e.split('|')]) for e in data[col]]\n",
        "  for col in ['state', 'n_state']:\n",
        "    data[col] = [np.array([e[0] for e in l]) for l in data[col]]\n",
        "\n",
        "  data['action'] = [[e[0] for e in l] for l in data['action_reward']]\n",
        "  data['reward'] = [tuple(e[1] for e in l) for l in data['action_reward']]\n",
        "  data.drop(columns=['action_reward'], inplace=True)\n",
        "\n",
        "  return data\n",
        "\n",
        "def read_embeddings(embeddings_path):\n",
        "  ''' Load embeddings (a vector for each item). '''\n",
        "  \n",
        "  embeddings = pd.read_csv(embeddings_path, sep=';')\n",
        "\n",
        "  return np.array([[np.float64(k) for k in e.split('|')]\n",
        "                   for e in embeddings['vectors']])"
      ],
      "execution_count": null,
      "outputs": []
    },
    {
      "cell_type": "markdown",
      "metadata": {
        "id": "ZGvAXnJayWjt"
      },
      "source": [
        "# Environment/Simulator"
      ]
    },
    {
      "cell_type": "code",
      "metadata": {
        "id": "H00n2XsouByw"
      },
      "source": [
        "class Environment():\n",
        "  def __init__(self, data, embeddings, alpha, gamma, fixed_length):\n",
        "    self.embeddings = embeddings\n",
        "\n",
        "    self.embedded_data = pd.DataFrame()\n",
        "    self.embedded_data['state'] = [np.array([embeddings.get_embedding(item_id) \n",
        "      for item_id in row['state']]) for _, row in data.iterrows()]\n",
        "    self.embedded_data['action'] = [np.array([embeddings.get_embedding(item_id) \n",
        "      for item_id in row['action']]) for _, row in data.iterrows()]\n",
        "    self.embedded_data['reward'] = data['reward']\n",
        "\n",
        "    self.alpha = alpha # α (alpha) in Equation (1)\n",
        "    self.gamma = gamma # Γ (Gamma) in Equation (4)\n",
        "    self.fixed_length = fixed_length\n",
        "    self.current_state = self.reset()\n",
        "    self.groups = self.get_groups()\n",
        "\n",
        "  def reset(self):\n",
        "    self.init_state = self.embedded_data['state'].sample(1).values[0]\n",
        "    return self.init_state\n",
        "\n",
        "  def step(self, actions):\n",
        "    '''\n",
        "    Compute reward and update state.\n",
        "    Args:\n",
        "      actions: embedded chosen items.\n",
        "    Returns:\n",
        "      cumulated_reward: overall reward.\n",
        "      current_state: updated state.\n",
        "    '''\n",
        "\n",
        "    # '18: Compute overall reward r_t according to Equation (4)'\n",
        "    simulated_rewards, cumulated_reward = self.simulate_rewards(self.current_state.reshape((1, -1)), actions.reshape((1, -1)))\n",
        "\n",
        "    # '11: Set s_t+1 = s_t' <=> self.current_state = self.current_state\n",
        "\n",
        "    for k in range(len(simulated_rewards)): # '12: for k = 1, K do'\n",
        "      if simulated_rewards[k] > 0: # '13: if r_t^k > 0 then'\n",
        "        # '14: Add a_t^k to the end of s_t+1'\n",
        "        self.current_state = np.append(self.current_state, [actions[k]], axis=0)\n",
        "        if self.fixed_length: # '15: Remove the first item of s_t+1'\n",
        "          self.current_state = np.delete(self.current_state, 0, axis=0)\n",
        "\n",
        "    return cumulated_reward, self.current_state\n",
        "\n",
        "  def get_groups(self):\n",
        "    ''' Calculate average state/action value for each group. Equation (3). '''\n",
        "\n",
        "    groups = []\n",
        "    for rewards, group in self.embedded_data.groupby(['reward']):\n",
        "      size = group.shape[0]\n",
        "      states = np.array(list(group['state'].values))\n",
        "      actions = np.array(list(group['action'].values))\n",
        "      groups.append({\n",
        "        'size': size, # N_x in article\n",
        "        'rewards': rewards, # U_x in article (combination of rewards)\n",
        "        'average state': (np.sum(states / np.linalg.norm(states, 2, axis=1)[:, np.newaxis], axis=0) / size).reshape((1, -1)), # s_x^-\n",
        "        'average action': (np.sum(actions / np.linalg.norm(actions, 2, axis=1)[:, np.newaxis], axis=0) / size).reshape((1, -1)) # a_x^-\n",
        "      })\n",
        "    return groups\n",
        "\n",
        "  def simulate_rewards(self, current_state, chosen_actions, reward_type='grouped cosine'):\n",
        "    '''\n",
        "    Calculate simulated rewards.\n",
        "    Args:\n",
        "      current_state: history, list of embedded items.\n",
        "      chosen_actions: embedded chosen items.\n",
        "      reward_type: from ['normal', 'grouped average', 'grouped cosine'].\n",
        "    Returns:\n",
        "      returned_rewards: most probable rewards.\n",
        "      cumulated_reward: probability weighted rewards.\n",
        "    '''\n",
        "\n",
        "    # Equation (1)\n",
        "    def cosine_state_action(s_t, a_t, s_i, a_i):\n",
        "      cosine_state = np.dot(s_t, s_i.T) / (np.linalg.norm(s_t, 2) * np.linalg.norm(s_i, 2))\n",
        "      cosine_action = np.dot(a_t, a_i.T) / (np.linalg.norm(a_t, 2) * np.linalg.norm(a_i, 2))\n",
        "      return (self.alpha * cosine_state + (1 - self.alpha) * cosine_action).reshape((1,))\n",
        "\n",
        "    if reward_type == 'normal':\n",
        "      # Calculate simulated reward in normal way: Equation (2)\n",
        "      probabilities = [cosine_state_action(current_state, chosen_actions, row['state'], row['action'])\n",
        "        for _, row in self.embedded_data.iterrows()]\n",
        "    elif reward_type == 'grouped average':\n",
        "      # Calculate simulated reward by grouped average: Equation (3)\n",
        "      probabilities = np.array([g['size'] for g in self.groups]) *\\\n",
        "        [(self.alpha * (np.dot(current_state, g['average state'].T) / np.linalg.norm(current_state, 2))\\\n",
        "        + (1 - self.alpha) * (np.dot(chosen_actions, g['average action'].T) / np.linalg.norm(chosen_actions, 2)))\n",
        "        for g in self.groups]\n",
        "    elif reward_type == 'grouped cosine':\n",
        "      # Calculate simulated reward by grouped cosine: Equations (1) and (3)\n",
        "      probabilities = [cosine_state_action(current_state, chosen_actions, g['average state'], g['average action'])\n",
        "        for g in self.groups]\n",
        "\n",
        "    # Normalize (sum to 1)\n",
        "    probabilities = np.array(probabilities) / sum(probabilities)\n",
        "\n",
        "    # Get most probable rewards\n",
        "    if reward_type == 'normal':\n",
        "      returned_rewards = self.embedded_data.iloc[np.argmax(probabilities)]['reward']\n",
        "    elif reward_type in ['grouped average', 'grouped cosine']:\n",
        "      returned_rewards = self.groups[np.argmax(probabilities)]['rewards']\n",
        "\n",
        "    # Equation (4)\n",
        "    def overall_reward(rewards, gamma):\n",
        "      return np.sum([gamma**k * reward for k, reward in enumerate(rewards)])\n",
        "\n",
        "    if reward_type in ['normal', 'grouped average']:\n",
        "      # Get cumulated reward: Equation (4)\n",
        "      cumulated_reward = overall_reward(returned_rewards, self.gamma)\n",
        "    elif reward_type == 'grouped cosine':\n",
        "      # Get probability weighted cumulated reward\n",
        "      cumulated_reward = np.sum([p * overall_reward(g['rewards'], self.gamma)\n",
        "        for p, g in zip(probabilities, self.groups)])\n",
        "\n",
        "    return returned_rewards, cumulated_reward"
      ],
      "execution_count": null,
      "outputs": []
    },
    {
      "cell_type": "markdown",
      "metadata": {
        "id": "3-rEdckqygGY"
      },
      "source": [
        "# Actor"
      ]
    },
    {
      "cell_type": "code",
      "metadata": {
        "id": "-YK3aSNaTouH"
      },
      "source": [
        "class Actor():\n",
        "  ''' Policy function approximator. '''\n",
        "  \n",
        "  def __init__(self, sess, state_space_size, action_space_size, batch_size, ra_length, history_length, embedding_size, tau, learning_rate, scope='actor'):\n",
        "    self.sess = sess\n",
        "    self.state_space_size = state_space_size\n",
        "    self.action_space_size = action_space_size\n",
        "    self.batch_size = batch_size\n",
        "    self.ra_length = ra_length\n",
        "    self.history_length = history_length\n",
        "    self.embedding_size = embedding_size\n",
        "    self.tau = tau\n",
        "    self.learning_rate = learning_rate\n",
        "    self.scope = scope\n",
        "\n",
        "    with tf.variable_scope(self.scope):\n",
        "      # Build Actor network\n",
        "      self.action_weights, self.state, self.sequence_length = self._build_net('estimator_actor')\n",
        "      self.network_params = tf.trainable_variables()\n",
        "\n",
        "      # Build target Actor network\n",
        "      self.target_action_weights, self.target_state, self.target_sequence_length = self._build_net('target_actor')\n",
        "      self.target_network_params = tf.trainable_variables()[len(self.network_params):] # TODO: why sublist [len(x):]? Maybe because its equal to network_params + target_network_params\n",
        "\n",
        "      # Initialize target network weights with network weights (θ^π′ ← θ^π)\n",
        "      self.init_target_network_params = [self.target_network_params[i].assign(self.network_params[i])\n",
        "        for i in range(len(self.target_network_params))]\n",
        "        \n",
        "      # Update target network weights (θ^π′ ← τθ^π + (1 − τ)θ^π′)\n",
        "      self.update_target_network_params = [self.target_network_params[i].assign(\n",
        "        tf.multiply(self.tau, self.network_params[i]) +\n",
        "        tf.multiply(1 - self.tau, self.target_network_params[i]))\n",
        "        for i in range(len(self.target_network_params))]\n",
        "\n",
        "      # Gradient computation from Critic's action_gradients\n",
        "      self.action_gradients = tf.placeholder(tf.float32, [None, self.action_space_size])\n",
        "      gradients = tf.gradients(tf.reshape(self.action_weights, [self.batch_size, self.action_space_size], name='42222222222'),\n",
        "                               self.network_params,\n",
        "                               self.action_gradients)\n",
        "      params_gradients = list(map(lambda x: tf.div(x, self.batch_size * self.action_space_size), gradients))\n",
        "      \n",
        "      # Compute ∇_a.Q(s, a|θ^µ).∇_θ^π.f_θ^π(s)\n",
        "      self.optimizer = tf.train.AdamOptimizer(self.learning_rate).apply_gradients(\n",
        "          zip(params_gradients, self.network_params))\n",
        "\n",
        "  def _build_net(self, scope):\n",
        "    ''' Build the (target) Actor network. '''\n",
        "\n",
        "    def gather_last_output(data, seq_lens):\n",
        "      def cli_value(x, v):\n",
        "        y = tf.constant(v, shape=x.get_shape(), dtype=tf.int64)\n",
        "        x = tf.cast(x, tf.int64)\n",
        "        return tf.where(tf.greater(x, y), x, y)\n",
        "\n",
        "      batch_range = tf.range(tf.cast(tf.shape(data)[0], dtype=tf.int64), dtype=tf.int64)\n",
        "      tmp_end = tf.map_fn(lambda x: cli_value(x, 0), seq_lens - 1, dtype=tf.int64)\n",
        "      indices = tf.stack([batch_range, tmp_end], axis=1)\n",
        "      return tf.gather_nd(data, indices)\n",
        "\n",
        "    with tf.variable_scope(scope):\n",
        "      # Inputs: current state, sequence_length\n",
        "      # Outputs: action weights to compute the score Equation (6)\n",
        "      state = tf.placeholder(tf.float32, [None, self.state_space_size], 'state')\n",
        "      state_ = tf.reshape(state, [-1, self.history_length, self.embedding_size])\n",
        "      sequence_length = tf.placeholder(tf.int32, [None], 'sequence_length')\n",
        "      cell = tf.nn.rnn_cell.GRUCell(self.embedding_size,\n",
        "                                    activation=tf.nn.relu,\n",
        "                                    kernel_initializer=tf.initializers.random_normal(),\n",
        "                                    bias_initializer=tf.zeros_initializer())\n",
        "      outputs, _ = tf.nn.dynamic_rnn(cell, state_, dtype=tf.float32, sequence_length=sequence_length)\n",
        "      last_output = gather_last_output(outputs, sequence_length) # TODO: replace by h\n",
        "      x = tf.keras.layers.Dense(self.ra_length * self.embedding_size)(last_output)\n",
        "      action_weights = tf.reshape(x, [-1, self.ra_length, self.embedding_size])\n",
        "\n",
        "    return action_weights, state, sequence_length\n",
        "\n",
        "  def train(self, state, sequence_length, action_gradients):\n",
        "    '''  Compute ∇_a.Q(s, a|θ^µ).∇_θ^π.f_θ^π(s). '''\n",
        "    self.sess.run(self.optimizer,\n",
        "                  feed_dict={\n",
        "                      self.state: state,\n",
        "                      self.sequence_length: sequence_length,\n",
        "                      self.action_gradients: action_gradients})\n",
        "\n",
        "  def predict(self, state, sequence_length):\n",
        "    return self.sess.run(self.action_weights,\n",
        "                         feed_dict={\n",
        "                             self.state: state,\n",
        "                             self.sequence_length: sequence_length})\n",
        "\n",
        "  def predict_target(self, state, sequence_length):\n",
        "    return self.sess.run(self.target_action_weights,\n",
        "                         feed_dict={\n",
        "                             self.target_state: state,\n",
        "                             self.target_sequence_length: sequence_length})\n",
        "\n",
        "  def init_target_network(self):\n",
        "    self.sess.run(self.init_target_network_params)\n",
        "\n",
        "  def update_target_network(self):\n",
        "    self.sess.run(self.update_target_network_params)\n",
        "    \n",
        "  def get_recommendation_list(self, ra_length, noisy_state, embeddings, target=False):\n",
        "    '''\n",
        "    Algorithm 2\n",
        "    Args:\n",
        "      ra_length: length of the recommendation list.\n",
        "      noisy_state: current/remembered environment state with noise.\n",
        "      embeddings: Embeddings object.\n",
        "      target: boolean to use Actor's network or target network.\n",
        "    Returns:\n",
        "      Recommendation List: list of embedded items as future actions.\n",
        "    '''\n",
        "\n",
        "    def get_score(weights, embedding, batch_size):\n",
        "      '''\n",
        "      Equation (6)\n",
        "      Args:\n",
        "        weights: w_t^k shape=(embedding_size,).\n",
        "        embedding: e_i shape=(embedding_size,).\n",
        "      Returns:\n",
        "        score of the item i: score_i=w_t^k.e_i^T shape=(1,).\n",
        "      '''\n",
        "      ret = np.dot(weights, embedding.T)\n",
        "      return ret\n",
        "\n",
        "    batch_size = noisy_state.shape[0]\n",
        "\n",
        "    # '1: Generate w_t = {w_t^1, ..., w_t^K} according to Equation (5)'\n",
        "    method = self.predict_target if target else self.predict\n",
        "    weights = method(noisy_state, [ra_length] * batch_size)\n",
        "\n",
        "    # '3: Score items in I according to Equation (6)'\n",
        "    scores = np.array([[[get_score(weights[i][k], embedding, batch_size)\n",
        "      for embedding in embeddings.get_embedding_vector()]\n",
        "      for k in range(ra_length)]\n",
        "      for i in range(batch_size)])\n",
        "\n",
        "    # '8: return a_t'\n",
        "    return np.array([[embeddings.get_embedding(np.argmax(scores[i][k]))\n",
        "      for k in range(ra_length)]\n",
        "      for i in range(batch_size)])"
      ],
      "execution_count": null,
      "outputs": []
    },
    {
      "cell_type": "markdown",
      "metadata": {
        "id": "lVAPvO0Nyyy3"
      },
      "source": [
        "# Critic"
      ]
    },
    {
      "cell_type": "code",
      "metadata": {
        "id": "jj3yEhnqy0Iy"
      },
      "source": [
        "class Critic():\n",
        "  ''' Value function approximator. '''\n",
        "  \n",
        "  def __init__(self, sess, state_space_size, action_space_size, history_length, embedding_size, tau, learning_rate, scope='critic'):\n",
        "    self.sess = sess\n",
        "    self.state_space_size = state_space_size\n",
        "    self.action_space_size = action_space_size\n",
        "    self.history_length = history_length\n",
        "    self.embedding_size = embedding_size\n",
        "    self.tau = tau\n",
        "    self.learning_rate = learning_rate\n",
        "    self.scope = scope\n",
        "\n",
        "    with tf.variable_scope(self.scope):\n",
        "      # Build Critic network\n",
        "      self.critic_Q_value, self.state, self.action, self.sequence_length = self._build_net('estimator_critic')\n",
        "      self.network_params = tf.get_collection(tf.GraphKeys.TRAINABLE_VARIABLES, scope='estimator_critic')\n",
        "\n",
        "      # Build target Critic network\n",
        "      self.target_Q_value, self.target_state, self.target_action, self.target_sequence_length = self._build_net('target_critic')\n",
        "      self.target_network_params = tf.get_collection(tf.GraphKeys.TRAINABLE_VARIABLES, scope='target_critic')\n",
        "\n",
        "      # Initialize target network weights with network weights (θ^µ′ ← θ^µ)\n",
        "      self.init_target_network_params = [self.target_network_params[i].assign(self.network_params[i])\n",
        "        for i in range(len(self.target_network_params))]\n",
        "\n",
        "      # Update target network weights (θ^µ′ ← τθ^µ + (1 − τ)θ^µ′)\n",
        "      self.update_target_network_params = [self.target_network_params[i].assign(\n",
        "        tf.multiply(self.tau, self.network_params[i]) +\n",
        "        tf.multiply(1 - self.tau, self.target_network_params[i]))\n",
        "        for i in range(len(self.target_network_params))]\n",
        "\n",
        "      # Minimize MSE between Critic's and target Critic's outputed Q-values\n",
        "      self.expected_reward = tf.placeholder(tf.float32, [None, 1])\n",
        "      self.loss = tf.reduce_mean(tf.squared_difference(self.expected_reward, self.critic_Q_value))\n",
        "      self.optimizer = tf.train.AdamOptimizer(self.learning_rate).minimize(self.loss)\n",
        "\n",
        "      # Compute ∇_a.Q(s, a|θ^µ)\n",
        "      self.action_gradients = tf.gradients(self.critic_Q_value, self.action)\n",
        "\n",
        "  def _build_net(self, scope):\n",
        "    ''' Build the (target) Critic network. '''\n",
        "\n",
        "    def gather_last_output(data, seq_lens):\n",
        "      def cli_value(x, v):\n",
        "        y = tf.constant(v, shape=x.get_shape(), dtype=tf.int64)\n",
        "        return tf.where(tf.greater(x, y), x, y)\n",
        "\n",
        "      this_range = tf.range(tf.cast(tf.shape(seq_lens)[0], dtype=tf.int64), dtype=tf.int64)\n",
        "      tmp_end = tf.map_fn(lambda x: cli_value(x, 0), seq_lens - 1, dtype=tf.int64)\n",
        "      indices = tf.stack([this_range, tmp_end], axis=1)\n",
        "      return tf.gather_nd(data, indices)\n",
        "\n",
        "    with tf.variable_scope(scope):\n",
        "      # Inputs: current state, current action\n",
        "      # Outputs: predicted Q-value\n",
        "      state = tf.placeholder(tf.float32, [None, self.state_space_size], 'state')\n",
        "      state_ = tf.reshape(state, [-1, self.history_length, self.embedding_size])\n",
        "      action = tf.placeholder(tf.float32, [None, self.action_space_size], 'action')\n",
        "      sequence_length = tf.placeholder(tf.int64, [None], name='critic_sequence_length')\n",
        "      cell = tf.nn.rnn_cell.GRUCell(self.history_length,\n",
        "                                    activation=tf.nn.relu,\n",
        "                                    kernel_initializer=tf.initializers.random_normal(),\n",
        "                                    bias_initializer=tf.zeros_initializer())\n",
        "      predicted_state, _ = tf.nn.dynamic_rnn(cell, state_, dtype=tf.float32, sequence_length=sequence_length)\n",
        "      predicted_state = gather_last_output(predicted_state, sequence_length)\n",
        "\n",
        "      inputs = tf.concat([predicted_state, action], axis=-1)\n",
        "      layer1 = tf.layers.Dense(32, activation=tf.nn.relu)(inputs)\n",
        "      layer2 = tf.layers.Dense(16, activation=tf.nn.relu)(layer1)\n",
        "      critic_Q_value = tf.layers.Dense(1)(layer2)\n",
        "      return critic_Q_value, state, action, sequence_length\n",
        "\n",
        "  def train(self, state, action, sequence_length, expected_reward):\n",
        "    ''' Minimize MSE between expected reward and target Critic's Q-value. '''\n",
        "    return self.sess.run([self.critic_Q_value, self.loss, self.optimizer],\n",
        "                         feed_dict={\n",
        "                             self.state: state,\n",
        "                             self.action: action,\n",
        "                             self.sequence_length: sequence_length,\n",
        "                             self.expected_reward: expected_reward})\n",
        "\n",
        "  def predict(self, state, action, sequence_length):\n",
        "    ''' Returns Critic's predicted Q-value. '''\n",
        "    return self.sess.run(self.critic_Q_value,\n",
        "                         feed_dict={\n",
        "                             self.state: state,\n",
        "                             self.action: action,\n",
        "                             self.sequence_length: sequence_length})\n",
        "\n",
        "  def predict_target(self, state, action, sequence_length):\n",
        "    ''' Returns target Critic's predicted Q-value. '''\n",
        "    return self.sess.run(self.target_Q_value,\n",
        "                         feed_dict={\n",
        "                             self.target_state: state,\n",
        "                             self.target_action: action,\n",
        "                             self.target_sequence_length: sequence_length})\n",
        "\n",
        "  def get_action_gradients(self, state, action, sequence_length):\n",
        "    ''' Returns ∇_a.Q(s, a|θ^µ). '''\n",
        "    return np.array(self.sess.run(self.action_gradients,\n",
        "                         feed_dict={\n",
        "                             self.state: state,\n",
        "                             self.action: action,\n",
        "                             self.sequence_length: sequence_length})[0])\n",
        "\n",
        "  def init_target_network(self):\n",
        "    self.sess.run(self.init_target_network_params)\n",
        "\n",
        "  def update_target_network(self):\n",
        "    self.sess.run(self.update_target_network_params)"
      ],
      "execution_count": null,
      "outputs": []
    },
    {
      "cell_type": "markdown",
      "metadata": {
        "id": "KNP3jdofyh7M"
      },
      "source": [
        "# Replay"
      ]
    },
    {
      "cell_type": "code",
      "metadata": {
        "id": "GvIqtE2YzoUa"
      },
      "source": [
        "class ReplayMemory():\n",
        "  ''' Replay memory D in article. '''\n",
        "  \n",
        "  def __init__(self, buffer_size):\n",
        "    self.buffer_size = buffer_size\n",
        "    # self.buffer = [[row['state'], row['action'], row['reward'], row['n_state']] for _, row in data.iterrows()][-self.buffer_size:] TODO: empty or not?\n",
        "    self.buffer = []\n",
        "\n",
        "  def add(self, state, action, reward, n_state):\n",
        "    self.buffer.append([state, action, reward, n_state])\n",
        "    if len(self.buffer) > self.buffer_size:\n",
        "      self.buffer.pop(0)\n",
        "\n",
        "  def size(self):\n",
        "    return len(self.buffer)\n",
        "\n",
        "  def sample_batch(self, batch_size):\n",
        "    return random.sample(self.buffer, batch_size)"
      ],
      "execution_count": null,
      "outputs": []
    },
    {
      "cell_type": "code",
      "metadata": {
        "id": "7x-ekweNfStD"
      },
      "source": [
        "def experience_replay(replay_memory, batch_size, actor, critic, embeddings, ra_length, state_space_size, action_space_size, discount_factor):\n",
        "  '''\n",
        "  Experience replay.\n",
        "  Args:\n",
        "    replay_memory: replay memory D in article.\n",
        "    batch_size: sample size.\n",
        "    actor: Actor network.\n",
        "    critic: Critic network.\n",
        "    embeddings: Embeddings object.\n",
        "    state_space_size: dimension of states.\n",
        "    action_space_size: dimensions of actions.\n",
        "  Returns:\n",
        "    Best Q-value, loss of Critic network for printing/recording purpose.\n",
        "  '''\n",
        "\n",
        "  # '22: Sample minibatch of N transitions (s, a, r, s′) from D'\n",
        "  samples = replay_memory.sample_batch(batch_size)\n",
        "  states = np.array([s[0] for s in samples])\n",
        "  actions = np.array([s[1] for s in samples])\n",
        "  rewards = np.array([s[2] for s in samples])\n",
        "  n_states = np.array([s[3] for s in samples]).reshape(-1, state_space_size)\n",
        "\n",
        "  # '23: Generate a′ by target Actor network according to Algorithm 2'\n",
        "  n_actions = actor.get_recommendation_list(ra_length, states, embeddings, target=True).reshape(-1, action_space_size)\n",
        "\n",
        "  # Calculate predicted Q′(s′, a′|θ^µ′) value\n",
        "  target_Q_value = critic.predict_target(n_states, n_actions, [ra_length] * batch_size)\n",
        "\n",
        "  # '24: Set y = r + γQ′(s′, a′|θ^µ′)'\n",
        "  expected_rewards = rewards + discount_factor * target_Q_value\n",
        "  \n",
        "  # '25: Update Critic by minimizing (y − Q(s, a|θ^µ))²'\n",
        "  critic_Q_value, critic_loss, _ = critic.train(states, actions, [ra_length] * batch_size, expected_rewards)\n",
        "  \n",
        "  # '26: Update the Actor using the sampled policy gradient'\n",
        "  action_gradients = critic.get_action_gradients(states, n_actions, [ra_length] * batch_size)\n",
        "  actor.train(states, [ra_length] * batch_size, action_gradients)\n",
        "\n",
        "  # '27: Update the Critic target networks'\n",
        "  critic.update_target_network()\n",
        "\n",
        "  # '28: Update the Actor target network'\n",
        "  actor.update_target_network()\n",
        "\n",
        "  return np.amax(critic_Q_value), critic_loss"
      ],
      "execution_count": null,
      "outputs": []
    },
    {
      "cell_type": "markdown",
      "metadata": {
        "id": "QzYw4cAhzYDF"
      },
      "source": [
        "# Training"
      ]
    },
    {
      "cell_type": "code",
      "metadata": {
        "id": "YRDXsrsMy69k"
      },
      "source": [
        "class OrnsteinUhlenbeckNoise:\n",
        "  ''' Noise for Actor predictions. '''\n",
        "  def __init__(self, action_space_size, mu=0, theta=0.5, sigma=0.2):\n",
        "    self.action_space_size = action_space_size\n",
        "    self.mu = mu\n",
        "    self.theta = theta\n",
        "    self.sigma = sigma\n",
        "    self.state = np.ones(self.action_space_size) * self.mu\n",
        "\n",
        "  def get(self):\n",
        "    self.state += self.theta * (self.mu - self.state) + self.sigma * np.random.rand(self.action_space_size)\n",
        "    return self.state\n",
        "\n",
        "def train(sess, environment, actor, critic, embeddings, history_length, ra_length, buffer_size, batch_size, discount_factor, nb_episodes, filename_summary):\n",
        "  ''' Algorithm 3 in article. '''\n",
        "\n",
        "  # Set up summary operators\n",
        "  def build_summaries():\n",
        "    episode_reward = tf.Variable(0.)\n",
        "    tf.summary.scalar('reward', episode_reward)\n",
        "    episode_max_Q = tf.Variable(0.)\n",
        "    tf.summary.scalar('max_Q_value', episode_max_Q)\n",
        "    critic_loss = tf.Variable(0.)\n",
        "    tf.summary.scalar('critic_loss', critic_loss)\n",
        "\n",
        "    summary_vars = [episode_reward, episode_max_Q, critic_loss]\n",
        "    summary_ops = tf.summary.merge_all()\n",
        "    return summary_ops, summary_vars\n",
        "\n",
        "  summary_ops, summary_vars = build_summaries()\n",
        "  sess.run(tf.global_variables_initializer())\n",
        "  writer = tf.summary.FileWriter(filename_summary, sess.graph)\n",
        "\n",
        "  # '2: Initialize target network f′ and Q′'\n",
        "  actor.init_target_network()\n",
        "  critic.init_target_network()\n",
        "\n",
        "  # '3: Initialize the capacity of replay memory D'\n",
        "  replay_memory = ReplayMemory(buffer_size) # Memory D in article\n",
        "  replay = False\n",
        "\n",
        "\n",
        "  start_time = time.time()\n",
        "  for i_session in range(nb_episodes): # '4: for session = 1, M do'\n",
        "    session_reward = 0\n",
        "    session_Q_value = 0\n",
        "    session_critic_loss = 0\n",
        "\n",
        "    # '5: Reset the item space I' is useless because unchanged.\n",
        "\n",
        "    states = environment.reset() # '6: Initialize state s_0 from previous sessions'\n",
        "    \n",
        "    if (i_session + 1) % 10 == 0: # Update average parameters every 10 episodes\n",
        "      environment.groups = environment.get_groups()\n",
        "      \n",
        "    exploration_noise = OrnsteinUhlenbeckNoise(history_length * embeddings.size())\n",
        "\n",
        "    for t in range(nb_rounds): # '7: for t = 1, T do'\n",
        "      # '8: Stage 1: Transition Generating Stage'\n",
        "\n",
        "      # '9: Select an action a_t = {a_t^1, ..., a_t^K} according to Algorithm 2'\n",
        "      actions = actor.get_recommendation_list(\n",
        "          ra_length,\n",
        "          states.reshape(1, -1), # TODO + exploration_noise.get().reshape(1, -1),\n",
        "          embeddings).reshape(ra_length, embeddings.size())\n",
        "\n",
        "      # '10: Execute action a_t and observe the reward list {r_t^1, ..., r_t^K} for each item in a_t'\n",
        "      rewards, next_states = environment.step(actions)\n",
        "\n",
        "      # '19: Store transition (s_t, a_t, r_t, s_t+1) in D'\n",
        "      replay_memory.add(states.reshape(history_length * embeddings.size()),\n",
        "                        actions.reshape(ra_length * embeddings.size()),\n",
        "                        [rewards],\n",
        "                        next_states.reshape(history_length * embeddings.size()))\n",
        "\n",
        "      states = next_states # '20: Set s_t = s_t+1'\n",
        "\n",
        "      session_reward += rewards\n",
        "      \n",
        "      # '21: Stage 2: Parameter Updating Stage'\n",
        "      if replay_memory.size() >= batch_size: # Experience replay\n",
        "        replay = True\n",
        "        replay_Q_value, critic_loss = experience_replay(replay_memory, batch_size,\n",
        "          actor, critic, embeddings, ra_length, history_length * embeddings.size(),\n",
        "          ra_length * embeddings.size(), discount_factor)\n",
        "        session_Q_value += replay_Q_value\n",
        "        session_critic_loss += critic_loss\n",
        "\n",
        "      summary_str = sess.run(summary_ops,\n",
        "                             feed_dict={summary_vars[0]: session_reward,\n",
        "                                        summary_vars[1]: session_Q_value,\n",
        "                                        summary_vars[2]: session_critic_loss})\n",
        "      \n",
        "      writer.add_summary(summary_str, i_session)\n",
        "\n",
        "      '''\n",
        "      print(state_to_items(embeddings.embed(data['state'][0]), actor, ra_length, embeddings),\n",
        "            state_to_items(embeddings.embed(data['state'][0]), actor, ra_length, embeddings, True))\n",
        "      '''\n",
        "\n",
        "    str_loss = str('Loss=%0.4f' % session_critic_loss)\n",
        "    print(('Episode %d/%d Reward=%d Time=%ds ' + (str_loss if replay else 'No replay')) % (i_session + 1, nb_episodes, session_reward, time.time() - start_time))\n",
        "    start_time = time.time()\n",
        "\n",
        "  writer.close()\n",
        "  tf.train.Saver().save(sess, 'models.h5', write_meta_graph=False)"
      ],
      "execution_count": null,
      "outputs": []
    },
    {
      "cell_type": "markdown",
      "metadata": {
        "id": "Cx_5zk2hll5e"
      },
      "source": [
        "## Data"
      ]
    },
    {
      "cell_type": "code",
      "metadata": {
        "id": "w8vv6bRi5_ro"
      },
      "source": [
        "# Hyperparameters\n",
        "history_length = 12 # N in article\n",
        "ra_length = 4 # K in article\n",
        "discount_factor = 0.99 # Gamma in Bellman equation\n",
        "actor_lr = 0.0001\n",
        "critic_lr = 0.001\n",
        "tau = 0.001 # τ in Algorithm 3\n",
        "batch_size = 64\n",
        "nb_episodes = 100\n",
        "nb_rounds = 50\n",
        "filename_summary = 'summary.txt'\n",
        "alpha = 0.5 # α (alpha) in Equation (1)\n",
        "gamma = 0.9 # Γ (Gamma) in Equation (4)\n",
        "buffer_size = 1000000 # Size of replay memory D in article\n",
        "fixed_length = True # Fixed memory length\n",
        "\n",
        "dg = DataGenerator('ml-100k/u.data', 'ml-100k/u.item')\n",
        "dg.gen_train_test(0.8, seed=42)\n",
        "\n",
        "dg.write_csv('train.csv', dg.train, nb_states=[history_length], nb_actions=[ra_length])\n",
        "dg.write_csv('test.csv', dg.test, nb_states=[history_length], nb_actions=[ra_length])\n",
        "\n",
        "data = read_file('train.csv')"
      ],
      "execution_count": null,
      "outputs": []
    },
    {
      "cell_type": "markdown",
      "metadata": {
        "id": "m-aa79rvlpWH"
      },
      "source": [
        "## Embeddings"
      ]
    },
    {
      "cell_type": "code",
      "metadata": {
        "id": "ezsuxZbllgDg",
        "colab": {
          "base_uri": "https://localhost:8080/",
          "height": 1000
        },
        "outputId": "ab05eafb-aa02-4fe2-ac3f-2629603b5e5f"
      },
      "source": [
        "if True: # Generate embeddings?\n",
        "  eg = EmbeddingsGenerator(dg.user_train, pd.read_csv('ml-100k/u.data', sep='\\t', names=['userId', 'itemId', 'rating', 'timestamp']))\n",
        "  eg.train(nb_epochs=100)\n",
        "  train_loss, train_accuracy = eg.test(dg.user_train)\n",
        "  print('Train set: Loss=%.4f ; Accuracy=%.1f%%' % (train_loss, train_accuracy * 100))\n",
        "  test_loss, test_accuracy = eg.test(dg.user_test)\n",
        "  print('Test set: Loss=%.4f ; Accuracy=%.1f%%' % (test_loss, test_accuracy * 100))\n",
        "  eg.save_embeddings('embeddings.csv')"
      ],
      "execution_count": null,
      "outputs": [
        {
          "output_type": "stream",
          "text": [
            "1/100\n",
            "WARNING:tensorflow:From /usr/local/lib/python3.6/dist-packages/tensorflow_core/python/ops/math_grad.py:1424: where (from tensorflow.python.ops.array_ops) is deprecated and will be removed in a future version.\n",
            "Instructions for updating:\n",
            "Use tf.where in 2.0, which has the same broadcast rule as np.where\n",
            "WARNING:tensorflow:From /usr/local/lib/python3.6/dist-packages/keras/backend/tensorflow_backend.py:422: The name tf.global_variables is deprecated. Please use tf.compat.v1.global_variables instead.\n",
            "\n",
            "Train on 5000 samples, validate on 5000 samples\n",
            "Epoch 1/1\n",
            "5000/5000 [==============================] - 2s 493us/step - loss: 6.9269 - accuracy: 0.0092 - val_loss: 6.5422 - val_accuracy: 0.0128\n",
            "2/100\n",
            "Train on 5000 samples, validate on 5000 samples\n",
            "Epoch 1/1\n",
            "5000/5000 [==============================] - 1s 222us/step - loss: 6.4397 - accuracy: 0.0134 - val_loss: 6.3556 - val_accuracy: 0.0122\n",
            "3/100\n",
            "Train on 5000 samples, validate on 5000 samples\n",
            "Epoch 1/1\n",
            "5000/5000 [==============================] - 1s 221us/step - loss: 6.2928 - accuracy: 0.0146 - val_loss: 6.2279 - val_accuracy: 0.0168\n",
            "4/100\n",
            "Train on 5000 samples, validate on 5000 samples\n",
            "Epoch 1/1\n",
            "5000/5000 [==============================] - 1s 215us/step - loss: 6.2212 - accuracy: 0.0162 - val_loss: 6.1265 - val_accuracy: 0.0230\n",
            "5/100\n",
            "Train on 5000 samples, validate on 5000 samples\n",
            "Epoch 1/1\n",
            "5000/5000 [==============================] - 1s 218us/step - loss: 6.1598 - accuracy: 0.0190 - val_loss: 6.0773 - val_accuracy: 0.0194\n",
            "6/100\n",
            "Train on 5000 samples, validate on 5000 samples\n",
            "Epoch 1/1\n",
            "5000/5000 [==============================] - 1s 221us/step - loss: 6.0772 - accuracy: 0.0196 - val_loss: 6.0438 - val_accuracy: 0.0176\n",
            "7/100\n",
            "Train on 5000 samples, validate on 5000 samples\n",
            "Epoch 1/1\n",
            "5000/5000 [==============================] - 1s 219us/step - loss: 6.1297 - accuracy: 0.0170 - val_loss: 6.0080 - val_accuracy: 0.0244\n",
            "8/100\n",
            "Train on 5000 samples, validate on 5000 samples\n",
            "Epoch 1/1\n",
            "5000/5000 [==============================] - 1s 217us/step - loss: 6.0183 - accuracy: 0.0238 - val_loss: 5.9524 - val_accuracy: 0.0222\n",
            "9/100\n",
            "Train on 5000 samples, validate on 5000 samples\n",
            "Epoch 1/1\n",
            "5000/5000 [==============================] - 1s 220us/step - loss: 5.9769 - accuracy: 0.0218 - val_loss: 5.9657 - val_accuracy: 0.0248\n",
            "10/100\n",
            "Train on 5000 samples, validate on 5000 samples\n",
            "Epoch 1/1\n",
            "5000/5000 [==============================] - 1s 211us/step - loss: 5.9678 - accuracy: 0.0262 - val_loss: 5.9413 - val_accuracy: 0.0252\n",
            "11/100\n",
            "Train on 5000 samples, validate on 5000 samples\n",
            "Epoch 1/1\n",
            "5000/5000 [==============================] - 1s 219us/step - loss: 5.9376 - accuracy: 0.0242 - val_loss: 5.8763 - val_accuracy: 0.0300\n",
            "12/100\n",
            "Train on 5000 samples, validate on 5000 samples\n",
            "Epoch 1/1\n",
            "5000/5000 [==============================] - 1s 225us/step - loss: 5.9496 - accuracy: 0.0300 - val_loss: 5.8792 - val_accuracy: 0.0280\n",
            "13/100\n",
            "Train on 5000 samples, validate on 5000 samples\n",
            "Epoch 1/1\n",
            "5000/5000 [==============================] - 1s 220us/step - loss: 5.9164 - accuracy: 0.0310 - val_loss: 5.8481 - val_accuracy: 0.0364\n",
            "14/100\n",
            "Train on 5000 samples, validate on 5000 samples\n",
            "Epoch 1/1\n",
            "5000/5000 [==============================] - 1s 226us/step - loss: 5.8720 - accuracy: 0.0276 - val_loss: 5.7841 - val_accuracy: 0.0398\n",
            "15/100\n",
            "Train on 5000 samples, validate on 5000 samples\n",
            "Epoch 1/1\n",
            "5000/5000 [==============================] - 1s 214us/step - loss: 5.8265 - accuracy: 0.0352 - val_loss: 5.7734 - val_accuracy: 0.0456\n",
            "16/100\n",
            "Train on 5000 samples, validate on 5000 samples\n",
            "Epoch 1/1\n",
            "5000/5000 [==============================] - 1s 226us/step - loss: 5.8483 - accuracy: 0.0356 - val_loss: 5.7613 - val_accuracy: 0.0438\n",
            "17/100\n",
            "Train on 5000 samples, validate on 5000 samples\n",
            "Epoch 1/1\n",
            "5000/5000 [==============================] - 1s 224us/step - loss: 5.7893 - accuracy: 0.0376 - val_loss: 5.7934 - val_accuracy: 0.0440\n",
            "18/100\n",
            "Train on 5000 samples, validate on 5000 samples\n",
            "Epoch 1/1\n",
            "5000/5000 [==============================] - 1s 219us/step - loss: 5.7488 - accuracy: 0.0424 - val_loss: 5.7398 - val_accuracy: 0.0502\n",
            "19/100\n",
            "Train on 5000 samples, validate on 5000 samples\n",
            "Epoch 1/1\n",
            "5000/5000 [==============================] - 1s 216us/step - loss: 5.7833 - accuracy: 0.0430 - val_loss: 5.7043 - val_accuracy: 0.0542\n",
            "20/100\n",
            "Train on 5000 samples, validate on 5000 samples\n",
            "Epoch 1/1\n",
            "5000/5000 [==============================] - 1s 220us/step - loss: 5.7207 - accuracy: 0.0468 - val_loss: 5.6583 - val_accuracy: 0.0590\n",
            "21/100\n",
            "Train on 5000 samples, validate on 5000 samples\n",
            "Epoch 1/1\n",
            "5000/5000 [==============================] - 1s 215us/step - loss: 5.7477 - accuracy: 0.0460 - val_loss: 5.6772 - val_accuracy: 0.0528\n",
            "22/100\n",
            "Train on 5000 samples, validate on 5000 samples\n",
            "Epoch 1/1\n",
            "5000/5000 [==============================] - 1s 214us/step - loss: 5.6781 - accuracy: 0.0550 - val_loss: 5.6133 - val_accuracy: 0.0712\n",
            "23/100\n",
            "Train on 5000 samples, validate on 5000 samples\n",
            "Epoch 1/1\n",
            "5000/5000 [==============================] - 1s 221us/step - loss: 5.7073 - accuracy: 0.0550 - val_loss: 5.5882 - val_accuracy: 0.0638\n",
            "24/100\n",
            "Train on 5000 samples, validate on 5000 samples\n",
            "Epoch 1/1\n",
            "5000/5000 [==============================] - 1s 220us/step - loss: 5.6747 - accuracy: 0.0622 - val_loss: 5.5172 - val_accuracy: 0.0728\n",
            "25/100\n",
            "Train on 5000 samples, validate on 5000 samples\n",
            "Epoch 1/1\n",
            "5000/5000 [==============================] - 1s 242us/step - loss: 5.5599 - accuracy: 0.0660 - val_loss: 5.5279 - val_accuracy: 0.0808\n",
            "26/100\n",
            "Train on 5000 samples, validate on 5000 samples\n",
            "Epoch 1/1\n",
            "5000/5000 [==============================] - 1s 240us/step - loss: 5.5723 - accuracy: 0.0650 - val_loss: 5.5213 - val_accuracy: 0.0748\n",
            "27/100\n",
            "Train on 5000 samples, validate on 5000 samples\n",
            "Epoch 1/1\n",
            "5000/5000 [==============================] - 1s 240us/step - loss: 5.5649 - accuracy: 0.0716 - val_loss: 5.4637 - val_accuracy: 0.0860\n",
            "28/100\n",
            "Train on 5000 samples, validate on 5000 samples\n",
            "Epoch 1/1\n",
            "5000/5000 [==============================] - 1s 238us/step - loss: 5.5218 - accuracy: 0.0734 - val_loss: 5.4714 - val_accuracy: 0.0924\n",
            "29/100\n",
            "Train on 5000 samples, validate on 5000 samples\n",
            "Epoch 1/1\n",
            "5000/5000 [==============================] - 1s 223us/step - loss: 5.4861 - accuracy: 0.0756 - val_loss: 5.4448 - val_accuracy: 0.0816\n",
            "30/100\n",
            "Train on 5000 samples, validate on 5000 samples\n",
            "Epoch 1/1\n",
            "5000/5000 [==============================] - 1s 223us/step - loss: 5.4544 - accuracy: 0.0812 - val_loss: 5.3718 - val_accuracy: 0.0932\n",
            "31/100\n",
            "Train on 5000 samples, validate on 5000 samples\n",
            "Epoch 1/1\n",
            "5000/5000 [==============================] - 1s 219us/step - loss: 5.4565 - accuracy: 0.0824 - val_loss: 5.3208 - val_accuracy: 0.1058\n",
            "32/100\n",
            "Train on 5000 samples, validate on 5000 samples\n",
            "Epoch 1/1\n",
            "5000/5000 [==============================] - 1s 218us/step - loss: 5.4889 - accuracy: 0.0828 - val_loss: 5.3315 - val_accuracy: 0.1032\n",
            "33/100\n",
            "Train on 5000 samples, validate on 5000 samples\n",
            "Epoch 1/1\n",
            "5000/5000 [==============================] - 1s 215us/step - loss: 5.4052 - accuracy: 0.0958 - val_loss: 5.3067 - val_accuracy: 0.1118\n",
            "34/100\n",
            "Train on 5000 samples, validate on 5000 samples\n",
            "Epoch 1/1\n",
            "5000/5000 [==============================] - 1s 220us/step - loss: 5.4154 - accuracy: 0.0972 - val_loss: 5.2533 - val_accuracy: 0.1074\n",
            "35/100\n",
            "Train on 5000 samples, validate on 5000 samples\n",
            "Epoch 1/1\n",
            "5000/5000 [==============================] - 1s 220us/step - loss: 5.3415 - accuracy: 0.0918 - val_loss: 5.1914 - val_accuracy: 0.1238\n",
            "36/100\n",
            "Train on 5000 samples, validate on 5000 samples\n",
            "Epoch 1/1\n",
            "5000/5000 [==============================] - 1s 217us/step - loss: 5.2722 - accuracy: 0.1032 - val_loss: 5.1910 - val_accuracy: 0.1226\n",
            "37/100\n",
            "Train on 5000 samples, validate on 5000 samples\n",
            "Epoch 1/1\n",
            "5000/5000 [==============================] - 1s 220us/step - loss: 5.3042 - accuracy: 0.1048 - val_loss: 5.1172 - val_accuracy: 0.1422\n",
            "38/100\n",
            "Train on 5000 samples, validate on 5000 samples\n",
            "Epoch 1/1\n",
            "5000/5000 [==============================] - 1s 221us/step - loss: 5.2738 - accuracy: 0.1062 - val_loss: 5.1475 - val_accuracy: 0.1340\n",
            "39/100\n",
            "Train on 5000 samples, validate on 5000 samples\n",
            "Epoch 1/1\n",
            "5000/5000 [==============================] - 1s 220us/step - loss: 5.1924 - accuracy: 0.1192 - val_loss: 5.0495 - val_accuracy: 0.1434\n",
            "40/100\n",
            "Train on 5000 samples, validate on 5000 samples\n",
            "Epoch 1/1\n",
            "5000/5000 [==============================] - 1s 215us/step - loss: 5.1954 - accuracy: 0.1158 - val_loss: 5.0812 - val_accuracy: 0.1488\n",
            "41/100\n",
            "Train on 5000 samples, validate on 5000 samples\n",
            "Epoch 1/1\n",
            "5000/5000 [==============================] - 1s 218us/step - loss: 5.1684 - accuracy: 0.1226 - val_loss: 5.0131 - val_accuracy: 0.1532\n",
            "42/100\n",
            "Train on 5000 samples, validate on 5000 samples\n",
            "Epoch 1/1\n",
            "5000/5000 [==============================] - 1s 223us/step - loss: 5.0966 - accuracy: 0.1314 - val_loss: 4.9307 - val_accuracy: 0.1580\n",
            "43/100\n",
            "Train on 5000 samples, validate on 5000 samples\n",
            "Epoch 1/1\n",
            "5000/5000 [==============================] - 1s 216us/step - loss: 5.0699 - accuracy: 0.1356 - val_loss: 4.9386 - val_accuracy: 0.1546\n",
            "44/100\n",
            "Train on 5000 samples, validate on 5000 samples\n",
            "Epoch 1/1\n",
            "5000/5000 [==============================] - 1s 225us/step - loss: 5.0264 - accuracy: 0.1414 - val_loss: 4.8890 - val_accuracy: 0.1654\n",
            "45/100\n",
            "Train on 5000 samples, validate on 5000 samples\n",
            "Epoch 1/1\n",
            "5000/5000 [==============================] - 1s 225us/step - loss: 5.0789 - accuracy: 0.1376 - val_loss: 4.9144 - val_accuracy: 0.1800\n",
            "46/100\n",
            "Train on 5000 samples, validate on 5000 samples\n",
            "Epoch 1/1\n",
            "5000/5000 [==============================] - 1s 221us/step - loss: 5.0062 - accuracy: 0.1472 - val_loss: 4.8201 - val_accuracy: 0.1830\n",
            "47/100\n",
            "Train on 5000 samples, validate on 5000 samples\n",
            "Epoch 1/1\n",
            "5000/5000 [==============================] - 1s 215us/step - loss: 4.9469 - accuracy: 0.1472 - val_loss: 4.7793 - val_accuracy: 0.1942\n",
            "48/100\n",
            "Train on 5000 samples, validate on 5000 samples\n",
            "Epoch 1/1\n",
            "5000/5000 [==============================] - 1s 223us/step - loss: 4.9043 - accuracy: 0.1576 - val_loss: 4.7465 - val_accuracy: 0.1954\n",
            "49/100\n",
            "Train on 5000 samples, validate on 5000 samples\n",
            "Epoch 1/1\n",
            "5000/5000 [==============================] - 1s 212us/step - loss: 4.8448 - accuracy: 0.1704 - val_loss: 4.7257 - val_accuracy: 0.1998\n",
            "50/100\n",
            "Train on 5000 samples, validate on 5000 samples\n",
            "Epoch 1/1\n",
            "5000/5000 [==============================] - 1s 221us/step - loss: 4.8976 - accuracy: 0.1642 - val_loss: 4.6886 - val_accuracy: 0.2168\n",
            "51/100\n",
            "Train on 5000 samples, validate on 5000 samples\n",
            "Epoch 1/1\n",
            "5000/5000 [==============================] - 1s 226us/step - loss: 4.8724 - accuracy: 0.1688 - val_loss: 4.6863 - val_accuracy: 0.2090\n",
            "52/100\n",
            "Train on 5000 samples, validate on 5000 samples\n",
            "Epoch 1/1\n",
            "5000/5000 [==============================] - 1s 229us/step - loss: 4.7865 - accuracy: 0.1714 - val_loss: 4.6158 - val_accuracy: 0.2128\n",
            "53/100\n",
            "Train on 5000 samples, validate on 5000 samples\n",
            "Epoch 1/1\n",
            "5000/5000 [==============================] - 1s 218us/step - loss: 4.7217 - accuracy: 0.1862 - val_loss: 4.5954 - val_accuracy: 0.2274\n",
            "54/100\n",
            "Train on 5000 samples, validate on 5000 samples\n",
            "Epoch 1/1\n",
            "5000/5000 [==============================] - 1s 218us/step - loss: 4.6736 - accuracy: 0.1818 - val_loss: 4.6328 - val_accuracy: 0.2236\n",
            "55/100\n",
            "Train on 5000 samples, validate on 5000 samples\n",
            "Epoch 1/1\n",
            "5000/5000 [==============================] - 1s 220us/step - loss: 4.6548 - accuracy: 0.1976 - val_loss: 4.5309 - val_accuracy: 0.2444\n",
            "56/100\n",
            "Train on 5000 samples, validate on 5000 samples\n",
            "Epoch 1/1\n",
            "5000/5000 [==============================] - 1s 223us/step - loss: 4.6338 - accuracy: 0.1920 - val_loss: 4.4021 - val_accuracy: 0.2620\n",
            "57/100\n",
            "Train on 5000 samples, validate on 5000 samples\n",
            "Epoch 1/1\n",
            "5000/5000 [==============================] - 1s 224us/step - loss: 4.6152 - accuracy: 0.2106 - val_loss: 4.3897 - val_accuracy: 0.2662\n",
            "58/100\n",
            "Train on 5000 samples, validate on 5000 samples\n",
            "Epoch 1/1\n",
            "5000/5000 [==============================] - 1s 211us/step - loss: 4.5694 - accuracy: 0.2084 - val_loss: 4.3861 - val_accuracy: 0.2658\n",
            "59/100\n",
            "Train on 5000 samples, validate on 5000 samples\n",
            "Epoch 1/1\n",
            "5000/5000 [==============================] - 1s 218us/step - loss: 4.5311 - accuracy: 0.2268 - val_loss: 4.3321 - val_accuracy: 0.2712\n",
            "60/100\n",
            "Train on 5000 samples, validate on 5000 samples\n",
            "Epoch 1/1\n",
            "5000/5000 [==============================] - 1s 221us/step - loss: 4.4327 - accuracy: 0.2392 - val_loss: 4.2879 - val_accuracy: 0.2872\n",
            "61/100\n",
            "Train on 5000 samples, validate on 5000 samples\n",
            "Epoch 1/1\n",
            "5000/5000 [==============================] - 1s 213us/step - loss: 4.4544 - accuracy: 0.2346 - val_loss: 4.2366 - val_accuracy: 0.2974\n",
            "62/100\n",
            "Train on 5000 samples, validate on 5000 samples\n",
            "Epoch 1/1\n",
            "5000/5000 [==============================] - 1s 224us/step - loss: 4.3917 - accuracy: 0.2448 - val_loss: 4.1548 - val_accuracy: 0.3138\n",
            "63/100\n",
            "Train on 5000 samples, validate on 5000 samples\n",
            "Epoch 1/1\n",
            "5000/5000 [==============================] - 1s 224us/step - loss: 4.4183 - accuracy: 0.2354 - val_loss: 4.1214 - val_accuracy: 0.3130\n",
            "64/100\n",
            "Train on 5000 samples, validate on 5000 samples\n",
            "Epoch 1/1\n",
            "5000/5000 [==============================] - 1s 221us/step - loss: 4.3409 - accuracy: 0.2490 - val_loss: 4.1615 - val_accuracy: 0.3204\n",
            "65/100\n",
            "Train on 5000 samples, validate on 5000 samples\n",
            "Epoch 1/1\n",
            "5000/5000 [==============================] - 1s 214us/step - loss: 4.2842 - accuracy: 0.2622 - val_loss: 4.0126 - val_accuracy: 0.3374\n",
            "66/100\n",
            "Train on 5000 samples, validate on 5000 samples\n",
            "Epoch 1/1\n",
            "5000/5000 [==============================] - 1s 214us/step - loss: 4.2558 - accuracy: 0.2644 - val_loss: 4.0099 - val_accuracy: 0.3456\n",
            "67/100\n",
            "Train on 5000 samples, validate on 5000 samples\n",
            "Epoch 1/1\n",
            "5000/5000 [==============================] - 1s 214us/step - loss: 4.2744 - accuracy: 0.2638 - val_loss: 3.9976 - val_accuracy: 0.3374\n",
            "68/100\n",
            "Train on 5000 samples, validate on 5000 samples\n",
            "Epoch 1/1\n",
            "5000/5000 [==============================] - 1s 234us/step - loss: 4.1018 - accuracy: 0.2864 - val_loss: 3.8665 - val_accuracy: 0.3662\n",
            "69/100\n",
            "Train on 5000 samples, validate on 5000 samples\n",
            "Epoch 1/1\n",
            "5000/5000 [==============================] - 1s 216us/step - loss: 4.1013 - accuracy: 0.2910 - val_loss: 3.8658 - val_accuracy: 0.3618\n",
            "70/100\n",
            "Train on 5000 samples, validate on 5000 samples\n",
            "Epoch 1/1\n",
            "5000/5000 [==============================] - 1s 221us/step - loss: 4.0316 - accuracy: 0.3050 - val_loss: 3.8712 - val_accuracy: 0.3672\n",
            "71/100\n",
            "Train on 5000 samples, validate on 5000 samples\n",
            "Epoch 1/1\n",
            "5000/5000 [==============================] - 1s 222us/step - loss: 3.9658 - accuracy: 0.3144 - val_loss: 3.7949 - val_accuracy: 0.3838\n",
            "72/100\n",
            "Train on 5000 samples, validate on 5000 samples\n",
            "Epoch 1/1\n",
            "5000/5000 [==============================] - 1s 224us/step - loss: 3.9538 - accuracy: 0.3202 - val_loss: 3.7268 - val_accuracy: 0.3952\n",
            "73/100\n",
            "Train on 5000 samples, validate on 5000 samples\n",
            "Epoch 1/1\n",
            "5000/5000 [==============================] - 1s 213us/step - loss: 3.8889 - accuracy: 0.3232 - val_loss: 3.6783 - val_accuracy: 0.4126\n",
            "74/100\n",
            "Train on 5000 samples, validate on 5000 samples\n",
            "Epoch 1/1\n",
            "5000/5000 [==============================] - 1s 220us/step - loss: 3.8493 - accuracy: 0.3348 - val_loss: 3.6740 - val_accuracy: 0.3916\n",
            "75/100\n",
            "Train on 5000 samples, validate on 5000 samples\n",
            "Epoch 1/1\n",
            "5000/5000 [==============================] - 1s 219us/step - loss: 3.8447 - accuracy: 0.3384 - val_loss: 3.6290 - val_accuracy: 0.4184\n",
            "76/100\n",
            "Train on 5000 samples, validate on 5000 samples\n",
            "Epoch 1/1\n",
            "5000/5000 [==============================] - 1s 220us/step - loss: 3.7314 - accuracy: 0.3544 - val_loss: 3.5281 - val_accuracy: 0.4338\n",
            "77/100\n",
            "Train on 5000 samples, validate on 5000 samples\n",
            "Epoch 1/1\n",
            "5000/5000 [==============================] - 1s 223us/step - loss: 3.7217 - accuracy: 0.3532 - val_loss: 3.5206 - val_accuracy: 0.4370\n",
            "78/100\n",
            "Train on 5000 samples, validate on 5000 samples\n",
            "Epoch 1/1\n",
            "5000/5000 [==============================] - 1s 216us/step - loss: 3.6536 - accuracy: 0.3702 - val_loss: 3.4371 - val_accuracy: 0.4494\n",
            "79/100\n",
            "Train on 5000 samples, validate on 5000 samples\n",
            "Epoch 1/1\n",
            "5000/5000 [==============================] - 1s 221us/step - loss: 3.6961 - accuracy: 0.3648 - val_loss: 3.4285 - val_accuracy: 0.4496\n",
            "80/100\n",
            "Train on 5000 samples, validate on 5000 samples\n",
            "Epoch 1/1\n",
            "5000/5000 [==============================] - 1s 221us/step - loss: 3.6129 - accuracy: 0.3772 - val_loss: 3.3229 - val_accuracy: 0.4754\n",
            "81/100\n",
            "Train on 5000 samples, validate on 5000 samples\n",
            "Epoch 1/1\n",
            "5000/5000 [==============================] - 1s 220us/step - loss: 3.5680 - accuracy: 0.3864 - val_loss: 3.3086 - val_accuracy: 0.4836\n",
            "82/100\n",
            "Train on 5000 samples, validate on 5000 samples\n",
            "Epoch 1/1\n",
            "5000/5000 [==============================] - 1s 213us/step - loss: 3.4320 - accuracy: 0.4010 - val_loss: 3.2259 - val_accuracy: 0.5046\n",
            "83/100\n",
            "Train on 5000 samples, validate on 5000 samples\n",
            "Epoch 1/1\n",
            "5000/5000 [==============================] - 1s 220us/step - loss: 3.4232 - accuracy: 0.4124 - val_loss: 3.1715 - val_accuracy: 0.5058\n",
            "84/100\n",
            "Train on 5000 samples, validate on 5000 samples\n",
            "Epoch 1/1\n",
            "5000/5000 [==============================] - 1s 213us/step - loss: 3.4413 - accuracy: 0.4088 - val_loss: 3.1572 - val_accuracy: 0.5140\n",
            "85/100\n",
            "Train on 5000 samples, validate on 5000 samples\n",
            "Epoch 1/1\n",
            "5000/5000 [==============================] - 1s 225us/step - loss: 3.3428 - accuracy: 0.4220 - val_loss: 3.1092 - val_accuracy: 0.5228\n",
            "86/100\n",
            "Train on 5000 samples, validate on 5000 samples\n",
            "Epoch 1/1\n",
            "5000/5000 [==============================] - 1s 213us/step - loss: 3.2983 - accuracy: 0.4358 - val_loss: 3.1422 - val_accuracy: 0.5188\n",
            "87/100\n",
            "Train on 5000 samples, validate on 5000 samples\n",
            "Epoch 1/1\n",
            "5000/5000 [==============================] - 1s 223us/step - loss: 3.2342 - accuracy: 0.4500 - val_loss: 3.0764 - val_accuracy: 0.5332\n",
            "88/100\n",
            "Train on 5000 samples, validate on 5000 samples\n",
            "Epoch 1/1\n",
            "5000/5000 [==============================] - 1s 209us/step - loss: 3.2516 - accuracy: 0.4524 - val_loss: 2.9602 - val_accuracy: 0.5420\n",
            "89/100\n",
            "Train on 5000 samples, validate on 5000 samples\n",
            "Epoch 1/1\n",
            "5000/5000 [==============================] - 1s 216us/step - loss: 3.1939 - accuracy: 0.4610 - val_loss: 2.9346 - val_accuracy: 0.5484\n",
            "90/100\n",
            "Train on 5000 samples, validate on 5000 samples\n",
            "Epoch 1/1\n",
            "5000/5000 [==============================] - 1s 225us/step - loss: 3.1554 - accuracy: 0.4710 - val_loss: 2.9109 - val_accuracy: 0.5556\n",
            "91/100\n",
            "Train on 5000 samples, validate on 5000 samples\n",
            "Epoch 1/1\n",
            "5000/5000 [==============================] - 1s 224us/step - loss: 3.1203 - accuracy: 0.4726 - val_loss: 2.8296 - val_accuracy: 0.5684\n",
            "92/100\n",
            "Train on 5000 samples, validate on 5000 samples\n",
            "Epoch 1/1\n",
            "5000/5000 [==============================] - 1s 223us/step - loss: 3.0487 - accuracy: 0.4844 - val_loss: 2.7578 - val_accuracy: 0.5854\n",
            "93/100\n",
            "Train on 5000 samples, validate on 5000 samples\n",
            "Epoch 1/1\n",
            "5000/5000 [==============================] - 1s 218us/step - loss: 3.0641 - accuracy: 0.4784 - val_loss: 2.7113 - val_accuracy: 0.5876\n",
            "94/100\n",
            "Train on 5000 samples, validate on 5000 samples\n",
            "Epoch 1/1\n",
            "5000/5000 [==============================] - 1s 217us/step - loss: 2.9476 - accuracy: 0.5062 - val_loss: 2.7528 - val_accuracy: 0.5980\n",
            "95/100\n",
            "Train on 5000 samples, validate on 5000 samples\n",
            "Epoch 1/1\n",
            "5000/5000 [==============================] - 1s 221us/step - loss: 2.8935 - accuracy: 0.5138 - val_loss: 2.6579 - val_accuracy: 0.5992\n",
            "96/100\n",
            "Train on 5000 samples, validate on 5000 samples\n",
            "Epoch 1/1\n",
            "5000/5000 [==============================] - 1s 213us/step - loss: 2.8231 - accuracy: 0.5216 - val_loss: 2.6450 - val_accuracy: 0.6082\n",
            "97/100\n",
            "Train on 5000 samples, validate on 5000 samples\n",
            "Epoch 1/1\n",
            "5000/5000 [==============================] - 1s 221us/step - loss: 2.8205 - accuracy: 0.5254 - val_loss: 2.5472 - val_accuracy: 0.6288\n",
            "98/100\n",
            "Train on 5000 samples, validate on 5000 samples\n",
            "Epoch 1/1\n",
            "5000/5000 [==============================] - 1s 237us/step - loss: 2.8335 - accuracy: 0.5204 - val_loss: 2.5537 - val_accuracy: 0.6252\n",
            "99/100\n",
            "Train on 5000 samples, validate on 5000 samples\n",
            "Epoch 1/1\n",
            "5000/5000 [==============================] - 1s 239us/step - loss: 2.7278 - accuracy: 0.5466 - val_loss: 2.5060 - val_accuracy: 0.6352\n",
            "100/100\n",
            "Train on 5000 samples, validate on 5000 samples\n",
            "Epoch 1/1\n",
            "5000/5000 [==============================] - 1s 215us/step - loss: 2.7283 - accuracy: 0.5432 - val_loss: 2.4455 - val_accuracy: 0.6436\n",
            "100000/100000 [==============================] - 6s 64us/step\n",
            "Train set: Loss=2.4179 ; Accuracy=64.9%\n",
            "100000/100000 [==============================] - 6s 63us/step\n",
            "Test set: Loss=12.0068 ; Accuracy=3.3%\n"
          ],
          "name": "stdout"
        },
        {
          "output_type": "display_data",
          "data": {
            "application/javascript": [
              "\n",
              "    async function download(id, filename, size) {\n",
              "      if (!google.colab.kernel.accessAllowed) {\n",
              "        return;\n",
              "      }\n",
              "      const div = document.createElement('div');\n",
              "      const label = document.createElement('label');\n",
              "      label.textContent = `Downloading \"${filename}\": `;\n",
              "      div.appendChild(label);\n",
              "      const progress = document.createElement('progress');\n",
              "      progress.max = size;\n",
              "      div.appendChild(progress);\n",
              "      document.body.appendChild(div);\n",
              "\n",
              "      const buffers = [];\n",
              "      let downloaded = 0;\n",
              "\n",
              "      const channel = await google.colab.kernel.comms.open(id);\n",
              "      // Send a message to notify the kernel that we're ready.\n",
              "      channel.send({})\n",
              "\n",
              "      for await (const message of channel.messages) {\n",
              "        // Send a message to notify the kernel that we're ready.\n",
              "        channel.send({})\n",
              "        if (message.buffers) {\n",
              "          for (const buffer of message.buffers) {\n",
              "            buffers.push(buffer);\n",
              "            downloaded += buffer.byteLength;\n",
              "            progress.value = downloaded;\n",
              "          }\n",
              "        }\n",
              "      }\n",
              "      const blob = new Blob(buffers, {type: 'application/binary'});\n",
              "      const a = document.createElement('a');\n",
              "      a.href = window.URL.createObjectURL(blob);\n",
              "      a.download = filename;\n",
              "      div.appendChild(a);\n",
              "      a.click();\n",
              "      div.remove();\n",
              "    }\n",
              "  "
            ],
            "text/plain": [
              "<IPython.core.display.Javascript object>"
            ]
          },
          "metadata": {
            "tags": []
          }
        },
        {
          "output_type": "display_data",
          "data": {
            "application/javascript": [
              "download(\"download_1e498fa8-fb1f-4ea8-82b4-08f113ae832a\", \"embeddings.csv\", 1906270)"
            ],
            "text/plain": [
              "<IPython.core.display.Javascript object>"
            ]
          },
          "metadata": {
            "tags": []
          }
        }
      ]
    },
    {
      "cell_type": "code",
      "metadata": {
        "id": "7UI61hVlyQLS"
      },
      "source": [
        "files.upload()"
      ],
      "execution_count": null,
      "outputs": []
    },
    {
      "cell_type": "code",
      "metadata": {
        "id": "wurA3IXNliMy"
      },
      "source": [
        "embeddings = Embeddings(read_embeddings('embeddings.csv'))\n",
        "\n",
        "state_space_size = embeddings.size() * history_length\n",
        "action_space_size = embeddings.size() * ra_length"
      ],
      "execution_count": null,
      "outputs": []
    },
    {
      "cell_type": "code",
      "metadata": {
        "id": "RP4vzcHwOmbP",
        "colab": {
          "base_uri": "https://localhost:8080/",
          "height": 854
        },
        "outputId": "c19579df-4f47-4882-c017-291e71bcfac1"
      },
      "source": [
        "environment = Environment(data, embeddings, alpha, gamma, fixed_length)\n",
        "\n",
        "tf.reset_default_graph() # For multiple consecutive executions\n",
        "\n",
        "sess = tf.Session()\n",
        "# '1: Initialize actor network f_θ^π and critic network Q(s, a|θ^µ) with random weights'\n",
        "actor = Actor(sess, state_space_size, action_space_size, batch_size, ra_length, history_length, embeddings.size(), tau, actor_lr)\n",
        "critic = Critic(sess, state_space_size, action_space_size, history_length, embeddings.size(), tau, critic_lr)\n",
        "\n",
        "train(sess, environment, actor, critic, embeddings, history_length, ra_length, buffer_size, batch_size, discount_factor, nb_episodes, filename_summary)"
      ],
      "execution_count": null,
      "outputs": [
        {
          "output_type": "stream",
          "text": [
            "WARNING:tensorflow:From <ipython-input-13-1a5cd2de5f02>:69: GRUCell.__init__ (from tensorflow.python.ops.rnn_cell_impl) is deprecated and will be removed in a future version.\n",
            "Instructions for updating:\n",
            "This class is equivalent as tf.keras.layers.GRUCell, and will be replaced by that in Tensorflow 2.0.\n",
            "WARNING:tensorflow:From <ipython-input-13-1a5cd2de5f02>:70: dynamic_rnn (from tensorflow.python.ops.rnn) is deprecated and will be removed in a future version.\n",
            "Instructions for updating:\n",
            "Please use `keras.layers.RNN(cell)`, which is equivalent to this API\n",
            "WARNING:tensorflow:From /usr/local/lib/python3.6/dist-packages/tensorflow_core/python/ops/rnn_cell_impl.py:559: Layer.add_variable (from tensorflow.python.keras.engine.base_layer) is deprecated and will be removed in a future version.\n",
            "Instructions for updating:\n",
            "Please use `layer.add_weight` method instead.\n",
            "WARNING:tensorflow:From <ipython-input-13-1a5cd2de5f02>:40: div (from tensorflow.python.ops.math_ops) is deprecated and will be removed in a future version.\n",
            "Instructions for updating:\n",
            "Deprecated in favor of operator or tf.math.divide.\n",
            "Episode 1/100 Reward=545 Time=5s No replay\n",
            "Episode 2/100 Reward=545 Time=58s Loss=1099.0093\n",
            "Episode 3/100 Reward=545 Time=75s Loss=50.0000\n",
            "Episode 4/100 Reward=545 Time=76s Loss=33.1675\n",
            "Episode 5/100 Reward=545 Time=75s Loss=24.5507\n",
            "Episode 6/100 Reward=545 Time=76s Loss=16.8803\n",
            "Episode 7/100 Reward=545 Time=75s Loss=13.8466\n",
            "Episode 8/100 Reward=545 Time=75s Loss=11.3427\n",
            "Episode 9/100 Reward=545 Time=76s Loss=10.5354\n",
            "Episode 10/100 Reward=545 Time=76s Loss=8.5880\n",
            "Episode 11/100 Reward=545 Time=75s Loss=7.4289\n",
            "Episode 12/100 Reward=545 Time=75s Loss=6.3215\n",
            "Episode 13/100 Reward=545 Time=74s Loss=5.5869\n"
          ],
          "name": "stdout"
        },
        {
          "output_type": "error",
          "ename": "KeyboardInterrupt",
          "evalue": "ignored",
          "traceback": [
            "\u001b[0;31m---------------------------------------------------------------------------\u001b[0m",
            "\u001b[0;31mKeyboardInterrupt\u001b[0m                         Traceback (most recent call last)",
            "\u001b[0;32m<ipython-input-22-2b61e1f64844>\u001b[0m in \u001b[0;36m<module>\u001b[0;34m()\u001b[0m\n\u001b[1;32m      8\u001b[0m \u001b[0mcritic\u001b[0m \u001b[0;34m=\u001b[0m \u001b[0mCritic\u001b[0m\u001b[0;34m(\u001b[0m\u001b[0msess\u001b[0m\u001b[0;34m,\u001b[0m \u001b[0mstate_space_size\u001b[0m\u001b[0;34m,\u001b[0m \u001b[0maction_space_size\u001b[0m\u001b[0;34m,\u001b[0m \u001b[0mhistory_length\u001b[0m\u001b[0;34m,\u001b[0m \u001b[0membeddings\u001b[0m\u001b[0;34m.\u001b[0m\u001b[0msize\u001b[0m\u001b[0;34m(\u001b[0m\u001b[0;34m)\u001b[0m\u001b[0;34m,\u001b[0m \u001b[0mtau\u001b[0m\u001b[0;34m,\u001b[0m \u001b[0mcritic_lr\u001b[0m\u001b[0;34m)\u001b[0m\u001b[0;34m\u001b[0m\u001b[0;34m\u001b[0m\u001b[0m\n\u001b[1;32m      9\u001b[0m \u001b[0;34m\u001b[0m\u001b[0m\n\u001b[0;32m---> 10\u001b[0;31m \u001b[0mtrain\u001b[0m\u001b[0;34m(\u001b[0m\u001b[0msess\u001b[0m\u001b[0;34m,\u001b[0m \u001b[0menvironment\u001b[0m\u001b[0;34m,\u001b[0m \u001b[0mactor\u001b[0m\u001b[0;34m,\u001b[0m \u001b[0mcritic\u001b[0m\u001b[0;34m,\u001b[0m \u001b[0membeddings\u001b[0m\u001b[0;34m,\u001b[0m \u001b[0mhistory_length\u001b[0m\u001b[0;34m,\u001b[0m \u001b[0mra_length\u001b[0m\u001b[0;34m,\u001b[0m \u001b[0mbuffer_size\u001b[0m\u001b[0;34m,\u001b[0m \u001b[0mbatch_size\u001b[0m\u001b[0;34m,\u001b[0m \u001b[0mdiscount_factor\u001b[0m\u001b[0;34m,\u001b[0m \u001b[0mnb_episodes\u001b[0m\u001b[0;34m,\u001b[0m \u001b[0mfilename_summary\u001b[0m\u001b[0;34m)\u001b[0m\u001b[0;34m\u001b[0m\u001b[0;34m\u001b[0m\u001b[0m\n\u001b[0m",
            "\u001b[0;32m<ipython-input-17-1e63ee7cf8b4>\u001b[0m in \u001b[0;36mtrain\u001b[0;34m(sess, environment, actor, critic, embeddings, history_length, ra_length, buffer_size, batch_size, discount_factor, nb_episodes, filename_summary)\u001b[0m\n\u001b[1;32m     83\u001b[0m         replay_Q_value, critic_loss = experience_replay(replay_memory, batch_size,\n\u001b[1;32m     84\u001b[0m           \u001b[0mactor\u001b[0m\u001b[0;34m,\u001b[0m \u001b[0mcritic\u001b[0m\u001b[0;34m,\u001b[0m \u001b[0membeddings\u001b[0m\u001b[0;34m,\u001b[0m \u001b[0mra_length\u001b[0m\u001b[0;34m,\u001b[0m \u001b[0mhistory_length\u001b[0m \u001b[0;34m*\u001b[0m \u001b[0membeddings\u001b[0m\u001b[0;34m.\u001b[0m\u001b[0msize\u001b[0m\u001b[0;34m(\u001b[0m\u001b[0;34m)\u001b[0m\u001b[0;34m,\u001b[0m\u001b[0;34m\u001b[0m\u001b[0;34m\u001b[0m\u001b[0m\n\u001b[0;32m---> 85\u001b[0;31m           ra_length * embeddings.size(), discount_factor)\n\u001b[0m\u001b[1;32m     86\u001b[0m         \u001b[0msession_Q_value\u001b[0m \u001b[0;34m+=\u001b[0m \u001b[0mreplay_Q_value\u001b[0m\u001b[0;34m\u001b[0m\u001b[0;34m\u001b[0m\u001b[0m\n\u001b[1;32m     87\u001b[0m         \u001b[0msession_critic_loss\u001b[0m \u001b[0;34m+=\u001b[0m \u001b[0mcritic_loss\u001b[0m\u001b[0;34m\u001b[0m\u001b[0;34m\u001b[0m\u001b[0m\n",
            "\u001b[0;32m<ipython-input-16-89b559ba4c36>\u001b[0m in \u001b[0;36mexperience_replay\u001b[0;34m(replay_memory, batch_size, actor, critic, embeddings, ra_length, state_space_size, action_space_size, discount_factor)\u001b[0m\n\u001b[1;32m     22\u001b[0m \u001b[0;34m\u001b[0m\u001b[0m\n\u001b[1;32m     23\u001b[0m   \u001b[0;31m# '23: Generate a′ by target Actor network according to Algorithm 2'\u001b[0m\u001b[0;34m\u001b[0m\u001b[0;34m\u001b[0m\u001b[0;34m\u001b[0m\u001b[0m\n\u001b[0;32m---> 24\u001b[0;31m   \u001b[0mn_actions\u001b[0m \u001b[0;34m=\u001b[0m \u001b[0mactor\u001b[0m\u001b[0;34m.\u001b[0m\u001b[0mget_recommendation_list\u001b[0m\u001b[0;34m(\u001b[0m\u001b[0mra_length\u001b[0m\u001b[0;34m,\u001b[0m \u001b[0mstates\u001b[0m\u001b[0;34m,\u001b[0m \u001b[0membeddings\u001b[0m\u001b[0;34m,\u001b[0m \u001b[0mtarget\u001b[0m\u001b[0;34m=\u001b[0m\u001b[0;32mTrue\u001b[0m\u001b[0;34m)\u001b[0m\u001b[0;34m.\u001b[0m\u001b[0mreshape\u001b[0m\u001b[0;34m(\u001b[0m\u001b[0;34m-\u001b[0m\u001b[0;36m1\u001b[0m\u001b[0;34m,\u001b[0m \u001b[0maction_space_size\u001b[0m\u001b[0;34m)\u001b[0m\u001b[0;34m\u001b[0m\u001b[0;34m\u001b[0m\u001b[0m\n\u001b[0m\u001b[1;32m     25\u001b[0m \u001b[0;34m\u001b[0m\u001b[0m\n\u001b[1;32m     26\u001b[0m   \u001b[0;31m# Calculate predicted Q′(s′, a′|θ^µ′) value\u001b[0m\u001b[0;34m\u001b[0m\u001b[0;34m\u001b[0m\u001b[0;34m\u001b[0m\u001b[0m\n",
            "\u001b[0;32m<ipython-input-13-1a5cd2de5f02>\u001b[0m in \u001b[0;36mget_recommendation_list\u001b[0;34m(self, ra_length, noisy_state, embeddings, target)\u001b[0m\n\u001b[1;32m    135\u001b[0m       for embedding in embeddings.get_embedding_vector()]\n\u001b[1;32m    136\u001b[0m       for k in range(ra_length)]\n\u001b[0;32m--> 137\u001b[0;31m       for i in range(batch_size)])\n\u001b[0m\u001b[1;32m    138\u001b[0m \u001b[0;34m\u001b[0m\u001b[0m\n\u001b[1;32m    139\u001b[0m     \u001b[0;31m# '8: return a_t'\u001b[0m\u001b[0;34m\u001b[0m\u001b[0;34m\u001b[0m\u001b[0;34m\u001b[0m\u001b[0m\n",
            "\u001b[0;32m<ipython-input-13-1a5cd2de5f02>\u001b[0m in \u001b[0;36m<listcomp>\u001b[0;34m(.0)\u001b[0m\n\u001b[1;32m    135\u001b[0m       for embedding in embeddings.get_embedding_vector()]\n\u001b[1;32m    136\u001b[0m       for k in range(ra_length)]\n\u001b[0;32m--> 137\u001b[0;31m       for i in range(batch_size)])\n\u001b[0m\u001b[1;32m    138\u001b[0m \u001b[0;34m\u001b[0m\u001b[0m\n\u001b[1;32m    139\u001b[0m     \u001b[0;31m# '8: return a_t'\u001b[0m\u001b[0;34m\u001b[0m\u001b[0;34m\u001b[0m\u001b[0;34m\u001b[0m\u001b[0m\n",
            "\u001b[0;32m<ipython-input-13-1a5cd2de5f02>\u001b[0m in \u001b[0;36m<listcomp>\u001b[0;34m(.0)\u001b[0m\n\u001b[1;32m    134\u001b[0m     scores = np.array([[[get_score(weights[i][k], embedding, batch_size)\n\u001b[1;32m    135\u001b[0m       for embedding in embeddings.get_embedding_vector()]\n\u001b[0;32m--> 136\u001b[0;31m       for k in range(ra_length)]\n\u001b[0m\u001b[1;32m    137\u001b[0m       for i in range(batch_size)])\n\u001b[1;32m    138\u001b[0m \u001b[0;34m\u001b[0m\u001b[0m\n",
            "\u001b[0;32m<ipython-input-13-1a5cd2de5f02>\u001b[0m in \u001b[0;36m<listcomp>\u001b[0;34m(.0)\u001b[0m\n\u001b[1;32m    133\u001b[0m     \u001b[0;31m# '3: Score items in I according to Equation (6)'\u001b[0m\u001b[0;34m\u001b[0m\u001b[0;34m\u001b[0m\u001b[0;34m\u001b[0m\u001b[0m\n\u001b[1;32m    134\u001b[0m     scores = np.array([[[get_score(weights[i][k], embedding, batch_size)\n\u001b[0;32m--> 135\u001b[0;31m       for embedding in embeddings.get_embedding_vector()]\n\u001b[0m\u001b[1;32m    136\u001b[0m       for k in range(ra_length)]\n\u001b[1;32m    137\u001b[0m       for i in range(batch_size)])\n",
            "\u001b[0;31mKeyboardInterrupt\u001b[0m: "
          ]
        }
      ]
    },
    {
      "cell_type": "markdown",
      "metadata": {
        "id": "ZOnK_UxHzaPa"
      },
      "source": [
        "# Testing"
      ]
    },
    {
      "cell_type": "code",
      "metadata": {
        "id": "ZsJ0klBBSSXn"
      },
      "source": [
        "dict_embeddings = {}\n",
        "for i, item in enumerate(embeddings.get_embedding_vector()):\n",
        "  str_item = str(item)\n",
        "  assert(str_item not in dict_embeddings)\n",
        "  dict_embeddings[str_item] = i"
      ],
      "execution_count": null,
      "outputs": []
    },
    {
      "cell_type": "code",
      "metadata": {
        "id": "e-LsmlHnyouJ"
      },
      "source": [
        "def state_to_items(state, actor, ra_length, embeddings, dict_embeddings, target=False):\n",
        "  return [dict_embeddings[str(action)]\n",
        "          for action in actor.get_recommendation_list(ra_length, np.array(state).reshape(1, -1), embeddings, target).reshape(ra_length, embeddings.size())]"
      ],
      "execution_count": null,
      "outputs": []
    },
    {
      "cell_type": "code",
      "metadata": {
        "id": "UnCn8bf58uAP"
      },
      "source": [
        "def test_actor(actor, test_df, embeddings, dict_embeddings, ra_length, history_length, target=False, nb_rounds=1):\n",
        "  ratings = []\n",
        "  unknown = 0\n",
        "  random_seen = []\n",
        "  for _ in range(nb_rounds):\n",
        "    for i in range(len(test_df)):\n",
        "      history_sample = list(test_df[i].sample(history_length)['itemId'])\n",
        "      recommendation = state_to_items(embeddings.embed(history_sample), actor, ra_length, embeddings, dict_embeddings, target)\n",
        "      for item in recommendation:\n",
        "        l = list(test_df[i].loc[test_df[i]['itemId'] == item]['rating'])\n",
        "        assert(len(l) < 2)\n",
        "        if len(l) == 0:\n",
        "          unknown += 1\n",
        "        else:\n",
        "          ratings.append(l[0])\n",
        "      for item in history_sample:\n",
        "        random_seen.append(list(test_df[i].loc[test_df[i]['itemId'] == item]['rating'])[0])\n",
        "\n",
        "  return ratings, unknown, random_seen"
      ],
      "execution_count": null,
      "outputs": []
    },
    {
      "cell_type": "markdown",
      "metadata": {
        "id": "i0j3nHjUAP24"
      },
      "source": [
        "## Train set"
      ]
    },
    {
      "cell_type": "markdown",
      "metadata": {
        "id": "OBZr_opifZss"
      },
      "source": [
        "#### Target = False"
      ]
    },
    {
      "cell_type": "code",
      "metadata": {
        "id": "vgqFYAsd8W-S",
        "colab": {
          "base_uri": "https://localhost:8080/",
          "height": 34
        },
        "outputId": "2fb4f8f4-69f7-419c-f5b5-b9d3c4938212"
      },
      "source": [
        "ratings, unknown, random_seen = test_actor(actor, dg.train, embeddings, dict_embeddings, ra_length, history_length, target=False, nb_rounds=10)\n",
        "print('%0.1f%% unknown' % (100 * unknown / (len(ratings) + unknown)))"
      ],
      "execution_count": null,
      "outputs": [
        {
          "output_type": "stream",
          "text": [
            "91.0% unknown\n"
          ],
          "name": "stdout"
        }
      ]
    },
    {
      "cell_type": "code",
      "metadata": {
        "id": "IGetmkeD95rP",
        "colab": {
          "base_uri": "https://localhost:8080/",
          "height": 281
        },
        "outputId": "55ffa85b-f981-4ce0-b2ca-33d6bcd22c12"
      },
      "source": [
        "plt.subplot(1, 2, 1)\n",
        "plt.hist(ratings)\n",
        "plt.title('Predictions ; Mean = %.4f' % (np.mean(ratings)))\n",
        "plt.subplot(1, 2, 2)\n",
        "plt.hist(random_seen)\n",
        "plt.title('Random ; Mean = %.4f' % (np.mean(random_seen)))\n",
        "plt.show()"
      ],
      "execution_count": null,
      "outputs": [
        {
          "output_type": "display_data",
          "data": {
            "image/png": "[encoded data removed]",
            "text/plain": [
              "<Figure size 432x288 with 2 Axes>"
            ]
          },
          "metadata": {
            "tags": []
          }
        }
      ]
    },
    {
      "cell_type": "markdown",
      "metadata": {
        "id": "6FPKh8gafdcn"
      },
      "source": [
        "#### Target = True"
      ]
    },
    {
      "cell_type": "code",
      "metadata": {
        "id": "VvjYl_LTfGi9",
        "colab": {
          "base_uri": "https://localhost:8080/",
          "height": 34
        },
        "outputId": "ef427de1-7ef5-45cd-d02f-8f00979f54d3"
      },
      "source": [
        "ratings, unknown, random_seen = test_actor(actor, dg.train, embeddings, dict_embeddings, ra_length, history_length, target=True, nb_rounds=10)\n",
        "print('%0.1f%% unknown' % (100 * unknown / (len(ratings) + unknown)))"
      ],
      "execution_count": null,
      "outputs": [
        {
          "output_type": "stream",
          "text": [
            "90.9% unknown\n"
          ],
          "name": "stdout"
        }
      ]
    },
    {
      "cell_type": "code",
      "metadata": {
        "id": "2IKYVQ6gfIXk",
        "colab": {
          "base_uri": "https://localhost:8080/",
          "height": 281
        },
        "outputId": "f2fd236e-593e-4e74-a443-27098dc07122"
      },
      "source": [
        "plt.subplot(1, 2, 1)\n",
        "plt.hist(ratings)\n",
        "plt.title('Predictions ; Mean = %.4f' % (np.mean(ratings)))\n",
        "plt.subplot(1, 2, 2)\n",
        "plt.hist(random_seen)\n",
        "plt.title('Random ; Mean = %.4f' % (np.mean(random_seen)))\n",
        "plt.show()"
      ],
      "execution_count": null,
      "outputs": [
        {
          "output_type": "display_data",
          "data": {
            "image/png": "[encoded data removed]",
            "text/plain": [
              "<Figure size 432x288 with 2 Axes>"
            ]
          },
          "metadata": {
            "tags": []
          }
        }
      ]
    },
    {
      "cell_type": "markdown",
      "metadata": {
        "id": "kFimdOkLASAn"
      },
      "source": [
        "## Test set"
      ]
    },
    {
      "cell_type": "markdown",
      "metadata": {
        "id": "x49sZSZIfgfN"
      },
      "source": [
        "#### Target = False"
      ]
    },
    {
      "cell_type": "code",
      "metadata": {
        "id": "EXhBwo6t-p5R",
        "colab": {
          "base_uri": "https://localhost:8080/",
          "height": 34
        },
        "outputId": "b9fe413f-a1c0-4f1a-b075-6e167ffa3b0a"
      },
      "source": [
        "ratings, unknown, random_seen = test_actor(actor, dg.test, embeddings, dict_embeddings, ra_length, history_length, target=False, nb_rounds=100)\n",
        "print('%0.1f%% unknown' % (100 * unknown / (len(ratings) + unknown)))"
      ],
      "execution_count": null,
      "outputs": [
        {
          "output_type": "stream",
          "text": [
            "91.4% unknown\n"
          ],
          "name": "stdout"
        }
      ]
    },
    {
      "cell_type": "code",
      "metadata": {
        "id": "PFPjENrZAVsc",
        "colab": {
          "base_uri": "https://localhost:8080/",
          "height": 281
        },
        "outputId": "c819ff25-5791-46b0-f496-ba39f2577c36"
      },
      "source": [
        "plt.subplot(1, 2, 1)\n",
        "plt.hist(ratings)\n",
        "plt.title('Predictions ; Mean = %.4f' % (np.mean(ratings)))\n",
        "plt.subplot(1, 2, 2)\n",
        "plt.hist(random_seen)\n",
        "plt.title('Random ; Mean = %.4f' % (np.mean(random_seen)))\n",
        "plt.show()"
      ],
      "execution_count": null,
      "outputs": [
        {
          "output_type": "display_data",
          "data": {
            "image/png": "[encoded data removed]",
            "text/plain": [
              "<Figure size 432x288 with 2 Axes>"
            ]
          },
          "metadata": {
            "tags": []
          }
        }
      ]
    },
    {
      "cell_type": "markdown",
      "metadata": {
        "id": "Wg4QPFo7fkzn"
      },
      "source": [
        "#### Target = True"
      ]
    },
    {
      "cell_type": "code",
      "metadata": {
        "id": "0HCCXmcsAYkK",
        "colab": {
          "base_uri": "https://localhost:8080/",
          "height": 34
        },
        "outputId": "63f646b3-f000-4851-ecea-96e86cf55fb2"
      },
      "source": [
        "ratings, unknown, random_seen = test_actor(actor, dg.test, embeddings, dict_embeddings, ra_length, history_length, target=True, nb_rounds=100)\n",
        "print('%0.1f%% unknown' % (100 * unknown / (len(ratings) + unknown)))"
      ],
      "execution_count": null,
      "outputs": [
        {
          "output_type": "stream",
          "text": [
            "91.5% unknown\n"
          ],
          "name": "stdout"
        }
      ]
    },
    {
      "cell_type": "code",
      "metadata": {
        "id": "j5T4zKcJfTa1",
        "colab": {
          "base_uri": "https://localhost:8080/",
          "height": 281
        },
        "outputId": "fd0c6487-016f-49e7-c211-21194e887262"
      },
      "source": [
        "plt.subplot(1, 2, 1)\n",
        "plt.hist(ratings)\n",
        "plt.title('Predictions ; Mean = %.4f' % (np.mean(ratings)))\n",
        "plt.subplot(1, 2, 2)\n",
        "plt.hist(random_seen)\n",
        "plt.title('Random ; Mean = %.4f' % (np.mean(random_seen)))\n",
        "plt.show()"
      ],
      "execution_count": null,
      "outputs": [
        {
          "output_type": "display_data",
          "data": {
            "image/png": "[encoded data removed]",
            "text/plain": [
              "<Figure size 432x288 with 2 Axes>"
            ]
          },
          "metadata": {
            "tags": []
          }
        }
      ]
    },
    {
      "cell_type": "code",
      "metadata": {
        "id": "NVKRoOm7k_fn"
      },
      "source": [
        ""
      ],
      "execution_count": null,
      "outputs": []
    }
  ]
}