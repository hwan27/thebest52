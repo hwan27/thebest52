{
 "cells": [
  {
   "cell_type": "code",
   "execution_count": 2,
   "metadata": {},
   "outputs": [],
   "source": [
    "import itertools\n",
    "import pandas as pd\n",
    "import numpy as np\n",
    "import random\n",
    "import csv\n",
    "import time\n",
    "\n",
    "import matplotlib.pyplot as plt\n",
    "\n",
    "import tensorflow as tf\n",
    "\n",
    "import keras.backend as K\n",
    "from keras import Sequential\n",
    "from keras.layers import Dense, Dropout"
   ]
  },
  {
   "cell_type": "code",
   "execution_count": 3,
   "metadata": {},
   "outputs": [],
   "source": [
    "pd.set_option('display.max_row', 1000)"
   ]
  },
  {
   "cell_type": "markdown",
   "metadata": {},
   "source": [
    "# To do\n",
    "\n",
    "## [1] 데이터 전처리\n",
    "\n",
    "+ (저희 전에 얘기했던 중복값 처리) + (usercount >= 20)[O]  + (itemcount(아이템당 팔린 수)>5 (O))\n",
    "\n",
    "+ embedding 할 때는 + ( rating >3 )\n",
    "\n",
    "## [2] 중복 이슈\n",
    "\n",
    "+ 같은 user, 같은 item => 하나만 남기고 중복 처리  \n",
    "    + rating: 평균 or 최근 or 다른 방법\n",
    "    + timestamp : 최근\n",
    "    \n"
   ]
  },
  {
   "cell_type": "markdown",
   "metadata": {},
   "source": [
    "-------------------------------------\n",
    "## [1] 데이터 전처리"
   ]
  },
  {
   "cell_type": "markdown",
   "metadata": {},
   "source": [
    "### Amazon Books 데이터 불러 오기 &  user,item int로 바꾸기"
   ]
  },
  {
   "cell_type": "code",
   "execution_count": 4,
   "metadata": {},
   "outputs": [],
   "source": [
    "data = pd.read_csv('./data/Books.csv', names=['item', 'user', 'rating', 'timestamp'])"
   ]
  },
  {
   "cell_type": "code",
   "execution_count": 5,
   "metadata": {},
   "outputs": [
    {
     "data": {
      "text/html": [
       "<div>\n",
       "<style scoped>\n",
       "    .dataframe tbody tr th:only-of-type {\n",
       "        vertical-align: middle;\n",
       "    }\n",
       "\n",
       "    .dataframe tbody tr th {\n",
       "        vertical-align: top;\n",
       "    }\n",
       "\n",
       "    .dataframe thead th {\n",
       "        text-align: right;\n",
       "    }\n",
       "</style>\n",
       "<table border=\"1\" class=\"dataframe\">\n",
       "  <thead>\n",
       "    <tr style=\"text-align: right;\">\n",
       "      <th></th>\n",
       "      <th>item</th>\n",
       "      <th>user</th>\n",
       "      <th>rating</th>\n",
       "      <th>timestamp</th>\n",
       "    </tr>\n",
       "  </thead>\n",
       "  <tbody>\n",
       "    <tr>\n",
       "      <th>0</th>\n",
       "      <td>122</td>\n",
       "      <td>1376859</td>\n",
       "      <td>5.0</td>\n",
       "      <td>1123804800</td>\n",
       "    </tr>\n",
       "    <tr>\n",
       "      <th>1</th>\n",
       "      <td>122</td>\n",
       "      <td>3094405</td>\n",
       "      <td>5.0</td>\n",
       "      <td>1112140800</td>\n",
       "    </tr>\n",
       "    <tr>\n",
       "      <th>2</th>\n",
       "      <td>122</td>\n",
       "      <td>3923726</td>\n",
       "      <td>5.0</td>\n",
       "      <td>1081036800</td>\n",
       "    </tr>\n",
       "    <tr>\n",
       "      <th>3</th>\n",
       "      <td>122</td>\n",
       "      <td>3527298</td>\n",
       "      <td>5.0</td>\n",
       "      <td>1077321600</td>\n",
       "    </tr>\n",
       "    <tr>\n",
       "      <th>4</th>\n",
       "      <td>122</td>\n",
       "      <td>8042828</td>\n",
       "      <td>5.0</td>\n",
       "      <td>1475452800</td>\n",
       "    </tr>\n",
       "  </tbody>\n",
       "</table>\n",
       "</div>"
      ],
      "text/plain": [
       "   item     user  rating   timestamp\n",
       "0   122  1376859     5.0  1123804800\n",
       "1   122  3094405     5.0  1112140800\n",
       "2   122  3923726     5.0  1081036800\n",
       "3   122  3527298     5.0  1077321600\n",
       "4   122  8042828     5.0  1475452800"
      ]
     },
     "execution_count": 5,
     "metadata": {},
     "output_type": "execute_result"
    }
   ],
   "source": [
    "# User: str to int\n",
    "data.user = pd.Categorical(data.user)\n",
    "data['user'] = data.user.cat.codes\n",
    "\n",
    "# Item: str to int\n",
    "data.item = pd.Categorical(data.item)\n",
    "data['item'] = data.item.cat.codes\n",
    "\n",
    "data.head()"
   ]
  },
  {
   "cell_type": "markdown",
   "metadata": {},
   "source": [
    "### [1-1] user history >= 20"
   ]
  },
  {
   "cell_type": "code",
   "execution_count": 6,
   "metadata": {},
   "outputs": [],
   "source": [
    "a = pd.DataFrame(data['user'].value_counts())\n",
    "user_indices = a[a['user']>=20].index \n",
    "\n",
    "data_20 = data[data['user'].isin(user_indices)]"
   ]
  },
  {
   "cell_type": "code",
   "execution_count": 9,
   "metadata": {},
   "outputs": [
    {
     "data": {
      "text/plain": [
       "user\n",
       "6831279     9684\n",
       "5775864     9074\n",
       "8373854     7077\n",
       "13318960    5842\n",
       "3752841     4437\n",
       "            ... \n",
       "8468147       20\n",
       "14720415      20\n",
       "11296946      20\n",
       "14720316      20\n",
       "2386433       20\n",
       "Length: 301567, dtype: int64"
      ]
     },
     "execution_count": 9,
     "metadata": {},
     "output_type": "execute_result"
    }
   ],
   "source": [
    "data_20.value_counts('user')"
   ]
  },
  {
   "cell_type": "code",
   "execution_count": 8,
   "metadata": {},
   "outputs": [],
   "source": [
    "data_20.to_csv('./data/books_20.csv', index=False, header=None)"
   ]
  },
  {
   "cell_type": "code",
   "execution_count": 3,
   "metadata": {},
   "outputs": [],
   "source": [
    "data_20 = pd.read_csv('./data/books_int_20.csv', names=['item', 'user', 'rating', 'timestamp'], \n",
    ")"
   ]
  },
  {
   "cell_type": "code",
   "execution_count": 11,
   "metadata": {},
   "outputs": [
    {
     "data": {
      "text/plain": [
       "(15731887, 4)"
      ]
     },
     "execution_count": 11,
     "metadata": {},
     "output_type": "execute_result"
    }
   ],
   "source": [
    "data_20.shape"
   ]
  },
  {
   "cell_type": "code",
   "execution_count": 51,
   "metadata": {},
   "outputs": [],
   "source": [
    "def history_upper20(data):\n",
    "    a = pd.DataFrame(data['user'].value_counts())\n",
    "    user_indices = a[a['user']>=20].index \n",
    "    data_20 = data[data['user'].isin(user_indices)]\n",
    "    \n",
    "    return data_20"
   ]
  },
  {
   "cell_type": "code",
   "execution_count": 10,
   "metadata": {},
   "outputs": [],
   "source": [
    "data_20 = data_20[['user','item','rating','timestamp']]"
   ]
  },
  {
   "cell_type": "markdown",
   "metadata": {},
   "source": [
    "### [1-2] item count >= 5"
   ]
  },
  {
   "cell_type": "code",
   "execution_count": 39,
   "metadata": {},
   "outputs": [],
   "source": [
    "item_counts = pd.DataFrame(data['item'].value_counts())\n",
    "item_indices = item_counts[item_counts['item']>=5].index \n",
    "\n",
    "data_5 = data[data['item'].isin(item_indices)]"
   ]
  },
  {
   "cell_type": "code",
   "execution_count": 40,
   "metadata": {},
   "outputs": [
    {
     "data": {
      "text/plain": [
       "item\n",
       "288015     58150\n",
       "168974     44956\n",
       "5794       44381\n",
       "100968     37783\n",
       "205270     36620\n",
       "           ...  \n",
       "2428001        5\n",
       "946143         5\n",
       "946129         5\n",
       "2249729        5\n",
       "1452684        5\n",
       "Length: 1163015, dtype: int64"
      ]
     },
     "execution_count": 40,
     "metadata": {},
     "output_type": "execute_result"
    }
   ],
   "source": [
    "data_5.value_counts('item')"
   ]
  },
  {
   "cell_type": "code",
   "execution_count": 41,
   "metadata": {},
   "outputs": [],
   "source": [
    "data_5.to_csv('./data/books_5.csv', index=False, header=None)"
   ]
  },
  {
   "cell_type": "code",
   "execution_count": 50,
   "metadata": {},
   "outputs": [],
   "source": [
    "def item_upper5(data):\n",
    "    item_counts = pd.DataFrame(data['item'].value_counts())\n",
    "    item_indices = item_counts[item_counts['item']>=5].index \n",
    "    data_5 = data[data['item'].isin(item_indices)]\n",
    "    return data_5"
   ]
  },
  {
   "cell_type": "markdown",
   "metadata": {},
   "source": [
    "### [1-3] rating > 3"
   ]
  },
  {
   "cell_type": "code",
   "execution_count": 44,
   "metadata": {},
   "outputs": [],
   "source": [
    "rating_indices = data['rating']>3\n",
    "data_3 = data[rating_indices]"
   ]
  },
  {
   "cell_type": "code",
   "execution_count": 45,
   "metadata": {},
   "outputs": [
    {
     "data": {
      "text/plain": [
       "rating\n",
       "5.0    33979736\n",
       "4.0     9557650\n",
       "dtype: int64"
      ]
     },
     "execution_count": 45,
     "metadata": {},
     "output_type": "execute_result"
    }
   ],
   "source": [
    "data_3.value_counts('rating')"
   ]
  },
  {
   "cell_type": "code",
   "execution_count": 49,
   "metadata": {},
   "outputs": [],
   "source": [
    "def rating_upper3(data):\n",
    "    rating_indices = data['rating']>3\n",
    "    data_3 = data[rating_indices]\n",
    "    return data_3"
   ]
  },
  {
   "cell_type": "markdown",
   "metadata": {},
   "source": [
    "## 전처리 이슈 : 전처리 적용 순서"
   ]
  },
  {
   "cell_type": "code",
   "execution_count": 53,
   "metadata": {},
   "outputs": [],
   "source": [
    "data_20 = history_upper20(data)\n",
    "data_20_5 = item_upper5(data_20)"
   ]
  },
  {
   "cell_type": "code",
   "execution_count": 55,
   "metadata": {},
   "outputs": [
    {
     "name": "stdout",
     "output_type": "stream",
     "text": [
      "user\n",
      "5775864     8760\n",
      "13318960    5778\n",
      "6831279     5011\n",
      "8373854     4638\n",
      "2213957     3813\n",
      "            ... \n",
      "13069247       1\n",
      "7859           1\n",
      "3804230        1\n",
      "9040673        1\n",
      "1716448        1\n",
      "Length: 301436, dtype: int64 item\n",
      "288015     8799\n",
      "168974     7078\n",
      "5794       6661\n",
      "2695054    6294\n",
      "70403      5738\n",
      "           ... \n",
      "870448        5\n",
      "870454        5\n",
      "870766        5\n",
      "870807        5\n",
      "12            5\n",
      "Length: 456236, dtype: int64\n"
     ]
    }
   ],
   "source": [
    "print(data_20_5.value_counts('user'),data_20_5.value_counts('item'))"
   ]
  },
  {
   "cell_type": "code",
   "execution_count": 56,
   "metadata": {},
   "outputs": [],
   "source": [
    "data_5 = item_upper5(data)\n",
    "data_5_20 = history_upper20(data_5)"
   ]
  },
  {
   "cell_type": "code",
   "execution_count": 57,
   "metadata": {},
   "outputs": [
    {
     "name": "stdout",
     "output_type": "stream",
     "text": [
      "user\n",
      "5775864     8992\n",
      "6831279     6617\n",
      "8373854     6164\n",
      "13318960    5814\n",
      "1476169     3887\n",
      "            ... \n",
      "13488146      20\n",
      "9400277       20\n",
      "9400507       20\n",
      "3283481       20\n",
      "7675302       20\n",
      "Length: 278061, dtype: int64 item\n",
      "288015     8626\n",
      "168974     6934\n",
      "5794       6558\n",
      "2695054    6162\n",
      "70403      5603\n",
      "           ... \n",
      "1421515       1\n",
      "1421517       1\n",
      "1421523       1\n",
      "1421525       1\n",
      "1251907       1\n",
      "Length: 957809, dtype: int64\n"
     ]
    }
   ],
   "source": [
    "print(data_5_20.value_counts('user'),data_5_20.value_counts('item'))"
   ]
  },
  {
   "cell_type": "markdown",
   "metadata": {},
   "source": [
    "+ 위와 같이 전처리 적용 순서에 따라 데이터가 달라지는데 어떤 순서로 적용해야하는지"
   ]
  },
  {
   "cell_type": "markdown",
   "metadata": {},
   "source": [
    "---------------------------\n",
    "## [2] 같은 user,같은 item 중복 제거\n",
    "### [2-1] timestamp : 최신, rating : 가장 최신거의 rating 택"
   ]
  },
  {
   "cell_type": "code",
   "execution_count": 12,
   "metadata": {},
   "outputs": [],
   "source": [
    "sorted_data = data_20.sort_values(['user','item','timestamp'],ascending=[True,True,True])"
   ]
  },
  {
   "cell_type": "code",
   "execution_count": 23,
   "metadata": {},
   "outputs": [
    {
     "data": {
      "text/html": [
       "<div>\n",
       "<style scoped>\n",
       "    .dataframe tbody tr th:only-of-type {\n",
       "        vertical-align: middle;\n",
       "    }\n",
       "\n",
       "    .dataframe tbody tr th {\n",
       "        vertical-align: top;\n",
       "    }\n",
       "\n",
       "    .dataframe thead th {\n",
       "        text-align: right;\n",
       "    }\n",
       "</style>\n",
       "<table border=\"1\" class=\"dataframe\">\n",
       "  <thead>\n",
       "    <tr style=\"text-align: right;\">\n",
       "      <th></th>\n",
       "      <th>user</th>\n",
       "      <th>item</th>\n",
       "      <th>rating</th>\n",
       "      <th>timestamp</th>\n",
       "    </tr>\n",
       "  </thead>\n",
       "  <tbody>\n",
       "    <tr>\n",
       "      <th>40317784</th>\n",
       "      <td>94</td>\n",
       "      <td>463950</td>\n",
       "      <td>4.0</td>\n",
       "      <td>1471478400</td>\n",
       "    </tr>\n",
       "    <tr>\n",
       "      <th>40432628</th>\n",
       "      <td>94</td>\n",
       "      <td>494004</td>\n",
       "      <td>4.0</td>\n",
       "      <td>1466208000</td>\n",
       "    </tr>\n",
       "    <tr>\n",
       "      <th>40450458</th>\n",
       "      <td>94</td>\n",
       "      <td>499324</td>\n",
       "      <td>5.0</td>\n",
       "      <td>1473120000</td>\n",
       "    </tr>\n",
       "    <tr>\n",
       "      <th>40452627</th>\n",
       "      <td>94</td>\n",
       "      <td>499552</td>\n",
       "      <td>5.0</td>\n",
       "      <td>1466380800</td>\n",
       "    </tr>\n",
       "    <tr>\n",
       "      <th>47221368</th>\n",
       "      <td>94</td>\n",
       "      <td>503111</td>\n",
       "      <td>3.0</td>\n",
       "      <td>1485475200</td>\n",
       "    </tr>\n",
       "    <tr>\n",
       "      <th>13803790</th>\n",
       "      <td>94</td>\n",
       "      <td>507879</td>\n",
       "      <td>4.0</td>\n",
       "      <td>1437696000</td>\n",
       "    </tr>\n",
       "    <tr>\n",
       "      <th>13860378</th>\n",
       "      <td>94</td>\n",
       "      <td>509947</td>\n",
       "      <td>5.0</td>\n",
       "      <td>1437782400</td>\n",
       "    </tr>\n",
       "    <tr>\n",
       "      <th>36666629</th>\n",
       "      <td>94</td>\n",
       "      <td>568768</td>\n",
       "      <td>4.0</td>\n",
       "      <td>1471132800</td>\n",
       "    </tr>\n",
       "    <tr>\n",
       "      <th>36775888</th>\n",
       "      <td>94</td>\n",
       "      <td>569391</td>\n",
       "      <td>4.0</td>\n",
       "      <td>1434844800</td>\n",
       "    </tr>\n",
       "    <tr>\n",
       "      <th>40765175</th>\n",
       "      <td>94</td>\n",
       "      <td>572009</td>\n",
       "      <td>4.0</td>\n",
       "      <td>1478304000</td>\n",
       "    </tr>\n",
       "    <tr>\n",
       "      <th>14427617</th>\n",
       "      <td>94</td>\n",
       "      <td>572987</td>\n",
       "      <td>5.0</td>\n",
       "      <td>1437868800</td>\n",
       "    </tr>\n",
       "    <tr>\n",
       "      <th>50466467</th>\n",
       "      <td>94</td>\n",
       "      <td>575575</td>\n",
       "      <td>3.0</td>\n",
       "      <td>1453075200</td>\n",
       "    </tr>\n",
       "    <tr>\n",
       "      <th>26562819</th>\n",
       "      <td>94</td>\n",
       "      <td>575806</td>\n",
       "      <td>5.0</td>\n",
       "      <td>1436832000</td>\n",
       "    </tr>\n",
       "    <tr>\n",
       "      <th>14490636</th>\n",
       "      <td>94</td>\n",
       "      <td>576695</td>\n",
       "      <td>1.0</td>\n",
       "      <td>1438473600</td>\n",
       "    </tr>\n",
       "    <tr>\n",
       "      <th>49761904</th>\n",
       "      <td>94</td>\n",
       "      <td>580074</td>\n",
       "      <td>5.0</td>\n",
       "      <td>1454889600</td>\n",
       "    </tr>\n",
       "    <tr>\n",
       "      <th>14555500</th>\n",
       "      <td>94</td>\n",
       "      <td>583440</td>\n",
       "      <td>3.0</td>\n",
       "      <td>1470528000</td>\n",
       "    </tr>\n",
       "    <tr>\n",
       "      <th>36423427</th>\n",
       "      <td>94</td>\n",
       "      <td>1136326</td>\n",
       "      <td>4.0</td>\n",
       "      <td>1478304000</td>\n",
       "    </tr>\n",
       "    <tr>\n",
       "      <th>43048708</th>\n",
       "      <td>94</td>\n",
       "      <td>1151286</td>\n",
       "      <td>4.0</td>\n",
       "      <td>1478044800</td>\n",
       "    </tr>\n",
       "    <tr>\n",
       "      <th>19390456</th>\n",
       "      <td>94</td>\n",
       "      <td>1182545</td>\n",
       "      <td>4.0</td>\n",
       "      <td>1463616000</td>\n",
       "    </tr>\n",
       "    <tr>\n",
       "      <th>43244368</th>\n",
       "      <td>94</td>\n",
       "      <td>1198200</td>\n",
       "      <td>5.0</td>\n",
       "      <td>1466380800</td>\n",
       "    </tr>\n",
       "  </tbody>\n",
       "</table>\n",
       "</div>"
      ],
      "text/plain": [
       "          user     item  rating   timestamp\n",
       "40317784    94   463950     4.0  1471478400\n",
       "40432628    94   494004     4.0  1466208000\n",
       "40450458    94   499324     5.0  1473120000\n",
       "40452627    94   499552     5.0  1466380800\n",
       "47221368    94   503111     3.0  1485475200\n",
       "13803790    94   507879     4.0  1437696000\n",
       "13860378    94   509947     5.0  1437782400\n",
       "36666629    94   568768     4.0  1471132800\n",
       "36775888    94   569391     4.0  1434844800\n",
       "40765175    94   572009     4.0  1478304000\n",
       "14427617    94   572987     5.0  1437868800\n",
       "50466467    94   575575     3.0  1453075200\n",
       "26562819    94   575806     5.0  1436832000\n",
       "14490636    94   576695     1.0  1438473600\n",
       "49761904    94   580074     5.0  1454889600\n",
       "14555500    94   583440     3.0  1470528000\n",
       "36423427    94  1136326     4.0  1478304000\n",
       "43048708    94  1151286     4.0  1478044800\n",
       "19390456    94  1182545     4.0  1463616000\n",
       "43244368    94  1198200     5.0  1466380800"
      ]
     },
     "execution_count": 23,
     "metadata": {},
     "output_type": "execute_result"
    }
   ],
   "source": [
    "sorted_data.head(20)"
   ]
  },
  {
   "cell_type": "code",
   "execution_count": 7,
   "metadata": {},
   "outputs": [],
   "source": [
    "grouped_data = data_20.groupby(['user','item'])['timestamp'].max()"
   ]
  },
  {
   "cell_type": "markdown",
   "metadata": {},
   "source": [
    "+ 같은 item, 다른 timestamp 예시 준비"
   ]
  },
  {
   "cell_type": "code",
   "execution_count": 13,
   "metadata": {},
   "outputs": [
    {
     "name": "stderr",
     "output_type": "stream",
     "text": [
      "/home/aiffel0044/anaconda3/envs/aiffel/lib/python3.7/site-packages/ipykernel_launcher.py:1: UserWarning: Boolean Series key will be reindexed to match DataFrame index.\n",
      "  \"\"\"Entry point for launching an IPython kernel.\n"
     ]
    },
    {
     "data": {
      "text/html": [
       "<div>\n",
       "<style scoped>\n",
       "    .dataframe tbody tr th:only-of-type {\n",
       "        vertical-align: middle;\n",
       "    }\n",
       "\n",
       "    .dataframe tbody tr th {\n",
       "        vertical-align: top;\n",
       "    }\n",
       "\n",
       "    .dataframe thead th {\n",
       "        text-align: right;\n",
       "    }\n",
       "</style>\n",
       "<table border=\"1\" class=\"dataframe\">\n",
       "  <thead>\n",
       "    <tr style=\"text-align: right;\">\n",
       "      <th></th>\n",
       "      <th>user</th>\n",
       "      <th>item</th>\n",
       "      <th>rating</th>\n",
       "      <th>timestamp</th>\n",
       "    </tr>\n",
       "  </thead>\n",
       "  <tbody>\n",
       "    <tr>\n",
       "      <th>9953444</th>\n",
       "      <td>6831279</td>\n",
       "      <td>303811</td>\n",
       "      <td>5.0</td>\n",
       "      <td>1487548800</td>\n",
       "    </tr>\n",
       "    <tr>\n",
       "      <th>9953445</th>\n",
       "      <td>6831279</td>\n",
       "      <td>303811</td>\n",
       "      <td>5.0</td>\n",
       "      <td>1487548800</td>\n",
       "    </tr>\n",
       "    <tr>\n",
       "      <th>9953446</th>\n",
       "      <td>6831279</td>\n",
       "      <td>303811</td>\n",
       "      <td>5.0</td>\n",
       "      <td>1487548800</td>\n",
       "    </tr>\n",
       "    <tr>\n",
       "      <th>9953447</th>\n",
       "      <td>6831279</td>\n",
       "      <td>303811</td>\n",
       "      <td>5.0</td>\n",
       "      <td>1487548800</td>\n",
       "    </tr>\n",
       "    <tr>\n",
       "      <th>9953448</th>\n",
       "      <td>6831279</td>\n",
       "      <td>303811</td>\n",
       "      <td>5.0</td>\n",
       "      <td>1487548800</td>\n",
       "    </tr>\n",
       "    <tr>\n",
       "      <th>9953442</th>\n",
       "      <td>6831279</td>\n",
       "      <td>303811</td>\n",
       "      <td>5.0</td>\n",
       "      <td>1487635200</td>\n",
       "    </tr>\n",
       "    <tr>\n",
       "      <th>9953443</th>\n",
       "      <td>6831279</td>\n",
       "      <td>303811</td>\n",
       "      <td>5.0</td>\n",
       "      <td>1487635200</td>\n",
       "    </tr>\n",
       "    <tr>\n",
       "      <th>9953408</th>\n",
       "      <td>6831279</td>\n",
       "      <td>303811</td>\n",
       "      <td>5.0</td>\n",
       "      <td>1487721600</td>\n",
       "    </tr>\n",
       "    <tr>\n",
       "      <th>9953439</th>\n",
       "      <td>6831279</td>\n",
       "      <td>303811</td>\n",
       "      <td>5.0</td>\n",
       "      <td>1487721600</td>\n",
       "    </tr>\n",
       "    <tr>\n",
       "      <th>9953440</th>\n",
       "      <td>6831279</td>\n",
       "      <td>303811</td>\n",
       "      <td>5.0</td>\n",
       "      <td>1487721600</td>\n",
       "    </tr>\n",
       "    <tr>\n",
       "      <th>9953441</th>\n",
       "      <td>6831279</td>\n",
       "      <td>303811</td>\n",
       "      <td>5.0</td>\n",
       "      <td>1487721600</td>\n",
       "    </tr>\n",
       "    <tr>\n",
       "      <th>9953405</th>\n",
       "      <td>6831279</td>\n",
       "      <td>303811</td>\n",
       "      <td>5.0</td>\n",
       "      <td>1487808000</td>\n",
       "    </tr>\n",
       "    <tr>\n",
       "      <th>9953406</th>\n",
       "      <td>6831279</td>\n",
       "      <td>303811</td>\n",
       "      <td>5.0</td>\n",
       "      <td>1487808000</td>\n",
       "    </tr>\n",
       "    <tr>\n",
       "      <th>9953407</th>\n",
       "      <td>6831279</td>\n",
       "      <td>303811</td>\n",
       "      <td>5.0</td>\n",
       "      <td>1487808000</td>\n",
       "    </tr>\n",
       "    <tr>\n",
       "      <th>9953399</th>\n",
       "      <td>6831279</td>\n",
       "      <td>303811</td>\n",
       "      <td>5.0</td>\n",
       "      <td>1487894400</td>\n",
       "    </tr>\n",
       "    <tr>\n",
       "      <th>9953400</th>\n",
       "      <td>6831279</td>\n",
       "      <td>303811</td>\n",
       "      <td>5.0</td>\n",
       "      <td>1487894400</td>\n",
       "    </tr>\n",
       "    <tr>\n",
       "      <th>9953401</th>\n",
       "      <td>6831279</td>\n",
       "      <td>303811</td>\n",
       "      <td>5.0</td>\n",
       "      <td>1487894400</td>\n",
       "    </tr>\n",
       "    <tr>\n",
       "      <th>9953402</th>\n",
       "      <td>6831279</td>\n",
       "      <td>303811</td>\n",
       "      <td>5.0</td>\n",
       "      <td>1487894400</td>\n",
       "    </tr>\n",
       "    <tr>\n",
       "      <th>9953403</th>\n",
       "      <td>6831279</td>\n",
       "      <td>303811</td>\n",
       "      <td>5.0</td>\n",
       "      <td>1487894400</td>\n",
       "    </tr>\n",
       "  </tbody>\n",
       "</table>\n",
       "</div>"
      ],
      "text/plain": [
       "            user    item  rating   timestamp\n",
       "9953444  6831279  303811     5.0  1487548800\n",
       "9953445  6831279  303811     5.0  1487548800\n",
       "9953446  6831279  303811     5.0  1487548800\n",
       "9953447  6831279  303811     5.0  1487548800\n",
       "9953448  6831279  303811     5.0  1487548800\n",
       "9953442  6831279  303811     5.0  1487635200\n",
       "9953443  6831279  303811     5.0  1487635200\n",
       "9953408  6831279  303811     5.0  1487721600\n",
       "9953439  6831279  303811     5.0  1487721600\n",
       "9953440  6831279  303811     5.0  1487721600\n",
       "9953441  6831279  303811     5.0  1487721600\n",
       "9953405  6831279  303811     5.0  1487808000\n",
       "9953406  6831279  303811     5.0  1487808000\n",
       "9953407  6831279  303811     5.0  1487808000\n",
       "9953399  6831279  303811     5.0  1487894400\n",
       "9953400  6831279  303811     5.0  1487894400\n",
       "9953401  6831279  303811     5.0  1487894400\n",
       "9953402  6831279  303811     5.0  1487894400\n",
       "9953403  6831279  303811     5.0  1487894400"
      ]
     },
     "execution_count": 13,
     "metadata": {},
     "output_type": "execute_result"
    }
   ],
   "source": [
    "sorted_data[sorted_data['user'] == 6831279][sorted_data['item'] == 303811]"
   ]
  },
  {
   "cell_type": "code",
   "execution_count": 14,
   "metadata": {},
   "outputs": [],
   "source": [
    "latest_data = sorted_data.drop_duplicates(['user','item'],keep='last')"
   ]
  },
  {
   "cell_type": "markdown",
   "metadata": {},
   "source": [
    "+ 잘 적용되었나 확인"
   ]
  },
  {
   "cell_type": "code",
   "execution_count": 15,
   "metadata": {},
   "outputs": [
    {
     "name": "stderr",
     "output_type": "stream",
     "text": [
      "/home/aiffel0044/anaconda3/envs/aiffel/lib/python3.7/site-packages/ipykernel_launcher.py:1: UserWarning: Boolean Series key will be reindexed to match DataFrame index.\n",
      "  \"\"\"Entry point for launching an IPython kernel.\n"
     ]
    },
    {
     "data": {
      "text/html": [
       "<div>\n",
       "<style scoped>\n",
       "    .dataframe tbody tr th:only-of-type {\n",
       "        vertical-align: middle;\n",
       "    }\n",
       "\n",
       "    .dataframe tbody tr th {\n",
       "        vertical-align: top;\n",
       "    }\n",
       "\n",
       "    .dataframe thead th {\n",
       "        text-align: right;\n",
       "    }\n",
       "</style>\n",
       "<table border=\"1\" class=\"dataframe\">\n",
       "  <thead>\n",
       "    <tr style=\"text-align: right;\">\n",
       "      <th></th>\n",
       "      <th>user</th>\n",
       "      <th>item</th>\n",
       "      <th>rating</th>\n",
       "      <th>timestamp</th>\n",
       "    </tr>\n",
       "  </thead>\n",
       "  <tbody>\n",
       "    <tr>\n",
       "      <th>9953403</th>\n",
       "      <td>6831279</td>\n",
       "      <td>303811</td>\n",
       "      <td>5.0</td>\n",
       "      <td>1487894400</td>\n",
       "    </tr>\n",
       "  </tbody>\n",
       "</table>\n",
       "</div>"
      ],
      "text/plain": [
       "            user    item  rating   timestamp\n",
       "9953403  6831279  303811     5.0  1487894400"
      ]
     },
     "execution_count": 15,
     "metadata": {},
     "output_type": "execute_result"
    }
   ],
   "source": [
    "latest_data[latest_data['user']==6831279][latest_data['item']==303811]"
   ]
  },
  {
   "cell_type": "code",
   "execution_count": 16,
   "metadata": {},
   "outputs": [
    {
     "data": {
      "text/plain": [
       "(15611592, 4)"
      ]
     },
     "execution_count": 16,
     "metadata": {},
     "output_type": "execute_result"
    }
   ],
   "source": [
    "latest_data.shape"
   ]
  },
  {
   "cell_type": "markdown",
   "metadata": {},
   "source": [
    "+ 파일 저장"
   ]
  },
  {
   "cell_type": "code",
   "execution_count": 17,
   "metadata": {},
   "outputs": [],
   "source": [
    "latest_data.to_csv('./data/latest_data.csv', index=False, header=None)"
   ]
  },
  {
   "cell_type": "markdown",
   "metadata": {},
   "source": [
    "### [2-2] timestamp : 최신, rating : 평균 rating\n",
    "+ 이 경우 timestamp를 user,item이 같은 timestamp들 중에서 어떤걸로 선택해야할지?\n",
    "+ 여기서는 일단 최신 timestamp를 선택하는걸로 진행함"
   ]
  },
  {
   "cell_type": "code",
   "execution_count": 24,
   "metadata": {},
   "outputs": [],
   "source": [
    "sorted_data['mean_rating'] = sorted_data.groupby(['user','item'])['rating'].transform('mean')"
   ]
  },
  {
   "cell_type": "markdown",
   "metadata": {},
   "source": [
    "+ user,item 쌍으로 그룹을 나눠준 뒤, 그룹별 rating들의 평균값을 구한 뒤 mean_rating이라는 열에 추가"
   ]
  },
  {
   "cell_type": "code",
   "execution_count": 25,
   "metadata": {},
   "outputs": [
    {
     "data": {
      "text/html": [
       "<div>\n",
       "<style scoped>\n",
       "    .dataframe tbody tr th:only-of-type {\n",
       "        vertical-align: middle;\n",
       "    }\n",
       "\n",
       "    .dataframe tbody tr th {\n",
       "        vertical-align: top;\n",
       "    }\n",
       "\n",
       "    .dataframe thead th {\n",
       "        text-align: right;\n",
       "    }\n",
       "</style>\n",
       "<table border=\"1\" class=\"dataframe\">\n",
       "  <thead>\n",
       "    <tr style=\"text-align: right;\">\n",
       "      <th></th>\n",
       "      <th>user</th>\n",
       "      <th>item</th>\n",
       "      <th>rating</th>\n",
       "      <th>timestamp</th>\n",
       "      <th>mean_rating</th>\n",
       "    </tr>\n",
       "  </thead>\n",
       "  <tbody>\n",
       "    <tr>\n",
       "      <th>40317784</th>\n",
       "      <td>94</td>\n",
       "      <td>463950</td>\n",
       "      <td>4.0</td>\n",
       "      <td>1471478400</td>\n",
       "      <td>4.0</td>\n",
       "    </tr>\n",
       "    <tr>\n",
       "      <th>40432628</th>\n",
       "      <td>94</td>\n",
       "      <td>494004</td>\n",
       "      <td>4.0</td>\n",
       "      <td>1466208000</td>\n",
       "      <td>4.0</td>\n",
       "    </tr>\n",
       "    <tr>\n",
       "      <th>40450458</th>\n",
       "      <td>94</td>\n",
       "      <td>499324</td>\n",
       "      <td>5.0</td>\n",
       "      <td>1473120000</td>\n",
       "      <td>5.0</td>\n",
       "    </tr>\n",
       "    <tr>\n",
       "      <th>40452627</th>\n",
       "      <td>94</td>\n",
       "      <td>499552</td>\n",
       "      <td>5.0</td>\n",
       "      <td>1466380800</td>\n",
       "      <td>5.0</td>\n",
       "    </tr>\n",
       "    <tr>\n",
       "      <th>47221368</th>\n",
       "      <td>94</td>\n",
       "      <td>503111</td>\n",
       "      <td>3.0</td>\n",
       "      <td>1485475200</td>\n",
       "      <td>3.0</td>\n",
       "    </tr>\n",
       "    <tr>\n",
       "      <th>13803790</th>\n",
       "      <td>94</td>\n",
       "      <td>507879</td>\n",
       "      <td>4.0</td>\n",
       "      <td>1437696000</td>\n",
       "      <td>4.0</td>\n",
       "    </tr>\n",
       "    <tr>\n",
       "      <th>13860378</th>\n",
       "      <td>94</td>\n",
       "      <td>509947</td>\n",
       "      <td>5.0</td>\n",
       "      <td>1437782400</td>\n",
       "      <td>5.0</td>\n",
       "    </tr>\n",
       "    <tr>\n",
       "      <th>36666629</th>\n",
       "      <td>94</td>\n",
       "      <td>568768</td>\n",
       "      <td>4.0</td>\n",
       "      <td>1471132800</td>\n",
       "      <td>4.0</td>\n",
       "    </tr>\n",
       "    <tr>\n",
       "      <th>36775888</th>\n",
       "      <td>94</td>\n",
       "      <td>569391</td>\n",
       "      <td>4.0</td>\n",
       "      <td>1434844800</td>\n",
       "      <td>4.0</td>\n",
       "    </tr>\n",
       "    <tr>\n",
       "      <th>40765175</th>\n",
       "      <td>94</td>\n",
       "      <td>572009</td>\n",
       "      <td>4.0</td>\n",
       "      <td>1478304000</td>\n",
       "      <td>4.0</td>\n",
       "    </tr>\n",
       "  </tbody>\n",
       "</table>\n",
       "</div>"
      ],
      "text/plain": [
       "          user    item  rating   timestamp  mean_rating\n",
       "40317784    94  463950     4.0  1471478400          4.0\n",
       "40432628    94  494004     4.0  1466208000          4.0\n",
       "40450458    94  499324     5.0  1473120000          5.0\n",
       "40452627    94  499552     5.0  1466380800          5.0\n",
       "47221368    94  503111     3.0  1485475200          3.0\n",
       "13803790    94  507879     4.0  1437696000          4.0\n",
       "13860378    94  509947     5.0  1437782400          5.0\n",
       "36666629    94  568768     4.0  1471132800          4.0\n",
       "36775888    94  569391     4.0  1434844800          4.0\n",
       "40765175    94  572009     4.0  1478304000          4.0"
      ]
     },
     "execution_count": 25,
     "metadata": {},
     "output_type": "execute_result"
    }
   ],
   "source": [
    "sorted_data.head(10)"
   ]
  },
  {
   "cell_type": "markdown",
   "metadata": {},
   "source": [
    "+ rating 평균이 잘 구해졌나 확인"
   ]
  },
  {
   "cell_type": "code",
   "execution_count": 26,
   "metadata": {},
   "outputs": [
    {
     "name": "stderr",
     "output_type": "stream",
     "text": [
      "/home/aiffel0044/anaconda3/envs/aiffel/lib/python3.7/site-packages/ipykernel_launcher.py:1: UserWarning: Boolean Series key will be reindexed to match DataFrame index.\n",
      "  \"\"\"Entry point for launching an IPython kernel.\n"
     ]
    },
    {
     "data": {
      "text/html": [
       "<div>\n",
       "<style scoped>\n",
       "    .dataframe tbody tr th:only-of-type {\n",
       "        vertical-align: middle;\n",
       "    }\n",
       "\n",
       "    .dataframe tbody tr th {\n",
       "        vertical-align: top;\n",
       "    }\n",
       "\n",
       "    .dataframe thead th {\n",
       "        text-align: right;\n",
       "    }\n",
       "</style>\n",
       "<table border=\"1\" class=\"dataframe\">\n",
       "  <thead>\n",
       "    <tr style=\"text-align: right;\">\n",
       "      <th></th>\n",
       "      <th>user</th>\n",
       "      <th>item</th>\n",
       "      <th>rating</th>\n",
       "      <th>timestamp</th>\n",
       "      <th>mean_rating</th>\n",
       "    </tr>\n",
       "  </thead>\n",
       "  <tbody>\n",
       "    <tr>\n",
       "      <th>9723975</th>\n",
       "      <td>6831279</td>\n",
       "      <td>292585</td>\n",
       "      <td>4.0</td>\n",
       "      <td>1459728000</td>\n",
       "      <td>4.142857</td>\n",
       "    </tr>\n",
       "    <tr>\n",
       "      <th>9723976</th>\n",
       "      <td>6831279</td>\n",
       "      <td>292585</td>\n",
       "      <td>4.0</td>\n",
       "      <td>1459728000</td>\n",
       "      <td>4.142857</td>\n",
       "    </tr>\n",
       "    <tr>\n",
       "      <th>9723977</th>\n",
       "      <td>6831279</td>\n",
       "      <td>292585</td>\n",
       "      <td>4.0</td>\n",
       "      <td>1459728000</td>\n",
       "      <td>4.142857</td>\n",
       "    </tr>\n",
       "    <tr>\n",
       "      <th>9723978</th>\n",
       "      <td>6831279</td>\n",
       "      <td>292585</td>\n",
       "      <td>4.0</td>\n",
       "      <td>1459728000</td>\n",
       "      <td>4.142857</td>\n",
       "    </tr>\n",
       "    <tr>\n",
       "      <th>9723979</th>\n",
       "      <td>6831279</td>\n",
       "      <td>292585</td>\n",
       "      <td>4.0</td>\n",
       "      <td>1459728000</td>\n",
       "      <td>4.142857</td>\n",
       "    </tr>\n",
       "    <tr>\n",
       "      <th>9724016</th>\n",
       "      <td>6831279</td>\n",
       "      <td>292585</td>\n",
       "      <td>4.0</td>\n",
       "      <td>1459728000</td>\n",
       "      <td>4.142857</td>\n",
       "    </tr>\n",
       "    <tr>\n",
       "      <th>9724017</th>\n",
       "      <td>6831279</td>\n",
       "      <td>292585</td>\n",
       "      <td>4.0</td>\n",
       "      <td>1459728000</td>\n",
       "      <td>4.142857</td>\n",
       "    </tr>\n",
       "    <tr>\n",
       "      <th>9724018</th>\n",
       "      <td>6831279</td>\n",
       "      <td>292585</td>\n",
       "      <td>4.0</td>\n",
       "      <td>1459728000</td>\n",
       "      <td>4.142857</td>\n",
       "    </tr>\n",
       "    <tr>\n",
       "      <th>9724019</th>\n",
       "      <td>6831279</td>\n",
       "      <td>292585</td>\n",
       "      <td>4.0</td>\n",
       "      <td>1459728000</td>\n",
       "      <td>4.142857</td>\n",
       "    </tr>\n",
       "    <tr>\n",
       "      <th>9724020</th>\n",
       "      <td>6831279</td>\n",
       "      <td>292585</td>\n",
       "      <td>5.0</td>\n",
       "      <td>1459728000</td>\n",
       "      <td>4.142857</td>\n",
       "    </tr>\n",
       "    <tr>\n",
       "      <th>9724021</th>\n",
       "      <td>6831279</td>\n",
       "      <td>292585</td>\n",
       "      <td>5.0</td>\n",
       "      <td>1459728000</td>\n",
       "      <td>4.142857</td>\n",
       "    </tr>\n",
       "    <tr>\n",
       "      <th>9724022</th>\n",
       "      <td>6831279</td>\n",
       "      <td>292585</td>\n",
       "      <td>4.0</td>\n",
       "      <td>1459728000</td>\n",
       "      <td>4.142857</td>\n",
       "    </tr>\n",
       "    <tr>\n",
       "      <th>9724023</th>\n",
       "      <td>6831279</td>\n",
       "      <td>292585</td>\n",
       "      <td>4.0</td>\n",
       "      <td>1459728000</td>\n",
       "      <td>4.142857</td>\n",
       "    </tr>\n",
       "    <tr>\n",
       "      <th>9724024</th>\n",
       "      <td>6831279</td>\n",
       "      <td>292585</td>\n",
       "      <td>4.0</td>\n",
       "      <td>1459728000</td>\n",
       "      <td>4.142857</td>\n",
       "    </tr>\n",
       "  </tbody>\n",
       "</table>\n",
       "</div>"
      ],
      "text/plain": [
       "            user    item  rating   timestamp  mean_rating\n",
       "9723975  6831279  292585     4.0  1459728000     4.142857\n",
       "9723976  6831279  292585     4.0  1459728000     4.142857\n",
       "9723977  6831279  292585     4.0  1459728000     4.142857\n",
       "9723978  6831279  292585     4.0  1459728000     4.142857\n",
       "9723979  6831279  292585     4.0  1459728000     4.142857\n",
       "9724016  6831279  292585     4.0  1459728000     4.142857\n",
       "9724017  6831279  292585     4.0  1459728000     4.142857\n",
       "9724018  6831279  292585     4.0  1459728000     4.142857\n",
       "9724019  6831279  292585     4.0  1459728000     4.142857\n",
       "9724020  6831279  292585     5.0  1459728000     4.142857\n",
       "9724021  6831279  292585     5.0  1459728000     4.142857\n",
       "9724022  6831279  292585     4.0  1459728000     4.142857\n",
       "9724023  6831279  292585     4.0  1459728000     4.142857\n",
       "9724024  6831279  292585     4.0  1459728000     4.142857"
      ]
     },
     "execution_count": 26,
     "metadata": {},
     "output_type": "execute_result"
    }
   ],
   "source": [
    "sorted_data[sorted_data['user'] == 6831279][sorted_data['item']== 292585]"
   ]
  },
  {
   "cell_type": "markdown",
   "metadata": {},
   "source": [
    "+ 잘 구해진거 확인했으니 중복 삭제한 후 , rating 칼럼 삭제, mean_rating 칼럼명 rating으로 바꾸기"
   ]
  },
  {
   "cell_type": "code",
   "execution_count": 27,
   "metadata": {},
   "outputs": [],
   "source": [
    "dropped_data = sorted_data.drop_duplicates(['user','item'],keep='last')"
   ]
  },
  {
   "cell_type": "code",
   "execution_count": 28,
   "metadata": {},
   "outputs": [
    {
     "name": "stderr",
     "output_type": "stream",
     "text": [
      "/home/aiffel0044/anaconda3/envs/aiffel/lib/python3.7/site-packages/ipykernel_launcher.py:1: UserWarning: Boolean Series key will be reindexed to match DataFrame index.\n",
      "  \"\"\"Entry point for launching an IPython kernel.\n"
     ]
    },
    {
     "data": {
      "text/html": [
       "<div>\n",
       "<style scoped>\n",
       "    .dataframe tbody tr th:only-of-type {\n",
       "        vertical-align: middle;\n",
       "    }\n",
       "\n",
       "    .dataframe tbody tr th {\n",
       "        vertical-align: top;\n",
       "    }\n",
       "\n",
       "    .dataframe thead th {\n",
       "        text-align: right;\n",
       "    }\n",
       "</style>\n",
       "<table border=\"1\" class=\"dataframe\">\n",
       "  <thead>\n",
       "    <tr style=\"text-align: right;\">\n",
       "      <th></th>\n",
       "      <th>user</th>\n",
       "      <th>item</th>\n",
       "      <th>rating</th>\n",
       "      <th>timestamp</th>\n",
       "      <th>mean_rating</th>\n",
       "    </tr>\n",
       "  </thead>\n",
       "  <tbody>\n",
       "    <tr>\n",
       "      <th>9724024</th>\n",
       "      <td>6831279</td>\n",
       "      <td>292585</td>\n",
       "      <td>4.0</td>\n",
       "      <td>1459728000</td>\n",
       "      <td>4.142857</td>\n",
       "    </tr>\n",
       "  </tbody>\n",
       "</table>\n",
       "</div>"
      ],
      "text/plain": [
       "            user    item  rating   timestamp  mean_rating\n",
       "9724024  6831279  292585     4.0  1459728000     4.142857"
      ]
     },
     "execution_count": 28,
     "metadata": {},
     "output_type": "execute_result"
    }
   ],
   "source": [
    "# drop된거 확인\n",
    "dropped_data[dropped_data['user'] == 6831279][dropped_data['item']== 292585]"
   ]
  },
  {
   "cell_type": "code",
   "execution_count": 29,
   "metadata": {},
   "outputs": [],
   "source": [
    "# 기존 rating 열 삭제\n",
    "dropped_data = dropped_data.drop(columns='rating')"
   ]
  },
  {
   "cell_type": "code",
   "execution_count": 30,
   "metadata": {
    "scrolled": true
   },
   "outputs": [
    {
     "name": "stderr",
     "output_type": "stream",
     "text": [
      "/home/aiffel0044/anaconda3/envs/aiffel/lib/python3.7/site-packages/ipykernel_launcher.py:2: UserWarning: Boolean Series key will be reindexed to match DataFrame index.\n",
      "  \n"
     ]
    },
    {
     "data": {
      "text/html": [
       "<div>\n",
       "<style scoped>\n",
       "    .dataframe tbody tr th:only-of-type {\n",
       "        vertical-align: middle;\n",
       "    }\n",
       "\n",
       "    .dataframe tbody tr th {\n",
       "        vertical-align: top;\n",
       "    }\n",
       "\n",
       "    .dataframe thead th {\n",
       "        text-align: right;\n",
       "    }\n",
       "</style>\n",
       "<table border=\"1\" class=\"dataframe\">\n",
       "  <thead>\n",
       "    <tr style=\"text-align: right;\">\n",
       "      <th></th>\n",
       "      <th>user</th>\n",
       "      <th>item</th>\n",
       "      <th>timestamp</th>\n",
       "      <th>mean_rating</th>\n",
       "    </tr>\n",
       "  </thead>\n",
       "  <tbody>\n",
       "    <tr>\n",
       "      <th>9724024</th>\n",
       "      <td>6831279</td>\n",
       "      <td>292585</td>\n",
       "      <td>1459728000</td>\n",
       "      <td>4.142857</td>\n",
       "    </tr>\n",
       "  </tbody>\n",
       "</table>\n",
       "</div>"
      ],
      "text/plain": [
       "            user    item   timestamp  mean_rating\n",
       "9724024  6831279  292585  1459728000     4.142857"
      ]
     },
     "execution_count": 30,
     "metadata": {},
     "output_type": "execute_result"
    }
   ],
   "source": [
    "# rating 열 삭제 확인\n",
    "dropped_data[dropped_data['user'] == 6831279][dropped_data['item']== 292585]"
   ]
  },
  {
   "cell_type": "code",
   "execution_count": 32,
   "metadata": {},
   "outputs": [],
   "source": [
    "# mean_rating 열 이름 rating으로 수정\n",
    "dropped_data.rename(columns={\"mean_rating\":\"rating\"}, inplace = True)"
   ]
  },
  {
   "cell_type": "code",
   "execution_count": 33,
   "metadata": {},
   "outputs": [
    {
     "data": {
      "text/html": [
       "<div>\n",
       "<style scoped>\n",
       "    .dataframe tbody tr th:only-of-type {\n",
       "        vertical-align: middle;\n",
       "    }\n",
       "\n",
       "    .dataframe tbody tr th {\n",
       "        vertical-align: top;\n",
       "    }\n",
       "\n",
       "    .dataframe thead th {\n",
       "        text-align: right;\n",
       "    }\n",
       "</style>\n",
       "<table border=\"1\" class=\"dataframe\">\n",
       "  <thead>\n",
       "    <tr style=\"text-align: right;\">\n",
       "      <th></th>\n",
       "      <th>user</th>\n",
       "      <th>item</th>\n",
       "      <th>timestamp</th>\n",
       "      <th>rating</th>\n",
       "    </tr>\n",
       "  </thead>\n",
       "  <tbody>\n",
       "    <tr>\n",
       "      <th>40317784</th>\n",
       "      <td>94</td>\n",
       "      <td>463950</td>\n",
       "      <td>1471478400</td>\n",
       "      <td>4.0</td>\n",
       "    </tr>\n",
       "    <tr>\n",
       "      <th>40432628</th>\n",
       "      <td>94</td>\n",
       "      <td>494004</td>\n",
       "      <td>1466208000</td>\n",
       "      <td>4.0</td>\n",
       "    </tr>\n",
       "    <tr>\n",
       "      <th>40450458</th>\n",
       "      <td>94</td>\n",
       "      <td>499324</td>\n",
       "      <td>1473120000</td>\n",
       "      <td>5.0</td>\n",
       "    </tr>\n",
       "    <tr>\n",
       "      <th>40452627</th>\n",
       "      <td>94</td>\n",
       "      <td>499552</td>\n",
       "      <td>1466380800</td>\n",
       "      <td>5.0</td>\n",
       "    </tr>\n",
       "    <tr>\n",
       "      <th>47221368</th>\n",
       "      <td>94</td>\n",
       "      <td>503111</td>\n",
       "      <td>1485475200</td>\n",
       "      <td>3.0</td>\n",
       "    </tr>\n",
       "    <tr>\n",
       "      <th>13803790</th>\n",
       "      <td>94</td>\n",
       "      <td>507879</td>\n",
       "      <td>1437696000</td>\n",
       "      <td>4.0</td>\n",
       "    </tr>\n",
       "    <tr>\n",
       "      <th>13860378</th>\n",
       "      <td>94</td>\n",
       "      <td>509947</td>\n",
       "      <td>1437782400</td>\n",
       "      <td>5.0</td>\n",
       "    </tr>\n",
       "    <tr>\n",
       "      <th>36666629</th>\n",
       "      <td>94</td>\n",
       "      <td>568768</td>\n",
       "      <td>1471132800</td>\n",
       "      <td>4.0</td>\n",
       "    </tr>\n",
       "    <tr>\n",
       "      <th>36775888</th>\n",
       "      <td>94</td>\n",
       "      <td>569391</td>\n",
       "      <td>1434844800</td>\n",
       "      <td>4.0</td>\n",
       "    </tr>\n",
       "    <tr>\n",
       "      <th>40765175</th>\n",
       "      <td>94</td>\n",
       "      <td>572009</td>\n",
       "      <td>1478304000</td>\n",
       "      <td>4.0</td>\n",
       "    </tr>\n",
       "  </tbody>\n",
       "</table>\n",
       "</div>"
      ],
      "text/plain": [
       "          user    item   timestamp  rating\n",
       "40317784    94  463950  1471478400     4.0\n",
       "40432628    94  494004  1466208000     4.0\n",
       "40450458    94  499324  1473120000     5.0\n",
       "40452627    94  499552  1466380800     5.0\n",
       "47221368    94  503111  1485475200     3.0\n",
       "13803790    94  507879  1437696000     4.0\n",
       "13860378    94  509947  1437782400     5.0\n",
       "36666629    94  568768  1471132800     4.0\n",
       "36775888    94  569391  1434844800     4.0\n",
       "40765175    94  572009  1478304000     4.0"
      ]
     },
     "execution_count": 33,
     "metadata": {},
     "output_type": "execute_result"
    }
   ],
   "source": [
    "dropped_data.head(10)"
   ]
  },
  {
   "cell_type": "code",
   "execution_count": 34,
   "metadata": {},
   "outputs": [],
   "source": [
    "# 원래 열 순서로 수정\n",
    "dropped_data = dropped_data[['user','item','rating','timestamp']]"
   ]
  },
  {
   "cell_type": "code",
   "execution_count": 36,
   "metadata": {},
   "outputs": [
    {
     "name": "stderr",
     "output_type": "stream",
     "text": [
      "/home/aiffel0044/anaconda3/envs/aiffel/lib/python3.7/site-packages/ipykernel_launcher.py:2: UserWarning: Boolean Series key will be reindexed to match DataFrame index.\n",
      "  \n"
     ]
    },
    {
     "data": {
      "text/html": [
       "<div>\n",
       "<style scoped>\n",
       "    .dataframe tbody tr th:only-of-type {\n",
       "        vertical-align: middle;\n",
       "    }\n",
       "\n",
       "    .dataframe tbody tr th {\n",
       "        vertical-align: top;\n",
       "    }\n",
       "\n",
       "    .dataframe thead th {\n",
       "        text-align: right;\n",
       "    }\n",
       "</style>\n",
       "<table border=\"1\" class=\"dataframe\">\n",
       "  <thead>\n",
       "    <tr style=\"text-align: right;\">\n",
       "      <th></th>\n",
       "      <th>user</th>\n",
       "      <th>item</th>\n",
       "      <th>rating</th>\n",
       "      <th>timestamp</th>\n",
       "    </tr>\n",
       "  </thead>\n",
       "  <tbody>\n",
       "    <tr>\n",
       "      <th>9724024</th>\n",
       "      <td>6831279</td>\n",
       "      <td>292585</td>\n",
       "      <td>4.142857</td>\n",
       "      <td>1459728000</td>\n",
       "    </tr>\n",
       "  </tbody>\n",
       "</table>\n",
       "</div>"
      ],
      "text/plain": [
       "            user    item    rating   timestamp\n",
       "9724024  6831279  292585  4.142857  1459728000"
      ]
     },
     "execution_count": 36,
     "metadata": {},
     "output_type": "execute_result"
    }
   ],
   "source": [
    "# 최종 확인\n",
    "dropped_data[dropped_data['user'] == 6831279][dropped_data['item']== 292585]"
   ]
  },
  {
   "cell_type": "code",
   "execution_count": 37,
   "metadata": {},
   "outputs": [],
   "source": [
    "# 파일 저장\n",
    "dropped_data.to_csv('./data/latest_mean_rating.csv', index=False, header=None)"
   ]
  },
  {
   "cell_type": "markdown",
   "metadata": {},
   "source": [
    "-------------------------------\n",
    "## 이슈 총 정리\n",
    "\n",
    "1. 전처리 적용 순서\n",
    "2. rating을 평균으로 적용 시 timestamp는 그 중 어떤 것으로 선택해야할지 ?"
   ]
  },
  {
   "cell_type": "code",
   "execution_count": null,
   "metadata": {},
   "outputs": [],
   "source": []
  }
 ],
 "metadata": {
  "kernelspec": {
   "display_name": "aiffel",
   "language": "python",
   "name": "aiffel"
  },
  "language_info": {
   "codemirror_mode": {
    "name": "ipython",
    "version": 3
   },
   "file_extension": ".py",
   "mimetype": "text/x-python",
   "name": "python",
   "nbconvert_exporter": "python",
   "pygments_lexer": "ipython3",
   "version": "3.7.9"
  }
 },
 "nbformat": 4,
 "nbformat_minor": 4
}
