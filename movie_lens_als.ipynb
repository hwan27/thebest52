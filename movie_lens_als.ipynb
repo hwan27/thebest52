{
  "nbformat": 4,
  "nbformat_minor": 0,
  "metadata": {
    "colab": {
      "name": "movie-lens-als.ipynb",
      "provenance": [],
      "authorship_tag": "ABX9TyPlxjhex/UoBAz+wcFXhcwK",
      "include_colab_link": true
    },
    "kernelspec": {
      "name": "python3",
      "display_name": "Python 3"
    },
    "widgets": {
      "application/vnd.jupyter.widget-state+json": {
        "7af37511139d4a79b913f5331100eb12": {
          "model_module": "@jupyter-widgets/controls",
          "model_name": "HBoxModel",
          "state": {
            "_view_name": "HBoxView",
            "_dom_classes": [],
            "_model_name": "HBoxModel",
            "_view_module": "@jupyter-widgets/controls",
            "_model_module_version": "1.5.0",
            "_view_count": null,
            "_view_module_version": "1.5.0",
            "box_style": "",
            "layout": "IPY_MODEL_ff1405826c6741f98d48dc1f9ef267f2",
            "_model_module": "@jupyter-widgets/controls",
            "children": [
              "IPY_MODEL_baf8df350be9423582ef3f3c5bb7990e",
              "IPY_MODEL_43aeb0981c50469eab98f008cb06392b"
            ]
          }
        },
        "ff1405826c6741f98d48dc1f9ef267f2": {
          "model_module": "@jupyter-widgets/base",
          "model_name": "LayoutModel",
          "state": {
            "_view_name": "LayoutView",
            "grid_template_rows": null,
            "right": null,
            "justify_content": null,
            "_view_module": "@jupyter-widgets/base",
            "overflow": null,
            "_model_module_version": "1.2.0",
            "_view_count": null,
            "flex_flow": null,
            "width": null,
            "min_width": null,
            "border": null,
            "align_items": null,
            "bottom": null,
            "_model_module": "@jupyter-widgets/base",
            "top": null,
            "grid_column": null,
            "overflow_y": null,
            "overflow_x": null,
            "grid_auto_flow": null,
            "grid_area": null,
            "grid_template_columns": null,
            "flex": null,
            "_model_name": "LayoutModel",
            "justify_items": null,
            "grid_row": null,
            "max_height": null,
            "align_content": null,
            "visibility": null,
            "align_self": null,
            "height": null,
            "min_height": null,
            "padding": null,
            "grid_auto_rows": null,
            "grid_gap": null,
            "max_width": null,
            "order": null,
            "_view_module_version": "1.2.0",
            "grid_template_areas": null,
            "object_position": null,
            "object_fit": null,
            "grid_auto_columns": null,
            "margin": null,
            "display": null,
            "left": null
          }
        },
        "baf8df350be9423582ef3f3c5bb7990e": {
          "model_module": "@jupyter-widgets/controls",
          "model_name": "FloatProgressModel",
          "state": {
            "_view_name": "ProgressView",
            "style": "IPY_MODEL_2b6d98a33b52498fba3bc26931996544",
            "_dom_classes": [],
            "description": "100%",
            "_model_name": "FloatProgressModel",
            "bar_style": "success",
            "max": 15,
            "_view_module": "@jupyter-widgets/controls",
            "_model_module_version": "1.5.0",
            "value": 15,
            "_view_count": null,
            "_view_module_version": "1.5.0",
            "orientation": "horizontal",
            "min": 0,
            "description_tooltip": null,
            "_model_module": "@jupyter-widgets/controls",
            "layout": "IPY_MODEL_74a2d0ff97124f759697e840b4e53e53"
          }
        },
        "43aeb0981c50469eab98f008cb06392b": {
          "model_module": "@jupyter-widgets/controls",
          "model_name": "HTMLModel",
          "state": {
            "_view_name": "HTMLView",
            "style": "IPY_MODEL_62da16314b14410aba8775058e60ded0",
            "_dom_classes": [],
            "description": "",
            "_model_name": "HTMLModel",
            "placeholder": "​",
            "_view_module": "@jupyter-widgets/controls",
            "_model_module_version": "1.5.0",
            "value": " 15/15 [00:04&lt;00:00,  3.43it/s]",
            "_view_count": null,
            "_view_module_version": "1.5.0",
            "description_tooltip": null,
            "_model_module": "@jupyter-widgets/controls",
            "layout": "IPY_MODEL_42014235a46c4eec8967c414ccfc35fe"
          }
        },
        "2b6d98a33b52498fba3bc26931996544": {
          "model_module": "@jupyter-widgets/controls",
          "model_name": "ProgressStyleModel",
          "state": {
            "_view_name": "StyleView",
            "_model_name": "ProgressStyleModel",
            "description_width": "initial",
            "_view_module": "@jupyter-widgets/base",
            "_model_module_version": "1.5.0",
            "_view_count": null,
            "_view_module_version": "1.2.0",
            "bar_color": null,
            "_model_module": "@jupyter-widgets/controls"
          }
        },
        "74a2d0ff97124f759697e840b4e53e53": {
          "model_module": "@jupyter-widgets/base",
          "model_name": "LayoutModel",
          "state": {
            "_view_name": "LayoutView",
            "grid_template_rows": null,
            "right": null,
            "justify_content": null,
            "_view_module": "@jupyter-widgets/base",
            "overflow": null,
            "_model_module_version": "1.2.0",
            "_view_count": null,
            "flex_flow": null,
            "width": null,
            "min_width": null,
            "border": null,
            "align_items": null,
            "bottom": null,
            "_model_module": "@jupyter-widgets/base",
            "top": null,
            "grid_column": null,
            "overflow_y": null,
            "overflow_x": null,
            "grid_auto_flow": null,
            "grid_area": null,
            "grid_template_columns": null,
            "flex": null,
            "_model_name": "LayoutModel",
            "justify_items": null,
            "grid_row": null,
            "max_height": null,
            "align_content": null,
            "visibility": null,
            "align_self": null,
            "height": null,
            "min_height": null,
            "padding": null,
            "grid_auto_rows": null,
            "grid_gap": null,
            "max_width": null,
            "order": null,
            "_view_module_version": "1.2.0",
            "grid_template_areas": null,
            "object_position": null,
            "object_fit": null,
            "grid_auto_columns": null,
            "margin": null,
            "display": null,
            "left": null
          }
        },
        "62da16314b14410aba8775058e60ded0": {
          "model_module": "@jupyter-widgets/controls",
          "model_name": "DescriptionStyleModel",
          "state": {
            "_view_name": "StyleView",
            "_model_name": "DescriptionStyleModel",
            "description_width": "",
            "_view_module": "@jupyter-widgets/base",
            "_model_module_version": "1.5.0",
            "_view_count": null,
            "_view_module_version": "1.2.0",
            "_model_module": "@jupyter-widgets/controls"
          }
        },
        "42014235a46c4eec8967c414ccfc35fe": {
          "model_module": "@jupyter-widgets/base",
          "model_name": "LayoutModel",
          "state": {
            "_view_name": "LayoutView",
            "grid_template_rows": null,
            "right": null,
            "justify_content": null,
            "_view_module": "@jupyter-widgets/base",
            "overflow": null,
            "_model_module_version": "1.2.0",
            "_view_count": null,
            "flex_flow": null,
            "width": null,
            "min_width": null,
            "border": null,
            "align_items": null,
            "bottom": null,
            "_model_module": "@jupyter-widgets/base",
            "top": null,
            "grid_column": null,
            "overflow_y": null,
            "overflow_x": null,
            "grid_auto_flow": null,
            "grid_area": null,
            "grid_template_columns": null,
            "flex": null,
            "_model_name": "LayoutModel",
            "justify_items": null,
            "grid_row": null,
            "max_height": null,
            "align_content": null,
            "visibility": null,
            "align_self": null,
            "height": null,
            "min_height": null,
            "padding": null,
            "grid_auto_rows": null,
            "grid_gap": null,
            "max_width": null,
            "order": null,
            "_view_module_version": "1.2.0",
            "grid_template_areas": null,
            "object_position": null,
            "object_fit": null,
            "grid_auto_columns": null,
            "margin": null,
            "display": null,
            "left": null
          }
        }
      }
    }
  },
  "cells": [
    {
      "cell_type": "markdown",
      "metadata": {
        "id": "view-in-github",
        "colab_type": "text"
      },
      "source": [
        "<a href=\"https://colab.research.google.com/github/hwan27/thebest52/blob/master/movie_lens_als.ipynb\" target=\"_parent\"><img src=\"https://colab.research.google.com/assets/colab-badge.svg\" alt=\"Open In Colab\"/></a>"
      ]
    },
    {
      "cell_type": "code",
      "metadata": {
        "colab": {
          "base_uri": "https://localhost:8080/"
        },
        "id": "iPe5NaVPFNVh",
        "outputId": "669899dc-0f93-413f-f6d9-bd74087d45d6"
      },
      "source": [
        "!pip install implicit"
      ],
      "execution_count": null,
      "outputs": [
        {
          "output_type": "stream",
          "text": [
            "Collecting implicit\n",
            "\u001b[?25l  Downloading https://files.pythonhosted.org/packages/bc/07/c0121884722d16e2c5beeb815f6b84b41cbf22e738e4075f1475be2791bc/implicit-0.4.4.tar.gz (1.1MB)\n",
            "\r\u001b[K     |▎                               | 10kB 18.2MB/s eta 0:00:01\r\u001b[K     |▋                               | 20kB 24.9MB/s eta 0:00:01\r\u001b[K     |▉                               | 30kB 22.3MB/s eta 0:00:01\r\u001b[K     |█▏                              | 40kB 18.5MB/s eta 0:00:01\r\u001b[K     |█▌                              | 51kB 16.6MB/s eta 0:00:01\r\u001b[K     |█▊                              | 61kB 17.9MB/s eta 0:00:01\r\u001b[K     |██                              | 71kB 13.7MB/s eta 0:00:01\r\u001b[K     |██▍                             | 81kB 14.2MB/s eta 0:00:01\r\u001b[K     |██▋                             | 92kB 14.5MB/s eta 0:00:01\r\u001b[K     |███                             | 102kB 13.4MB/s eta 0:00:01\r\u001b[K     |███▎                            | 112kB 13.4MB/s eta 0:00:01\r\u001b[K     |███▌                            | 122kB 13.4MB/s eta 0:00:01\r\u001b[K     |███▉                            | 133kB 13.4MB/s eta 0:00:01\r\u001b[K     |████▏                           | 143kB 13.4MB/s eta 0:00:01\r\u001b[K     |████▍                           | 153kB 13.4MB/s eta 0:00:01\r\u001b[K     |████▊                           | 163kB 13.4MB/s eta 0:00:01\r\u001b[K     |█████                           | 174kB 13.4MB/s eta 0:00:01\r\u001b[K     |█████▎                          | 184kB 13.4MB/s eta 0:00:01\r\u001b[K     |█████▋                          | 194kB 13.4MB/s eta 0:00:01\r\u001b[K     |██████                          | 204kB 13.4MB/s eta 0:00:01\r\u001b[K     |██████▏                         | 215kB 13.4MB/s eta 0:00:01\r\u001b[K     |██████▌                         | 225kB 13.4MB/s eta 0:00:01\r\u001b[K     |██████▉                         | 235kB 13.4MB/s eta 0:00:01\r\u001b[K     |███████                         | 245kB 13.4MB/s eta 0:00:01\r\u001b[K     |███████▍                        | 256kB 13.4MB/s eta 0:00:01\r\u001b[K     |███████▊                        | 266kB 13.4MB/s eta 0:00:01\r\u001b[K     |████████                        | 276kB 13.4MB/s eta 0:00:01\r\u001b[K     |████████▎                       | 286kB 13.4MB/s eta 0:00:01\r\u001b[K     |████████▋                       | 296kB 13.4MB/s eta 0:00:01\r\u001b[K     |████████▉                       | 307kB 13.4MB/s eta 0:00:01\r\u001b[K     |█████████▏                      | 317kB 13.4MB/s eta 0:00:01\r\u001b[K     |█████████▌                      | 327kB 13.4MB/s eta 0:00:01\r\u001b[K     |█████████▊                      | 337kB 13.4MB/s eta 0:00:01\r\u001b[K     |██████████                      | 348kB 13.4MB/s eta 0:00:01\r\u001b[K     |██████████▍                     | 358kB 13.4MB/s eta 0:00:01\r\u001b[K     |██████████▋                     | 368kB 13.4MB/s eta 0:00:01\r\u001b[K     |███████████                     | 378kB 13.4MB/s eta 0:00:01\r\u001b[K     |███████████▏                    | 389kB 13.4MB/s eta 0:00:01\r\u001b[K     |███████████▌                    | 399kB 13.4MB/s eta 0:00:01\r\u001b[K     |███████████▉                    | 409kB 13.4MB/s eta 0:00:01\r\u001b[K     |████████████                    | 419kB 13.4MB/s eta 0:00:01\r\u001b[K     |████████████▍                   | 430kB 13.4MB/s eta 0:00:01\r\u001b[K     |████████████▊                   | 440kB 13.4MB/s eta 0:00:01\r\u001b[K     |█████████████                   | 450kB 13.4MB/s eta 0:00:01\r\u001b[K     |█████████████▎                  | 460kB 13.4MB/s eta 0:00:01\r\u001b[K     |█████████████▋                  | 471kB 13.4MB/s eta 0:00:01\r\u001b[K     |█████████████▉                  | 481kB 13.4MB/s eta 0:00:01\r\u001b[K     |██████████████▏                 | 491kB 13.4MB/s eta 0:00:01\r\u001b[K     |██████████████▌                 | 501kB 13.4MB/s eta 0:00:01\r\u001b[K     |██████████████▊                 | 512kB 13.4MB/s eta 0:00:01\r\u001b[K     |███████████████                 | 522kB 13.4MB/s eta 0:00:01\r\u001b[K     |███████████████▍                | 532kB 13.4MB/s eta 0:00:01\r\u001b[K     |███████████████▋                | 542kB 13.4MB/s eta 0:00:01\r\u001b[K     |████████████████                | 552kB 13.4MB/s eta 0:00:01\r\u001b[K     |████████████████▎               | 563kB 13.4MB/s eta 0:00:01\r\u001b[K     |████████████████▌               | 573kB 13.4MB/s eta 0:00:01\r\u001b[K     |████████████████▉               | 583kB 13.4MB/s eta 0:00:01\r\u001b[K     |█████████████████▏              | 593kB 13.4MB/s eta 0:00:01\r\u001b[K     |█████████████████▍              | 604kB 13.4MB/s eta 0:00:01\r\u001b[K     |█████████████████▊              | 614kB 13.4MB/s eta 0:00:01\r\u001b[K     |██████████████████              | 624kB 13.4MB/s eta 0:00:01\r\u001b[K     |██████████████████▎             | 634kB 13.4MB/s eta 0:00:01\r\u001b[K     |██████████████████▋             | 645kB 13.4MB/s eta 0:00:01\r\u001b[K     |███████████████████             | 655kB 13.4MB/s eta 0:00:01\r\u001b[K     |███████████████████▏            | 665kB 13.4MB/s eta 0:00:01\r\u001b[K     |███████████████████▌            | 675kB 13.4MB/s eta 0:00:01\r\u001b[K     |███████████████████▉            | 686kB 13.4MB/s eta 0:00:01\r\u001b[K     |████████████████████            | 696kB 13.4MB/s eta 0:00:01\r\u001b[K     |████████████████████▍           | 706kB 13.4MB/s eta 0:00:01\r\u001b[K     |████████████████████▊           | 716kB 13.4MB/s eta 0:00:01\r\u001b[K     |█████████████████████           | 727kB 13.4MB/s eta 0:00:01\r\u001b[K     |█████████████████████▎          | 737kB 13.4MB/s eta 0:00:01\r\u001b[K     |█████████████████████▋          | 747kB 13.4MB/s eta 0:00:01\r\u001b[K     |█████████████████████▉          | 757kB 13.4MB/s eta 0:00:01\r\u001b[K     |██████████████████████▏         | 768kB 13.4MB/s eta 0:00:01\r\u001b[K     |██████████████████████▍         | 778kB 13.4MB/s eta 0:00:01\r\u001b[K     |██████████████████████▊         | 788kB 13.4MB/s eta 0:00:01\r\u001b[K     |███████████████████████         | 798kB 13.4MB/s eta 0:00:01\r\u001b[K     |███████████████████████▎        | 808kB 13.4MB/s eta 0:00:01\r\u001b[K     |███████████████████████▋        | 819kB 13.4MB/s eta 0:00:01\r\u001b[K     |████████████████████████        | 829kB 13.4MB/s eta 0:00:01\r\u001b[K     |████████████████████████▏       | 839kB 13.4MB/s eta 0:00:01\r\u001b[K     |████████████████████████▌       | 849kB 13.4MB/s eta 0:00:01\r\u001b[K     |████████████████████████▉       | 860kB 13.4MB/s eta 0:00:01\r\u001b[K     |█████████████████████████       | 870kB 13.4MB/s eta 0:00:01\r\u001b[K     |█████████████████████████▍      | 880kB 13.4MB/s eta 0:00:01\r\u001b[K     |█████████████████████████▊      | 890kB 13.4MB/s eta 0:00:01\r\u001b[K     |██████████████████████████      | 901kB 13.4MB/s eta 0:00:01\r\u001b[K     |██████████████████████████▎     | 911kB 13.4MB/s eta 0:00:01\r\u001b[K     |██████████████████████████▋     | 921kB 13.4MB/s eta 0:00:01\r\u001b[K     |██████████████████████████▉     | 931kB 13.4MB/s eta 0:00:01\r\u001b[K     |███████████████████████████▏    | 942kB 13.4MB/s eta 0:00:01\r\u001b[K     |███████████████████████████▌    | 952kB 13.4MB/s eta 0:00:01\r\u001b[K     |███████████████████████████▊    | 962kB 13.4MB/s eta 0:00:01\r\u001b[K     |████████████████████████████    | 972kB 13.4MB/s eta 0:00:01\r\u001b[K     |████████████████████████████▍   | 983kB 13.4MB/s eta 0:00:01\r\u001b[K     |████████████████████████████▋   | 993kB 13.4MB/s eta 0:00:01\r\u001b[K     |█████████████████████████████   | 1.0MB 13.4MB/s eta 0:00:01\r\u001b[K     |█████████████████████████████▎  | 1.0MB 13.4MB/s eta 0:00:01\r\u001b[K     |█████████████████████████████▌  | 1.0MB 13.4MB/s eta 0:00:01\r\u001b[K     |█████████████████████████████▉  | 1.0MB 13.4MB/s eta 0:00:01\r\u001b[K     |██████████████████████████████▏ | 1.0MB 13.4MB/s eta 0:00:01\r\u001b[K     |██████████████████████████████▍ | 1.1MB 13.4MB/s eta 0:00:01\r\u001b[K     |██████████████████████████████▊ | 1.1MB 13.4MB/s eta 0:00:01\r\u001b[K     |███████████████████████████████ | 1.1MB 13.4MB/s eta 0:00:01\r\u001b[K     |███████████████████████████████▎| 1.1MB 13.4MB/s eta 0:00:01\r\u001b[K     |███████████████████████████████▋| 1.1MB 13.4MB/s eta 0:00:01\r\u001b[K     |████████████████████████████████| 1.1MB 13.4MB/s eta 0:00:01\r\u001b[K     |████████████████████████████████| 1.1MB 13.4MB/s \n",
            "\u001b[?25hRequirement already satisfied: numpy in /usr/local/lib/python3.6/dist-packages (from implicit) (1.18.5)\n",
            "Requirement already satisfied: scipy>=0.16 in /usr/local/lib/python3.6/dist-packages (from implicit) (1.4.1)\n",
            "Requirement already satisfied: tqdm>=4.27 in /usr/local/lib/python3.6/dist-packages (from implicit) (4.41.1)\n",
            "Building wheels for collected packages: implicit\n",
            "  Building wheel for implicit (setup.py) ... \u001b[?25l\u001b[?25hdone\n",
            "  Created wheel for implicit: filename=implicit-0.4.4-cp36-cp36m-linux_x86_64.whl size=3419509 sha256=5ce034574d93af84205c90c2161f43f2f4e3130852b963444e35d387f3bc0890\n",
            "  Stored in directory: /root/.cache/pip/wheels/bf/d4/ec/fd4f622fcbefb7521f149905295b2c26adecb23af38aa28217\n",
            "Successfully built implicit\n",
            "Installing collected packages: implicit\n",
            "Successfully installed implicit-0.4.4\n"
          ],
          "name": "stdout"
        }
      ]
    },
    {
      "cell_type": "code",
      "metadata": {
        "id": "tMjpPYcuFKkN"
      },
      "source": [
        "import os\n",
        "\n",
        "import pandas as pd\n",
        "import numpy as np\n",
        "\n",
        "from scipy.sparse import csr_matrix\n",
        "\n",
        "from implicit.als import AlternatingLeastSquares\n",
        "\n",
        "# implicit 라이브러리에서 권장하고 있는 부분입니다. 학습 내용과는 무관합니다.\n",
        "os.environ['OPENBLAS_NUM_THREADS']='1'\n",
        "os.environ['KMP_DUPLICATE_LIB_OK']='True'\n",
        "os.environ['MKL_NUM_THREADS']='1'"
      ],
      "execution_count": null,
      "outputs": []
    },
    {
      "cell_type": "code",
      "metadata": {
        "colab": {
          "base_uri": "https://localhost:8080/"
        },
        "id": "HgBLcO5zr9IB",
        "outputId": "bf814368-ed81-4916-c0d3-5044832e6b8f"
      },
      "source": [
        "from google.colab import files\n",
        "\n",
        "!wget http://files.grouplens.org/datasets/movielens/ml-100k.zip\n",
        "!unzip -q ml-100k.zip"
      ],
      "execution_count": null,
      "outputs": [
        {
          "output_type": "stream",
          "text": [
            "--2020-12-01 05:04:44--  http://files.grouplens.org/datasets/movielens/ml-100k.zip\n",
            "Resolving files.grouplens.org (files.grouplens.org)... 128.101.65.152\n",
            "Connecting to files.grouplens.org (files.grouplens.org)|128.101.65.152|:80... connected.\n",
            "HTTP request sent, awaiting response... 200 OK\n",
            "Length: 4924029 (4.7M) [application/zip]\n",
            "Saving to: ‘ml-100k.zip’\n",
            "\n",
            "ml-100k.zip         100%[===================>]   4.70M  5.64MB/s    in 0.8s    \n",
            "\n",
            "2020-12-01 05:04:46 (5.64 MB/s) - ‘ml-100k.zip’ saved [4924029/4924029]\n",
            "\n"
          ],
          "name": "stdout"
        }
      ]
    },
    {
      "cell_type": "code",
      "metadata": {
        "id": "JlBiTW3CsYJw"
      },
      "source": [
        "'ml-100k/u.data', 'ml-100k/u.item'"
      ],
      "execution_count": null,
      "outputs": []
    },
    {
      "cell_type": "code",
      "metadata": {
        "colab": {
          "base_uri": "https://localhost:8080/",
          "height": 268
        },
        "id": "Fiz-Hc_KsbTv",
        "outputId": "2fe97434-0f95-4f4c-d3d7-790457d8c1f2"
      },
      "source": [
        "data = pd.read_csv(datapath, sep='\\t', \n",
        "                    names=['userId', 'itemId', 'rating', 'timestamp'])\n",
        "movie_titles = pd.read_csv(itempath, sep='|', names=['itemId', 'itemName'],\n",
        "                        usecols=range(2), encoding='latin-1')\n",
        "return data.merge(movie_titles,on='itemId', how='left')"
      ],
      "execution_count": null,
      "outputs": [
        {
          "output_type": "error",
          "ename": "NameError",
          "evalue": "ignored",
          "traceback": [
            "\u001b[0;31m---------------------------------------------------------------------------\u001b[0m",
            "\u001b[0;31mNameError\u001b[0m                                 Traceback (most recent call last)",
            "\u001b[0;32m<ipython-input-50-208c7dc2df17>\u001b[0m in \u001b[0;36m<module>\u001b[0;34m()\u001b[0m\n\u001b[0;32m----> 1\u001b[0;31m data = pd.read_csv(datapath, sep='\\t', \n\u001b[0m\u001b[1;32m      2\u001b[0m                     names=['userId', 'itemId', 'rating', 'timestamp'])\n\u001b[1;32m      3\u001b[0m movie_titles = pd.read_csv(itempath, sep='|', names=['itemId', 'itemName'],\n\u001b[1;32m      4\u001b[0m                         usecols=range(2), encoding='latin-1')\n\u001b[1;32m      5\u001b[0m \u001b[0;32mreturn\u001b[0m \u001b[0mdata\u001b[0m\u001b[0;34m.\u001b[0m\u001b[0mmerge\u001b[0m\u001b[0;34m(\u001b[0m\u001b[0mmovie_titles\u001b[0m\u001b[0;34m,\u001b[0m\u001b[0mon\u001b[0m\u001b[0;34m=\u001b[0m\u001b[0;34m'itemId'\u001b[0m\u001b[0;34m,\u001b[0m \u001b[0mhow\u001b[0m\u001b[0;34m=\u001b[0m\u001b[0;34m'left'\u001b[0m\u001b[0;34m)\u001b[0m\u001b[0;34m\u001b[0m\u001b[0;34m\u001b[0m\u001b[0m\n",
            "\u001b[0;31mNameError\u001b[0m: name 'datapath' is not defined"
          ]
        }
      ]
    },
    {
      "cell_type": "code",
      "metadata": {
        "id": "gZ9I3rUVsdZG"
      },
      "source": [
        "import pandas as pd\n",
        "data = pd.read_csv('./ml-100k/u.data', sep='\\t',names=['userId', 'itemId', 'rating', 'timestamp'])"
      ],
      "execution_count": null,
      "outputs": []
    },
    {
      "cell_type": "code",
      "metadata": {
        "colab": {
          "base_uri": "https://localhost:8080/",
          "height": 194
        },
        "id": "BLmQ_IdgsdWb",
        "outputId": "c3eec98f-9eaa-4e02-ea25-2afe1115fa84"
      },
      "source": [
        "data.head()"
      ],
      "execution_count": null,
      "outputs": [
        {
          "output_type": "execute_result",
          "data": {
            "text/html": [
              "<div>\n",
              "<style scoped>\n",
              "    .dataframe tbody tr th:only-of-type {\n",
              "        vertical-align: middle;\n",
              "    }\n",
              "\n",
              "    .dataframe tbody tr th {\n",
              "        vertical-align: top;\n",
              "    }\n",
              "\n",
              "    .dataframe thead th {\n",
              "        text-align: right;\n",
              "    }\n",
              "</style>\n",
              "<table border=\"1\" class=\"dataframe\">\n",
              "  <thead>\n",
              "    <tr style=\"text-align: right;\">\n",
              "      <th></th>\n",
              "      <th>userId</th>\n",
              "      <th>itemId</th>\n",
              "      <th>rating</th>\n",
              "      <th>timestamp</th>\n",
              "    </tr>\n",
              "  </thead>\n",
              "  <tbody>\n",
              "    <tr>\n",
              "      <th>0</th>\n",
              "      <td>196</td>\n",
              "      <td>242</td>\n",
              "      <td>3</td>\n",
              "      <td>881250949</td>\n",
              "    </tr>\n",
              "    <tr>\n",
              "      <th>1</th>\n",
              "      <td>186</td>\n",
              "      <td>302</td>\n",
              "      <td>3</td>\n",
              "      <td>891717742</td>\n",
              "    </tr>\n",
              "    <tr>\n",
              "      <th>2</th>\n",
              "      <td>22</td>\n",
              "      <td>377</td>\n",
              "      <td>1</td>\n",
              "      <td>878887116</td>\n",
              "    </tr>\n",
              "    <tr>\n",
              "      <th>3</th>\n",
              "      <td>244</td>\n",
              "      <td>51</td>\n",
              "      <td>2</td>\n",
              "      <td>880606923</td>\n",
              "    </tr>\n",
              "    <tr>\n",
              "      <th>4</th>\n",
              "      <td>166</td>\n",
              "      <td>346</td>\n",
              "      <td>1</td>\n",
              "      <td>886397596</td>\n",
              "    </tr>\n",
              "  </tbody>\n",
              "</table>\n",
              "</div>"
            ],
            "text/plain": [
              "   userId  itemId  rating  timestamp\n",
              "0     196     242       3  881250949\n",
              "1     186     302       3  891717742\n",
              "2      22     377       1  878887116\n",
              "3     244      51       2  880606923\n",
              "4     166     346       1  886397596"
            ]
          },
          "metadata": {
            "tags": []
          },
          "execution_count": 52
        }
      ]
    },
    {
      "cell_type": "code",
      "metadata": {
        "id": "BYWUeVhns03u"
      },
      "source": [
        "movie_titles = pd.read_csv('ml-100k/u.item', sep='|', names=['itemId', 'itemName'],\n",
        "                        usecols=range(2), encoding='latin-1')"
      ],
      "execution_count": null,
      "outputs": []
    },
    {
      "cell_type": "code",
      "metadata": {
        "colab": {
          "base_uri": "https://localhost:8080/",
          "height": 194
        },
        "id": "0jgV8rW8s5v1",
        "outputId": "4e4f90ed-91ee-46bd-869a-581b534f6ab5"
      },
      "source": [
        "movie_titles.head()"
      ],
      "execution_count": null,
      "outputs": [
        {
          "output_type": "execute_result",
          "data": {
            "text/html": [
              "<div>\n",
              "<style scoped>\n",
              "    .dataframe tbody tr th:only-of-type {\n",
              "        vertical-align: middle;\n",
              "    }\n",
              "\n",
              "    .dataframe tbody tr th {\n",
              "        vertical-align: top;\n",
              "    }\n",
              "\n",
              "    .dataframe thead th {\n",
              "        text-align: right;\n",
              "    }\n",
              "</style>\n",
              "<table border=\"1\" class=\"dataframe\">\n",
              "  <thead>\n",
              "    <tr style=\"text-align: right;\">\n",
              "      <th></th>\n",
              "      <th>itemId</th>\n",
              "      <th>itemName</th>\n",
              "    </tr>\n",
              "  </thead>\n",
              "  <tbody>\n",
              "    <tr>\n",
              "      <th>0</th>\n",
              "      <td>1</td>\n",
              "      <td>Toy Story (1995)</td>\n",
              "    </tr>\n",
              "    <tr>\n",
              "      <th>1</th>\n",
              "      <td>2</td>\n",
              "      <td>GoldenEye (1995)</td>\n",
              "    </tr>\n",
              "    <tr>\n",
              "      <th>2</th>\n",
              "      <td>3</td>\n",
              "      <td>Four Rooms (1995)</td>\n",
              "    </tr>\n",
              "    <tr>\n",
              "      <th>3</th>\n",
              "      <td>4</td>\n",
              "      <td>Get Shorty (1995)</td>\n",
              "    </tr>\n",
              "    <tr>\n",
              "      <th>4</th>\n",
              "      <td>5</td>\n",
              "      <td>Copycat (1995)</td>\n",
              "    </tr>\n",
              "  </tbody>\n",
              "</table>\n",
              "</div>"
            ],
            "text/plain": [
              "   itemId           itemName\n",
              "0       1   Toy Story (1995)\n",
              "1       2   GoldenEye (1995)\n",
              "2       3  Four Rooms (1995)\n",
              "3       4  Get Shorty (1995)\n",
              "4       5     Copycat (1995)"
            ]
          },
          "metadata": {
            "tags": []
          },
          "execution_count": 54
        }
      ]
    },
    {
      "cell_type": "code",
      "metadata": {
        "id": "txcCm-1FuphX"
      },
      "source": [
        "movie_item = pd.merge(data,movie_titles,on='itemId')"
      ],
      "execution_count": null,
      "outputs": []
    },
    {
      "cell_type": "code",
      "metadata": {
        "colab": {
          "base_uri": "https://localhost:8080/",
          "height": 340
        },
        "id": "J4SYGSIxu6Mv",
        "outputId": "a4475c5c-f44b-4e6e-dd3b-a4f65e068c1d"
      },
      "source": [
        "movie_item.head(10)"
      ],
      "execution_count": null,
      "outputs": [
        {
          "output_type": "execute_result",
          "data": {
            "text/html": [
              "<div>\n",
              "<style scoped>\n",
              "    .dataframe tbody tr th:only-of-type {\n",
              "        vertical-align: middle;\n",
              "    }\n",
              "\n",
              "    .dataframe tbody tr th {\n",
              "        vertical-align: top;\n",
              "    }\n",
              "\n",
              "    .dataframe thead th {\n",
              "        text-align: right;\n",
              "    }\n",
              "</style>\n",
              "<table border=\"1\" class=\"dataframe\">\n",
              "  <thead>\n",
              "    <tr style=\"text-align: right;\">\n",
              "      <th></th>\n",
              "      <th>userId</th>\n",
              "      <th>itemId</th>\n",
              "      <th>rating</th>\n",
              "      <th>timestamp</th>\n",
              "      <th>itemName</th>\n",
              "    </tr>\n",
              "  </thead>\n",
              "  <tbody>\n",
              "    <tr>\n",
              "      <th>0</th>\n",
              "      <td>196</td>\n",
              "      <td>242</td>\n",
              "      <td>3</td>\n",
              "      <td>881250949</td>\n",
              "      <td>Kolya (1996)</td>\n",
              "    </tr>\n",
              "    <tr>\n",
              "      <th>1</th>\n",
              "      <td>63</td>\n",
              "      <td>242</td>\n",
              "      <td>3</td>\n",
              "      <td>875747190</td>\n",
              "      <td>Kolya (1996)</td>\n",
              "    </tr>\n",
              "    <tr>\n",
              "      <th>2</th>\n",
              "      <td>226</td>\n",
              "      <td>242</td>\n",
              "      <td>5</td>\n",
              "      <td>883888671</td>\n",
              "      <td>Kolya (1996)</td>\n",
              "    </tr>\n",
              "    <tr>\n",
              "      <th>3</th>\n",
              "      <td>154</td>\n",
              "      <td>242</td>\n",
              "      <td>3</td>\n",
              "      <td>879138235</td>\n",
              "      <td>Kolya (1996)</td>\n",
              "    </tr>\n",
              "    <tr>\n",
              "      <th>4</th>\n",
              "      <td>306</td>\n",
              "      <td>242</td>\n",
              "      <td>5</td>\n",
              "      <td>876503793</td>\n",
              "      <td>Kolya (1996)</td>\n",
              "    </tr>\n",
              "    <tr>\n",
              "      <th>5</th>\n",
              "      <td>296</td>\n",
              "      <td>242</td>\n",
              "      <td>4</td>\n",
              "      <td>884196057</td>\n",
              "      <td>Kolya (1996)</td>\n",
              "    </tr>\n",
              "    <tr>\n",
              "      <th>6</th>\n",
              "      <td>34</td>\n",
              "      <td>242</td>\n",
              "      <td>5</td>\n",
              "      <td>888601628</td>\n",
              "      <td>Kolya (1996)</td>\n",
              "    </tr>\n",
              "    <tr>\n",
              "      <th>7</th>\n",
              "      <td>271</td>\n",
              "      <td>242</td>\n",
              "      <td>4</td>\n",
              "      <td>885844495</td>\n",
              "      <td>Kolya (1996)</td>\n",
              "    </tr>\n",
              "    <tr>\n",
              "      <th>8</th>\n",
              "      <td>201</td>\n",
              "      <td>242</td>\n",
              "      <td>4</td>\n",
              "      <td>884110598</td>\n",
              "      <td>Kolya (1996)</td>\n",
              "    </tr>\n",
              "    <tr>\n",
              "      <th>9</th>\n",
              "      <td>209</td>\n",
              "      <td>242</td>\n",
              "      <td>4</td>\n",
              "      <td>883589606</td>\n",
              "      <td>Kolya (1996)</td>\n",
              "    </tr>\n",
              "  </tbody>\n",
              "</table>\n",
              "</div>"
            ],
            "text/plain": [
              "   userId  itemId  rating  timestamp      itemName\n",
              "0     196     242       3  881250949  Kolya (1996)\n",
              "1      63     242       3  875747190  Kolya (1996)\n",
              "2     226     242       5  883888671  Kolya (1996)\n",
              "3     154     242       3  879138235  Kolya (1996)\n",
              "4     306     242       5  876503793  Kolya (1996)\n",
              "5     296     242       4  884196057  Kolya (1996)\n",
              "6      34     242       5  888601628  Kolya (1996)\n",
              "7     271     242       4  885844495  Kolya (1996)\n",
              "8     201     242       4  884110598  Kolya (1996)\n",
              "9     209     242       4  883589606  Kolya (1996)"
            ]
          },
          "metadata": {
            "tags": []
          },
          "execution_count": 56
        }
      ]
    },
    {
      "cell_type": "code",
      "metadata": {
        "colab": {
          "base_uri": "https://localhost:8080/",
          "height": 399
        },
        "id": "M64wQ0fludMO",
        "outputId": "3462c75e-75e9-4c7a-b5e2-dbbaea513001"
      },
      "source": [
        "data"
      ],
      "execution_count": null,
      "outputs": [
        {
          "output_type": "execute_result",
          "data": {
            "text/html": [
              "<div>\n",
              "<style scoped>\n",
              "    .dataframe tbody tr th:only-of-type {\n",
              "        vertical-align: middle;\n",
              "    }\n",
              "\n",
              "    .dataframe tbody tr th {\n",
              "        vertical-align: top;\n",
              "    }\n",
              "\n",
              "    .dataframe thead th {\n",
              "        text-align: right;\n",
              "    }\n",
              "</style>\n",
              "<table border=\"1\" class=\"dataframe\">\n",
              "  <thead>\n",
              "    <tr style=\"text-align: right;\">\n",
              "      <th></th>\n",
              "      <th>userId</th>\n",
              "      <th>itemId</th>\n",
              "      <th>rating</th>\n",
              "      <th>timestamp</th>\n",
              "    </tr>\n",
              "  </thead>\n",
              "  <tbody>\n",
              "    <tr>\n",
              "      <th>0</th>\n",
              "      <td>196</td>\n",
              "      <td>242</td>\n",
              "      <td>3</td>\n",
              "      <td>881250949</td>\n",
              "    </tr>\n",
              "    <tr>\n",
              "      <th>1</th>\n",
              "      <td>186</td>\n",
              "      <td>302</td>\n",
              "      <td>3</td>\n",
              "      <td>891717742</td>\n",
              "    </tr>\n",
              "    <tr>\n",
              "      <th>2</th>\n",
              "      <td>22</td>\n",
              "      <td>377</td>\n",
              "      <td>1</td>\n",
              "      <td>878887116</td>\n",
              "    </tr>\n",
              "    <tr>\n",
              "      <th>3</th>\n",
              "      <td>244</td>\n",
              "      <td>51</td>\n",
              "      <td>2</td>\n",
              "      <td>880606923</td>\n",
              "    </tr>\n",
              "    <tr>\n",
              "      <th>4</th>\n",
              "      <td>166</td>\n",
              "      <td>346</td>\n",
              "      <td>1</td>\n",
              "      <td>886397596</td>\n",
              "    </tr>\n",
              "    <tr>\n",
              "      <th>...</th>\n",
              "      <td>...</td>\n",
              "      <td>...</td>\n",
              "      <td>...</td>\n",
              "      <td>...</td>\n",
              "    </tr>\n",
              "    <tr>\n",
              "      <th>99995</th>\n",
              "      <td>880</td>\n",
              "      <td>476</td>\n",
              "      <td>3</td>\n",
              "      <td>880175444</td>\n",
              "    </tr>\n",
              "    <tr>\n",
              "      <th>99996</th>\n",
              "      <td>716</td>\n",
              "      <td>204</td>\n",
              "      <td>5</td>\n",
              "      <td>879795543</td>\n",
              "    </tr>\n",
              "    <tr>\n",
              "      <th>99997</th>\n",
              "      <td>276</td>\n",
              "      <td>1090</td>\n",
              "      <td>1</td>\n",
              "      <td>874795795</td>\n",
              "    </tr>\n",
              "    <tr>\n",
              "      <th>99998</th>\n",
              "      <td>13</td>\n",
              "      <td>225</td>\n",
              "      <td>2</td>\n",
              "      <td>882399156</td>\n",
              "    </tr>\n",
              "    <tr>\n",
              "      <th>99999</th>\n",
              "      <td>12</td>\n",
              "      <td>203</td>\n",
              "      <td>3</td>\n",
              "      <td>879959583</td>\n",
              "    </tr>\n",
              "  </tbody>\n",
              "</table>\n",
              "<p>100000 rows × 4 columns</p>\n",
              "</div>"
            ],
            "text/plain": [
              "       userId  itemId  rating  timestamp\n",
              "0         196     242       3  881250949\n",
              "1         186     302       3  891717742\n",
              "2          22     377       1  878887116\n",
              "3         244      51       2  880606923\n",
              "4         166     346       1  886397596\n",
              "...       ...     ...     ...        ...\n",
              "99995     880     476       3  880175444\n",
              "99996     716     204       5  879795543\n",
              "99997     276    1090       1  874795795\n",
              "99998      13     225       2  882399156\n",
              "99999      12     203       3  879959583\n",
              "\n",
              "[100000 rows x 4 columns]"
            ]
          },
          "metadata": {
            "tags": []
          },
          "execution_count": 57
        }
      ]
    },
    {
      "cell_type": "code",
      "metadata": {
        "colab": {
          "base_uri": "https://localhost:8080/",
          "height": 36
        },
        "id": "LN8KnynNtmJ0",
        "outputId": "4827542b-0cf4-42fe-8cc8-3994037d445f"
      },
      "source": [
        "data.columns[0]"
      ],
      "execution_count": null,
      "outputs": [
        {
          "output_type": "execute_result",
          "data": {
            "application/vnd.google.colaboratory.intrinsic+json": {
              "type": "string"
            },
            "text/plain": [
              "'userId'"
            ]
          },
          "metadata": {
            "tags": []
          },
          "execution_count": 58
        }
      ]
    },
    {
      "cell_type": "code",
      "metadata": {
        "colab": {
          "base_uri": "https://localhost:8080/"
        },
        "id": "hotvqG8As8gv",
        "outputId": "82f99129-8842-4350-82b4-0c3fdcd1835e"
      },
      "source": [
        "for col in data.columns:\n",
        "    print('columns : {}, numbers of unique: {}'.format(col,data[col].nunique()))"
      ],
      "execution_count": null,
      "outputs": [
        {
          "output_type": "stream",
          "text": [
            "columns : userId, numbers of unique: 943\n",
            "columns : itemId, numbers of unique: 1682\n",
            "columns : rating, numbers of unique: 5\n",
            "columns : timestamp, numbers of unique: 49282\n"
          ],
          "name": "stdout"
        }
      ]
    },
    {
      "cell_type": "code",
      "metadata": {
        "id": "PccOH8lmsDMh"
      },
      "source": [
        "item_user_count = movie_item.groupby(['itemId','itemName'])['userId'].count()"
      ],
      "execution_count": null,
      "outputs": []
    },
    {
      "cell_type": "code",
      "metadata": {
        "colab": {
          "base_uri": "https://localhost:8080/"
        },
        "id": "BTboa783uKC4",
        "outputId": "d0453296-13bd-486a-987c-ef9599d659c3"
      },
      "source": [
        "item_user_count.sort_values(ascending=False)"
      ],
      "execution_count": null,
      "outputs": [
        {
          "output_type": "execute_result",
          "data": {
            "text/plain": [
              "itemId  itemName                                 \n",
              "50      Star Wars (1977)                             583\n",
              "258     Contact (1997)                               509\n",
              "100     Fargo (1996)                                 508\n",
              "181     Return of the Jedi (1983)                    507\n",
              "294     Liar Liar (1997)                             485\n",
              "                                                    ... \n",
              "1452    Lady of Burlesque (1943)                       1\n",
              "1593    Death in Brunswick (1991)                      1\n",
              "1447    Century (1993)                                 1\n",
              "814     Great Day in Harlem, A (1994)                  1\n",
              "1682    Scream of Stone (Schrei aus Stein) (1991)      1\n",
              "Name: userId, Length: 1682, dtype: int64"
            ]
          },
          "metadata": {
            "tags": []
          },
          "execution_count": 61
        }
      ]
    },
    {
      "cell_type": "code",
      "metadata": {
        "colab": {
          "base_uri": "https://localhost:8080/"
        },
        "id": "P3CoW-SyuVEg",
        "outputId": "ca36a09d-eb36-42c8-c112-cd4fdd417086"
      },
      "source": [
        "item_user_count.describe()"
      ],
      "execution_count": null,
      "outputs": [
        {
          "output_type": "execute_result",
          "data": {
            "text/plain": [
              "count    1682.000000\n",
              "mean       59.453032\n",
              "std        80.383846\n",
              "min         1.000000\n",
              "25%         6.000000\n",
              "50%        27.000000\n",
              "75%        80.000000\n",
              "max       583.000000\n",
              "Name: userId, dtype: float64"
            ]
          },
          "metadata": {
            "tags": []
          },
          "execution_count": 62
        }
      ]
    },
    {
      "cell_type": "markdown",
      "metadata": {
        "id": "DTJb6_TgvtyR"
      },
      "source": [
        "평균 59회 정도 시청됨 하지만 굉장히 편향된 데이터"
      ]
    },
    {
      "cell_type": "code",
      "metadata": {
        "id": "stI1DZ8Pv5ub"
      },
      "source": [
        "user_item_count = movie_item.groupby(['userId'])['itemId'].count()"
      ],
      "execution_count": null,
      "outputs": []
    },
    {
      "cell_type": "code",
      "metadata": {
        "colab": {
          "base_uri": "https://localhost:8080/"
        },
        "id": "Cc5wjKE-vLRz",
        "outputId": "7d89ef82-d647-4da0-8e1a-b361c3082686"
      },
      "source": [
        "user_item_count.sort_values(ascending=False)"
      ],
      "execution_count": null,
      "outputs": [
        {
          "output_type": "execute_result",
          "data": {
            "text/plain": [
              "userId\n",
              "405    737\n",
              "655    685\n",
              "13     636\n",
              "450    540\n",
              "276    518\n",
              "      ... \n",
              "36      20\n",
              "34      20\n",
              "685     20\n",
              "441     20\n",
              "202     20\n",
              "Name: itemId, Length: 943, dtype: int64"
            ]
          },
          "metadata": {
            "tags": []
          },
          "execution_count": 64
        }
      ]
    },
    {
      "cell_type": "markdown",
      "metadata": {
        "id": "_RMRTgFNwLKN"
      },
      "source": [
        "유저들은 최소 20회이상 시청한 유저들이고 최대 737회를 시청했다"
      ]
    },
    {
      "cell_type": "code",
      "metadata": {
        "colab": {
          "base_uri": "https://localhost:8080/"
        },
        "id": "jNMD0mtiwP-y",
        "outputId": "6bd7f3f6-ec08-4c8d-f7a9-7f0899246f39"
      },
      "source": [
        "user_item_count.describe()"
      ],
      "execution_count": null,
      "outputs": [
        {
          "output_type": "execute_result",
          "data": {
            "text/plain": [
              "count    943.000000\n",
              "mean     106.044539\n",
              "std      100.931743\n",
              "min       20.000000\n",
              "25%       33.000000\n",
              "50%       65.000000\n",
              "75%      148.000000\n",
              "max      737.000000\n",
              "Name: itemId, dtype: float64"
            ]
          },
          "metadata": {
            "tags": []
          },
          "execution_count": 65
        }
      ]
    },
    {
      "cell_type": "code",
      "metadata": {
        "id": "MkCJuJ8rwWoX"
      },
      "source": [
        "from scipy.sparse import csr_matrix"
      ],
      "execution_count": null,
      "outputs": []
    },
    {
      "cell_type": "code",
      "metadata": {
        "colab": {
          "base_uri": "https://localhost:8080/"
        },
        "id": "ieXNj0FqDldy",
        "outputId": "1ebd76ae-31fe-4c06-af7a-558e601dd0e3"
      },
      "source": [
        "up_data = data[data['rating']>=3]\n",
        "original_data_size= len(data)\n",
        "filtered_data_size = len(up_data)\n",
        "\n",
        "print(f'original_data_size : {original_data_size}, filtered_data_size :{filtered_data_size}')\n",
        "\n",
        "print(f'Ratio of Remaining Data is {filtered_data_size/original_data_size}')"
      ],
      "execution_count": null,
      "outputs": [
        {
          "output_type": "stream",
          "text": [
            "original_data_size : 100000, filtered_data_size :82520\n",
            "Ratio of Remaining Data is 0.8252\n"
          ],
          "name": "stdout"
        }
      ]
    },
    {
      "cell_type": "code",
      "metadata": {
        "id": "IcsuZdBxEoEp"
      },
      "source": [
        "# 고유한 유저, 아티스트를 찾아내는 코드\n",
        "user_unique = up_data['userId'].unique()\n",
        "movie_unique = up_data['itemId'].unique()\n",
        "\n",
        "# 유저, 아티스트 indexing 하는 코드 idx는 index의 약자입니다.\n",
        "user_to_idx = {v:k for k,v in enumerate(user_unique)}\n",
        "movie_to_idx = {v:k for k,v in enumerate(movie_unique)}"
      ],
      "execution_count": null,
      "outputs": []
    },
    {
      "cell_type": "code",
      "metadata": {
        "colab": {
          "base_uri": "https://localhost:8080/",
          "height": 662
        },
        "id": "W2pL_8XdEvZP",
        "outputId": "238a8682-8281-4860-fb9c-f17e68630666"
      },
      "source": [
        "# indexing을 통해 데이터 컬럼 내 값을 바꾸는 코드\n",
        "# dictionary 자료형의 get 함수는 https://wikidocs.net/16 을 참고하세요.\n",
        "\n",
        "# user_to_idx.get을 통해 user_id 컬럼의 모든 값을 인덱싱한 Series를 구해 봅시다. \n",
        "# 혹시 정상적으로 인덱싱되지 않은 row가 있다면 인덱스가 NaN이 될 테니 dropna()로 제거합니다. \n",
        "temp_user_data = up_data['userId'].map(user_to_idx.get).dropna()\n",
        "if len(temp_user_data) == len(up_data):   # 모든 row가 정상적으로 인덱싱되었다면\n",
        "    print('userId column indexing OK!!')\n",
        "    up_data['userId'] = temp_user_data   # data['userId']을 인덱싱된 Series로 교체해 줍니다. \n",
        "else:\n",
        "    print('userId column indexing Fail!!')\n",
        "\n",
        "# movie_to_idx을 통해 artist 컬럼도 동일한 방식으로 인덱싱해 줍니다. \n",
        "temp_movie_data = up_data['itemId'].map(movie_to_idx.get).dropna()\n",
        "if len(temp_movie_data) == len(up_data):\n",
        "    print('itemId column indexing OK!!')\n",
        "    up_data['itemId'] = temp_movie_data\n",
        "else:\n",
        "    print('itemId column indexing Fail!!')\n",
        "    \n",
        "up_data"
      ],
      "execution_count": null,
      "outputs": [
        {
          "output_type": "stream",
          "text": [
            "userId column indexing OK!!\n",
            "itemId column indexing OK!!\n"
          ],
          "name": "stdout"
        },
        {
          "output_type": "stream",
          "text": [
            "/usr/local/lib/python3.6/dist-packages/ipykernel_launcher.py:9: SettingWithCopyWarning: \n",
            "A value is trying to be set on a copy of a slice from a DataFrame.\n",
            "Try using .loc[row_indexer,col_indexer] = value instead\n",
            "\n",
            "See the caveats in the documentation: https://pandas.pydata.org/pandas-docs/stable/user_guide/indexing.html#returning-a-view-versus-a-copy\n",
            "  if __name__ == '__main__':\n",
            "/usr/local/lib/python3.6/dist-packages/ipykernel_launcher.py:17: SettingWithCopyWarning: \n",
            "A value is trying to be set on a copy of a slice from a DataFrame.\n",
            "Try using .loc[row_indexer,col_indexer] = value instead\n",
            "\n",
            "See the caveats in the documentation: https://pandas.pydata.org/pandas-docs/stable/user_guide/indexing.html#returning-a-view-versus-a-copy\n"
          ],
          "name": "stderr"
        },
        {
          "output_type": "execute_result",
          "data": {
            "text/html": [
              "<div>\n",
              "<style scoped>\n",
              "    .dataframe tbody tr th:only-of-type {\n",
              "        vertical-align: middle;\n",
              "    }\n",
              "\n",
              "    .dataframe tbody tr th {\n",
              "        vertical-align: top;\n",
              "    }\n",
              "\n",
              "    .dataframe thead th {\n",
              "        text-align: right;\n",
              "    }\n",
              "</style>\n",
              "<table border=\"1\" class=\"dataframe\">\n",
              "  <thead>\n",
              "    <tr style=\"text-align: right;\">\n",
              "      <th></th>\n",
              "      <th>userId</th>\n",
              "      <th>itemId</th>\n",
              "      <th>rating</th>\n",
              "      <th>timestamp</th>\n",
              "    </tr>\n",
              "  </thead>\n",
              "  <tbody>\n",
              "    <tr>\n",
              "      <th>0</th>\n",
              "      <td>0</td>\n",
              "      <td>0</td>\n",
              "      <td>3</td>\n",
              "      <td>881250949</td>\n",
              "    </tr>\n",
              "    <tr>\n",
              "      <th>1</th>\n",
              "      <td>1</td>\n",
              "      <td>1</td>\n",
              "      <td>3</td>\n",
              "      <td>891717742</td>\n",
              "    </tr>\n",
              "    <tr>\n",
              "      <th>5</th>\n",
              "      <td>2</td>\n",
              "      <td>2</td>\n",
              "      <td>4</td>\n",
              "      <td>884182806</td>\n",
              "    </tr>\n",
              "    <tr>\n",
              "      <th>7</th>\n",
              "      <td>3</td>\n",
              "      <td>3</td>\n",
              "      <td>5</td>\n",
              "      <td>891628467</td>\n",
              "    </tr>\n",
              "    <tr>\n",
              "      <th>8</th>\n",
              "      <td>4</td>\n",
              "      <td>4</td>\n",
              "      <td>3</td>\n",
              "      <td>886324817</td>\n",
              "    </tr>\n",
              "    <tr>\n",
              "      <th>...</th>\n",
              "      <td>...</td>\n",
              "      <td>...</td>\n",
              "      <td>...</td>\n",
              "      <td>...</td>\n",
              "    </tr>\n",
              "    <tr>\n",
              "      <th>99992</th>\n",
              "      <td>712</td>\n",
              "      <td>740</td>\n",
              "      <td>3</td>\n",
              "      <td>877137285</td>\n",
              "    </tr>\n",
              "    <tr>\n",
              "      <th>99994</th>\n",
              "      <td>367</td>\n",
              "      <td>502</td>\n",
              "      <td>3</td>\n",
              "      <td>880056976</td>\n",
              "    </tr>\n",
              "    <tr>\n",
              "      <th>99995</th>\n",
              "      <td>873</td>\n",
              "      <td>770</td>\n",
              "      <td>3</td>\n",
              "      <td>880175444</td>\n",
              "    </tr>\n",
              "    <tr>\n",
              "      <th>99996</th>\n",
              "      <td>708</td>\n",
              "      <td>206</td>\n",
              "      <td>5</td>\n",
              "      <td>879795543</td>\n",
              "    </tr>\n",
              "    <tr>\n",
              "      <th>99999</th>\n",
              "      <td>285</td>\n",
              "      <td>425</td>\n",
              "      <td>3</td>\n",
              "      <td>879959583</td>\n",
              "    </tr>\n",
              "  </tbody>\n",
              "</table>\n",
              "<p>82520 rows × 4 columns</p>\n",
              "</div>"
            ],
            "text/plain": [
              "       userId  itemId  rating  timestamp\n",
              "0           0       0       3  881250949\n",
              "1           1       1       3  891717742\n",
              "5           2       2       4  884182806\n",
              "7           3       3       5  891628467\n",
              "8           4       4       3  886324817\n",
              "...       ...     ...     ...        ...\n",
              "99992     712     740       3  877137285\n",
              "99994     367     502       3  880056976\n",
              "99995     873     770       3  880175444\n",
              "99996     708     206       5  879795543\n",
              "99999     285     425       3  879959583\n",
              "\n",
              "[82520 rows x 4 columns]"
            ]
          },
          "metadata": {
            "tags": []
          },
          "execution_count": 81
        }
      ]
    },
    {
      "cell_type": "code",
      "metadata": {
        "colab": {
          "base_uri": "https://localhost:8080/"
        },
        "id": "HvTfW4aWABxO",
        "outputId": "a76ea8f5-b2e2-4f2d-f84d-a314fb35197c"
      },
      "source": [
        "num_user = up_data['userId'].nunique()\n",
        "num_item = up_data['itemId'].nunique()\n",
        "\n",
        "csr_data = csr_matrix((up_data['rating'], (up_data.userId, up_data.itemId)), shape= (num_user, num_item))\n",
        "print(csr_data)"
      ],
      "execution_count": null,
      "outputs": [
        {
          "output_type": "stream",
          "text": [
            "  (0, 0)\t3\n",
            "  (0, 65)\t4\n",
            "  (0, 68)\t4\n",
            "  (0, 73)\t4\n",
            "  (0, 147)\t3\n",
            "  (0, 183)\t5\n",
            "  (0, 241)\t5\n",
            "  (0, 244)\t3\n",
            "  (0, 277)\t4\n",
            "  (0, 305)\t3\n",
            "  (0, 311)\t4\n",
            "  (0, 312)\t4\n",
            "  (0, 321)\t5\n",
            "  (0, 336)\t3\n",
            "  (0, 350)\t3\n",
            "  (0, 359)\t5\n",
            "  (0, 364)\t5\n",
            "  (0, 392)\t4\n",
            "  (0, 410)\t3\n",
            "  (0, 412)\t3\n",
            "  (0, 430)\t5\n",
            "  (0, 438)\t3\n",
            "  (0, 442)\t4\n",
            "  (0, 461)\t5\n",
            "  (0, 547)\t4\n",
            "  :\t:\n",
            "  (941, 1026)\t5\n",
            "  (941, 1155)\t4\n",
            "  (941, 1225)\t4\n",
            "  (941, 1230)\t4\n",
            "  (941, 1254)\t3\n",
            "  (942, 16)\t5\n",
            "  (942, 39)\t5\n",
            "  (942, 48)\t5\n",
            "  (942, 52)\t4\n",
            "  (942, 76)\t4\n",
            "  (942, 116)\t5\n",
            "  (942, 117)\t3\n",
            "  (942, 125)\t5\n",
            "  (942, 128)\t4\n",
            "  (942, 129)\t4\n",
            "  (942, 148)\t5\n",
            "  (942, 172)\t4\n",
            "  (942, 296)\t4\n",
            "  (942, 377)\t4\n",
            "  (942, 508)\t4\n",
            "  (942, 518)\t3\n",
            "  (942, 549)\t4\n",
            "  (942, 570)\t4\n",
            "  (942, 747)\t5\n",
            "  (942, 802)\t4\n"
          ],
          "name": "stdout"
        }
      ]
    },
    {
      "cell_type": "code",
      "metadata": {
        "colab": {
          "base_uri": "https://localhost:8080/"
        },
        "id": "mnwil4S5AGsU",
        "outputId": "f875e0df-9d30-45ed-84b6-c0ccdedbb907"
      },
      "source": [
        "als_model = AlternatingLeastSquares(factors=100, regularization=0.01, use_gpu=False, iterations=15, dtype=np.float32)\n",
        "\n",
        "csr_data_transpose = csr_data.T\n",
        "csr_data_transpose"
      ],
      "execution_count": null,
      "outputs": [
        {
          "output_type": "execute_result",
          "data": {
            "text/plain": [
              "<1574x943 sparse matrix of type '<class 'numpy.longlong'>'\n",
              "\twith 82520 stored elements in Compressed Sparse Column format>"
            ]
          },
          "metadata": {
            "tags": []
          },
          "execution_count": 88
        }
      ]
    },
    {
      "cell_type": "code",
      "metadata": {
        "colab": {
          "base_uri": "https://localhost:8080/",
          "height": 68,
          "referenced_widgets": [
            "7af37511139d4a79b913f5331100eb12",
            "ff1405826c6741f98d48dc1f9ef267f2",
            "baf8df350be9423582ef3f3c5bb7990e",
            "43aeb0981c50469eab98f008cb06392b",
            "2b6d98a33b52498fba3bc26931996544",
            "74a2d0ff97124f759697e840b4e53e53",
            "62da16314b14410aba8775058e60ded0",
            "42014235a46c4eec8967c414ccfc35fe"
          ]
        },
        "id": "Tp1ylMtdFG4C",
        "outputId": "1f646d20-b25c-43af-c430-3c09b9c67573"
      },
      "source": [
        "als_model.fit(csr_data_transpose)"
      ],
      "execution_count": null,
      "outputs": [
        {
          "output_type": "display_data",
          "data": {
            "application/vnd.jupyter.widget-view+json": {
              "model_id": "7af37511139d4a79b913f5331100eb12",
              "version_minor": 0,
              "version_major": 2
            },
            "text/plain": [
              "HBox(children=(FloatProgress(value=0.0, max=15.0), HTML(value='')))"
            ]
          },
          "metadata": {
            "tags": []
          }
        },
        {
          "output_type": "stream",
          "text": [
            "\n"
          ],
          "name": "stdout"
        }
      ]
    },
    {
      "cell_type": "code",
      "metadata": {
        "colab": {
          "base_uri": "https://localhost:8080/"
        },
        "id": "KNEmznNYIou6",
        "outputId": "39684ba8-16c9-44b3-f256-ce3bf0ebb551"
      },
      "source": [
        "als_model.item_factors"
      ],
      "execution_count": null,
      "outputs": [
        {
          "output_type": "execute_result",
          "data": {
            "text/plain": [
              "array([[ 0.03312847, -0.02756283, -0.00075003, ..., -0.02514346,\n",
              "         0.02444965, -0.00783079],\n",
              "       [ 0.03863389,  0.0139953 ,  0.02604141, ...,  0.02288814,\n",
              "         0.03295572, -0.03911987],\n",
              "       [-0.0098468 ,  0.00128718,  0.03730008, ..., -0.01172116,\n",
              "         0.00191197, -0.01323052],\n",
              "       ...,\n",
              "       [ 0.00234735,  0.0008061 ,  0.0052921 , ...,  0.0043417 ,\n",
              "         0.00353943, -0.00086637],\n",
              "       [ 0.0019307 ,  0.00067991,  0.00489382, ...,  0.00390033,\n",
              "         0.00329501, -0.0009838 ],\n",
              "       [ 0.00230601,  0.00078968,  0.00539596, ...,  0.00438319,\n",
              "         0.00364177, -0.00088574]], dtype=float32)"
            ]
          },
          "metadata": {
            "tags": []
          },
          "execution_count": 90
        }
      ]
    },
    {
      "cell_type": "code",
      "metadata": {
        "id": "JtskU1jwIwWg"
      },
      "source": [
        ""
      ],
      "execution_count": null,
      "outputs": []
    }
  ]
}