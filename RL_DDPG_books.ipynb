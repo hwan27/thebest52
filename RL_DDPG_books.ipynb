{
 "cells": [
  {
   "cell_type": "markdown",
   "metadata": {
    "id": "DsEJ5r1AhOLK"
   },
   "source": [
    "# Import\n"
   ]
  },
  {
   "cell_type": "code",
   "execution_count": 1,
   "metadata": {
    "id": "r1NmejTIFPtf"
   },
   "outputs": [],
   "source": [
    "#Dependencies\n",
    "import pandas as pd\n",
    "import numpy as np\n",
    "from scipy.sparse.linalg import svds\n",
    "from sklearn.model_selection import train_test_split\n",
    "import tensorflow as tf\n",
    "from torch.utils.data import DataLoader\n",
    "import itertools\n",
    "import torch\n",
    "\n",
    "import os \n",
    "\n",
    "from collections import defaultdict\n",
    "from collections import Counter\n",
    "\n",
    "import torch\n",
    "import torch.nn as nn\n",
    "import torch.nn.functional as F\n",
    "# from torchtools.optim import Ranger\n",
    "from ranger import Ranger\n",
    "\n",
    "import tqdm\n",
    "import random\n",
    "import matplotlib.pyplot as plt\n",
    "\n",
    "from sklearn.metrics.pairwise import cosine_similarity as cs\n",
    "import seaborn as sns"
   ]
  },
  {
   "cell_type": "markdown",
   "metadata": {},
   "source": [
    "# Data \n",
    "books_item5_user20.csv"
   ]
  },
  {
   "cell_type": "code",
   "execution_count": 2,
   "metadata": {},
   "outputs": [
    {
     "data": {
      "text/html": [
       "<div>\n",
       "<style scoped>\n",
       "    .dataframe tbody tr th:only-of-type {\n",
       "        vertical-align: middle;\n",
       "    }\n",
       "\n",
       "    .dataframe tbody tr th {\n",
       "        vertical-align: top;\n",
       "    }\n",
       "\n",
       "    .dataframe thead th {\n",
       "        text-align: right;\n",
       "    }\n",
       "</style>\n",
       "<table border=\"1\" class=\"dataframe\">\n",
       "  <thead>\n",
       "    <tr style=\"text-align: right;\">\n",
       "      <th></th>\n",
       "      <th>UserID</th>\n",
       "      <th>BookID</th>\n",
       "      <th>Rating</th>\n",
       "      <th>Timestamp</th>\n",
       "    </tr>\n",
       "  </thead>\n",
       "  <tbody>\n",
       "    <tr>\n",
       "      <th>0</th>\n",
       "      <td>32</td>\n",
       "      <td>60751</td>\n",
       "      <td>5</td>\n",
       "      <td>1112140800</td>\n",
       "    </tr>\n",
       "    <tr>\n",
       "      <th>1</th>\n",
       "      <td>32</td>\n",
       "      <td>291860</td>\n",
       "      <td>5</td>\n",
       "      <td>1466380800</td>\n",
       "    </tr>\n",
       "    <tr>\n",
       "      <th>2</th>\n",
       "      <td>32</td>\n",
       "      <td>140336</td>\n",
       "      <td>5</td>\n",
       "      <td>1436400000</td>\n",
       "    </tr>\n",
       "    <tr>\n",
       "      <th>3</th>\n",
       "      <td>32</td>\n",
       "      <td>197628</td>\n",
       "      <td>5</td>\n",
       "      <td>1383436800</td>\n",
       "    </tr>\n",
       "    <tr>\n",
       "      <th>4</th>\n",
       "      <td>32</td>\n",
       "      <td>208357</td>\n",
       "      <td>5</td>\n",
       "      <td>1381190400</td>\n",
       "    </tr>\n",
       "  </tbody>\n",
       "</table>\n",
       "</div>"
      ],
      "text/plain": [
       "   UserID  BookID  Rating   Timestamp\n",
       "0      32   60751       5  1112140800\n",
       "1      32  291860       5  1466380800\n",
       "2      32  140336       5  1436400000\n",
       "3      32  197628       5  1383436800\n",
       "4      32  208357       5  1381190400"
      ]
     },
     "execution_count": 2,
     "metadata": {},
     "output_type": "execute_result"
    }
   ],
   "source": [
    "datapath = os.getenv('HOME') + '/aiffel/Hackathon/books_item5_user20.csv'\n",
    "columns =  ['UserID', 'BookID', 'Rating', 'Timestamp']\n",
    "ratings_df = pd.read_csv(datapath, sep = \",\", names = columns, dtype = int)\n",
    "ratings_df.astype(int)\n",
    "ratings_df.head()"
   ]
  },
  {
   "cell_type": "code",
   "execution_count": 3,
   "metadata": {},
   "outputs": [
    {
     "name": "stdout",
     "output_type": "stream",
     "text": [
      "(13478380, 4)\n"
     ]
    }
   ],
   "source": [
    "print(ratings_df.shape)"
   ]
  },
  {
   "cell_type": "code",
   "execution_count": 4,
   "metadata": {},
   "outputs": [
    {
     "data": {
      "text/plain": [
       "395528"
      ]
     },
     "execution_count": 4,
     "metadata": {},
     "output_type": "execute_result"
    }
   ],
   "source": [
    "ratings_df['UserID'].nunique()"
   ]
  },
  {
   "cell_type": "code",
   "execution_count": 5,
   "metadata": {},
   "outputs": [
    {
     "data": {
      "text/plain": [
       "301387"
      ]
     },
     "execution_count": 5,
     "metadata": {},
     "output_type": "execute_result"
    }
   ],
   "source": [
    "ratings_df['BookID'].nunique()"
   ]
  },
  {
   "cell_type": "code",
   "execution_count": 6,
   "metadata": {
    "id": "b8aPaxXpNsz7"
   },
   "outputs": [],
   "source": [
    "# #Loading datasets\n",
    "# ratings_list = [i.strip().split(\"::\") for i in open('/content/gdrive/My Drive/RLProject/Data/ml-1m/ratings.dat', 'r').readlines()]\n",
    "# users_list = [i.strip().split(\"::\") for i in open('/content/gdrive/My Drive/RLProject/Data/ml-1m/users.dat', 'r').readlines()]\n",
    "# movies_list = [i.strip().split(\"::\") for i in open('/content/gdrive/My Drive/RLProject/Data/ml-1m/movies.dat',encoding='latin-1').readlines()]\n",
    "# ratings_df = pd.DataFrame(ratings_list, columns = ['UserID', 'MovieID', 'Rating', 'Timestamp'], dtype = int)\n",
    "# movies_df = pd.DataFrame(movies_list, columns = ['MovieID', 'Title', 'Genres'])\n",
    "# movies_df['MovieID'] = movies_df['MovieID'].apply(pd.to_numeric)"
   ]
  },
  {
   "cell_type": "code",
   "execution_count": 7,
   "metadata": {
    "id": "qxFmvK6QBBGi"
   },
   "outputs": [],
   "source": [
    "#prepare_dataset\n",
    "#using ratings_df\n",
    "users_df = ratings_df.sort_values([\"UserID\",\"Timestamp\"]).set_index(\"UserID\").fillna(0).drop(\"Timestamp\",axis=1)\n",
    "users = dict(tuple(users_df.groupby(\"UserID\")))\n"
   ]
  },
  {
   "cell_type": "code",
   "execution_count": 78,
   "metadata": {},
   "outputs": [],
   "source": [
    "columns =  ['UserID', 'BookID', 'Rating', 'timestamp']\n",
    "ratings_df = pd.read_csv(datapath, names = columns, dtype = int)"
   ]
  },
  {
   "cell_type": "code",
   "execution_count": 91,
   "metadata": {},
   "outputs": [],
   "source": [
    "ratings_df1 = ratings_df.drop_duplicates('BookID', keep= 'first')"
   ]
  },
  {
   "cell_type": "code",
   "execution_count": 92,
   "metadata": {},
   "outputs": [
    {
     "data": {
      "text/plain": [
       "(301387, 4)"
      ]
     },
     "execution_count": 92,
     "metadata": {},
     "output_type": "execute_result"
    }
   ],
   "source": [
    "ratings_df1.shape"
   ]
  },
  {
   "cell_type": "code",
   "execution_count": 93,
   "metadata": {},
   "outputs": [],
   "source": [
    "# ratings_df2 = ratings_df1.drop_duplicates('BookID', keep = 'last')\n",
    "# print('1')"
   ]
  },
  {
   "cell_type": "code",
   "execution_count": 95,
   "metadata": {
    "id": "bSqs6TACUjCJ"
   },
   "outputs": [
    {
     "ename": "MemoryError",
     "evalue": "Unable to allocate 111. GiB for an array with shape (49608, 301387) and data type float64",
     "output_type": "error",
     "traceback": [
      "\u001b[0;31m---------------------------------------------------------------------------\u001b[0m",
      "\u001b[0;31mMemoryError\u001b[0m                               Traceback (most recent call last)",
      "\u001b[0;32m<ipython-input-95-a320c378541c>\u001b[0m in \u001b[0;36m<module>\u001b[0;34m\u001b[0m\n\u001b[0;32m----> 1\u001b[0;31m \u001b[0mR_df\u001b[0m \u001b[0;34m=\u001b[0m \u001b[0mratings_df1\u001b[0m\u001b[0;34m.\u001b[0m\u001b[0mpivot\u001b[0m\u001b[0;34m(\u001b[0m\u001b[0mindex\u001b[0m \u001b[0;34m=\u001b[0m \u001b[0;34m'UserID'\u001b[0m\u001b[0;34m,\u001b[0m \u001b[0mcolumns\u001b[0m \u001b[0;34m=\u001b[0m\u001b[0;34m'BookID'\u001b[0m\u001b[0;34m,\u001b[0m \u001b[0mvalues\u001b[0m \u001b[0;34m=\u001b[0m \u001b[0;34m'Rating'\u001b[0m\u001b[0;34m)\u001b[0m\u001b[0;34m.\u001b[0m\u001b[0mfillna\u001b[0m\u001b[0;34m(\u001b[0m\u001b[0;36m0\u001b[0m\u001b[0;34m)\u001b[0m\u001b[0;34m\u001b[0m\u001b[0;34m\u001b[0m\u001b[0m\n\u001b[0m\u001b[1;32m      2\u001b[0m \u001b[0mR_df\u001b[0m \u001b[0;34m=\u001b[0m \u001b[0mR_df\u001b[0m\u001b[0;34m.\u001b[0m\u001b[0mastype\u001b[0m\u001b[0;34m(\u001b[0m\u001b[0mint\u001b[0m\u001b[0;34m)\u001b[0m\u001b[0;34m\u001b[0m\u001b[0;34m\u001b[0m\u001b[0m\n",
      "\u001b[0;32m~/anaconda3/envs/aiffel/lib/python3.7/site-packages/pandas/core/frame.py\u001b[0m in \u001b[0;36mpivot\u001b[0;34m(self, index, columns, values)\u001b[0m\n\u001b[1;32m   5921\u001b[0m         \u001b[0;32mfrom\u001b[0m \u001b[0mpandas\u001b[0m\u001b[0;34m.\u001b[0m\u001b[0mcore\u001b[0m\u001b[0;34m.\u001b[0m\u001b[0mreshape\u001b[0m\u001b[0;34m.\u001b[0m\u001b[0mpivot\u001b[0m \u001b[0;32mimport\u001b[0m \u001b[0mpivot\u001b[0m\u001b[0;34m\u001b[0m\u001b[0;34m\u001b[0m\u001b[0m\n\u001b[1;32m   5922\u001b[0m \u001b[0;34m\u001b[0m\u001b[0m\n\u001b[0;32m-> 5923\u001b[0;31m         \u001b[0;32mreturn\u001b[0m \u001b[0mpivot\u001b[0m\u001b[0;34m(\u001b[0m\u001b[0mself\u001b[0m\u001b[0;34m,\u001b[0m \u001b[0mindex\u001b[0m\u001b[0;34m=\u001b[0m\u001b[0mindex\u001b[0m\u001b[0;34m,\u001b[0m \u001b[0mcolumns\u001b[0m\u001b[0;34m=\u001b[0m\u001b[0mcolumns\u001b[0m\u001b[0;34m,\u001b[0m \u001b[0mvalues\u001b[0m\u001b[0;34m=\u001b[0m\u001b[0mvalues\u001b[0m\u001b[0;34m)\u001b[0m\u001b[0;34m\u001b[0m\u001b[0;34m\u001b[0m\u001b[0m\n\u001b[0m\u001b[1;32m   5924\u001b[0m \u001b[0;34m\u001b[0m\u001b[0m\n\u001b[1;32m   5925\u001b[0m     _shared_docs[\n",
      "\u001b[0;32m~/anaconda3/envs/aiffel/lib/python3.7/site-packages/pandas/core/reshape/pivot.py\u001b[0m in \u001b[0;36mpivot\u001b[0;34m(data, index, columns, values)\u001b[0m\n\u001b[1;32m    448\u001b[0m         \u001b[0;32melse\u001b[0m\u001b[0;34m:\u001b[0m\u001b[0;34m\u001b[0m\u001b[0;34m\u001b[0m\u001b[0m\n\u001b[1;32m    449\u001b[0m             \u001b[0mindexed\u001b[0m \u001b[0;34m=\u001b[0m \u001b[0mdata\u001b[0m\u001b[0;34m.\u001b[0m\u001b[0m_constructor_sliced\u001b[0m\u001b[0;34m(\u001b[0m\u001b[0mdata\u001b[0m\u001b[0;34m[\u001b[0m\u001b[0mvalues\u001b[0m\u001b[0;34m]\u001b[0m\u001b[0;34m.\u001b[0m\u001b[0mvalues\u001b[0m\u001b[0;34m,\u001b[0m \u001b[0mindex\u001b[0m\u001b[0;34m=\u001b[0m\u001b[0mindex\u001b[0m\u001b[0;34m)\u001b[0m\u001b[0;34m\u001b[0m\u001b[0;34m\u001b[0m\u001b[0m\n\u001b[0;32m--> 450\u001b[0;31m     \u001b[0;32mreturn\u001b[0m \u001b[0mindexed\u001b[0m\u001b[0;34m.\u001b[0m\u001b[0munstack\u001b[0m\u001b[0;34m(\u001b[0m\u001b[0mcolumns\u001b[0m\u001b[0;34m)\u001b[0m\u001b[0;34m\u001b[0m\u001b[0;34m\u001b[0m\u001b[0m\n\u001b[0m\u001b[1;32m    451\u001b[0m \u001b[0;34m\u001b[0m\u001b[0m\n\u001b[1;32m    452\u001b[0m \u001b[0;34m\u001b[0m\u001b[0m\n",
      "\u001b[0;32m~/anaconda3/envs/aiffel/lib/python3.7/site-packages/pandas/core/series.py\u001b[0m in \u001b[0;36munstack\u001b[0;34m(self, level, fill_value)\u001b[0m\n\u001b[1;32m   3548\u001b[0m         \u001b[0;32mfrom\u001b[0m \u001b[0mpandas\u001b[0m\u001b[0;34m.\u001b[0m\u001b[0mcore\u001b[0m\u001b[0;34m.\u001b[0m\u001b[0mreshape\u001b[0m\u001b[0;34m.\u001b[0m\u001b[0mreshape\u001b[0m \u001b[0;32mimport\u001b[0m \u001b[0munstack\u001b[0m\u001b[0;34m\u001b[0m\u001b[0;34m\u001b[0m\u001b[0m\n\u001b[1;32m   3549\u001b[0m \u001b[0;34m\u001b[0m\u001b[0m\n\u001b[0;32m-> 3550\u001b[0;31m         \u001b[0;32mreturn\u001b[0m \u001b[0munstack\u001b[0m\u001b[0;34m(\u001b[0m\u001b[0mself\u001b[0m\u001b[0;34m,\u001b[0m \u001b[0mlevel\u001b[0m\u001b[0;34m,\u001b[0m \u001b[0mfill_value\u001b[0m\u001b[0;34m)\u001b[0m\u001b[0;34m\u001b[0m\u001b[0;34m\u001b[0m\u001b[0m\n\u001b[0m\u001b[1;32m   3551\u001b[0m \u001b[0;34m\u001b[0m\u001b[0m\n\u001b[1;32m   3552\u001b[0m     \u001b[0;31m# ----------------------------------------------------------------------\u001b[0m\u001b[0;34m\u001b[0m\u001b[0;34m\u001b[0m\u001b[0;34m\u001b[0m\u001b[0m\n",
      "\u001b[0;32m~/anaconda3/envs/aiffel/lib/python3.7/site-packages/pandas/core/reshape/reshape.py\u001b[0m in \u001b[0;36munstack\u001b[0;34m(obj, level, fill_value)\u001b[0m\n\u001b[1;32m    419\u001b[0m             \u001b[0mconstructor\u001b[0m\u001b[0;34m=\u001b[0m\u001b[0mobj\u001b[0m\u001b[0;34m.\u001b[0m\u001b[0m_constructor_expanddim\u001b[0m\u001b[0;34m,\u001b[0m\u001b[0;34m\u001b[0m\u001b[0;34m\u001b[0m\u001b[0m\n\u001b[1;32m    420\u001b[0m         )\n\u001b[0;32m--> 421\u001b[0;31m         \u001b[0;32mreturn\u001b[0m \u001b[0munstacker\u001b[0m\u001b[0;34m.\u001b[0m\u001b[0mget_result\u001b[0m\u001b[0;34m(\u001b[0m\u001b[0;34m)\u001b[0m\u001b[0;34m\u001b[0m\u001b[0;34m\u001b[0m\u001b[0m\n\u001b[0m\u001b[1;32m    422\u001b[0m \u001b[0;34m\u001b[0m\u001b[0m\n\u001b[1;32m    423\u001b[0m \u001b[0;34m\u001b[0m\u001b[0m\n",
      "\u001b[0;32m~/anaconda3/envs/aiffel/lib/python3.7/site-packages/pandas/core/reshape/reshape.py\u001b[0m in \u001b[0;36mget_result\u001b[0;34m(self)\u001b[0m\n\u001b[1;32m    185\u001b[0m \u001b[0;34m\u001b[0m\u001b[0m\n\u001b[1;32m    186\u001b[0m     \u001b[0;32mdef\u001b[0m \u001b[0mget_result\u001b[0m\u001b[0;34m(\u001b[0m\u001b[0mself\u001b[0m\u001b[0;34m)\u001b[0m\u001b[0;34m:\u001b[0m\u001b[0;34m\u001b[0m\u001b[0;34m\u001b[0m\u001b[0m\n\u001b[0;32m--> 187\u001b[0;31m         \u001b[0mvalues\u001b[0m\u001b[0;34m,\u001b[0m \u001b[0m_\u001b[0m \u001b[0;34m=\u001b[0m \u001b[0mself\u001b[0m\u001b[0;34m.\u001b[0m\u001b[0mget_new_values\u001b[0m\u001b[0;34m(\u001b[0m\u001b[0;34m)\u001b[0m\u001b[0;34m\u001b[0m\u001b[0;34m\u001b[0m\u001b[0m\n\u001b[0m\u001b[1;32m    188\u001b[0m         \u001b[0mcolumns\u001b[0m \u001b[0;34m=\u001b[0m \u001b[0mself\u001b[0m\u001b[0;34m.\u001b[0m\u001b[0mget_new_columns\u001b[0m\u001b[0;34m(\u001b[0m\u001b[0;34m)\u001b[0m\u001b[0;34m\u001b[0m\u001b[0;34m\u001b[0m\u001b[0m\n\u001b[1;32m    189\u001b[0m         \u001b[0mindex\u001b[0m \u001b[0;34m=\u001b[0m \u001b[0mself\u001b[0m\u001b[0;34m.\u001b[0m\u001b[0mget_new_index\u001b[0m\u001b[0;34m(\u001b[0m\u001b[0;34m)\u001b[0m\u001b[0;34m\u001b[0m\u001b[0;34m\u001b[0m\u001b[0m\n",
      "\u001b[0;32m~/anaconda3/envs/aiffel/lib/python3.7/site-packages/pandas/core/reshape/reshape.py\u001b[0m in \u001b[0;36mget_new_values\u001b[0;34m(self)\u001b[0m\n\u001b[1;32m    218\u001b[0m         \u001b[0;32melse\u001b[0m\u001b[0;34m:\u001b[0m\u001b[0;34m\u001b[0m\u001b[0;34m\u001b[0m\u001b[0m\n\u001b[1;32m    219\u001b[0m             \u001b[0mdtype\u001b[0m\u001b[0;34m,\u001b[0m \u001b[0mfill_value\u001b[0m \u001b[0;34m=\u001b[0m \u001b[0mmaybe_promote\u001b[0m\u001b[0;34m(\u001b[0m\u001b[0mvalues\u001b[0m\u001b[0;34m.\u001b[0m\u001b[0mdtype\u001b[0m\u001b[0;34m,\u001b[0m \u001b[0mself\u001b[0m\u001b[0;34m.\u001b[0m\u001b[0mfill_value\u001b[0m\u001b[0;34m)\u001b[0m\u001b[0;34m\u001b[0m\u001b[0;34m\u001b[0m\u001b[0m\n\u001b[0;32m--> 220\u001b[0;31m             \u001b[0mnew_values\u001b[0m \u001b[0;34m=\u001b[0m \u001b[0mnp\u001b[0m\u001b[0;34m.\u001b[0m\u001b[0mempty\u001b[0m\u001b[0;34m(\u001b[0m\u001b[0mresult_shape\u001b[0m\u001b[0;34m,\u001b[0m \u001b[0mdtype\u001b[0m\u001b[0;34m=\u001b[0m\u001b[0mdtype\u001b[0m\u001b[0;34m)\u001b[0m\u001b[0;34m\u001b[0m\u001b[0;34m\u001b[0m\u001b[0m\n\u001b[0m\u001b[1;32m    221\u001b[0m             \u001b[0mnew_values\u001b[0m\u001b[0;34m.\u001b[0m\u001b[0mfill\u001b[0m\u001b[0;34m(\u001b[0m\u001b[0mfill_value\u001b[0m\u001b[0;34m)\u001b[0m\u001b[0;34m\u001b[0m\u001b[0;34m\u001b[0m\u001b[0m\n\u001b[1;32m    222\u001b[0m \u001b[0;34m\u001b[0m\u001b[0m\n",
      "\u001b[0;31mMemoryError\u001b[0m: Unable to allocate 111. GiB for an array with shape (49608, 301387) and data type float64"
     ]
    }
   ],
   "source": [
    "\n",
    "R_df = ratings_df1.pivot(index = 'UserID', columns ='BookID', values = 'Rating').fillna(0)\n",
    "R_df = R_df.astype(int)"
   ]
  },
  {
   "cell_type": "code",
   "execution_count": 72,
   "metadata": {
    "colab": {
     "base_uri": "https://localhost:8080/",
     "height": 284
    },
    "id": "yct1sGCFkGX4",
    "outputId": "8796fa30-2625-4a66-d87e-8764e699e429"
   },
   "outputs": [
    {
     "data": {
      "text/html": [
       "<div>\n",
       "<style scoped>\n",
       "    .dataframe tbody tr th:only-of-type {\n",
       "        vertical-align: middle;\n",
       "    }\n",
       "\n",
       "    .dataframe tbody tr th {\n",
       "        vertical-align: top;\n",
       "    }\n",
       "\n",
       "    .dataframe thead th {\n",
       "        text-align: right;\n",
       "    }\n",
       "</style>\n",
       "<table border=\"1\" class=\"dataframe\">\n",
       "  <thead>\n",
       "    <tr style=\"text-align: right;\">\n",
       "      <th>BookID</th>\n",
       "      <th>1</th>\n",
       "      <th>2</th>\n",
       "      <th>3</th>\n",
       "      <th>4</th>\n",
       "      <th>5</th>\n",
       "    </tr>\n",
       "    <tr>\n",
       "      <th>UserID</th>\n",
       "      <th></th>\n",
       "      <th></th>\n",
       "      <th></th>\n",
       "      <th></th>\n",
       "      <th></th>\n",
       "    </tr>\n",
       "  </thead>\n",
       "  <tbody>\n",
       "    <tr>\n",
       "      <th>0</th>\n",
       "      <td>0</td>\n",
       "      <td>0</td>\n",
       "      <td>0</td>\n",
       "      <td>1437696000</td>\n",
       "      <td>0</td>\n",
       "    </tr>\n",
       "    <tr>\n",
       "      <th>1</th>\n",
       "      <td>0</td>\n",
       "      <td>0</td>\n",
       "      <td>0</td>\n",
       "      <td>1415836800</td>\n",
       "      <td>0</td>\n",
       "    </tr>\n",
       "    <tr>\n",
       "      <th>2</th>\n",
       "      <td>0</td>\n",
       "      <td>0</td>\n",
       "      <td>0</td>\n",
       "      <td>0</td>\n",
       "      <td>1519948800</td>\n",
       "    </tr>\n",
       "    <tr>\n",
       "      <th>3</th>\n",
       "      <td>0</td>\n",
       "      <td>0</td>\n",
       "      <td>0</td>\n",
       "      <td>1377907200</td>\n",
       "      <td>0</td>\n",
       "    </tr>\n",
       "    <tr>\n",
       "      <th>4</th>\n",
       "      <td>0</td>\n",
       "      <td>0</td>\n",
       "      <td>0</td>\n",
       "      <td>0</td>\n",
       "      <td>1489536000</td>\n",
       "    </tr>\n",
       "  </tbody>\n",
       "</table>\n",
       "</div>"
      ],
      "text/plain": [
       "BookID  1  2  3           4           5\n",
       "UserID                                 \n",
       "0       0  0  0  1437696000           0\n",
       "1       0  0  0  1415836800           0\n",
       "2       0  0  0           0  1519948800\n",
       "3       0  0  0  1377907200           0\n",
       "4       0  0  0           0  1489536000"
      ]
     },
     "execution_count": 72,
     "metadata": {},
     "output_type": "execute_result"
    }
   ],
   "source": [
    "R_df.head()"
   ]
  },
  {
   "cell_type": "code",
   "execution_count": 13,
   "metadata": {
    "id": "iFBmC7b9Wls-"
   },
   "outputs": [],
   "source": [
    "#might be used in the user dependednt state representation\n",
    "userids = list(R_df.index.values) #list of userids\n",
    "idx_to_userids = {i:userids[i] for i in range(len(userids))}\n",
    "userids_to_idx = {userids[i]:i for i in range(len(userids))}"
   ]
  },
  {
   "cell_type": "code",
   "execution_count": 14,
   "metadata": {},
   "outputs": [
    {
     "data": {
      "text/plain": [
       "301387"
      ]
     },
     "execution_count": 14,
     "metadata": {},
     "output_type": "execute_result"
    }
   ],
   "source": [
    "len(userids)"
   ]
  },
  {
   "cell_type": "code",
   "execution_count": 15,
   "metadata": {
    "id": "m2b0pDxe-Kng"
   },
   "outputs": [],
   "source": [
    "#list of movie ids\n",
    "columns = list(R_df)\n",
    "idx_to_id = {i:columns[i] for i in range(len(columns))}\n",
    "id_to_idx = {columns[i]:i for i in range(len(columns))}"
   ]
  },
  {
   "cell_type": "markdown",
   "metadata": {
    "id": "yHEogiJeRFfg"
   },
   "source": []
  },
  {
   "cell_type": "code",
   "execution_count": 16,
   "metadata": {
    "id": "FISA0DvT8fn5"
   },
   "outputs": [],
   "source": [
    "#to get item embeddings\n",
    "#R_df[userid][movieid]"
   ]
  },
  {
   "cell_type": "markdown",
   "metadata": {
    "id": "_RQ7Rjif5-dh"
   },
   "source": [
    "## Getting Embeddings of User and Item(Movie Id's)\n"
   ]
  },
  {
   "cell_type": "code",
   "execution_count": 17,
   "metadata": {
    "id": "9CmSP_wmg5-U"
   },
   "outputs": [],
   "source": [
    "# R = R_df.values\n",
    "# user_ratings_mean = np.mean(R, axis = 1)\n",
    "# R_demeaned = R - user_ratings_mean.reshape(-1, 1)"
   ]
  },
  {
   "cell_type": "code",
   "execution_count": 97,
   "metadata": {},
   "outputs": [],
   "source": [
    "R = ratings_df.values\n",
    "user_ratings_mean = np.mean(R, axis = 1)\n",
    "R_demeaned = R - user_ratings_mean.reshape(-1, 1)"
   ]
  },
  {
   "cell_type": "code",
   "execution_count": 99,
   "metadata": {},
   "outputs": [
    {
     "data": {
      "text/plain": [
       "(13478380, 4)"
      ]
     },
     "execution_count": 99,
     "metadata": {},
     "output_type": "execute_result"
    }
   ],
   "source": [
    "R.shape"
   ]
  },
  {
   "cell_type": "code",
   "execution_count": 98,
   "metadata": {
    "id": "sTMwltBwigpE"
   },
   "outputs": [
    {
     "ename": "ValueError",
     "evalue": "k must be between 1 and min(A.shape), k=4",
     "output_type": "error",
     "traceback": [
      "\u001b[0;31m---------------------------------------------------------------------------\u001b[0m",
      "\u001b[0;31mValueError\u001b[0m                                Traceback (most recent call last)",
      "\u001b[0;32m<ipython-input-98-78a40849dbfe>\u001b[0m in \u001b[0;36m<module>\u001b[0;34m\u001b[0m\n\u001b[1;32m      1\u001b[0m \u001b[0;31m#Movie Embeddings\u001b[0m\u001b[0;34m\u001b[0m\u001b[0;34m\u001b[0m\u001b[0;34m\u001b[0m\u001b[0m\n\u001b[0;32m----> 2\u001b[0;31m \u001b[0mU\u001b[0m\u001b[0;34m,\u001b[0m \u001b[0msigma\u001b[0m\u001b[0;34m,\u001b[0m \u001b[0mVt\u001b[0m \u001b[0;34m=\u001b[0m \u001b[0msvds\u001b[0m\u001b[0;34m(\u001b[0m\u001b[0mR_demeaned\u001b[0m\u001b[0;34m,\u001b[0m \u001b[0mk\u001b[0m \u001b[0;34m=\u001b[0m \u001b[0;36m4\u001b[0m\u001b[0;34m)\u001b[0m\u001b[0;34m\u001b[0m\u001b[0;34m\u001b[0m\u001b[0m\n\u001b[0m\u001b[1;32m      3\u001b[0m \u001b[0;31m# print(Vt.shape)\u001b[0m\u001b[0;34m\u001b[0m\u001b[0;34m\u001b[0m\u001b[0;34m\u001b[0m\u001b[0m\n\u001b[1;32m      4\u001b[0m \u001b[0mV\u001b[0m \u001b[0;34m=\u001b[0m \u001b[0mVt\u001b[0m\u001b[0;34m.\u001b[0m\u001b[0mtranspose\u001b[0m\u001b[0;34m(\u001b[0m\u001b[0;34m)\u001b[0m\u001b[0;34m\u001b[0m\u001b[0;34m\u001b[0m\u001b[0m\n\u001b[1;32m      5\u001b[0m \u001b[0;31m# print(V.shape)\u001b[0m\u001b[0;34m\u001b[0m\u001b[0;34m\u001b[0m\u001b[0;34m\u001b[0m\u001b[0m\n",
      "\u001b[0;32m~/anaconda3/envs/aiffel/lib/python3.7/site-packages/scipy/sparse/linalg/eigen/arpack/arpack.py\u001b[0m in \u001b[0;36msvds\u001b[0;34m(A, k, ncv, tol, which, v0, maxiter, return_singular_vectors, solver)\u001b[0m\n\u001b[1;32m   1815\u001b[0m \u001b[0;34m\u001b[0m\u001b[0m\n\u001b[1;32m   1816\u001b[0m     \u001b[0;32mif\u001b[0m \u001b[0mk\u001b[0m \u001b[0;34m<=\u001b[0m \u001b[0;36m0\u001b[0m \u001b[0;32mor\u001b[0m \u001b[0mk\u001b[0m \u001b[0;34m>=\u001b[0m \u001b[0mmin\u001b[0m\u001b[0;34m(\u001b[0m\u001b[0mn\u001b[0m\u001b[0;34m,\u001b[0m \u001b[0mm\u001b[0m\u001b[0;34m)\u001b[0m\u001b[0;34m:\u001b[0m\u001b[0;34m\u001b[0m\u001b[0;34m\u001b[0m\u001b[0m\n\u001b[0;32m-> 1817\u001b[0;31m         \u001b[0;32mraise\u001b[0m \u001b[0mValueError\u001b[0m\u001b[0;34m(\u001b[0m\u001b[0;34m\"k must be between 1 and min(A.shape), k=%d\"\u001b[0m \u001b[0;34m%\u001b[0m \u001b[0mk\u001b[0m\u001b[0;34m)\u001b[0m\u001b[0;34m\u001b[0m\u001b[0;34m\u001b[0m\u001b[0m\n\u001b[0m\u001b[1;32m   1818\u001b[0m \u001b[0;34m\u001b[0m\u001b[0m\n\u001b[1;32m   1819\u001b[0m     \u001b[0;32mif\u001b[0m \u001b[0misinstance\u001b[0m\u001b[0;34m(\u001b[0m\u001b[0mA\u001b[0m\u001b[0;34m,\u001b[0m \u001b[0mLinearOperator\u001b[0m\u001b[0;34m)\u001b[0m\u001b[0;34m:\u001b[0m\u001b[0;34m\u001b[0m\u001b[0;34m\u001b[0m\u001b[0m\n",
      "\u001b[0;31mValueError\u001b[0m: k must be between 1 and min(A.shape), k=4"
     ]
    }
   ],
   "source": [
    "#Movie Embeddings\n",
    "U, sigma, Vt = svds(R_demeaned, k = 4)\n",
    "# print(Vt.shape)\n",
    "V = Vt.transpose()\n",
    "# print(V.shape)\n",
    "movie_list = V.tolist()\n",
    "movie_embeddings_dict = {columns[i]:tf.convert_to_tensor(movie_list[i]) for i in range(len(columns))}"
   ]
  },
  {
   "cell_type": "code",
   "execution_count": 19,
   "metadata": {
    "id": "WAjBAVKZgXc5"
   },
   "outputs": [],
   "source": [
    "user_list = U.tolist()\n",
    "user_embeddings_dict =  {userids[i]:tf.convert_to_tensor(user_list[i]) for i in range(len(userids))}"
   ]
  },
  {
   "cell_type": "code",
   "execution_count": 20,
   "metadata": {},
   "outputs": [
    {
     "data": {
      "text/plain": [
       "301387"
      ]
     },
     "execution_count": 20,
     "metadata": {},
     "output_type": "execute_result"
    }
   ],
   "source": [
    "len(user_embeddings_dict)"
   ]
  },
  {
   "cell_type": "markdown",
   "metadata": {
    "id": "bcI7Tn4h8cok"
   },
   "source": [
    "## Train and Test Dataset"
   ]
  },
  {
   "cell_type": "code",
   "execution_count": 21,
   "metadata": {
    "id": "ayry5fcBNOhK"
   },
   "outputs": [],
   "source": [
    "#Getting users with positive rating count greater than 10\n",
    "# 10 == 'N' positively interacted items\n",
    "# from collections import defaultdict\n",
    "# from collections import Counter\n",
    "users_dict = defaultdict(dict)\n",
    "users_id_list = set()\n",
    "for user_id in users:\n",
    "#   rating_freq = Counter(users[user_id][\"Rating\"].values)\n",
    "#   if rating_freq['4']+rating_freq['5']<10 :\n",
    "#     continue    \n",
    "#   else:\n",
    "    users_id_list.add(user_id)\n",
    "    users_dict[user_id][\"item\"] = users[user_id][\"BookID\"].values\n",
    "    users_dict[user_id][\"rating\"] = users[user_id][\"Rating\"].values\n",
    "  \n"
   ]
  },
  {
   "cell_type": "code",
   "execution_count": 22,
   "metadata": {
    "id": "x5Qu67dNVItq"
   },
   "outputs": [],
   "source": [
    "users_id_list = np.array(list(users_id_list))"
   ]
  },
  {
   "cell_type": "code",
   "execution_count": 23,
   "metadata": {},
   "outputs": [
    {
     "data": {
      "text/plain": [
       "395528"
      ]
     },
     "execution_count": 23,
     "metadata": {},
     "output_type": "execute_result"
    }
   ],
   "source": [
    "len(users_id_list)"
   ]
  },
  {
   "cell_type": "code",
   "execution_count": 24,
   "metadata": {
    "colab": {
     "base_uri": "https://localhost:8080/"
    },
    "id": "LmQNj6Vu10EU",
    "outputId": "c4180e90-801c-447a-cf65-ef444ad1333f"
   },
   "outputs": [
    {
     "name": "stdout",
     "output_type": "stream",
     "text": [
      "[ 15962 126331]\n"
     ]
    }
   ],
   "source": [
    "#choosing default train_test_split of 25%\n",
    "train_users,test_users = train_test_split(users_id_list)\n",
    "print(train_users[:2])"
   ]
  },
  {
   "cell_type": "code",
   "execution_count": 25,
   "metadata": {
    "colab": {
     "base_uri": "https://localhost:8080/"
    },
    "id": "x1Ldqt8vhOPI",
    "outputId": "f3177e1b-2fd0-4cf5-89be-8abd7e746533"
   },
   "outputs": [
    {
     "name": "stdout",
     "output_type": "stream",
     "text": [
      "[ 42146 191533]\n"
     ]
    }
   ],
   "source": [
    "print(test_users[:2])"
   ]
  },
  {
   "cell_type": "code",
   "execution_count": 26,
   "metadata": {
    "id": "P1yOD6JA32u8"
   },
   "outputs": [],
   "source": [
    "from torch.utils.data import Dataset\n",
    "class UserDataset(Dataset):\n",
    "    def __init__(self,users_list,users_dict):\n",
    "        self.users_list = users_list\n",
    "        self.users_dict = users_dict\n",
    "\n",
    "    def __len__(self):\n",
    "        return len(self.users_list)\n",
    "\n",
    "    def __getitem__(self,idx):\n",
    "        user_id = self.users_list[idx]\n",
    "        items = [('1',)]*10\n",
    "        ratings = [('0',)]*10\n",
    "        j=0\n",
    "        for i,rate in enumerate(self.users_dict[user_id][\"rating\"]):\n",
    "            if int(rate) >3 and j < 10:\n",
    "                items[j] = self.users_dict[user_id][\"item\"][i]\n",
    "                ratings[j] = self.users_dict[user_id][\"rating\"][i]\n",
    "                j += 1\n",
    "        # item = list(self.users_dict[user_id][\"item\"][:])\n",
    "        # rating = list(self.users_dict[user_id][\"rating\"][:])\n",
    "        size = len(items)\n",
    "    \n",
    "        return {'item':items,'rating':ratings,'size':size,'userid':user_id,'idx':idx}\n",
    "\n"
   ]
  },
  {
   "cell_type": "code",
   "execution_count": 27,
   "metadata": {
    "id": "Wfp3TcK573H0"
   },
   "outputs": [],
   "source": [
    "train_users_dataset = UserDataset(train_users,users_dict)\n",
    "test_users_dataset = UserDataset(test_users,users_dict)"
   ]
  },
  {
   "cell_type": "code",
   "execution_count": 28,
   "metadata": {
    "id": "4X4OvMdoElSw"
   },
   "outputs": [],
   "source": [
    "from torch.utils.data import DataLoader\n",
    "\n",
    "train_dataloader = DataLoader(train_users_dataset,batch_size=1)\n",
    "test_dataloader = DataLoader(test_users_dataset,batch_size=1)"
   ]
  },
  {
   "cell_type": "code",
   "execution_count": 29,
   "metadata": {
    "colab": {
     "base_uri": "https://localhost:8080/"
    },
    "id": "njrztpHpPMYQ",
    "outputId": "0dd2dc2b-7e87-4bed-87ae-703cf4003f2c"
   },
   "outputs": [
    {
     "name": "stdout",
     "output_type": "stream",
     "text": [
      "296646\n"
     ]
    }
   ],
   "source": [
    "train_num = len(train_dataloader)\n",
    "print(train_num)"
   ]
  },
  {
   "cell_type": "markdown",
   "metadata": {
    "id": "so-BkRxW8SPE"
   },
   "source": [
    "# State Representation Models"
   ]
  },
  {
   "cell_type": "code",
   "execution_count": 30,
   "metadata": {
    "id": "aULb7Dxhua6S"
   },
   "outputs": [],
   "source": [
    "def drrave_state_rep(userid_b,items,memory,idx):\n",
    "    user_num = idx\n",
    "    H = [] #item embeddings\n",
    "    user_n_items = items\n",
    "    user_embeddings = torch.Tensor(np.array(user_embeddings_dict[userid_b[0]]),).unsqueeze(0)\n",
    "    for i,item in enumerate(user_n_items):\n",
    "        H.append(np.array(movie_embeddings_dict[item[0]]))\n",
    "    avg_layer = nn.AvgPool1d(1)  # pooling layer 사용 \n",
    "    item_embeddings = avg_layer(torch.Tensor(H,).unsqueeze(0)).permute(0,2,1).squeeze(0)\n",
    "    state = torch.cat([user_embeddings,user_embeddings*item_embeddings.T,item_embeddings.T])\n",
    "    return state #state tensor shape [21,100]\n",
    "\n"
   ]
  },
  {
   "cell_type": "code",
   "execution_count": 31,
   "metadata": {
    "id": "lCkdGnYdfon8"
   },
   "outputs": [],
   "source": [
    "# def drru_state_rep(userid_b,items,memory,idx):\n",
    "#     user_num = idx\n",
    "#     H = []\n",
    "#     user_n_items = items\n",
    "#     user_embeddings = user_embeddings_dict[userid_b[0]]\n",
    "#     for i,item in enumerate(user_n_items):\n",
    "#         ui = np.array(user_embeddings) * np.array(movie_embeddings_dict[item[0]])\n",
    "#         H.append(ui)\n",
    "\n",
    "#     pairs = list(itertools.combinations(memory[user_num], 2))\n",
    "#     for item1,item2 in pairs:\n",
    "#         pair1 =  np.array(movie_embeddings_dict[str(int(item1))])\n",
    "#         pair2 = np.array(movie_embeddings_dict[str(int(item2))])\n",
    "\n",
    "#         product = pair1*pair2\n",
    "#         H.append(product)\n",
    "#     state = torch.Tensor(H,)\n",
    "#     return state #state tensor shape [55,100]\n"
   ]
  },
  {
   "cell_type": "code",
   "execution_count": 32,
   "metadata": {
    "id": "xSS7Jg83YWDS"
   },
   "outputs": [],
   "source": [
    "# def drrp_state_rep(items,memory,idx):\n",
    "#   user_num = idx\n",
    "#   H = []\n",
    "#   user_n_items = items\n",
    "#   for i,item in enumerate(user_n_items):\n",
    "#     H.append(np.array(movie_embeddings_dict[item[0]]))\n",
    "  \n",
    "#   pairs = list(itertools.combinations(memory[user_num], 2))\n",
    "#   for item1,item2 in pairs:\n",
    "#     pair1 =  np.array(movie_embeddings_dict[str(int(item1))])\n",
    "#     pair2 = np.array(movie_embeddings_dict[str(int(item2))])\n",
    "#     product = pair1*pair2\n",
    "#     H.append(product)\n",
    "#   state = torch.Tensor(H,)\n",
    "#   return state"
   ]
  },
  {
   "cell_type": "code",
   "execution_count": 33,
   "metadata": {
    "id": "bKvM1H0FO1zg"
   },
   "outputs": [],
   "source": [
    "# just n items and their embeddings used to represent state\n",
    "def state_rep(item_b):\n",
    "    state = []\n",
    "    user_embeddings = np.zeros((len(columns),100))\n",
    "    movie_ids = list(item[0] for item in item_b)\n",
    "    for i,subitem in enumerate(user_embeddings):\n",
    "        if idx_to_id[i] in movie_ids:\n",
    "            user_embeddings[i] = np.array(movie_embeddings_dict[idx_to_id[i]])\n",
    "        else:\n",
    "            user_embeddings[i] = np.zeros((100,))\n",
    "    state = torch.Tensor(user_embeddings,)\n",
    "    return torch.reshape(state,[-1]) "
   ]
  },
  {
   "cell_type": "markdown",
   "metadata": {
    "id": "BnGewmmshbCu"
   },
   "source": [
    "# Actor, Critic Module"
   ]
  },
  {
   "cell_type": "code",
   "execution_count": 34,
   "metadata": {
    "colab": {
     "base_uri": "https://localhost:8080/"
    },
    "id": "k4kiw_L7sypy",
    "outputId": "f1591564-ee74-47b1-fb57-f11ce1016791"
   },
   "outputs": [
    {
     "name": "stdout",
     "output_type": "stream",
     "text": [
      "Collecting git+https://github.com/pabloppp/pytorch-tools@0.2.4\n",
      "  Cloning https://github.com/pabloppp/pytorch-tools (to revision 0.2.4) to /tmp/pip-req-build-9js3mimi\n",
      "  Running command git clone -q https://github.com/pabloppp/pytorch-tools /tmp/pip-req-build-9js3mimi\n",
      "  Running command git checkout -q 86c73996537002ab29e7e40f925cb90756f58156\n",
      "Requirement already satisfied, skipping upgrade: torch==1.* in /home/aiffel/anaconda3/envs/aiffel/lib/python3.7/site-packages (from torchtools==0.2.4) (1.6.0)\n",
      "Requirement already satisfied, skipping upgrade: torchvision in /home/aiffel/anaconda3/envs/aiffel/lib/python3.7/site-packages (from torchtools==0.2.4) (0.7.0)\n",
      "Requirement already satisfied, skipping upgrade: numpy==1.* in /home/aiffel/anaconda3/envs/aiffel/lib/python3.7/site-packages (from torchtools==0.2.4) (1.18.5)\n",
      "Requirement already satisfied, skipping upgrade: future in /home/aiffel/anaconda3/envs/aiffel/lib/python3.7/site-packages (from torch==1.*->torchtools==0.2.4) (0.18.2)\n",
      "Requirement already satisfied, skipping upgrade: pillow>=4.1.1 in /home/aiffel/anaconda3/envs/aiffel/lib/python3.7/site-packages (from torchvision->torchtools==0.2.4) (7.2.0)\n",
      "Building wheels for collected packages: torchtools\n",
      "  Building wheel for torchtools (setup.py) ... \u001b[?25ldone\n",
      "\u001b[?25h  Created wheel for torchtools: filename=torchtools-0.2.4-py3-none-any.whl size=19202 sha256=357da95f8ae76bf9c1dc5ee978da2daa48f1dc67f62e2b9a2223bf762d79f877\n",
      "  Stored in directory: /tmp/pip-ephem-wheel-cache-dx4oe946/wheels/e9/db/08/ceb66f88d5c31d39af6901601b4b9084b365c3b484105ee2f5\n",
      "Successfully built torchtools\n",
      "Installing collected packages: torchtools\n",
      "  Attempting uninstall: torchtools\n",
      "    Found existing installation: torchtools 0.2.4\n",
      "    Uninstalling torchtools-0.2.4:\n",
      "      Successfully uninstalled torchtools-0.2.4\n",
      "Successfully installed torchtools-0.2.4\n"
     ]
    }
   ],
   "source": [
    "!pip install git+https://github.com/pabloppp/pytorch-tools@0.2.4 -U"
   ]
  },
  {
   "cell_type": "code",
   "execution_count": 35,
   "metadata": {
    "colab": {
     "base_uri": "https://localhost:8080/"
    },
    "id": "1nZWN38whlMJ",
    "outputId": "54eaee81-8f9a-4c4b-c60f-c9890c821012"
   },
   "outputs": [],
   "source": [
    "#Dependencies\n",
    "\n",
    "# import torch\n",
    "# import torch.nn as nn\n",
    "# import torch.nn.functional as F\n",
    "# from torchtools.optim import Ranger\n",
    "# import tqdm\n",
    "# import random\n",
    "# import matplotlib.pyplot as plt\n",
    "#uncomment to use adam\n",
    "# from torch.optim import Adam\n",
    "\n"
   ]
  },
  {
   "cell_type": "code",
   "execution_count": 36,
   "metadata": {
    "id": "r3YYQPNuheGY"
   },
   "outputs": [],
   "source": [
    "#Actor Model:\n",
    "#Generating an action a based on state s\n",
    "\n",
    "class Actor(torch.nn.Module):\n",
    "    def __init__(self, input_dim, output_dim,hidden_dim):\n",
    "        super(Actor, self).__init__()\n",
    "\n",
    "        self.drop_layer = nn.Dropout(p=0.5)        \n",
    "        self.linear1 = nn.Linear(input_dim, hidden_dim)\n",
    "        self.linear2 = nn.Linear(hidden_dim, hidden_dim)\n",
    "        self.linear3 = nn.Linear(hidden_dim, output_dim)\n",
    "  \n",
    "\n",
    "    def forward(self, state):\n",
    "        x = F.relu(self.linear1(state))\n",
    "        # print(x.shape)\n",
    "        x = self.drop_layer(x)\n",
    "        x = F.relu(self.linear2(x))\n",
    "        # print(x.shape)\n",
    "        x = self.drop_layer(x)\n",
    "        # x = torch.tanh(self.linear3(x)) # in case embeds are -1 1 normalized\n",
    "        x = self.linear3(x) # in case embeds are standard scaled / wiped using PCA whitening\n",
    "        # return state, x\n",
    "        return x # state = self.state_rep(state)\n",
    "   \n",
    "      \n",
    "\n",
    "\n"
   ]
  },
  {
   "cell_type": "code",
   "execution_count": 37,
   "metadata": {
    "id": "_6Ss5R4XoKii"
   },
   "outputs": [],
   "source": [
    "class Critic(nn.Module):\n",
    "    def __init__(self,input_dim,output_dim,hidden_dim):\n",
    "\n",
    "        super(Critic, self).__init__()\n",
    "        \n",
    "        self.drop_layer = nn.Dropout(p=0.5)\n",
    "    \n",
    "        self.linear1 = nn.Linear(input_dim + output_dim, hidden_dim)\n",
    "        self.linear2 = nn.Linear(hidden_dim, hidden_dim)\n",
    "        self.linear3 = nn.Linear(hidden_dim, 1)\n",
    "\n",
    "    def forward(self,state,action):    \n",
    "        x = torch.cat([state, action], 1)\n",
    "        # print(x.shape)\n",
    "        x = F.relu(self.linear1(x))\n",
    "        x = self.drop_layer(x)\n",
    "        x = F.relu(self.linear2(x))\n",
    "        x = self.drop_layer(x)\n",
    "        x = self.linear3(x)\n",
    "        return x\n",
    "\n"
   ]
  },
  {
   "cell_type": "code",
   "execution_count": 38,
   "metadata": {
    "id": "nE3PBjinMmKZ"
   },
   "outputs": [],
   "source": [
    "class ReplayBuffer:\n",
    "    def __init__(self, capacity):\n",
    "        self.capacity = capacity\n",
    "        self.buffer = []\n",
    "        self.position = 0\n",
    "    \n",
    "    def push(self, state, action, reward, next_state):\n",
    "        if len(self.buffer) < self.capacity:\n",
    "            self.buffer.append(None)\n",
    "        self.buffer[self.position] = (state, action, reward, next_state)\n",
    "        self.position = (self.position + 1) % self.capacity\n",
    "    \n",
    "    def sample(self, batch_size):\n",
    "        batch = random.sample(self.buffer, batch_size)\n",
    "        # print(batch)\n",
    "        state, action, reward, next_state = map(np.stack,zip(*batch))\n",
    "        return state, action, reward, next_state\n",
    "    \n",
    "    def __len__(self):\n",
    "        return len(self.buffer)"
   ]
  },
  {
   "cell_type": "code",
   "execution_count": 39,
   "metadata": {
    "id": "hWWYGkm2JMhB"
   },
   "outputs": [],
   "source": [
    "device = 'cpu'\n",
    "# cuda = torch.device('cuda')"
   ]
  },
  {
   "cell_type": "code",
   "execution_count": 40,
   "metadata": {
    "id": "ft471pD0KoKT"
   },
   "outputs": [],
   "source": [
    "#used for plotting purposes\n",
    "p_loss = []\n",
    "v_loss = []"
   ]
  },
  {
   "cell_type": "code",
   "execution_count": 41,
   "metadata": {
    "id": "zMNI4edhzv_6"
   },
   "outputs": [],
   "source": [
    "def ddpg_update(batch_size=1, \n",
    "                gamma = 0.6,\n",
    "                min_value=-np.inf,\n",
    "                max_value=np.inf,\n",
    "                soft_tau=1e-2):\n",
    "    \n",
    "    state, action, reward, next_state = replay_buffer.sample(batch_size)\n",
    "    state      = torch.FloatTensor(state).to(device)\n",
    "\n",
    "    next_state = torch.FloatTensor(next_state).to(device)\n",
    "\n",
    "    action     = torch.FloatTensor(action).to(device)\n",
    "    reward     = torch.FloatTensor(reward).to(device)\n",
    "    # print(state.shape)\n",
    "    # print(policy_net(state).shape)\n",
    "    policy_loss = value_net(state, policy_net(state))\n",
    "    policy_loss = -policy_loss.mean()\n",
    "    p_loss.append(policy_loss)\n",
    "    next_action    = target_policy_net(next_state)\n",
    "    target_value   = target_value_net(next_state, next_action.detach())\n",
    "    expected_value = reward + gamma * target_value\n",
    "    expected_value = torch.clamp(expected_value, min_value, max_value)\n",
    "\n",
    "    value = value_net(state, action)\n",
    "    # print(\"1\")\n",
    "    value_loss = value_criterion(value, expected_value.detach())\n",
    "    # print(\"2\")\n",
    "    v_loss.append(value_loss)\n",
    "    policy_optimizer.zero_grad()\n",
    "    # print(\"3\")\n",
    "    policy_loss.backward()\n",
    "    policy_optimizer.step()\n",
    "\n",
    "    value_optimizer.zero_grad()\n",
    "    value_loss.backward()\n",
    "    value_optimizer.step()\n",
    "\n",
    "    for target_param, param in zip(target_value_net.parameters(), value_net.parameters()):\n",
    "                target_param.data.copy_(\n",
    "                    target_param.data * (1.0 - soft_tau) + param.data * soft_tau\n",
    "                )\n",
    "\n",
    "    for target_param, param in zip(target_policy_net.parameters(), policy_net.parameters()):\n",
    "            target_param.data.copy_(\n",
    "                target_param.data * (1.0 - soft_tau) + param.data * soft_tau\n",
    "            )"
   ]
  },
  {
   "cell_type": "code",
   "execution_count": 42,
   "metadata": {
    "id": "RNlkmYxAotps"
   },
   "outputs": [
    {
     "name": "stdout",
     "output_type": "stream",
     "text": [
      "Ranger optimizer loaded. \n",
      "Gradient Centralization usage = True\n",
      "GC applied to both conv and fc layers\n",
      "Ranger optimizer loaded. \n",
      "Gradient Centralization usage = True\n",
      "GC applied to both conv and fc layers\n"
     ]
    }
   ],
   "source": [
    "#initializing actor and critic networks for drru and drrp state representation\n",
    "\n",
    "value_net = Critic(5500,100,256)\n",
    "policy_net = Actor(5500,100,256)\n",
    "\n",
    "target_value_net = Critic(5500,100,256)\n",
    "target_policy_net = Actor(5500,100,256)\n",
    "\n",
    "\n",
    "target_policy_net.eval()\n",
    "target_value_net.eval()\n",
    "\n",
    "for target_param, param in zip(target_value_net.parameters(), value_net.parameters()):\n",
    "    target_param.data.copy_(param.data)\n",
    "\n",
    "for target_param, param in zip(target_policy_net.parameters(), policy_net.parameters()):\n",
    "    target_param.data.copy_(param.data)\n",
    "\n",
    "value_criterion = nn.MSELoss()\n",
    "value_optimizer      = Ranger(value_net.parameters(),  lr=1e-4)\n",
    "policy_optimizer     = Ranger(policy_net.parameters(), lr=1e-4)"
   ]
  },
  {
   "cell_type": "code",
   "execution_count": 43,
   "metadata": {
    "id": "HjhPAD9r75Q0"
   },
   "outputs": [
    {
     "name": "stdout",
     "output_type": "stream",
     "text": [
      "Ranger optimizer loaded. \n",
      "Gradient Centralization usage = True\n",
      "GC applied to both conv and fc layers\n",
      "Ranger optimizer loaded. \n",
      "Gradient Centralization usage = True\n",
      "GC applied to both conv and fc layers\n"
     ]
    }
   ],
   "source": [
    "#initializing for drrave state representation\n",
    "\n",
    "value_net = Critic(2100,100,256)\n",
    "policy_net = Actor(2100,100,256)\n",
    "\n",
    "target_value_net = Critic(2100,100,256)\n",
    "target_policy_net = Actor(2100,100,256)\n",
    "\n",
    "\n",
    "target_policy_net.eval()\n",
    "target_value_net.eval()\n",
    "\n",
    "for target_param, param in zip(target_value_net.parameters(), value_net.parameters()):\n",
    "    target_param.data.copy_(param.data)\n",
    "\n",
    "for target_param, param in zip(target_policy_net.parameters(), policy_net.parameters()):\n",
    "    target_param.data.copy_(param.data)\n",
    "\n",
    "value_criterion = nn.MSELoss()\n",
    "value_optimizer      = Ranger(value_net.parameters(),  lr=1e-4)\n",
    "policy_optimizer     = Ranger(policy_net.parameters(), lr=1e-4)"
   ]
  },
  {
   "cell_type": "code",
   "execution_count": 44,
   "metadata": {
    "colab": {
     "base_uri": "https://localhost:8080/"
    },
    "id": "oq0XEAKo-Yhi",
    "outputId": "bf7ffead-bc7f-47ec-81bd-1d417e4a8178"
   },
   "outputs": [
    {
     "name": "stdout",
     "output_type": "stream",
     "text": [
      "Actor(\n",
      "  (drop_layer): Dropout(p=0.5, inplace=False)\n",
      "  (linear1): Linear(in_features=2100, out_features=256, bias=True)\n",
      "  (linear2): Linear(in_features=256, out_features=256, bias=True)\n",
      "  (linear3): Linear(in_features=256, out_features=100, bias=True)\n",
      ")\n"
     ]
    }
   ],
   "source": [
    "print(policy_net)"
   ]
  },
  {
   "cell_type": "code",
   "execution_count": 45,
   "metadata": {
    "id": "WZmfxcz9Mmmy"
   },
   "outputs": [],
   "source": [
    "replay_buffer_size = 10000\n",
    "replay_buffer = ReplayBuffer(replay_buffer_size)\n",
    "\n",
    "memory = np.ones((train_num,10))*-1"
   ]
  },
  {
   "cell_type": "code",
   "execution_count": 46,
   "metadata": {
    "id": "Y2IHzJraDgHn"
   },
   "outputs": [],
   "source": [
    "def get_action(state,action_emb,userid_b,item_b,preds):\n",
    "    action_emb = torch.reshape(action_emb,[1,100]).unsqueeze(0)\n",
    "    item_embedding = []\n",
    "    for movie in users_dict[userid_b[0]][\"item\"]:  \n",
    "        item_embedding.append(np.array(movie_embeddings_dict[movie]))\n",
    "    item_embedding = torch.Tensor(item_embedding,)\n",
    "    items = item_embedding.T.unsqueeze(0)\n",
    "    m = torch.bmm(action_emb,items).squeeze(0)  #torch.bmm : batch 행렬 곱연산\n",
    "    sorted_m,indices = torch.sort(m,descending=True)\n",
    "    index_list = list(indices[0])\n",
    "    for i in index_list:\n",
    "        if users_dict[userid_b[0]][\"item\"][i] not in preds:    \n",
    "            preds.add(users_dict[userid_b[0]][\"item\"][i])\n",
    "            return int(i)\n",
    " "
   ]
  },
  {
   "cell_type": "code",
   "execution_count": 47,
   "metadata": {
    "id": "aMOxsJ4Yiyj3"
   },
   "outputs": [],
   "source": [
    "def update_memory(memory,action,idx):\n",
    "    memory[idx] = list(memory[idx,1:])+[action]"
   ]
  },
  {
   "cell_type": "code",
   "execution_count": 48,
   "metadata": {
    "id": "VkpK8GRf70ui"
   },
   "outputs": [],
   "source": [
    "rate = 0"
   ]
  },
  {
   "cell_type": "markdown",
   "metadata": {
    "id": "kztx5pqv7r-p"
   },
   "source": [
    "#Training"
   ]
  },
  {
   "cell_type": "code",
   "execution_count": 49,
   "metadata": {
    "colab": {
     "base_uri": "https://localhost:8080/"
    },
    "id": "ptAHnMaMz5fR",
    "outputId": "8dc40de1-9959-48b1-9baa-2b2fa04ec265"
   },
   "outputs": [
    {
     "name": "stderr",
     "output_type": "stream",
     "text": [
      "  0%|          | 0/296645 [00:00<?, ?it/s]\n"
     ]
    },
    {
     "ename": "KeyError",
     "evalue": "tensor(15962)",
     "output_type": "error",
     "traceback": [
      "\u001b[0;31m---------------------------------------------------------------------------\u001b[0m",
      "\u001b[0;31mKeyError\u001b[0m                                  Traceback (most recent call last)",
      "\u001b[0;32m<ipython-input-49-2967a5cb1ebd>\u001b[0m in \u001b[0;36m<module>\u001b[0;34m\u001b[0m\n\u001b[1;32m      7\u001b[0m     \u001b[0mitem_b\u001b[0m\u001b[0;34m,\u001b[0m\u001b[0mrating_b\u001b[0m\u001b[0;34m,\u001b[0m\u001b[0msize_b\u001b[0m\u001b[0;34m,\u001b[0m\u001b[0muserid_b\u001b[0m\u001b[0;34m,\u001b[0m\u001b[0midx_b\u001b[0m \u001b[0;34m=\u001b[0m \u001b[0mfirst\u001b[0m\u001b[0;34m[\u001b[0m\u001b[0;34m'item'\u001b[0m\u001b[0;34m]\u001b[0m\u001b[0;34m,\u001b[0m\u001b[0mfirst\u001b[0m\u001b[0;34m[\u001b[0m\u001b[0;34m'rating'\u001b[0m\u001b[0;34m]\u001b[0m\u001b[0;34m,\u001b[0m\u001b[0mfirst\u001b[0m\u001b[0;34m[\u001b[0m\u001b[0;34m'size'\u001b[0m\u001b[0;34m]\u001b[0m\u001b[0;34m,\u001b[0m\u001b[0mfirst\u001b[0m\u001b[0;34m[\u001b[0m\u001b[0;34m'userid'\u001b[0m\u001b[0;34m]\u001b[0m\u001b[0;34m,\u001b[0m\u001b[0mfirst\u001b[0m\u001b[0;34m[\u001b[0m\u001b[0;34m'idx'\u001b[0m\u001b[0;34m]\u001b[0m\u001b[0;34m\u001b[0m\u001b[0;34m\u001b[0m\u001b[0m\n\u001b[1;32m      8\u001b[0m     \u001b[0mmemory\u001b[0m\u001b[0;34m[\u001b[0m\u001b[0midx_b\u001b[0m\u001b[0;34m]\u001b[0m \u001b[0;34m=\u001b[0m \u001b[0;34m[\u001b[0m\u001b[0mitem\u001b[0m\u001b[0;34m[\u001b[0m\u001b[0;36m0\u001b[0m\u001b[0;34m]\u001b[0m \u001b[0;32mfor\u001b[0m \u001b[0mitem\u001b[0m \u001b[0;32min\u001b[0m \u001b[0mitem_b\u001b[0m\u001b[0;34m]\u001b[0m\u001b[0;34m\u001b[0m\u001b[0;34m\u001b[0m\u001b[0m\n\u001b[0;32m----> 9\u001b[0;31m     \u001b[0mstate\u001b[0m \u001b[0;34m=\u001b[0m \u001b[0mdrrave_state_rep\u001b[0m\u001b[0;34m(\u001b[0m\u001b[0muserid_b\u001b[0m\u001b[0;34m,\u001b[0m\u001b[0mitem_b\u001b[0m\u001b[0;34m,\u001b[0m\u001b[0mmemory\u001b[0m\u001b[0;34m,\u001b[0m\u001b[0midx_b\u001b[0m\u001b[0;34m)\u001b[0m\u001b[0;34m\u001b[0m\u001b[0;34m\u001b[0m\u001b[0m\n\u001b[0m\u001b[1;32m     10\u001b[0m     \u001b[0;32mfor\u001b[0m \u001b[0mj\u001b[0m \u001b[0;32min\u001b[0m \u001b[0mrange\u001b[0m\u001b[0;34m(\u001b[0m\u001b[0;36m5\u001b[0m\u001b[0;34m)\u001b[0m\u001b[0;34m:\u001b[0m\u001b[0;34m\u001b[0m\u001b[0;34m\u001b[0m\u001b[0m\n\u001b[1;32m     11\u001b[0m         \u001b[0mstate_rep\u001b[0m \u001b[0;34m=\u001b[0m  \u001b[0mtorch\u001b[0m\u001b[0;34m.\u001b[0m\u001b[0mreshape\u001b[0m\u001b[0;34m(\u001b[0m\u001b[0mstate\u001b[0m\u001b[0;34m,\u001b[0m\u001b[0;34m[\u001b[0m\u001b[0;34m-\u001b[0m\u001b[0;36m1\u001b[0m\u001b[0;34m]\u001b[0m\u001b[0;34m)\u001b[0m\u001b[0;34m\u001b[0m\u001b[0;34m\u001b[0m\u001b[0m\n",
      "\u001b[0;32m<ipython-input-30-69a475531fda>\u001b[0m in \u001b[0;36mdrrave_state_rep\u001b[0;34m(userid_b, items, memory, idx)\u001b[0m\n\u001b[1;32m      3\u001b[0m     \u001b[0mH\u001b[0m \u001b[0;34m=\u001b[0m \u001b[0;34m[\u001b[0m\u001b[0;34m]\u001b[0m \u001b[0;31m#item embeddings\u001b[0m\u001b[0;34m\u001b[0m\u001b[0;34m\u001b[0m\u001b[0m\n\u001b[1;32m      4\u001b[0m     \u001b[0muser_n_items\u001b[0m \u001b[0;34m=\u001b[0m \u001b[0mitems\u001b[0m\u001b[0;34m\u001b[0m\u001b[0;34m\u001b[0m\u001b[0m\n\u001b[0;32m----> 5\u001b[0;31m     \u001b[0muser_embeddings\u001b[0m \u001b[0;34m=\u001b[0m \u001b[0mtorch\u001b[0m\u001b[0;34m.\u001b[0m\u001b[0mTensor\u001b[0m\u001b[0;34m(\u001b[0m\u001b[0mnp\u001b[0m\u001b[0;34m.\u001b[0m\u001b[0marray\u001b[0m\u001b[0;34m(\u001b[0m\u001b[0muser_embeddings_dict\u001b[0m\u001b[0;34m[\u001b[0m\u001b[0muserid_b\u001b[0m\u001b[0;34m[\u001b[0m\u001b[0;36m0\u001b[0m\u001b[0;34m]\u001b[0m\u001b[0;34m]\u001b[0m\u001b[0;34m)\u001b[0m\u001b[0;34m,\u001b[0m\u001b[0;34m)\u001b[0m\u001b[0;34m.\u001b[0m\u001b[0munsqueeze\u001b[0m\u001b[0;34m(\u001b[0m\u001b[0;36m0\u001b[0m\u001b[0;34m)\u001b[0m\u001b[0;34m\u001b[0m\u001b[0;34m\u001b[0m\u001b[0m\n\u001b[0m\u001b[1;32m      6\u001b[0m     \u001b[0;32mfor\u001b[0m \u001b[0mi\u001b[0m\u001b[0;34m,\u001b[0m\u001b[0mitem\u001b[0m \u001b[0;32min\u001b[0m \u001b[0menumerate\u001b[0m\u001b[0;34m(\u001b[0m\u001b[0muser_n_items\u001b[0m\u001b[0;34m)\u001b[0m\u001b[0;34m:\u001b[0m\u001b[0;34m\u001b[0m\u001b[0;34m\u001b[0m\u001b[0m\n\u001b[1;32m      7\u001b[0m         \u001b[0mH\u001b[0m\u001b[0;34m.\u001b[0m\u001b[0mappend\u001b[0m\u001b[0;34m(\u001b[0m\u001b[0mnp\u001b[0m\u001b[0;34m.\u001b[0m\u001b[0marray\u001b[0m\u001b[0;34m(\u001b[0m\u001b[0mmovie_embeddings_dict\u001b[0m\u001b[0;34m[\u001b[0m\u001b[0mitem\u001b[0m\u001b[0;34m[\u001b[0m\u001b[0;36m0\u001b[0m\u001b[0;34m]\u001b[0m\u001b[0;34m]\u001b[0m\u001b[0;34m)\u001b[0m\u001b[0;34m)\u001b[0m\u001b[0;34m\u001b[0m\u001b[0;34m\u001b[0m\u001b[0m\n",
      "\u001b[0;31mKeyError\u001b[0m: tensor(15962)"
     ]
    }
   ],
   "source": [
    "preddict = dict()\n",
    "it = iter(train_dataloader)\n",
    "for episode in tqdm.tqdm(range(train_num-1)):    \n",
    "    batch_size= 1\n",
    "    preds = set()\n",
    "    first = next(it)\n",
    "    item_b,rating_b,size_b,userid_b,idx_b = first['item'],first['rating'],first['size'],first['userid'],first['idx']\n",
    "    memory[idx_b] = [item[0] for item in item_b]\n",
    "    state = drrave_state_rep(userid_b,item_b,memory,idx_b)\n",
    "    for j in range(5):    \n",
    "        state_rep =  torch.reshape(state,[-1])\n",
    "        action_emb = policy_net(state_rep)\n",
    "        action = get_action(state,action_emb,userid_b,item_b,preds)\n",
    "        rate = int(users_dict[userid_b[0]][\"rating\"][action])\n",
    "        try:\n",
    "            ratings = (int(rate)-3)/2\n",
    "        except:\n",
    "            ratings = 0\n",
    "        reward = torch.Tensor((ratings,))\n",
    "\n",
    "        if reward > 0:\n",
    "            update_memory(memory,int(users_dict[userid_b[0]][\"item\"][action]),idx_b)\n",
    "\n",
    "        next_state = drrave_state_rep(userid_b,item_b,memory,idx_b)\n",
    "        next_state_rep = torch.reshape(next_state,[-1])\n",
    "        replay_buffer.push(state_rep.detach().cpu().numpy(), action_emb.detach().cpu().numpy(), reward, next_state_rep.detach().cpu().numpy())\n",
    "        if len(replay_buffer) > batch_size:\n",
    "            ddpg_update()\n",
    "\n",
    "        state = next_state\n",
    "    preddict[userid_b[0]] = preds\n"
   ]
  },
  {
   "cell_type": "code",
   "execution_count": null,
   "metadata": {
    "colab": {
     "base_uri": "https://localhost:8080/",
     "height": 293
    },
    "id": "-KxvxcIJOTAM",
    "outputId": "07fbdafe-4c9f-445b-eaca-16e798363dd0"
   },
   "outputs": [],
   "source": [
    "plt.plot(v_loss)"
   ]
  },
  {
   "cell_type": "code",
   "execution_count": null,
   "metadata": {
    "colab": {
     "base_uri": "https://localhost:8080/",
     "height": 293
    },
    "id": "7Hpx1nVWO1HA",
    "outputId": "73fc2290-42e8-431d-fd18-7b52af29a822"
   },
   "outputs": [],
   "source": [
    "plt.plot(p_loss)"
   ]
  },
  {
   "cell_type": "markdown",
   "metadata": {
    "id": "ho1VsZVS7u7d"
   },
   "source": [
    "#Testing"
   ]
  },
  {
   "cell_type": "code",
   "execution_count": null,
   "metadata": {
    "colab": {
     "base_uri": "https://localhost:8080/",
     "height": 357
    },
    "id": "_stX77i9A1EV",
    "outputId": "fb466bc7-2784-42ea-df93-18344af7883b"
   },
   "outputs": [],
   "source": [
    "#Getting Cosine similarity of recommended items for a particular userid that has been evaluated\n",
    "# from sklearn.metrics.pairwise import cosine_similarity as cs\n",
    "# import seaborn as sns\n",
    "\n",
    "def get_cosine_sim(userid):\n",
    "  test_pred = test_pred_dict[userid]\n",
    "  for i,item in enumerate(users_dict[userid][\"item\"]):\n",
    "    if item in test_pred:\n",
    "      print(item,\":\",users_dict[userid][\"rating\"][i])\n",
    "\n",
    "  test_embed = []\n",
    "  for item in test_pred:\n",
    "    test_embed.append(np.array(movie_embeddings_dict[item]))\n",
    "\n",
    "  test_embed_array = np.array(test_embed)\n",
    "\n",
    "  return test_embed_array\n",
    "\n",
    "test_embed_array = get_cosine_sim(userid_b[0])\n",
    "ax = sns.heatmap(cs(test_embed_array), linewidth=0.5)\n",
    "plt.show()\n"
   ]
  },
  {
   "cell_type": "code",
   "execution_count": null,
   "metadata": {
    "colab": {
     "base_uri": "https://localhost:8080/"
    },
    "id": "-HIsYUA6_dUN",
    "outputId": "ef566570-c907-4c8a-b4e6-6e8f01fe2ef0"
   },
   "outputs": [],
   "source": [
    "#prediction algorithm\n",
    "it2 = iter(test_dataloader)\n",
    "precision = 0\n",
    "test_pred_dict = dict()\n",
    "for j in range(len(test_dataloader)-1):  #session 돌리기 : timestamps 내에서 items들 \n",
    "  first = next(it2)\n",
    "  item_b,rating_b,size_b,userid_b,idx_b = first['item'],first['rating'],first['size'],first['userid'],first['idx']\n",
    "  memory[idx_b] = [item[0] for item in item_b]\n",
    "  state = drrave_state_rep(userid_b,item_b,memory,idx_b)\n",
    "  count = 0\n",
    "  test_pred = set()\n",
    "  for j in range(5):  #policy network5번 돌리기 , 추천 5번 하기\n",
    "    state_rep =  torch.reshape(state,[-1])\n",
    "    action_emb = policy_net(state_rep)   # policy_net = actor : items들의 선호도 (rating)\n",
    "    action = get_action(state,action_emb,userid_b,item_b,test_pred)\n",
    "    rate = int(users_dict[userid_b[0]][\"rating\"][action])\n",
    "    try:\n",
    "      rating = (int(rate)-3)/2\n",
    "    except:\n",
    "      rating = 0\n",
    "    reward = torch.Tensor((rating,))\n",
    "\n",
    "    if reward > 0:\n",
    "      count += 1\n",
    "      update_memory(memory,int(users_dict[userid_b[0]][\"item\"][action]),idx_b)\n",
    "    next_state = drrave_state_rep(userid_b,item_b,memory,idx_b)\n",
    "    state = next_state\n",
    "  precision += count/5\n",
    "  test_pred_dict[userid_b[0]] = test_pred\n",
    "print(\"p\",precision/(len(test_dataloader)-1))"
   ]
  },
  {
   "cell_type": "markdown",
   "metadata": {
    "id": "2MHnXsrP79pN"
   },
   "source": [
    "#Saving and Loading Models"
   ]
  },
  {
   "cell_type": "code",
   "execution_count": null,
   "metadata": {
    "colab": {
     "base_uri": "https://localhost:8080/",
     "height": 352
    },
    "id": "YPj1Ejb7A2cn",
    "outputId": "3529cc7e-eead-4858-a609-d4e72a7f084f"
   },
   "outputs": [],
   "source": [
    "PATH = '/content/gdrive/My Drive/RLProject/Models/drravepolicy_net.pth'\n",
    "torch.save(policy_net.state_dict(), PATH)"
   ]
  },
  {
   "cell_type": "code",
   "execution_count": null,
   "metadata": {
    "id": "8HJdozZcBV5a"
   },
   "outputs": [],
   "source": [
    "value_PATH = '/content/gdrive/My Drive/RLProject/Models/drravevalue_net.pth'\n",
    "torch.save(value_net.state_dict(), value_PATH)\n",
    "\n",
    "tpolicy_PATH = '/content/gdrive/My Drive/RLProject/Models/drravetpolicy_net.pth'\n",
    "torch.save(target_policy_net.state_dict(), tpolicy_PATH)\n",
    "\n",
    "tvalue_PATH = '/content/gdrive/My Drive/RLProject/Models/drravetvalue_net.pth'\n",
    "torch.save(target_value_net.state_dict(), tvalue_PATH)\n"
   ]
  },
  {
   "cell_type": "code",
   "execution_count": null,
   "metadata": {
    "id": "FAPPzXDCCA8e"
   },
   "outputs": [],
   "source": [
    "np.save('/content/gdrive/My Drive/RLProject/Models/train_dataloader',train_dataloader)\n",
    "np.save('/content/gdrive/My Drive/RLProject/Models/test_dataloader',test_dataloader)"
   ]
  },
  {
   "cell_type": "code",
   "execution_count": null,
   "metadata": {
    "id": "WU5Ac2dGCTIj"
   },
   "outputs": [],
   "source": [
    "policy_net = Actor(5500,100,256)\n",
    "policy_net.load_state_dict(torch.load(PATH))\n",
    "policy_net.eval()\n",
    "\n",
    "value_net = Critic(5500,100,256)\n",
    "value_net.load_state_dict(torch.load(value_PATH))\n",
    "value_net.eval()\n",
    "\n",
    "target_policy_net = Actor(5500,100,256)\n",
    "target_policy_net.load_state_dict(torch.load(tpolicy_PATH))\n",
    "target_policy_net.eval()\n",
    "\n",
    "target_value_net = Critic(5500,100,256)\n",
    "target_value_net.load_state_dict(torch.load(tvalue_PATH))\n",
    "target_value_net.eval()\n"
   ]
  },
  {
   "cell_type": "code",
   "execution_count": null,
   "metadata": {
    "id": "1LyKW_ns7hv5"
   },
   "outputs": [],
   "source": [
    "np_load_old = np.load\n",
    "\n",
    "# modify the default parameters of np.load\n",
    "np.load = lambda *a,**k: np_load_old(*a, allow_pickle=True, **k)\n",
    "\n",
    "train_data = np.load('/content/gdrive/My Drive/RLProject/Models/train_users.npy')"
   ]
  },
  {
   "cell_type": "code",
   "execution_count": null,
   "metadata": {
    "id": "bNsZXyGHAid7"
   },
   "outputs": [],
   "source": [
    "np.load = np_load_old"
   ]
  },
  {
   "cell_type": "code",
   "execution_count": null,
   "metadata": {
    "id": "hcI8ick_ejln"
   },
   "outputs": [],
   "source": []
  }
 ],
 "metadata": {
  "colab": {
   "collapsed_sections": [],
   "machine_shape": "hm",
   "name": "RL_ActorCritic_DDPG_Movie_Recommendation.ipynb의 사본",
   "provenance": []
  },
  "kernelspec": {
   "display_name": "Python 3",
   "language": "python",
   "name": "python3"
  },
  "language_info": {
   "codemirror_mode": {
    "name": "ipython",
    "version": 3
   },
   "file_extension": ".py",
   "mimetype": "text/x-python",
   "name": "python",
   "nbconvert_exporter": "python",
   "pygments_lexer": "ipython3",
   "version": "3.7.6"
  }
 },
 "nbformat": 4,
 "nbformat_minor": 4
}
