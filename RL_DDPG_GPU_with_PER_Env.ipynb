{
 "cells": [
  {
   "cell_type": "code",
   "execution_count": 1,
   "metadata": {
    "ExecuteTime": {
     "end_time": "2020-12-11T01:54:50.345009Z",
     "start_time": "2020-12-11T01:54:50.339962Z"
    }
   },
   "outputs": [
    {
     "ename": "ModuleNotFoundError",
     "evalue": "No module named 'offline_env'",
     "output_type": "error",
     "traceback": [
      "\u001b[0;31m---------------------------------------------------------------------------\u001b[0m",
      "\u001b[0;31mModuleNotFoundError\u001b[0m                       Traceback (most recent call last)",
      "\u001b[0;32m<ipython-input-1-37239fff3665>\u001b[0m in \u001b[0;36m<module>\u001b[0;34m\u001b[0m\n\u001b[1;32m      8\u001b[0m \u001b[0;32mimport\u001b[0m \u001b[0mitertools\u001b[0m\u001b[0;34m\u001b[0m\u001b[0;34m\u001b[0m\u001b[0m\n\u001b[1;32m      9\u001b[0m \u001b[0;32mimport\u001b[0m \u001b[0mtorch\u001b[0m\u001b[0;34m\u001b[0m\u001b[0;34m\u001b[0m\u001b[0m\n\u001b[0;32m---> 10\u001b[0;31m \u001b[0;32mfrom\u001b[0m \u001b[0moffline_env\u001b[0m \u001b[0;32mimport\u001b[0m \u001b[0mOfflineEnv\u001b[0m\u001b[0;34m\u001b[0m\u001b[0;34m\u001b[0m\u001b[0m\n\u001b[0m\u001b[1;32m     11\u001b[0m \u001b[0;32mimport\u001b[0m \u001b[0mos\u001b[0m\u001b[0;34m\u001b[0m\u001b[0;34m\u001b[0m\u001b[0m\n\u001b[1;32m     12\u001b[0m \u001b[0;34m\u001b[0m\u001b[0m\n",
      "\u001b[0;31mModuleNotFoundError\u001b[0m: No module named 'offline_env'"
     ]
    }
   ],
   "source": [
    "#Dependencies\n",
    "import pandas as pd\n",
    "import numpy as np\n",
    "from scipy.sparse.linalg import svds\n",
    "from sklearn.model_selection import train_test_split\n",
    "import tensorflow as tf\n",
    "from torch.utils.data import DataLoader\n",
    "import itertools\n",
    "import torch\n",
    "from offline_env import OfflineEnv\n",
    "import os\n",
    "\n",
    "import pandas as pd\n",
    "import numpy as np\n",
    "\n",
    "from scipy.sparse import csr_matrix\n",
    "\n",
    "from implicit.als import AlternatingLeastSquares\n",
    "                                                            \n",
    "import os \n",
    "\n",
    "from collections import defaultdict\n",
    "from collections import Counter\n",
    "\n",
    "import torch\n",
    "import torch.nn as nn\n",
    "import torch.nn.functional as F\n",
    "#from torchtools.optim import Ranger\n",
    "# from ranger import Ranger\n",
    "from adabelief_pytorch import AdaBelief\n",
    "\n",
    "import adabelief_pytorch\n",
    "import tqdm\n",
    "import random\n",
    "import matplotlib.pyplot as plt\n",
    "\n",
    "from sklearn.metrics.pairwise import cosine_similarity as cs\n",
    "import seaborn as sns"
   ]
  },
  {
   "cell_type": "markdown",
   "metadata": {},
   "source": [
    "## 1. 데이터 불러오기"
   ]
  },
  {
   "cell_type": "code",
   "execution_count": null,
   "metadata": {
    "ExecuteTime": {
     "end_time": "2020-12-11T00:52:58.160268Z",
     "start_time": "2020-12-11T00:52:55.842550Z"
    }
   },
   "outputs": [],
   "source": [
    "datapath = './data_final.csv'\n",
    "columns =  ['item', 'user', 'rating', 'timestamp']\n",
    "df = pd.read_csv(datapath, sep = \",\", names = columns, dtype = int)\n",
    "df.astype(int)\n",
    "df.head()"
   ]
  },
  {
   "cell_type": "code",
   "execution_count": 3,
   "metadata": {
    "ExecuteTime": {
     "end_time": "2020-12-11T00:53:32.671567Z",
     "start_time": "2020-12-11T00:52:58.161103Z"
    }
   },
   "outputs": [],
   "source": [
    "users_df = df.sort_values([\"user\",\"timestamp\"]).set_index(\"user\").fillna(0).drop(\"timestamp\",axis=1)\n",
    "users = dict(tuple(df.groupby(\"user\"))) "
   ]
  },
  {
   "cell_type": "code",
   "execution_count": 4,
   "metadata": {
    "ExecuteTime": {
     "end_time": "2020-12-11T00:53:32.674966Z",
     "start_time": "2020-12-11T00:53:32.673073Z"
    }
   },
   "outputs": [
    {
     "name": "stdout",
     "output_type": "stream",
     "text": [
      "(13361842, 4)\n"
     ]
    }
   ],
   "source": [
    "print(df.shape)"
   ]
  },
  {
   "cell_type": "code",
   "execution_count": 5,
   "metadata": {
    "ExecuteTime": {
     "end_time": "2020-12-11T00:53:32.872955Z",
     "start_time": "2020-12-11T00:53:32.675878Z"
    }
   },
   "outputs": [
    {
     "data": {
      "text/plain": [
       "258582"
      ]
     },
     "execution_count": 5,
     "metadata": {},
     "output_type": "execute_result"
    }
   ],
   "source": [
    "df['user'].nunique()"
   ]
  },
  {
   "cell_type": "code",
   "execution_count": 6,
   "metadata": {
    "ExecuteTime": {
     "end_time": "2020-12-11T00:53:32.945426Z",
     "start_time": "2020-12-11T00:53:32.873974Z"
    }
   },
   "outputs": [
    {
     "data": {
      "text/plain": [
       "637911"
      ]
     },
     "execution_count": 6,
     "metadata": {},
     "output_type": "execute_result"
    }
   ],
   "source": [
    "df['item'].nunique()"
   ]
  },
  {
   "cell_type": "code",
   "execution_count": 24,
   "metadata": {
    "ExecuteTime": {
     "end_time": "2020-12-11T00:53:33.361214Z",
     "start_time": "2020-12-11T00:53:32.946258Z"
    }
   },
   "outputs": [],
   "source": [
    "# 고유한 유저, 아티스트를 찾아내는 코드\n",
    "user_unique = df['user'].unique()\n",
    "item_unique = df['item'].unique()\n",
    "\n",
    "# 유저, 아티스트 indexing 하는 코드 idx는 index의 약자입니다.\n",
    "user_to_idx = {v:k for k,v in enumerate(user_unique)}\n",
    "idx_to_user = {k:v for k,v in enumerate(user_unique)}\n",
    "item_to_idx = {v:k for k,v in enumerate(item_unique)}\n",
    "idx_to_item = {k:v for k,v in enumerate(item_unique)}"
   ]
  },
  {
   "cell_type": "code",
   "execution_count": 8,
   "metadata": {
    "ExecuteTime": {
     "end_time": "2020-12-11T00:53:44.124503Z",
     "start_time": "2020-12-11T00:53:33.362053Z"
    }
   },
   "outputs": [
    {
     "name": "stdout",
     "output_type": "stream",
     "text": [
      "userId column indexing OK!!\n",
      "itemId column indexing OK!!\n"
     ]
    }
   ],
   "source": [
    "# indexing을 통해 데이터 컬럼 내 값을 바꾸는 코드\n",
    "# dictionary 자료형의 get 함수는 https://wikidocs.net/16 을 참고하세요.\n",
    "\n",
    "# user_to_idx.get을 통해 user_id 컬럼의 모든 값을 인덱싱한 Series를 구해 봅시다. \n",
    "# 혹시 정상적으로 인덱싱되지 않은 row가 있다면 인덱스가 NaN이 될 테니 dropna()로 제거합니다. \n",
    "temp_user_data = df['user'].map(user_to_idx.get).dropna()\n",
    "if len(temp_user_data) == len(df):   # 모든 row가 정상적으로 인덱싱되었다면\n",
    "    print('userId column indexing OK!!')\n",
    "    df['user'] = temp_user_data   # data['userId']을 인덱싱된 Series로 교체해 줍니다. \n",
    "else:\n",
    "    print('userId column indexing Fail!!')\n",
    "\n",
    "# movie_to_idx을 통해 artist 컬럼도 동일한 방식으로 인덱싱해 줍니다. \n",
    "temp_item_data = df['item'].map(item_to_idx.get).dropna()\n",
    "if len(temp_item_data) == len(df):\n",
    "    print('itemId column indexing OK!!')\n",
    "    df['item'] = temp_item_data\n",
    "else:\n",
    "    print('itemId column indexing Fail!!')\n",
    "# up_data"
   ]
  },
  {
   "cell_type": "code",
   "execution_count": 13,
   "metadata": {
    "ExecuteTime": {
     "end_time": "2020-12-11T00:53:44.799300Z",
     "start_time": "2020-12-11T00:53:44.125909Z"
    }
   },
   "outputs": [],
   "source": [
    "num_user = df['user'].nunique()\n",
    "num_item = df['item'].nunique()\n",
    "\n",
    "csr_data = csr_matrix((df['rating'], (df.user, df.item)), shape= (num_user, num_item))"
   ]
  },
  {
   "cell_type": "code",
   "execution_count": 14,
   "metadata": {
    "ExecuteTime": {
     "end_time": "2020-12-11T00:56:26.713792Z",
     "start_time": "2020-12-11T00:53:44.800672Z"
    }
   },
   "outputs": [
    {
     "name": "stderr",
     "output_type": "stream",
     "text": [
      "WARNING:root:OpenBLAS detected. Its highly recommend to set the environment variable 'export OPENBLAS_NUM_THREADS=1' to disable its internal multithreading\n"
     ]
    },
    {
     "data": {
      "application/vnd.jupyter.widget-view+json": {
       "model_id": "b9e5ca78afe7420cabb6606849c8df18",
       "version_major": 2,
       "version_minor": 0
      },
      "text/plain": [
       "HBox(children=(HTML(value=''), FloatProgress(value=0.0, max=15.0), HTML(value='')))"
      ]
     },
     "metadata": {},
     "output_type": "display_data"
    },
    {
     "name": "stdout",
     "output_type": "stream",
     "text": [
      "\n"
     ]
    }
   ],
   "source": [
    "#num_threads=-1\n",
    "als_model = AlternatingLeastSquares(factors=100, regularization=0.01,use_gpu=False,\n",
    "                                    iterations=15,dtype=np.float32,calculate_training_loss=True, num_threads=1)\n",
    "\n",
    "#item x user\n",
    "csr_data_transpose = csr_data.T\n",
    "# csr_data_transpose\n",
    "als_model.fit(csr_data_transpose)"
   ]
  },
  {
   "cell_type": "code",
   "execution_count": 15,
   "metadata": {
    "ExecuteTime": {
     "end_time": "2020-12-11T00:56:33.547927Z",
     "start_time": "2020-12-11T00:56:26.714970Z"
    }
   },
   "outputs": [
    {
     "name": "stderr",
     "output_type": "stream",
     "text": [
      "100%|██████████| 637911/637911 [00:04<00:00, 151230.92it/s]\n",
      "100%|██████████| 258582/258582 [00:02<00:00, 112341.97it/s]\n"
     ]
    },
    {
     "data": {
      "text/plain": [
       "258582"
      ]
     },
     "execution_count": 15,
     "metadata": {},
     "output_type": "execute_result"
    }
   ],
   "source": [
    "item_embeddings_dict = {idx_to_item[i]:tf.convert_to_tensor(als_model.item_factors[i]) for i in tqdm.tqdm(range(num_item))}\n",
    "user_embeddings_dict = {idx_to_user[i]:tf.convert_to_tensor(als_model.user_factors[i]) for i in tqdm.tqdm(range(num_user))}\n",
    "\n",
    "len(user_embeddings_dict)"
   ]
  },
  {
   "cell_type": "code",
   "execution_count": 16,
   "metadata": {
    "ExecuteTime": {
     "end_time": "2020-12-11T00:56:33.551039Z",
     "start_time": "2020-12-11T00:56:33.548905Z"
    }
   },
   "outputs": [
    {
     "data": {
      "text/plain": [
       "637911"
      ]
     },
     "execution_count": 16,
     "metadata": {},
     "output_type": "execute_result"
    }
   ],
   "source": [
    "len(item_embeddings_dict)"
   ]
  },
  {
   "cell_type": "code",
   "execution_count": 9,
   "metadata": {},
   "outputs": [],
   "source": [
    "item_embeddings_dict = np.load(\"./item_embeddings_dict_final_1.npy\", allow_pickle=True).item()\n",
    "user_embeddings_dict = np.load(\"./user_embeddings_dict_final_1.npy\", allow_pickle=True).item()"
   ]
  },
  {
   "cell_type": "code",
   "execution_count": 10,
   "metadata": {},
   "outputs": [],
   "source": [
    "# np.save(\"item_embeddings_dict_final_1.npy\", item_embeddings_dict)\n",
    "# np.save(\"user_embeddings_dict_final_1.npy\", user_embeddings_dict)"
   ]
  },
  {
   "cell_type": "markdown",
   "metadata": {},
   "source": [
    "## 2. Train and Test Dataset"
   ]
  },
  {
   "cell_type": "code",
   "execution_count": 11,
   "metadata": {
    "ExecuteTime": {
     "end_time": "2020-12-11T01:49:30.737144Z",
     "start_time": "2020-12-11T01:49:26.068818Z"
    }
   },
   "outputs": [],
   "source": [
    "#Getting users with positive rating count greater than 10 \n",
    "# 10 == 'N' positively interacted items\n",
    "# from collections import defaultdict\n",
    "# from collections import Counter\n",
    "users_dict = defaultdict(dict)\n",
    "users_id_list = set()\n",
    "for user_id in users:\n",
    "    rating_freq = Counter(users[user_id][\"rating\"].values)\n",
    "    if rating_freq[4]+rating_freq[5]<10 :\n",
    "        continue    \n",
    "    else:\n",
    "        users_id_list.add(int(user_id))\n",
    "        users_dict[user_id][\"item\"] = users[user_id][\"item\"].values\n",
    "        users_dict[user_id][\"rating\"] = users[user_id][\"rating\"].values"
   ]
  },
  {
   "cell_type": "code",
   "execution_count": 12,
   "metadata": {},
   "outputs": [
    {
     "data": {
      "text/plain": [
       "array([5, 1, 2, 2, 2, 4, 4, 3, 4, 3, 5, 5, 3, 4, 5, 4, 5, 5, 4, 2, 1, 2,\n",
       "       2, 2, 4, 5, 4, 1, 2, 4, 4, 3, 5, 4, 4, 5, 5, 1, 5])"
      ]
     },
     "execution_count": 12,
     "metadata": {},
     "output_type": "execute_result"
    }
   ],
   "source": [
    "users_dict[14680070][\"rating\"]"
   ]
  },
  {
   "cell_type": "code",
   "execution_count": 13,
   "metadata": {
    "ExecuteTime": {
     "end_time": "2020-12-11T01:49:31.212212Z",
     "start_time": "2020-12-11T01:49:31.187556Z"
    }
   },
   "outputs": [
    {
     "name": "stdout",
     "output_type": "stream",
     "text": [
      "[12058627 14680070  7340040 ...  9437172 12058615 11010043]\n"
     ]
    }
   ],
   "source": [
    "users_id_list = np.array(list(users_id_list))\n",
    "print(users_id_list)"
   ]
  },
  {
   "cell_type": "code",
   "execution_count": 14,
   "metadata": {
    "ExecuteTime": {
     "end_time": "2020-12-11T01:55:04.699179Z",
     "start_time": "2020-12-11T01:55:04.695886Z"
    }
   },
   "outputs": [
    {
     "name": "stdout",
     "output_type": "stream",
     "text": [
      "{'item': array([  28067,   41744,   81990,   94755,   95277,  104841,  122183,\n",
      "        177661,  180581,  183115,  211122,  233553,  271914,  284884,\n",
      "        286968,  300146,  339862,  343635,  364176,  364388,  364375,\n",
      "        411644,  445202,  463239,  512989,  632956,  723559,  755129,\n",
      "        809664,  819077,  819739,  878301,  951090, 1009123, 1010557,\n",
      "       1042421, 1071233, 1107949, 1112160, 1125199, 1341839, 1347405,\n",
      "       1487939, 1514645, 1580541, 1928572, 1956531, 1956306, 1962144,\n",
      "       1972774, 1983891, 2009311, 2015798, 2031750, 2098284, 2127133,\n",
      "       2233093, 2285383, 2295964, 2295969, 2295970, 2301303, 2305905,\n",
      "       2388411, 2390438, 2542197,  527007, 2791251,  180670,  199910,\n",
      "        271858,  293239,  441781,  538337,  544191,  766746,  955067,\n",
      "        962416, 1010621, 1025036, 1151374, 1181909, 1889954, 2108769]), 'rating': array([4, 5, 4, 4, 5, 5, 3, 4, 5, 4, 5, 3, 5, 5, 5, 5, 5, 5, 5, 4, 1, 5,\n",
      "       5, 5, 4, 5, 5, 5, 1, 4, 5, 5, 5, 4, 5, 4, 5, 2, 5, 5, 4, 5, 5, 4,\n",
      "       5, 5, 4, 5, 3, 5, 5, 5, 4, 5, 5, 1, 5, 5, 5, 5, 5, 4, 5, 5, 4, 5,\n",
      "       4, 4, 5, 5, 5, 5, 5, 5, 5, 3, 5, 5, 5, 3, 4, 1, 5, 5])}\n"
     ]
    }
   ],
   "source": [
    "print(users_dict[12058627])"
   ]
  },
  {
   "cell_type": "code",
   "execution_count": 15,
   "metadata": {
    "ExecuteTime": {
     "end_time": "2020-12-11T01:55:05.550025Z",
     "start_time": "2020-12-11T01:55:05.539981Z"
    }
   },
   "outputs": [
    {
     "data": {
      "text/plain": [
       "254330"
      ]
     },
     "execution_count": 15,
     "metadata": {},
     "output_type": "execute_result"
    }
   ],
   "source": [
    "len(users_id_list)"
   ]
  },
  {
   "cell_type": "code",
   "execution_count": 16,
   "metadata": {
    "ExecuteTime": {
     "end_time": "2020-12-11T01:55:06.478935Z",
     "start_time": "2020-12-11T01:55:06.471115Z"
    }
   },
   "outputs": [
    {
     "name": "stdout",
     "output_type": "stream",
     "text": [
      "[14198794 14087016]\n"
     ]
    }
   ],
   "source": [
    "#choosing default train_test_split of 25%\n",
    "train_users,test_users = train_test_split(users_id_list)\n",
    "print(train_users[:2])"
   ]
  },
  {
   "cell_type": "code",
   "execution_count": 17,
   "metadata": {
    "ExecuteTime": {
     "end_time": "2020-12-11T01:55:07.323258Z",
     "start_time": "2020-12-11T01:55:07.319557Z"
    }
   },
   "outputs": [
    {
     "name": "stdout",
     "output_type": "stream",
     "text": [
      "[11076733 11498788]\n"
     ]
    }
   ],
   "source": [
    "print(test_users[:2])"
   ]
  },
  {
   "cell_type": "code",
   "execution_count": 25,
   "metadata": {
    "ExecuteTime": {
     "end_time": "2020-12-11T01:55:07.530601Z",
     "start_time": "2020-12-11T01:55:07.525967Z"
    }
   },
   "outputs": [],
   "source": [
    "from torch.utils.data import Dataset\n",
    "class UserDataset(Dataset):\n",
    "    def __init__(self,users_list,users_dict):\n",
    "        self.users_list = users_list\n",
    "        self.users_dict = users_dict\n",
    "\n",
    "    def __len__(self):\n",
    "        return len(self.users_list)\n",
    "\n",
    "    def __getitem__(self,idx):\n",
    "        user_id = self.users_list[idx]\n",
    "        items = [('1',)]*10\n",
    "        ratings = [('0',)]*10\n",
    "        j=0\n",
    "        for i,rate in enumerate(self.users_dict[user_id][\"rating\"]):\n",
    "            if int(rate) >3 and j < 10:\n",
    "                items[j] = self.users_dict[user_id][\"item\"][i]\n",
    "                ratings[j] = self.users_dict[user_id][\"rating\"][i]\n",
    "                j += 1\n",
    "        # item = list(self.users_dict[user_id][\"item\"][:])\n",
    "        # rating = list(self.users_dict[user_id][\"rating\"][:])\n",
    "        size = len(items)\n",
    "    \n",
    "        return {'item':items,'rating':ratings,'size':size,'userid':user_id,'idx':idx}"
   ]
  },
  {
   "cell_type": "code",
   "execution_count": 26,
   "metadata": {
    "ExecuteTime": {
     "end_time": "2020-12-11T01:55:07.709698Z",
     "start_time": "2020-12-11T01:55:07.707818Z"
    }
   },
   "outputs": [],
   "source": [
    "train_users_dataset = UserDataset(train_users,users_dict)\n",
    "test_users_dataset = UserDataset(test_users,users_dict)"
   ]
  },
  {
   "cell_type": "code",
   "execution_count": 27,
   "metadata": {
    "ExecuteTime": {
     "end_time": "2020-12-11T01:55:07.866212Z",
     "start_time": "2020-12-11T01:55:07.864248Z"
    }
   },
   "outputs": [],
   "source": [
    "train_dataloader = DataLoader(train_users_dataset, batch_size=1)\n",
    "test_dataloader = DataLoader(test_users_dataset, batch_size=1)"
   ]
  },
  {
   "cell_type": "code",
   "execution_count": 21,
   "metadata": {
    "ExecuteTime": {
     "end_time": "2020-12-11T01:55:08.006019Z",
     "start_time": "2020-12-11T01:55:08.003977Z"
    }
   },
   "outputs": [
    {
     "name": "stdout",
     "output_type": "stream",
     "text": [
      "190747\n"
     ]
    }
   ],
   "source": [
    "train_num = len(train_dataloader)\n",
    "print(train_num)"
   ]
  },
  {
   "cell_type": "code",
   "execution_count": 22,
   "metadata": {
    "ExecuteTime": {
     "end_time": "2020-12-11T01:55:08.160635Z",
     "start_time": "2020-12-11T01:55:08.158681Z"
    }
   },
   "outputs": [
    {
     "name": "stdout",
     "output_type": "stream",
     "text": [
      "63583\n"
     ]
    }
   ],
   "source": [
    "test_num = len(test_dataloader)\n",
    "print(test_num)"
   ]
  },
  {
   "cell_type": "markdown",
   "metadata": {},
   "source": [
    "## 3. State Representation Models¶"
   ]
  },
  {
   "cell_type": "markdown",
   "metadata": {},
   "source": [
    "### DDR-ave"
   ]
  },
  {
   "cell_type": "code",
   "execution_count": 176,
   "metadata": {
    "ExecuteTime": {
     "end_time": "2020-12-11T01:55:08.526962Z",
     "start_time": "2020-12-11T01:55:08.522227Z"
    }
   },
   "outputs": [],
   "source": [
    "''' input\n",
    "    # dataloader에서 나온 return들\n",
    "    # user_idb : 해당 user의 id \n",
    "    # itemb : 유저가 rating 한 item id 10개(tensor))\n",
    "    # memory :  유저가 rating 한 item들 list 크기는 유저 * 10(item)  \n",
    "    idx : user_list에서 user의 index\n",
    "    output\n",
    "    state : #state tensor shape [21,100]\n",
    "'''\n",
    "def drrave_state_rep(userid_b, memory, idx):\n",
    "    user_num = idx\n",
    "    H = [] #item embeddings\n",
    "    user_n_items = memory\n",
    "    user_embeddings = torch.Tensor(np.array(user_embeddings_dict[int(userid_b[0])]),).unsqueeze(0)\n",
    "#     print(\"user_n_items\", user_n_items)\n",
    "#     print(\"user_n_items\", len(user_n_items))\n",
    "    for item in user_n_items:\n",
    "        H.append(np.array(item_embeddings_dict[int(item)]))\n",
    "    avg_layer = nn.AvgPool1d(1)  # pooling layer 사용 \n",
    "    item_embeddings = avg_layer(torch.Tensor(H,).unsqueeze(0)).permute(0,2,1).squeeze(0)\n",
    "    #print('item_embedding.size: ', item_embeddings.size())\n",
    "    #print('item_embedding_no permute: ', item_embeddings)\n",
    "    #print('item_embedding_no permute_T: ', item_embeddings.T)\n",
    "    #item_embeddings_permute = avg_layer(torch.Tensor(H,).unsqueeze(0)).permute(0,2,1).squeeze(0)\n",
    "    #print('item_embedding_permute: ', item_embeddings)\n",
    "    #print('item_embedding.size: ', item_embeddings.size()) \n",
    "    #print(item_embeddings)\n",
    "    #assert (item_embeddings == item_embeddings_permute.T).any()\n",
    "    state = torch.cat([user_embeddings,user_embeddings*item_embeddings.T,item_embeddings.T])\n",
    "    #print('state.size: ', state.size())\n",
    "    #print('user_embedding.size: ', user_embeddings.size())\n",
    "    # permute => transpose\n",
    "    return state #state tensor shape [21,100] "
   ]
  },
  {
   "cell_type": "markdown",
   "metadata": {},
   "source": [
    "### DRR-u"
   ]
  },
  {
   "cell_type": "code",
   "execution_count": 165,
   "metadata": {
    "ExecuteTime": {
     "end_time": "2020-12-11T01:55:08.771891Z",
     "start_time": "2020-12-11T01:55:08.770312Z"
    }
   },
   "outputs": [],
   "source": [
    "# def drru_state_rep(userid_b,items,memory,idx):\n",
    "#     user_num = idx\n",
    "#     H = []\n",
    "#     user_n_items = items\n",
    "#     user_embeddings = user_embeddings_dict[userid_b[0]]\n",
    "#     for i,item in enumerate(user_n_items):\n",
    "#         ui = np.array(user_embeddings) * np.array(movie_embeddings_dict[item[0]])\n",
    "#         H.append(ui)\n",
    "\n",
    "#     pairs = list(itertools.combinations(memory[user_num], 2))\n",
    "#     for item1,item2 in pairs:\n",
    "#         pair1 =  np.array(movie_embeddings_dict[str(int(item1))])\n",
    "#         pair2 = np.array(movie_embeddings_dict[str(int(item2))])\n",
    "\n",
    "#         product = pair1*pair2\n",
    "#         H.append(product)\n",
    "#     state = torch.Tensor(H,)\n",
    "#     return state #state tensor shape [55,100]\n"
   ]
  },
  {
   "cell_type": "markdown",
   "metadata": {},
   "source": [
    "### DRR-p"
   ]
  },
  {
   "cell_type": "code",
   "execution_count": 30,
   "metadata": {
    "ExecuteTime": {
     "end_time": "2020-12-11T01:55:09.015721Z",
     "start_time": "2020-12-11T01:55:09.013893Z"
    }
   },
   "outputs": [],
   "source": [
    "# def drrp_state_rep(items,memory,idx):\n",
    "#   user_num = idx\n",
    "#   H = []\n",
    "#   user_n_items = items\n",
    "#   for i,item in enumerate(user_n_items):\n",
    "#     H.append(np.array(movie_embeddings_dict[item[0]]))\n",
    "  \n",
    "#   pairs = list(itertools.combinations(memory[user_num], 2))\n",
    "#   for item1,item2 in pairs:\n",
    "#     pair1 =  np.array(movie_embeddings_dict[str(int(item1))])\n",
    "#     pair2 = np.array(movie_embeddings_dict[str(int(item2))])\n",
    "#     product = pair1*pair2\n",
    "#     H.append(product)\n",
    "#   state = torch.Tensor(H,)\n",
    "#   return state"
   ]
  },
  {
   "cell_type": "markdown",
   "metadata": {},
   "source": [
    "### state-rep"
   ]
  },
  {
   "cell_type": "code",
   "execution_count": 31,
   "metadata": {
    "ExecuteTime": {
     "end_time": "2020-12-11T01:55:09.289202Z",
     "start_time": "2020-12-11T01:55:09.286535Z"
    }
   },
   "outputs": [
    {
     "data": {
      "text/plain": [
       "'\\ndef state_rep(item_b):\\n    state = []\\n    user_embeddings = np.zeros((len(columns),100))\\n    item_ids = list(item[0] for item in item_b)\\n    for i,subitem in enumerate(user_embeddings):\\n        if idx_to_id[i] in item_ids:\\n            user_embeddings[i] = np.array(item_embeddings_dict[idx_to_id[i]])\\n        else:\\n            user_embeddings[i] = np.zeros((100,))\\n    state = torch.Tensor(user_embeddings,)\\n    return torch.reshape(state,[-1]) \\n'"
      ]
     },
     "execution_count": 31,
     "metadata": {},
     "output_type": "execute_result"
    }
   ],
   "source": [
    "# just n items and their embeddings used to represent state\n",
    "'''\n",
    "def state_rep(item_b):\n",
    "    state = []\n",
    "    user_embeddings = np.zeros((len(columns),100))\n",
    "    item_ids = list(item[0] for item in item_b)\n",
    "    for i,subitem in enumerate(user_embeddings):\n",
    "        if idx_to_id[i] in item_ids:\n",
    "            user_embeddings[i] = np.array(item_embeddings_dict[idx_to_id[i]])\n",
    "        else:\n",
    "            user_embeddings[i] = np.zeros((100,))\n",
    "    state = torch.Tensor(user_embeddings,)\n",
    "    return torch.reshape(state,[-1]) \n",
    "'''"
   ]
  },
  {
   "cell_type": "markdown",
   "metadata": {},
   "source": [
    "## 4. Actor, Critic "
   ]
  },
  {
   "cell_type": "code",
   "execution_count": 32,
   "metadata": {
    "ExecuteTime": {
     "end_time": "2020-12-11T01:55:13.319158Z",
     "start_time": "2020-12-11T01:55:09.624768Z"
    }
   },
   "outputs": [],
   "source": [
    "# !pip install git+https://github.com/pabloppp/pytorch-tools@0.2.4 -U"
   ]
  },
  {
   "cell_type": "code",
   "execution_count": 73,
   "metadata": {
    "ExecuteTime": {
     "end_time": "2020-12-11T01:55:13.324893Z",
     "start_time": "2020-12-11T01:55:13.320417Z"
    }
   },
   "outputs": [],
   "source": [
    "#Actor Model:\n",
    "#Generating an action a based on state s\n",
    "\n",
    "# Input_dim 5500, output_dim 100, hidden_dim 256 for drr-u, p\n",
    "# Input_dim 2100, output_dim 100, hidden_dim 256 for drr-ave\n",
    "\n",
    "# embedding을 normalize(-1, 1) => tanh\n",
    "# embedding을 standard scaling => PCA whitening\n",
    "\n",
    "class Actor(torch.nn.Module):\n",
    "    def __init__(self, input_dim, output_dim,hidden_dim):\n",
    "        super(Actor, self).__init__()\n",
    "\n",
    "        self.drop_layer = nn.Dropout(p=0.5)        \n",
    "        self.linear1 = nn.Linear(input_dim, hidden_dim)\n",
    "        self.linear2 = nn.Linear(hidden_dim, hidden_dim)\n",
    "        self.linear3 = nn.Linear(hidden_dim, output_dim)\n",
    "        \n",
    "    def forward(self, state):\n",
    "        x = F.relu(self.linear1(state.to(device)))\n",
    "        # print(x.shape)\n",
    "        x = self.drop_layer(x)\n",
    "        x = F.relu(self.linear2(x))\n",
    "        # print(x.shape)\n",
    "        x = self.drop_layer(x)\n",
    "        # x = torch.tanh(self.linear3(x)) # in case embeds are -1 1 normalized\n",
    "        x = self.linear3(x) # in case embeds are standard scaled / wiped using PCA whitening\n",
    "        # return state, x\n",
    "        return x # state = self.state_rep(state) "
   ]
  },
  {
   "cell_type": "code",
   "execution_count": 74,
   "metadata": {
    "ExecuteTime": {
     "end_time": "2020-12-11T01:55:13.362147Z",
     "start_time": "2020-12-11T01:55:13.326002Z"
    }
   },
   "outputs": [],
   "source": [
    "class Critic(nn.Module):\n",
    "    def __init__(self,input_dim,output_dim,hidden_dim):\n",
    "\n",
    "        super(Critic, self).__init__()\n",
    "        \n",
    "        self.drop_layer = nn.Dropout(p=0.5)\n",
    "    \n",
    "        self.linear1 = nn.Linear(input_dim + output_dim, hidden_dim)\n",
    "        self.linear2 = nn.Linear(hidden_dim, hidden_dim)\n",
    "        self.linear3 = nn.Linear(hidden_dim, 1)\n",
    "\n",
    "    def forward(self,state,action):    \n",
    "        x = torch.cat([state.to(device), action.to(device)], 1)\n",
    "        # print(x.shape)\n",
    "        x = F.relu(self.linear1(x))\n",
    "        x = self.drop_layer(x)\n",
    "        x = F.relu(self.linear2(x))\n",
    "        x = self.drop_layer(x)\n",
    "        x = self.linear3(x)\n",
    "        return x"
   ]
  },
  {
   "cell_type": "markdown",
   "metadata": {},
   "source": [
    "    PER buffer"
   ]
  },
  {
   "cell_type": "code",
   "execution_count": 75,
   "metadata": {},
   "outputs": [
    {
     "name": "stdout",
     "output_type": "stream",
     "text": [
      "0.6\n",
      "1.0\n",
      "(16, 2100)\n",
      "(16, 100)\n",
      "(16,)\n",
      "(16, 2100)\n",
      "(16,)\n",
      "(16,)\n",
      "16\n"
     ]
    }
   ],
   "source": [
    "''' PER Replaybuffer '''\n",
    "\n",
    "import numpy as np\n",
    "from segment_tree import MinSegmentTree, SumSegmentTree # This is baseline provided in OpenAI.\n",
    "\n",
    "# Naive ReplayBuffer\n",
    "class ReplayBuffer:\n",
    "    \"\"\" Experience Replay Buffer which is implemented in DQN paper. https://www.nature.com/articles/nature14236 \n",
    "    The detailed parameter is described in each method.\n",
    "    \"\"\"\n",
    "\n",
    "    def __init__(self, \n",
    "                 buffer_size: ('int: total size of the Replay Buffer'), \n",
    "                 input_dim: ('int: a dimension of input data'),\n",
    "                 action_dim: ('int: a dimension of action'),\n",
    "                 batch_size: ('int: a batch size when updating')):\n",
    "\n",
    "        self.batch_size = batch_size\n",
    "        self.buffer_size = buffer_size\n",
    "        self.save_count, self.current_size = 0, 0\n",
    "\n",
    "        self.state_buffer = np.ones((buffer_size, input_dim), dtype=np.float32) \n",
    "        self.action_buffer = np.ones((buffer_size, action_dim), dtype=np.float32) \n",
    "        self.reward_buffer = np.ones(buffer_size, dtype=np.float32) \n",
    "        self.next_state_buffer = np.ones((buffer_size, input_dim), dtype=np.float32) \n",
    "        self.done_buffer = np.ones(buffer_size, dtype=np.int8)  \n",
    "\n",
    "    def store(self, \n",
    "              state: np.float32, \n",
    "              action: np.float32, \n",
    "              reward: np.float32, \n",
    "              next_state: np.float32, \n",
    "              done: np.int8):\n",
    "\n",
    "        self.state_buffer[self.save_count] = state\n",
    "        self.action_buffer[self.save_count] = action\n",
    "        self.reward_buffer[self.save_count] = reward\n",
    "        self.next_state_buffer[self.save_count] = next_state\n",
    "        self.done_buffer[self.save_count] = done\n",
    "\n",
    "        self.save_count = (self.save_count + 1) % self.buffer_size\n",
    "        self.current_size = min(self.current_size+1, self.buffer_size)\n",
    "\n",
    "    def batch_load(self):\n",
    "        indices = np.random.randint(self.current_size, size=self.batch_size)\n",
    "        return dict(\n",
    "                states=self.state_buffer[indices], \n",
    "                actions=self.action_buffer[indices],\n",
    "                rewards=self.reward_buffer[indices],\n",
    "                next_states=self.next_state_buffer[indices], \n",
    "                dones=self.done_buffer[indices]) \n",
    "\n",
    "# ReplayBuffer for Prioritized Experience Replay. \n",
    "class PrioritizedReplayBuffer(ReplayBuffer):\n",
    "    \n",
    "    def __init__(self, buffer_size, input_dim, action_dim, batch_size, alpha):\n",
    "        \n",
    "        super(PrioritizedReplayBuffer, self).__init__(buffer_size, input_dim, action_dim, batch_size)\n",
    "        \n",
    "        # For PER. Parameter settings. \n",
    "        self.max_priority, self.tree_idx = 1.0, 0\n",
    "        self.alpha = alpha\n",
    "\n",
    "        tree_capacity = 1\n",
    "        while tree_capacity < self.buffer_size:\n",
    "            tree_capacity *= 2\n",
    "\n",
    "        self.sum_tree = SumSegmentTree(tree_capacity)\n",
    "        self.min_tree = MinSegmentTree(tree_capacity)\n",
    "        \n",
    "    def store(self, \n",
    "              state: np.float32, \n",
    "              action: np.float32, \n",
    "              reward: np.float32, \n",
    "              next_state: np.ndarray, \n",
    "              done: np.int8):\n",
    "        \n",
    "        super().store(state, action, reward, next_state, done)\n",
    "        \n",
    "        self.sum_tree[self.tree_idx] = self.max_priority ** self.alpha\n",
    "        self.min_tree[self.tree_idx] = self.max_priority ** self.alpha\n",
    "        self.tree_idx = (self.tree_idx + 1) % self.buffer_size\n",
    "\n",
    "    def batch_load(self, beta):\n",
    "        \n",
    "        indices, p_total = self._sample_indices_with_priority()\n",
    "        weights = self._cal_weight(indices, p_total, self.current_size, beta)\n",
    "        return dict(\n",
    "                states=self.state_buffer[indices], \n",
    "                actions=self.action_buffer[indices],\n",
    "                rewards=self.reward_buffer[indices],\n",
    "                next_states=self.next_state_buffer[indices], \n",
    "                dones=self.done_buffer[indices],\n",
    "                weights=weights,\n",
    "                indices=indices) \n",
    "\n",
    "    def update_priorities(self, indices, priorities):\n",
    "        \n",
    "        for idx, priority in zip(indices, priorities.flatten()):\n",
    "            self.sum_tree[idx] = priority ** self.alpha\n",
    "            self.min_tree[idx] = priority ** self.alpha\n",
    "            \n",
    "            self.max_priority = max(self.max_priority, priority)\n",
    "    \n",
    "    def _sample_indices_with_priority(self):\n",
    "\n",
    "        p_total = self.sum_tree.sum() \n",
    "        segment = p_total / self.batch_size\n",
    "        segment_list = [i*segment for i in range(self.batch_size)]\n",
    "        samples = [np.random.uniform(a, a+segment) for a in segment_list]\n",
    "        indices = [self.sum_tree.find_prefixsum_idx(sample) for sample in samples]\n",
    "        \n",
    "        return indices, p_total\n",
    "    \n",
    "    def _cal_weight(self, indices, p_total, N, beta):\n",
    "        \n",
    "        p_min = self.min_tree.min() / p_total\n",
    "        max_weight = (p_min*N) ** (-beta) \n",
    "        \n",
    "        p_samples = np.array([self.sum_tree[idx] for idx in indices]) / p_total\n",
    "        weights = (p_samples*N)**(-beta)/max_weight\n",
    "        return weights\n",
    "    \n",
    "if __name__=='__main__':\n",
    "    buffer_size = 100\n",
    "    input_dim = 2100\n",
    "    action_dim = 100\n",
    "    batch_size = 16\n",
    "    alpha = 0.6\n",
    "    beta = 0.4\n",
    "    buffer = PrioritizedReplayBuffer(buffer_size, input_dim, action_dim, batch_size, alpha)\n",
    "    for i in range(50):\n",
    "        state = np.ones(input_dim)\n",
    "        action = 1\n",
    "        reward = 1\n",
    "        next_state = np.ones(input_dim)\n",
    "        done = 1\n",
    "        buffer.store(state, action, reward, next_state, done)\n",
    "    print(buffer.alpha)\n",
    "    print(buffer.max_priority)\n",
    "    print(buffer.batch_load(beta)['states'].shape)\n",
    "    print(buffer.batch_load(beta)['actions'].shape)\n",
    "    print(buffer.batch_load(beta)['rewards'].shape)\n",
    "    print(buffer.batch_load(beta)['next_states'].shape)\n",
    "    print(buffer.batch_load(beta)['dones'].shape)\n",
    "    print(buffer.batch_load(beta)['weights'].shape)\n",
    "    print(buffer.batch_load(beta)['indices'].__len__())"
   ]
  },
  {
   "cell_type": "code",
   "execution_count": 76,
   "metadata": {
    "ExecuteTime": {
     "end_time": "2020-12-11T01:55:13.398552Z",
     "start_time": "2020-12-11T01:55:13.374234Z"
    }
   },
   "outputs": [
    {
     "data": {
      "text/plain": [
       "'\\nstate = drrave_state_rep(userid_b,item_b,memory,idx_b)\\nstate_rep =  torch.reshape(state,[-1])\\nnext_state = drrave_state_rep(userid_b,item_b,memory,idx_b)\\nnext_state_rep = torch.reshape(next_state,[-1])\\n#R.push(state_rep.detach().cpu().numpy(), action_emb.detach().cpu().numpy(), reward, next_state_rep.detach().cpu().numpy()\\n)\\n'"
      ]
     },
     "execution_count": 76,
     "metadata": {},
     "output_type": "execute_result"
    }
   ],
   "source": [
    "'''\n",
    "state = drrave_state_rep(userid_b,item_b,memory,idx_b)\n",
    "state_rep =  torch.reshape(state,[-1])\n",
    "next_state = drrave_state_rep(userid_b,item_b,memory,idx_b)\n",
    "next_state_rep = torch.reshape(next_state,[-1])\n",
    "#R.push(state_rep.detach().cpu().numpy(), action_emb.detach().cpu().numpy(), reward, next_state_rep.detach().cpu().numpy()\n",
    ")\n",
    "'''"
   ]
  },
  {
   "cell_type": "code",
   "execution_count": 77,
   "metadata": {
    "ExecuteTime": {
     "end_time": "2020-12-11T01:55:13.425094Z",
     "start_time": "2020-12-11T01:55:13.399459Z"
    }
   },
   "outputs": [],
   "source": [
    "# device = 'cpu'\n",
    "device = torch.device('cuda:1')"
   ]
  },
  {
   "cell_type": "code",
   "execution_count": 78,
   "metadata": {
    "ExecuteTime": {
     "end_time": "2020-12-11T01:55:13.441874Z",
     "start_time": "2020-12-11T01:55:13.425877Z"
    }
   },
   "outputs": [],
   "source": [
    "#used for plotting purposes\n",
    "p_loss = []\n",
    "v_loss = []"
   ]
  },
  {
   "cell_type": "code",
   "execution_count": 79,
   "metadata": {
    "ExecuteTime": {
     "end_time": "2020-12-11T01:55:13.453068Z",
     "start_time": "2020-12-11T01:55:13.443030Z"
    }
   },
   "outputs": [],
   "source": [
    "def ddpg_update(batch_size=32, \n",
    "                gamma = 0.6,\n",
    "                min_value=-np.inf,\n",
    "                max_value=np.inf,\n",
    "                soft_tau=1e-2,\n",
    "                beta=0.4):\n",
    "    \n",
    "    batch = replay_buffer.batch_load(beta)\n",
    "    weights = torch.FloatTensor(batch['weights'].reshape(-1, 1)).to(device) # device 는 GPU 번호\n",
    "    states = torch.FloatTensor(batch['states']).to(device)\n",
    "    next_states = torch.FloatTensor(batch['next_states']).to(device)\n",
    "    actions = torch.FloatTensor(batch['actions']).to(device)\n",
    "    rewards = torch.FloatTensor(batch['rewards'].reshape(-1, 1)).to(device)\n",
    "    dones = torch.FloatTensor(batch['dones'].reshape(-1, 1)).to(device)\n",
    "    \n",
    "    # policy loss\n",
    "    policy_loss = -(weights * value_net(states, policy_net(states))).mean()\n",
    "    p_loss.append(policy_loss) \n",
    "    \n",
    "    # value loss\n",
    "    # print(states.shape)\n",
    "    # print(actions.shape)\n",
    "    value = value_net(states, actions)\n",
    "    next_actions   = target_policy_net(next_states) \n",
    "    mask = 1 - dones\n",
    "    expected_value = (rewards + gamma * mask * target_value_net(next_states, next_actions.detach())).to(device) \n",
    "    expected_value = torch.clamp(expected_value, min_value, max_value) \n",
    "    sample_wise_loss = F.smooth_l1_loss(value, expected_value.detach(), reduction=\"none\") \n",
    "        \n",
    "    value_loss = (weights * sample_wise_loss).mean()\n",
    "    v_loss.append(value_loss)\n",
    "    \n",
    "    policy_optimizer.zero_grad()\n",
    "    policy_loss.backward()\n",
    "    policy_optimizer.step()\n",
    "\n",
    "    value_optimizer.zero_grad()\n",
    "    value_loss.backward()\n",
    "    value_optimizer.step()\n",
    "    \n",
    "    # For PER: update priorities of the samples.\n",
    "    epsilon_for_priority = 1e-8\n",
    "    sample_wise_loss = sample_wise_loss.detach().cpu().numpy()\n",
    "    batch_priorities = sample_wise_loss + epsilon_for_priority\n",
    "    replay_buffer.update_priorities(batch['indices'], batch_priorities)\n",
    "\n",
    "    for target_param, param in zip(target_value_net.parameters(), value_net.parameters()):\n",
    "        target_param.data.copy_(target_param.data * (1.0 - soft_tau) + param.data * soft_tau)\n",
    "\n",
    "    for target_param, param in zip(target_policy_net.parameters(), policy_net.parameters()):\n",
    "        target_param.data.copy_(target_param.data * (1.0 - soft_tau) + param.data * soft_tau)\n"
   ]
  },
  {
   "cell_type": "code",
   "execution_count": 80,
   "metadata": {
    "ExecuteTime": {
     "end_time": "2020-12-11T01:55:13.499173Z",
     "start_time": "2020-12-11T01:55:13.453995Z"
    }
   },
   "outputs": [],
   "source": [
    "# #initializing actor and critic networks for drru and drrp state representation\n",
    "\n",
    "# value_net = Critic(5500,100,256).to(device)\n",
    "# policy_net = Actor(5500,100,256).to(device)\n",
    "\n",
    "# target_value_net = Critic(5500,100,256).to(device)\n",
    "# target_policy_net = Actor(5500,100,256).to(device)\n",
    "\n",
    "    \n",
    "# target_policy_net.eval()\n",
    "# target_value_net.eval()\n",
    "\n",
    "# for target_param, param in zip(target_value_net.parameters(), value_net.parameters()):\n",
    "#     target_param.data.copy_(param.data)\n",
    "\n",
    "# for target_param, param in zip(target_policy_net.parameters(), policy_net.parameters()):\n",
    "#     target_param.data.copy_(param.data)\n",
    "\n",
    "# value_criterion = nn.MSELoss()\n",
    "# value_optimizer      = Ranger(value_net.parameters(),  lr=1e-4)\n",
    "# policy_optimizer     = Ranger(policy_net.parameters(), lr=1e-4)"
   ]
  },
  {
   "cell_type": "code",
   "execution_count": 81,
   "metadata": {
    "ExecuteTime": {
     "end_time": "2020-12-11T01:55:13.524198Z",
     "start_time": "2020-12-11T01:55:13.500374Z"
    }
   },
   "outputs": [
    {
     "name": "stdout",
     "output_type": "stream",
     "text": [
      "\u001b[31mPlease check your arguments if you have upgraded adabelief-pytorch from version 0.0.5.\n",
      "\u001b[31mModifications to default arguments:\n",
      "\u001b[31m                           eps  weight_decouple    rectify\n",
      "-----------------------  -----  -----------------  ---------\n",
      "adabelief-pytorch=0.0.5  1e-08  False              False\n",
      "Current version (0.1.0)  1e-16  True               True\n",
      "\u001b[31mFor a complete table of recommended hyperparameters, see\n",
      "\u001b[31mhttps://github.com/juntang-zhuang/Adabelief-Optimizer\n",
      "\u001b[0m\n",
      "Weight decoupling enabled in AdaBelief\n",
      "\u001b[31mPlease check your arguments if you have upgraded adabelief-pytorch from version 0.0.5.\n",
      "\u001b[31mModifications to default arguments:\n",
      "\u001b[31m                           eps  weight_decouple    rectify\n",
      "-----------------------  -----  -----------------  ---------\n",
      "adabelief-pytorch=0.0.5  1e-08  False              False\n",
      "Current version (0.1.0)  1e-16  True               True\n",
      "\u001b[31mFor a complete table of recommended hyperparameters, see\n",
      "\u001b[31mhttps://github.com/juntang-zhuang/Adabelief-Optimizer\n",
      "\u001b[0m\n",
      "Weight decoupling enabled in AdaBelief\n"
     ]
    }
   ],
   "source": [
    "#initializing for drrave state representation\n",
    "\n",
    "value_net = Critic(2100,100,256).to(device)\n",
    "policy_net = Actor(2100,100,256).to(device)\n",
    "\n",
    "target_value_net = Critic(2100,100,256).to(device)\n",
    "target_policy_net = Actor(2100,100,256).to(device)\n",
    "\n",
    "target_policy_net.eval()\n",
    "target_value_net.eval()\n",
    "\n",
    "for target_param, param in zip(target_value_net.parameters(), value_net.parameters()):\n",
    "    target_param.data.copy_(param.data)\n",
    "\n",
    "for target_param, param in zip(target_policy_net.parameters(), policy_net.parameters()):\n",
    "    target_param.data.copy_(param.data)\n",
    "\n",
    "value_criterion = nn.MSELoss()\n",
    "value_optimizer = AdaBelief(value_net.parameters(), lr=1e-3, eps=1e-16, betas=(0.9,0.999), weight_decouple = True, rectify = False)\n",
    "policy_optimizer = AdaBelief(policy_net.parameters(), lr=1e-3, eps=1e-16, betas=(0.9,0.999), weight_decouple = True, rectify = False)"
   ]
  },
  {
   "cell_type": "code",
   "execution_count": 82,
   "metadata": {
    "ExecuteTime": {
     "end_time": "2020-12-11T01:55:13.614035Z",
     "start_time": "2020-12-11T01:55:13.608997Z"
    }
   },
   "outputs": [],
   "source": [
    "buffer_size = 500000\n",
    "replay_buffer = PrioritizedReplayBuffer(buffer_size, input_dim, action_dim, batch_size, alpha)\n",
    "memory = np.ones((train_num,10))*-1"
   ]
  },
  {
   "cell_type": "code",
   "execution_count": 148,
   "metadata": {},
   "outputs": [],
   "source": [
    "torch.sort??"
   ]
  },
  {
   "cell_type": "code",
   "execution_count": 214,
   "metadata": {
    "ExecuteTime": {
     "end_time": "2020-12-11T01:55:15.395754Z",
     "start_time": "2020-12-11T01:55:15.391007Z"
    }
   },
   "outputs": [],
   "source": [
    "def get_action(state, action_emb, userid_b, items):\n",
    "    action_emb = torch.reshape(action_emb,[1,100]).unsqueeze(0).to(device)\n",
    "    m = torch.bmm(action_emb,items).squeeze(0)  #torch.bmm : batch 행렬 곱연산\n",
    "    _, indices = torch.sort(m, descending=True)\n",
    "    index_list = list(indices[0])\n",
    "    for i in index_list: \n",
    "        if users_dict[int(userid_b[0])][\"item\"][i] not in preds:     \n",
    "            preds.add(users_dict[int(userid_b[0])][\"item\"][i]) \n",
    "            return int(i) "
   ]
  },
  {
   "cell_type": "code",
   "execution_count": 206,
   "metadata": {
    "ExecuteTime": {
     "end_time": "2020-12-11T01:55:15.708617Z",
     "start_time": "2020-12-11T01:55:15.706678Z"
    }
   },
   "outputs": [],
   "source": [
    "def update_memory(memory,action,idx):\n",
    "    memory[idx] = list(memory[idx,1:])+[action]"
   ]
  },
  {
   "cell_type": "code",
   "execution_count": 45,
   "metadata": {
    "ExecuteTime": {
     "end_time": "2020-12-11T01:55:15.993852Z",
     "start_time": "2020-12-11T01:55:15.992077Z"
    }
   },
   "outputs": [],
   "source": [
    "rate = 0"
   ]
  },
  {
   "cell_type": "code",
   "execution_count": 46,
   "metadata": {
    "ExecuteTime": {
     "end_time": "2020-12-11T01:55:16.263412Z",
     "start_time": "2020-12-11T01:55:16.259316Z"
    }
   },
   "outputs": [
    {
     "name": "stdout",
     "output_type": "stream",
     "text": [
      "[tensor([573887]), tensor([1254841]), tensor([1501510]), tensor([1501478]), tensor([1596782]), tensor([1677577]), tensor([1677584]), tensor([1683762]), tensor([1698998]), tensor([1712321])]\n"
     ]
    }
   ],
   "source": [
    "it = iter(train_dataloader)\n",
    "first = next(it)\n",
    "item_b,rating_b,size_b,userid_b,idx_b = first['item'],first['rating'],first['size'],first['userid'],first['idx']\n",
    "print(item_b)"
   ]
  },
  {
   "cell_type": "code",
   "execution_count": 47,
   "metadata": {},
   "outputs": [
    {
     "name": "stdout",
     "output_type": "stream",
     "text": [
      "[tensor([2450]), tensor([2624]), tensor([3744]), tensor([4072]), tensor([14346]), tensor([22548]), tensor([28679]), tensor([32324]), tensor([67334]), tensor([92355])]\n"
     ]
    }
   ],
   "source": [
    "first = next(it)\n",
    "item_b,rating_b,size_b,userid_b,idx_b = first['item'],first['rating'],first['size'],first['userid'],first['idx']\n",
    "print(item_b)"
   ]
  },
  {
   "cell_type": "code",
   "execution_count": 48,
   "metadata": {},
   "outputs": [
    {
     "data": {
      "text/plain": [
       "[tensor([5]),\n",
       " tensor([5]),\n",
       " tensor([5]),\n",
       " tensor([4]),\n",
       " tensor([5]),\n",
       " tensor([5]),\n",
       " tensor([4]),\n",
       " tensor([4]),\n",
       " tensor([5]),\n",
       " tensor([5])]"
      ]
     },
     "execution_count": 48,
     "metadata": {},
     "output_type": "execute_result"
    }
   ],
   "source": [
    "first['rating']"
   ]
  },
  {
   "cell_type": "code",
   "execution_count": 49,
   "metadata": {
    "ExecuteTime": {
     "end_time": "2020-12-11T01:55:17.068465Z",
     "start_time": "2020-12-11T01:55:17.066142Z"
    }
   },
   "outputs": [
    {
     "name": "stdout",
     "output_type": "stream",
     "text": [
      "14087016\n"
     ]
    }
   ],
   "source": [
    "print(int(userid_b[0]))"
   ]
  },
  {
   "cell_type": "code",
   "execution_count": 50,
   "metadata": {
    "ExecuteTime": {
     "end_time": "2020-12-11T01:55:17.365820Z",
     "start_time": "2020-12-11T01:55:17.359048Z"
    }
   },
   "outputs": [
    {
     "data": {
      "text/plain": [
       "tensor([[ 1.1038e-02, -1.2569e-02,  2.3547e-02,  ...,  1.7134e-02,\n",
       "         -1.8365e-02, -1.6432e-02],\n",
       "        [ 2.9413e-04, -2.5749e-04,  2.0463e-03,  ...,  1.5012e-05,\n",
       "         -5.8687e-04,  1.3237e-04],\n",
       "        [ 4.0714e-05, -4.1369e-05,  1.2574e-04,  ...,  4.4806e-05,\n",
       "         -1.2691e-05,  1.0757e-05],\n",
       "        ...,\n",
       "        [ 2.2914e-02,  2.2303e-02,  1.6147e-02,  ...,  7.3412e-04,\n",
       "          1.7213e-02, -6.4322e-03],\n",
       "        [ 3.3489e-02,  1.2126e-01,  1.1940e-01,  ...,  1.6545e-01,\n",
       "         -2.9338e-01, -4.8589e-02],\n",
       "        [ 2.4350e-02,  2.2090e-02,  5.1682e-02,  ..., -1.4921e-02,\n",
       "          3.7018e-02, -6.3500e-03]])"
      ]
     },
     "execution_count": 50,
     "metadata": {},
     "output_type": "execute_result"
    }
   ],
   "source": [
    "memory = np.ones((train_num,10))*-1\n",
    "drrave_state_rep(userid_b,item_b,memory,idx_b)"
   ]
  },
  {
   "cell_type": "code",
   "execution_count": 51,
   "metadata": {
    "ExecuteTime": {
     "end_time": "2020-12-11T01:55:17.563451Z",
     "start_time": "2020-12-11T01:55:17.560788Z"
    }
   },
   "outputs": [
    {
     "name": "stdout",
     "output_type": "stream",
     "text": [
      "tensor([2624])\n"
     ]
    }
   ],
   "source": [
    "print(item_b[1])"
   ]
  },
  {
   "cell_type": "code",
   "execution_count": 52,
   "metadata": {
    "ExecuteTime": {
     "end_time": "2020-12-11T01:55:17.831067Z",
     "start_time": "2020-12-11T01:55:17.824602Z"
    }
   },
   "outputs": [
    {
     "name": "stdout",
     "output_type": "stream",
     "text": [
      "[ 2450.  2624.  3744.  4072. 14346. 22548. 28679. 32324. 67334. 92355.]\n"
     ]
    }
   ],
   "source": [
    "memory = np.ones((train_num,10))*-1\n",
    "memory[idx_b] = [item[0] for item in item_b]\n",
    "print(memory[idx_b])"
   ]
  },
  {
   "cell_type": "code",
   "execution_count": 53,
   "metadata": {
    "ExecuteTime": {
     "end_time": "2020-12-11T01:55:18.121812Z",
     "start_time": "2020-12-11T01:55:18.119515Z"
    }
   },
   "outputs": [
    {
     "name": "stdout",
     "output_type": "stream",
     "text": [
      "tensor(2624)\n"
     ]
    }
   ],
   "source": [
    "print(item_b[1][0])"
   ]
  },
  {
   "cell_type": "code",
   "execution_count": 54,
   "metadata": {
    "ExecuteTime": {
     "end_time": "2020-12-11T01:55:18.544607Z",
     "start_time": "2020-12-11T01:55:18.541854Z"
    }
   },
   "outputs": [
    {
     "name": "stdout",
     "output_type": "stream",
     "text": [
      "[[-1.0000e+00 -1.0000e+00 -1.0000e+00 ... -1.0000e+00 -1.0000e+00\n",
      "  -1.0000e+00]\n",
      " [ 2.4500e+03  2.6240e+03  3.7440e+03 ...  3.2324e+04  6.7334e+04\n",
      "   9.2355e+04]\n",
      " [-1.0000e+00 -1.0000e+00 -1.0000e+00 ... -1.0000e+00 -1.0000e+00\n",
      "  -1.0000e+00]\n",
      " ...\n",
      " [-1.0000e+00 -1.0000e+00 -1.0000e+00 ... -1.0000e+00 -1.0000e+00\n",
      "  -1.0000e+00]\n",
      " [-1.0000e+00 -1.0000e+00 -1.0000e+00 ... -1.0000e+00 -1.0000e+00\n",
      "  -1.0000e+00]\n",
      " [-1.0000e+00 -1.0000e+00 -1.0000e+00 ... -1.0000e+00 -1.0000e+00\n",
      "  -1.0000e+00]]\n"
     ]
    }
   ],
   "source": [
    "print(memory)"
   ]
  },
  {
   "cell_type": "code",
   "execution_count": 55,
   "metadata": {
    "ExecuteTime": {
     "end_time": "2020-12-11T01:55:19.220192Z",
     "start_time": "2020-12-11T01:55:19.217639Z"
    }
   },
   "outputs": [
    {
     "name": "stdout",
     "output_type": "stream",
     "text": [
      "tensor([1])\n"
     ]
    }
   ],
   "source": [
    "print(idx_b)"
   ]
  },
  {
   "cell_type": "markdown",
   "metadata": {},
   "source": [
    "## 5. Training"
   ]
  },
  {
   "cell_type": "code",
   "execution_count": 90,
   "metadata": {},
   "outputs": [],
   "source": [
    "OfflineEnv??"
   ]
  },
  {
   "cell_type": "code",
   "execution_count": 211,
   "metadata": {},
   "outputs": [],
   "source": [
    "class OfflineEnv2:\n",
    "\n",
    "    def __init__(self, dataloader, users_dict, item_embeddings_dict):\n",
    "        \n",
    "        self.dataloader = iter(dataloader)\n",
    "        self.users_dict = users_dict\n",
    "        \n",
    "        self.data = next(self.dataloader) # {'item':items,'rating':ratings,'size':size,'userid':user_id,'idx':idx}\n",
    "        self.user_history = self.users_dict[int(self.data['userid'])]\n",
    "        \n",
    "        self.item_embedding = torch.Tensor([np.array(item_embeddings_dict[item]) for item in users_dict[int(self.data['userid'][0])]['item']])\n",
    "        self.items = self.item_embedding.T.unsqueeze(0)\n",
    "\n",
    "        self.memory = [item[0] for item in self.data['item']]\n",
    "        self.done = 0\n",
    "\n",
    "        self.related_books = self.generate_related_books()\n",
    "        self.viewed_pos_books = []\n",
    "    \n",
    "    def generate_related_books(self):\n",
    "        related_movie = []\n",
    "        items = self.user_history['item'][10:]\n",
    "        ratings = self.user_history['rating'][10:]\n",
    "\n",
    "        for item, rating in zip(items, ratings):\n",
    "            if rating > 3:\n",
    "                related_movie.append(item)\n",
    "        \n",
    "        return related_movie\n",
    "\n",
    "    def reset(self):\n",
    "        self.data = next(self.dataloader)\n",
    "        self.memory = [item[0] for item in self.data['item']]\n",
    "        self.user_history = self.users_dict[int(self.data['userid'])]\n",
    "        self.done = 0\n",
    "        self.item_embedding = torch.Tensor([np.array(item_embeddings_dict[item]) for item in users_dict[int(self.data['userid'][0])]['item']])\n",
    "        self.items = self.item_embedding.T.unsqueeze(0)\n",
    "        self.related_books = self.generate_related_books()\n",
    "        self.viewed_pos_books = []\n",
    "\n",
    "    def update_memory(self,action):\n",
    "        self.memory = list(self.memory[1:]) + [self.user_history['item'][action]]\n",
    "        \n",
    "    def step(self, action):\n",
    "        \n",
    "        ### Env : step\n",
    "        ### \n",
    "        rating = int(self.user_history[\"rating\"][action])\n",
    "        normal_rating = (int(rating)-3)/2\n",
    "        reward = torch.Tensor((normal_rating,))\n",
    "        #ep_reward = ep_reward + ratings\n",
    "\n",
    "        if reward > 0:\n",
    "            self.update_memory(action)\n",
    "            self.viewed_pos_books.append(action)\n",
    "    \n",
    "        if len(self.viewed_pos_books) == len(self.related_books):\n",
    "            self.done = 1\n",
    "        \n",
    "        return self.memory, reward, self.done\n"
   ]
  },
  {
   "cell_type": "code",
   "execution_count": 219,
   "metadata": {},
   "outputs": [
    {
     "data": {
      "text/plain": [
       "60"
      ]
     },
     "execution_count": 219,
     "metadata": {},
     "output_type": "execute_result"
    }
   ],
   "source": [
    "len(env.user_history['item'])"
   ]
  },
  {
   "cell_type": "code",
   "execution_count": null,
   "metadata": {
    "ExecuteTime": {
     "start_time": "2020-12-11T01:55:20.117Z"
    }
   },
   "outputs": [
    {
     "name": "stderr",
     "output_type": "stream",
     "text": [
      "  0%|          | 0/190746 [00:00<?, ?it/s]"
     ]
    },
    {
     "name": "stdout",
     "output_type": "stream",
     "text": [
      "User Length 60\n"
     ]
    },
    {
     "name": "stderr",
     "output_type": "stream",
     "text": [
      "  0%|          | 3/190746 [00:00<13:56:53,  3.80it/s]"
     ]
    },
    {
     "name": "stdout",
     "output_type": "stream",
     "text": [
      "User Length 29\n",
      "User Length 23\n",
      "User Length 82\n"
     ]
    },
    {
     "name": "stderr",
     "output_type": "stream",
     "text": [
      "  0%|          | 6/190746 [00:01<13:37:20,  3.89it/s]"
     ]
    },
    {
     "name": "stdout",
     "output_type": "stream",
     "text": [
      "User Length 22\n",
      "User Length 32\n",
      "User Length 33\n"
     ]
    },
    {
     "name": "stderr",
     "output_type": "stream",
     "text": [
      "  0%|          | 8/190746 [00:01<9:59:51,  5.30it/s] "
     ]
    },
    {
     "name": "stdout",
     "output_type": "stream",
     "text": [
      "User Length 27\n",
      "User Length 25\n",
      "User Length 25\n"
     ]
    },
    {
     "name": "stderr",
     "output_type": "stream",
     "text": [
      "  0%|          | 11/190746 [00:01<8:18:06,  6.38it/s]"
     ]
    },
    {
     "name": "stdout",
     "output_type": "stream",
     "text": [
      "User Length 37\n",
      "User Length 31\n"
     ]
    },
    {
     "name": "stderr",
     "output_type": "stream",
     "text": [
      "  0%|          | 13/190746 [00:01<7:39:44,  6.91it/s]"
     ]
    },
    {
     "name": "stdout",
     "output_type": "stream",
     "text": [
      "User Length 42\n",
      "User Length 22\n",
      "User Length 1148\n"
     ]
    },
    {
     "name": "stderr",
     "output_type": "stream",
     "text": [
      "  0%|          | 15/190746 [00:19<144:27:48,  2.73s/it]"
     ]
    },
    {
     "name": "stdout",
     "output_type": "stream",
     "text": [
      "User Length 68\n"
     ]
    },
    {
     "name": "stderr",
     "output_type": "stream",
     "text": [
      "  0%|          | 18/190746 [00:20<75:54:32,  1.43s/it] "
     ]
    },
    {
     "name": "stdout",
     "output_type": "stream",
     "text": [
      "User Length 20\n",
      "User Length 32\n",
      "User Length 32\n"
     ]
    },
    {
     "name": "stderr",
     "output_type": "stream",
     "text": [
      "  0%|          | 21/190746 [00:20<40:05:12,  1.32it/s]"
     ]
    },
    {
     "name": "stdout",
     "output_type": "stream",
     "text": [
      "User Length 23\n",
      "User Length 28\n",
      "User Length 212\n"
     ]
    },
    {
     "name": "stderr",
     "output_type": "stream",
     "text": [
      "  0%|          | 24/190746 [00:22<39:29:49,  1.34it/s]"
     ]
    },
    {
     "name": "stdout",
     "output_type": "stream",
     "text": [
      "User Length 25\n",
      "User Length 19\n",
      "User Length 21\n",
      "User Length 31\n"
     ]
    },
    {
     "name": "stderr",
     "output_type": "stream",
     "text": [
      "  0%|          | 27/190746 [00:22<21:58:21,  2.41it/s]"
     ]
    },
    {
     "name": "stdout",
     "output_type": "stream",
     "text": [
      "User Length 26\n",
      "User Length 342\n"
     ]
    },
    {
     "name": "stderr",
     "output_type": "stream",
     "text": [
      "  0%|          | 29/190746 [00:25<44:52:46,  1.18it/s]"
     ]
    },
    {
     "name": "stdout",
     "output_type": "stream",
     "text": [
      "User Length 30\n",
      "User Length 31\n"
     ]
    },
    {
     "name": "stderr",
     "output_type": "stream",
     "text": [
      "  0%|          | 30/190746 [00:25<33:27:55,  1.58it/s]"
     ]
    },
    {
     "name": "stdout",
     "output_type": "stream",
     "text": [
      "User Length 58\n"
     ]
    },
    {
     "name": "stderr",
     "output_type": "stream",
     "text": [
      "  0%|          | 31/190746 [00:25<28:16:33,  1.87it/s]"
     ]
    },
    {
     "name": "stdout",
     "output_type": "stream",
     "text": [
      "User Length 67\n"
     ]
    },
    {
     "name": "stderr",
     "output_type": "stream",
     "text": [
      "  0%|          | 32/190746 [00:26<25:39:25,  2.06it/s]"
     ]
    },
    {
     "name": "stdout",
     "output_type": "stream",
     "text": [
      "User Length 47\n"
     ]
    },
    {
     "name": "stderr",
     "output_type": "stream",
     "text": [
      "  0%|          | 33/190746 [00:26<21:48:14,  2.43it/s]"
     ]
    },
    {
     "name": "stdout",
     "output_type": "stream",
     "text": [
      "User Length 141\n"
     ]
    },
    {
     "name": "stderr",
     "output_type": "stream",
     "text": [
      "  0%|          | 34/190746 [00:27<29:39:45,  1.79it/s]"
     ]
    },
    {
     "name": "stdout",
     "output_type": "stream",
     "text": [
      "User Length 216\n"
     ]
    },
    {
     "name": "stderr",
     "output_type": "stream",
     "text": [
      "  0%|          | 36/190746 [00:29<35:12:00,  1.50it/s]"
     ]
    },
    {
     "name": "stdout",
     "output_type": "stream",
     "text": [
      "User Length 31\n",
      "User Length 23\n"
     ]
    },
    {
     "name": "stderr",
     "output_type": "stream",
     "text": [
      "  0%|          | 38/190746 [00:29<26:27:52,  2.00it/s]"
     ]
    },
    {
     "name": "stdout",
     "output_type": "stream",
     "text": [
      "User Length 30\n",
      "User Length 46\n"
     ]
    },
    {
     "name": "stderr",
     "output_type": "stream",
     "text": [
      "  0%|          | 39/190746 [00:29<22:16:30,  2.38it/s]"
     ]
    },
    {
     "name": "stdout",
     "output_type": "stream",
     "text": [
      "User Length 21\n",
      "User Length 35\n"
     ]
    },
    {
     "name": "stderr",
     "output_type": "stream",
     "text": [
      "  0%|          | 41/190746 [00:29<17:25:14,  3.04it/s]"
     ]
    },
    {
     "name": "stdout",
     "output_type": "stream",
     "text": [
      "User Length 70\n"
     ]
    },
    {
     "name": "stderr",
     "output_type": "stream",
     "text": [
      "  0%|          | 43/190746 [00:30<15:17:17,  3.46it/s]"
     ]
    },
    {
     "name": "stdout",
     "output_type": "stream",
     "text": [
      "User Length 37\n",
      "User Length 26\n"
     ]
    },
    {
     "name": "stderr",
     "output_type": "stream",
     "text": [
      "  0%|          | 45/190746 [00:30<12:13:03,  4.34it/s]"
     ]
    },
    {
     "name": "stdout",
     "output_type": "stream",
     "text": [
      "User Length 26\n",
      "User Length 21\n",
      "User Length 22\n"
     ]
    },
    {
     "name": "stderr",
     "output_type": "stream",
     "text": [
      "  0%|          | 48/190746 [00:30<9:31:07,  5.56it/s] "
     ]
    },
    {
     "name": "stdout",
     "output_type": "stream",
     "text": [
      "User Length 35\n",
      "User Length 42\n"
     ]
    },
    {
     "name": "stderr",
     "output_type": "stream",
     "text": [
      "  0%|          | 49/190746 [00:31<10:08:27,  5.22it/s]"
     ]
    },
    {
     "name": "stdout",
     "output_type": "stream",
     "text": [
      "User Length 47\n"
     ]
    },
    {
     "name": "stderr",
     "output_type": "stream",
     "text": [
      "  0%|          | 50/190746 [00:31<10:49:56,  4.89it/s]"
     ]
    },
    {
     "name": "stdout",
     "output_type": "stream",
     "text": [
      "User Length 186\n"
     ]
    },
    {
     "name": "stderr",
     "output_type": "stream",
     "text": [
      "  0%|          | 53/190746 [00:32<19:50:29,  2.67it/s]"
     ]
    },
    {
     "name": "stdout",
     "output_type": "stream",
     "text": [
      "User Length 20\n",
      "User Length 20\n",
      "User Length 20\n",
      "User Length 24\n"
     ]
    },
    {
     "name": "stderr",
     "output_type": "stream",
     "text": [
      "  0%|          | 56/190746 [00:33<12:46:19,  4.15it/s]"
     ]
    },
    {
     "name": "stdout",
     "output_type": "stream",
     "text": [
      "User Length 31\n",
      "User Length 49\n"
     ]
    },
    {
     "name": "stderr",
     "output_type": "stream",
     "text": [
      "  0%|          | 58/190746 [00:33<11:43:16,  4.52it/s]"
     ]
    },
    {
     "name": "stdout",
     "output_type": "stream",
     "text": [
      "User Length 39\n",
      "User Length 44\n"
     ]
    },
    {
     "name": "stderr",
     "output_type": "stream",
     "text": [
      "  0%|          | 61/190746 [00:33<9:18:42,  5.69it/s] "
     ]
    },
    {
     "name": "stdout",
     "output_type": "stream",
     "text": [
      "User Length 25\n",
      "User Length 21\n",
      "User Length 26\n",
      "User Length 48\n"
     ]
    },
    {
     "name": "stderr",
     "output_type": "stream",
     "text": [
      "  0%|          | 65/190746 [00:34<7:25:30,  7.13it/s]"
     ]
    },
    {
     "name": "stdout",
     "output_type": "stream",
     "text": [
      "User Length 20\n",
      "User Length 29\n",
      "User Length 49\n"
     ]
    },
    {
     "name": "stderr",
     "output_type": "stream",
     "text": [
      "  0%|          | 66/190746 [00:34<8:36:45,  6.15it/s]"
     ]
    },
    {
     "name": "stdout",
     "output_type": "stream",
     "text": [
      "User Length 68\n"
     ]
    },
    {
     "name": "stderr",
     "output_type": "stream",
     "text": [
      "  0%|          | 68/190746 [00:34<10:10:11,  5.21it/s]"
     ]
    },
    {
     "name": "stdout",
     "output_type": "stream",
     "text": [
      "User Length 30\n",
      "User Length 68\n"
     ]
    },
    {
     "name": "stderr",
     "output_type": "stream",
     "text": [
      "  0%|          | 71/190746 [00:35<10:02:54,  5.27it/s]"
     ]
    },
    {
     "name": "stdout",
     "output_type": "stream",
     "text": [
      "User Length 22\n",
      "User Length 24\n",
      "User Length 117\n"
     ]
    },
    {
     "name": "stderr",
     "output_type": "stream",
     "text": [
      "  0%|          | 74/190746 [00:36<13:44:08,  3.86it/s]"
     ]
    },
    {
     "name": "stdout",
     "output_type": "stream",
     "text": [
      "User Length 23\n",
      "User Length 20\n",
      "User Length 29\n"
     ]
    },
    {
     "name": "stderr",
     "output_type": "stream",
     "text": [
      "  0%|          | 76/190746 [00:36<10:12:01,  5.19it/s]"
     ]
    },
    {
     "name": "stdout",
     "output_type": "stream",
     "text": [
      "User Length 31\n",
      "User Length 21\n",
      "User Length 20\n"
     ]
    },
    {
     "name": "stderr",
     "output_type": "stream",
     "text": [
      "  0%|          | 80/190746 [00:36<7:02:08,  7.53it/s] "
     ]
    },
    {
     "name": "stdout",
     "output_type": "stream",
     "text": [
      "User Length 27\n",
      "User Length 20\n",
      "User Length 34\n"
     ]
    },
    {
     "name": "stderr",
     "output_type": "stream",
     "text": [
      "  0%|          | 82/190746 [00:37<6:39:07,  7.96it/s]"
     ]
    },
    {
     "name": "stdout",
     "output_type": "stream",
     "text": [
      "User Length 23\n",
      "User Length 22\n",
      "User Length 40\n"
     ]
    },
    {
     "name": "stderr",
     "output_type": "stream",
     "text": [
      "  0%|          | 84/190746 [00:37<6:26:23,  8.22it/s]"
     ]
    },
    {
     "name": "stdout",
     "output_type": "stream",
     "text": [
      "User Length 88\n"
     ]
    },
    {
     "name": "stderr",
     "output_type": "stream",
     "text": [
      "  0%|          | 86/190746 [00:37<9:25:49,  5.62it/s]"
     ]
    },
    {
     "name": "stdout",
     "output_type": "stream",
     "text": [
      "User Length 27\n",
      "User Length 94\n"
     ]
    },
    {
     "name": "stderr",
     "output_type": "stream",
     "text": [
      "  0%|          | 87/190746 [00:38<18:11:56,  2.91it/s]"
     ]
    },
    {
     "name": "stdout",
     "output_type": "stream",
     "text": [
      "User Length 372\n"
     ]
    },
    {
     "name": "stderr",
     "output_type": "stream",
     "text": [
      "  0%|          | 90/190746 [00:41<45:17:08,  1.17it/s]"
     ]
    },
    {
     "name": "stdout",
     "output_type": "stream",
     "text": [
      "User Length 23\n",
      "User Length 21\n",
      "User Length 26\n",
      "User Length 49\n"
     ]
    },
    {
     "name": "stderr",
     "output_type": "stream",
     "text": [
      "  0%|          | 92/190746 [00:42<34:14:57,  1.55it/s]"
     ]
    },
    {
     "name": "stdout",
     "output_type": "stream",
     "text": [
      "User Length 58\n"
     ]
    },
    {
     "name": "stderr",
     "output_type": "stream",
     "text": [
      "  0%|          | 94/190746 [00:42<22:34:11,  2.35it/s]"
     ]
    },
    {
     "name": "stdout",
     "output_type": "stream",
     "text": [
      "User Length 36\n",
      "User Length 66\n"
     ]
    },
    {
     "name": "stderr",
     "output_type": "stream",
     "text": [
      "  0%|          | 97/190746 [00:43<16:02:50,  3.30it/s]"
     ]
    },
    {
     "name": "stdout",
     "output_type": "stream",
     "text": [
      "User Length 22\n",
      "User Length 22\n",
      "User Length 25\n",
      "User Length 138\n"
     ]
    },
    {
     "name": "stderr",
     "output_type": "stream",
     "text": [
      "  0%|          | 99/190746 [00:44<19:24:36,  2.73it/s]"
     ]
    },
    {
     "name": "stdout",
     "output_type": "stream",
     "text": [
      "User Length 231\n"
     ]
    },
    {
     "name": "stderr",
     "output_type": "stream",
     "text": [
      "  0%|          | 100/190746 [00:46<42:22:47,  1.25it/s]"
     ]
    },
    {
     "name": "stdout",
     "output_type": "stream",
     "text": [
      "User Length 297\n"
     ]
    },
    {
     "name": "stderr",
     "output_type": "stream",
     "text": [
      "  0%|          | 101/190746 [00:48<66:24:56,  1.25s/it]"
     ]
    },
    {
     "name": "stdout",
     "output_type": "stream",
     "text": [
      "User Length 29\n",
      "User Length 31\n"
     ]
    },
    {
     "name": "stderr",
     "output_type": "stream",
     "text": [
      "  0%|          | 103/190746 [00:48<48:19:19,  1.10it/s]"
     ]
    },
    {
     "name": "stdout",
     "output_type": "stream",
     "text": [
      "User Length 63\n"
     ]
    },
    {
     "name": "stderr",
     "output_type": "stream",
     "text": [
      "  0%|          | 104/190746 [00:48<40:01:39,  1.32it/s]"
     ]
    },
    {
     "name": "stdout",
     "output_type": "stream",
     "text": [
      "User Length 51\n"
     ]
    },
    {
     "name": "stderr",
     "output_type": "stream",
     "text": [
      "  0%|          | 106/190746 [00:49<25:18:32,  2.09it/s]"
     ]
    },
    {
     "name": "stdout",
     "output_type": "stream",
     "text": [
      "User Length 31\n",
      "User Length 28\n"
     ]
    },
    {
     "name": "stderr",
     "output_type": "stream",
     "text": [
      "  0%|          | 107/190746 [00:49<19:56:00,  2.66it/s]"
     ]
    },
    {
     "name": "stdout",
     "output_type": "stream",
     "text": [
      "User Length 21\n",
      "User Length 34\n"
     ]
    },
    {
     "name": "stderr",
     "output_type": "stream",
     "text": [
      "  0%|          | 110/190746 [00:49<13:12:22,  4.01it/s]"
     ]
    },
    {
     "name": "stdout",
     "output_type": "stream",
     "text": [
      "User Length 24\n",
      "User Length 97\n"
     ]
    },
    {
     "name": "stderr",
     "output_type": "stream",
     "text": [
      "  0%|          | 113/190746 [00:50<14:11:35,  3.73it/s]"
     ]
    },
    {
     "name": "stdout",
     "output_type": "stream",
     "text": [
      "User Length 24\n",
      "User Length 24\n",
      "User Length 56\n"
     ]
    },
    {
     "name": "stderr",
     "output_type": "stream",
     "text": [
      "  0%|          | 114/190746 [00:50<14:18:13,  3.70it/s]"
     ]
    },
    {
     "name": "stdout",
     "output_type": "stream",
     "text": [
      "User Length 48\n"
     ]
    },
    {
     "name": "stderr",
     "output_type": "stream",
     "text": [
      "  0%|          | 116/190746 [00:51<11:50:34,  4.47it/s]"
     ]
    },
    {
     "name": "stdout",
     "output_type": "stream",
     "text": [
      "User Length 33\n",
      "User Length 21\n"
     ]
    },
    {
     "name": "stderr",
     "output_type": "stream",
     "text": [
      "  0%|          | 118/190746 [00:51<9:20:14,  5.67it/s] "
     ]
    },
    {
     "name": "stdout",
     "output_type": "stream",
     "text": [
      "User Length 21\n",
      "User Length 26\n",
      "User Length 51\n"
     ]
    },
    {
     "name": "stderr",
     "output_type": "stream",
     "text": [
      "  0%|          | 120/190746 [00:51<9:13:20,  5.74it/s]"
     ]
    },
    {
     "name": "stdout",
     "output_type": "stream",
     "text": [
      "User Length 23\n",
      "User Length 32\n"
     ]
    },
    {
     "name": "stderr",
     "output_type": "stream",
     "text": [
      "  0%|          | 123/190746 [00:52<8:21:03,  6.34it/s]"
     ]
    },
    {
     "name": "stdout",
     "output_type": "stream",
     "text": [
      "User Length 31\n",
      "User Length 21\n",
      "User Length 20\n"
     ]
    },
    {
     "name": "stderr",
     "output_type": "stream",
     "text": [
      "  0%|          | 125/190746 [00:52<6:48:00,  7.79it/s]"
     ]
    },
    {
     "name": "stdout",
     "output_type": "stream",
     "text": [
      "User Length 40\n"
     ]
    },
    {
     "name": "stderr",
     "output_type": "stream",
     "text": [
      "  0%|          | 127/190746 [00:52<6:54:41,  7.66it/s]"
     ]
    },
    {
     "name": "stdout",
     "output_type": "stream",
     "text": [
      "User Length 20\n",
      "User Length 21\n",
      "User Length 29\n"
     ]
    },
    {
     "name": "stderr",
     "output_type": "stream",
     "text": [
      "  0%|          | 129/190746 [00:52<6:20:08,  8.36it/s]"
     ]
    },
    {
     "name": "stdout",
     "output_type": "stream",
     "text": [
      "User Length 56\n"
     ]
    },
    {
     "name": "stderr",
     "output_type": "stream",
     "text": [
      "  0%|          | 131/190746 [00:53<8:32:51,  6.19it/s]"
     ]
    },
    {
     "name": "stdout",
     "output_type": "stream",
     "text": [
      "User Length 36\n",
      "User Length 74\n"
     ]
    },
    {
     "name": "stderr",
     "output_type": "stream",
     "text": [
      "  0%|          | 132/190746 [00:53<12:33:53,  4.21it/s]"
     ]
    },
    {
     "name": "stdout",
     "output_type": "stream",
     "text": [
      "User Length 77\n"
     ]
    },
    {
     "name": "stderr",
     "output_type": "stream",
     "text": [
      "  0%|          | 133/190746 [00:54<15:19:24,  3.46it/s]"
     ]
    },
    {
     "name": "stdout",
     "output_type": "stream",
     "text": [
      "User Length 65\n"
     ]
    },
    {
     "name": "stderr",
     "output_type": "stream",
     "text": [
      "  0%|          | 134/190746 [00:54<17:28:15,  3.03it/s]"
     ]
    },
    {
     "name": "stdout",
     "output_type": "stream",
     "text": [
      "User Length 54\n"
     ]
    },
    {
     "name": "stderr",
     "output_type": "stream",
     "text": [
      "  0%|          | 135/190746 [00:54<17:11:48,  3.08it/s]"
     ]
    },
    {
     "name": "stdout",
     "output_type": "stream",
     "text": [
      "User Length 61\n"
     ]
    },
    {
     "name": "stderr",
     "output_type": "stream",
     "text": [
      "  0%|          | 136/190746 [00:55<18:08:16,  2.92it/s]"
     ]
    },
    {
     "name": "stdout",
     "output_type": "stream",
     "text": [
      "User Length 20\n",
      "User Length 42\n"
     ]
    },
    {
     "name": "stderr",
     "output_type": "stream",
     "text": [
      "  0%|          | 138/190746 [00:55<15:16:07,  3.47it/s]"
     ]
    },
    {
     "name": "stdout",
     "output_type": "stream",
     "text": [
      "User Length 40\n"
     ]
    },
    {
     "name": "stderr",
     "output_type": "stream",
     "text": [
      "  0%|          | 140/190746 [00:55<13:00:46,  4.07it/s]"
     ]
    },
    {
     "name": "stdout",
     "output_type": "stream",
     "text": [
      "User Length 40\n",
      "User Length 27\n"
     ]
    },
    {
     "name": "stderr",
     "output_type": "stream",
     "text": [
      "  0%|          | 141/190746 [00:56<10:51:16,  4.88it/s]"
     ]
    },
    {
     "name": "stdout",
     "output_type": "stream",
     "text": [
      "User Length 108\n"
     ]
    },
    {
     "name": "stderr",
     "output_type": "stream",
     "text": [
      "  0%|          | 143/190746 [00:56<13:49:41,  3.83it/s]"
     ]
    },
    {
     "name": "stdout",
     "output_type": "stream",
     "text": [
      "User Length 23\n",
      "User Length 47\n"
     ]
    },
    {
     "name": "stderr",
     "output_type": "stream",
     "text": [
      "  0%|          | 144/190746 [00:57<13:39:56,  3.87it/s]"
     ]
    },
    {
     "name": "stdout",
     "output_type": "stream",
     "text": [
      "User Length 20\n",
      "User Length 28\n"
     ]
    },
    {
     "name": "stderr",
     "output_type": "stream",
     "text": [
      "  0%|          | 148/190746 [00:57<8:51:57,  5.97it/s] "
     ]
    },
    {
     "name": "stdout",
     "output_type": "stream",
     "text": [
      "User Length 21\n",
      "User Length 26\n",
      "User Length 32\n"
     ]
    },
    {
     "name": "stderr",
     "output_type": "stream",
     "text": [
      "  0%|          | 149/190746 [00:57<8:27:55,  6.25it/s]"
     ]
    },
    {
     "name": "stdout",
     "output_type": "stream",
     "text": [
      "User Length 22\n",
      "User Length 39\n"
     ]
    },
    {
     "name": "stderr",
     "output_type": "stream",
     "text": [
      "  0%|          | 152/190746 [00:57<8:36:56,  6.14it/s]"
     ]
    },
    {
     "name": "stdout",
     "output_type": "stream",
     "text": [
      "User Length 38\n",
      "User Length 29\n"
     ]
    },
    {
     "name": "stderr",
     "output_type": "stream",
     "text": [
      "  0%|          | 154/190746 [00:58<7:18:14,  7.25it/s]"
     ]
    },
    {
     "name": "stdout",
     "output_type": "stream",
     "text": [
      "User Length 21\n",
      "User Length 20\n",
      "User Length 31\n"
     ]
    },
    {
     "name": "stderr",
     "output_type": "stream",
     "text": [
      "  0%|          | 158/190746 [00:58<5:46:50,  9.16it/s]"
     ]
    },
    {
     "name": "stdout",
     "output_type": "stream",
     "text": [
      "User Length 20\n",
      "User Length 28\n",
      "User Length 20\n",
      "User Length 54\n"
     ]
    },
    {
     "name": "stderr",
     "output_type": "stream",
     "text": [
      "  0%|          | 162/190746 [00:58<5:55:35,  8.93it/s]"
     ]
    },
    {
     "name": "stdout",
     "output_type": "stream",
     "text": [
      "User Length 24\n",
      "User Length 20\n",
      "User Length 62\n",
      "User Length 37\n"
     ]
    },
    {
     "name": "stderr",
     "output_type": "stream",
     "text": [
      "  0%|          | 164/190746 [00:59<8:46:09,  6.04it/s]"
     ]
    },
    {
     "name": "stdout",
     "output_type": "stream",
     "text": [
      "User Length 20\n",
      "User Length 74\n"
     ]
    },
    {
     "name": "stderr",
     "output_type": "stream",
     "text": [
      "  0%|          | 167/190746 [01:00<9:39:06,  5.48it/s] "
     ]
    },
    {
     "name": "stdout",
     "output_type": "stream",
     "text": [
      "User Length 28\n",
      "User Length 39\n"
     ]
    },
    {
     "name": "stderr",
     "output_type": "stream",
     "text": [
      "  0%|          | 169/190746 [01:00<8:39:51,  6.11it/s]"
     ]
    },
    {
     "name": "stdout",
     "output_type": "stream",
     "text": [
      "User Length 31\n",
      "User Length 91\n"
     ]
    },
    {
     "name": "stderr",
     "output_type": "stream",
     "text": [
      "  0%|          | 170/190746 [01:01<13:24:15,  3.95it/s]"
     ]
    },
    {
     "name": "stdout",
     "output_type": "stream",
     "text": [
      "User Length 22\n",
      "User Length 40\n"
     ]
    },
    {
     "name": "stderr",
     "output_type": "stream",
     "text": [
      "  0%|          | 172/190746 [01:01<11:18:39,  4.68it/s]"
     ]
    },
    {
     "name": "stdout",
     "output_type": "stream",
     "text": [
      "User Length 46\n"
     ]
    },
    {
     "name": "stderr",
     "output_type": "stream",
     "text": [
      "  0%|          | 173/190746 [01:01<11:13:17,  4.72it/s]"
     ]
    },
    {
     "name": "stdout",
     "output_type": "stream",
     "text": [
      "User Length 58\n"
     ]
    },
    {
     "name": "stderr",
     "output_type": "stream",
     "text": [
      "  0%|          | 176/190746 [01:01<9:41:22,  5.46it/s] "
     ]
    },
    {
     "name": "stdout",
     "output_type": "stream",
     "text": [
      "User Length 20\n",
      "User Length 22\n",
      "User Length 58\n"
     ]
    },
    {
     "name": "stderr",
     "output_type": "stream",
     "text": [
      "  0%|          | 179/190746 [01:02<9:40:24,  5.47it/s] "
     ]
    },
    {
     "name": "stdout",
     "output_type": "stream",
     "text": [
      "User Length 27\n",
      "User Length 30\n",
      "User Length 42\n"
     ]
    },
    {
     "name": "stderr",
     "output_type": "stream",
     "text": [
      "  0%|          | 182/190746 [01:02<8:24:19,  6.30it/s]"
     ]
    },
    {
     "name": "stdout",
     "output_type": "stream",
     "text": [
      "User Length 24\n",
      "User Length 29\n",
      "User Length 48\n"
     ]
    },
    {
     "name": "stderr",
     "output_type": "stream",
     "text": [
      "  0%|          | 184/190746 [01:03<8:31:11,  6.21it/s]"
     ]
    },
    {
     "name": "stdout",
     "output_type": "stream",
     "text": [
      "User Length 28\n",
      "User Length 493\n"
     ]
    },
    {
     "name": "stderr",
     "output_type": "stream",
     "text": [
      "  0%|          | 186/190746 [01:08<65:40:47,  1.24s/it]"
     ]
    },
    {
     "name": "stdout",
     "output_type": "stream",
     "text": [
      "User Length 36\n",
      "User Length 39\n"
     ]
    },
    {
     "name": "stderr",
     "output_type": "stream",
     "text": [
      "  0%|          | 188/190746 [01:08<35:40:07,  1.48it/s]"
     ]
    },
    {
     "name": "stdout",
     "output_type": "stream",
     "text": [
      "User Length 24\n",
      "User Length 22\n",
      "User Length 26\n"
     ]
    },
    {
     "name": "stderr",
     "output_type": "stream",
     "text": [
      "  0%|          | 190/190746 [01:09<26:32:32,  1.99it/s]"
     ]
    },
    {
     "name": "stdout",
     "output_type": "stream",
     "text": [
      "User Length 369\n"
     ]
    },
    {
     "name": "stderr",
     "output_type": "stream",
     "text": [
      "  0%|          | 191/190746 [01:12<70:08:50,  1.33s/it]"
     ]
    },
    {
     "name": "stdout",
     "output_type": "stream",
     "text": [
      "User Length 62\n"
     ]
    },
    {
     "name": "stderr",
     "output_type": "stream",
     "text": [
      "  0%|          | 192/190746 [01:12<55:10:39,  1.04s/it]"
     ]
    },
    {
     "name": "stdout",
     "output_type": "stream",
     "text": [
      "User Length 60\n"
     ]
    },
    {
     "name": "stderr",
     "output_type": "stream",
     "text": [
      "  0%|          | 194/190746 [01:13<32:59:10,  1.60it/s]"
     ]
    },
    {
     "name": "stdout",
     "output_type": "stream",
     "text": [
      "User Length 36\n",
      "User Length 20\n",
      "User Length 27\n"
     ]
    },
    {
     "name": "stderr",
     "output_type": "stream",
     "text": [
      "  0%|          | 196/190746 [01:13<24:16:21,  2.18it/s]"
     ]
    },
    {
     "name": "stdout",
     "output_type": "stream",
     "text": [
      "User Length 353\n"
     ]
    },
    {
     "name": "stderr",
     "output_type": "stream",
     "text": [
      "  0%|          | 198/190746 [01:16<49:43:00,  1.06it/s]"
     ]
    },
    {
     "name": "stdout",
     "output_type": "stream",
     "text": [
      "User Length 36\n",
      "User Length 23\n"
     ]
    },
    {
     "name": "stderr",
     "output_type": "stream",
     "text": [
      "  0%|          | 200/190746 [01:16<36:33:54,  1.45it/s]"
     ]
    },
    {
     "name": "stdout",
     "output_type": "stream",
     "text": [
      "User Length 27\n",
      "User Length 61\n"
     ]
    },
    {
     "name": "stderr",
     "output_type": "stream",
     "text": [
      "  0%|          | 201/190746 [01:17<30:40:54,  1.73it/s]"
     ]
    },
    {
     "name": "stdout",
     "output_type": "stream",
     "text": [
      "User Length 124\n"
     ]
    },
    {
     "name": "stderr",
     "output_type": "stream",
     "text": [
      "  0%|          | 202/190746 [01:17<34:39:36,  1.53it/s]"
     ]
    },
    {
     "name": "stdout",
     "output_type": "stream",
     "text": [
      "User Length 121\n"
     ]
    },
    {
     "name": "stderr",
     "output_type": "stream",
     "text": [
      "  0%|          | 204/190746 [01:18<26:18:10,  2.01it/s]"
     ]
    },
    {
     "name": "stdout",
     "output_type": "stream",
     "text": [
      "User Length 28\n",
      "User Length 32\n"
     ]
    },
    {
     "name": "stderr",
     "output_type": "stream",
     "text": [
      "  0%|          | 207/190746 [01:19<15:00:45,  3.53it/s]"
     ]
    },
    {
     "name": "stdout",
     "output_type": "stream",
     "text": [
      "User Length 24\n",
      "User Length 21\n",
      "User Length 28\n"
     ]
    },
    {
     "name": "stderr",
     "output_type": "stream",
     "text": [
      "  0%|          | 209/190746 [01:19<11:09:58,  4.74it/s]"
     ]
    },
    {
     "name": "stdout",
     "output_type": "stream",
     "text": [
      "User Length 37\n",
      "User Length 22\n"
     ]
    },
    {
     "name": "stderr",
     "output_type": "stream",
     "text": [
      "  0%|          | 211/190746 [01:19<9:02:11,  5.86it/s] "
     ]
    },
    {
     "name": "stdout",
     "output_type": "stream",
     "text": [
      "User Length 25\n",
      "User Length 23\n",
      "User Length 33\n"
     ]
    },
    {
     "name": "stderr",
     "output_type": "stream",
     "text": [
      "  0%|          | 213/190746 [01:19<8:02:19,  6.58it/s]"
     ]
    },
    {
     "name": "stdout",
     "output_type": "stream",
     "text": [
      "User Length 47\n"
     ]
    },
    {
     "name": "stderr",
     "output_type": "stream",
     "text": [
      "  0%|          | 214/190746 [01:19<9:22:50,  5.64it/s]"
     ]
    },
    {
     "name": "stdout",
     "output_type": "stream",
     "text": [
      "User Length 50\n"
     ]
    },
    {
     "name": "stderr",
     "output_type": "stream",
     "text": [
      "  0%|          | 215/190746 [01:20<10:51:05,  4.88it/s]"
     ]
    },
    {
     "name": "stdout",
     "output_type": "stream",
     "text": [
      "User Length 26\n",
      "User Length 80\n"
     ]
    },
    {
     "name": "stderr",
     "output_type": "stream",
     "text": [
      "  0%|          | 217/190746 [01:20<11:38:57,  4.54it/s]"
     ]
    },
    {
     "name": "stdout",
     "output_type": "stream",
     "text": [
      "User Length 26\n",
      "User Length 39\n"
     ]
    },
    {
     "name": "stderr",
     "output_type": "stream",
     "text": [
      "  0%|          | 220/190746 [01:21<8:59:04,  5.89it/s] "
     ]
    },
    {
     "name": "stdout",
     "output_type": "stream",
     "text": [
      "User Length 33\n",
      "User Length 58\n"
     ]
    },
    {
     "name": "stderr",
     "output_type": "stream",
     "text": [
      "  0%|          | 221/190746 [01:21<10:55:47,  4.84it/s]"
     ]
    },
    {
     "name": "stdout",
     "output_type": "stream",
     "text": [
      "User Length 77\n"
     ]
    },
    {
     "name": "stderr",
     "output_type": "stream",
     "text": [
      "  0%|          | 223/190746 [01:21<13:20:54,  3.96it/s]"
     ]
    },
    {
     "name": "stdout",
     "output_type": "stream",
     "text": [
      "User Length 42\n",
      "User Length 68\n"
     ]
    },
    {
     "name": "stderr",
     "output_type": "stream",
     "text": [
      "  0%|          | 226/190746 [01:22<11:35:08,  4.57it/s]"
     ]
    },
    {
     "name": "stdout",
     "output_type": "stream",
     "text": [
      "User Length 27\n",
      "User Length 22\n",
      "User Length 34\n"
     ]
    },
    {
     "name": "stderr",
     "output_type": "stream",
     "text": [
      "  0%|          | 229/190746 [01:22<8:39:23,  6.11it/s] "
     ]
    },
    {
     "name": "stdout",
     "output_type": "stream",
     "text": [
      "User Length 20\n",
      "User Length 35\n",
      "User Length 27\n"
     ]
    },
    {
     "name": "stderr",
     "output_type": "stream",
     "text": [
      "  0%|          | 230/190746 [01:22<7:43:55,  6.84it/s]"
     ]
    },
    {
     "name": "stdout",
     "output_type": "stream",
     "text": [
      "User Length 22\n",
      "User Length 23\n",
      "User Length 35\n"
     ]
    },
    {
     "name": "stderr",
     "output_type": "stream",
     "text": [
      "  0%|          | 234/190746 [01:23<7:02:24,  7.52it/s]"
     ]
    },
    {
     "name": "stdout",
     "output_type": "stream",
     "text": [
      "User Length 36\n",
      "User Length 23\n"
     ]
    },
    {
     "name": "stderr",
     "output_type": "stream",
     "text": [
      "  0%|          | 236/190746 [01:23<6:00:01,  8.82it/s]"
     ]
    },
    {
     "name": "stdout",
     "output_type": "stream",
     "text": [
      "User Length 20\n",
      "User Length 138\n",
      "User Length 144\n"
     ]
    },
    {
     "name": "stderr",
     "output_type": "stream",
     "text": [
      "  0%|          | 238/190746 [01:25<18:27:19,  2.87it/s]"
     ]
    },
    {
     "name": "stdout",
     "output_type": "stream",
     "text": [
      "User Length 40\n"
     ]
    },
    {
     "name": "stderr",
     "output_type": "stream",
     "text": [
      "  0%|          | 239/190746 [01:25<16:16:36,  3.25it/s]"
     ]
    },
    {
     "name": "stdout",
     "output_type": "stream",
     "text": [
      "User Length 26\n",
      "User Length 33\n"
     ]
    },
    {
     "name": "stderr",
     "output_type": "stream",
     "text": [
      "  0%|          | 242/190746 [01:25<12:15:49,  4.31it/s]"
     ]
    },
    {
     "name": "stdout",
     "output_type": "stream",
     "text": [
      "User Length 35\n",
      "User Length 114\n"
     ]
    },
    {
     "name": "stderr",
     "output_type": "stream",
     "text": [
      "  0%|          | 243/190746 [01:26<21:12:21,  2.50it/s]"
     ]
    },
    {
     "name": "stdout",
     "output_type": "stream",
     "text": [
      "User Length 67\n"
     ]
    },
    {
     "name": "stderr",
     "output_type": "stream",
     "text": [
      "  0%|          | 244/190746 [01:27<21:44:04,  2.43it/s]"
     ]
    },
    {
     "name": "stdout",
     "output_type": "stream",
     "text": [
      "User Length 94\n"
     ]
    },
    {
     "name": "stderr",
     "output_type": "stream",
     "text": [
      "  0%|          | 245/190746 [01:27<26:22:08,  2.01it/s]"
     ]
    },
    {
     "name": "stdout",
     "output_type": "stream",
     "text": [
      "User Length 22\n",
      "User Length 74\n"
     ]
    },
    {
     "name": "stderr",
     "output_type": "stream",
     "text": [
      "  0%|          | 249/190746 [01:28<17:30:50,  3.02it/s]"
     ]
    },
    {
     "name": "stdout",
     "output_type": "stream",
     "text": [
      "User Length 21\n",
      "User Length 23\n",
      "User Length 23\n",
      "User Length 153\n"
     ]
    },
    {
     "name": "stderr",
     "output_type": "stream",
     "text": [
      "  0%|          | 252/190746 [01:30<18:57:16,  2.79it/s]"
     ]
    },
    {
     "name": "stdout",
     "output_type": "stream",
     "text": [
      "User Length 36\n",
      "User Length 35\n"
     ]
    },
    {
     "name": "stderr",
     "output_type": "stream",
     "text": [
      "  0%|          | 254/190746 [01:30<12:19:13,  4.29it/s]"
     ]
    },
    {
     "name": "stdout",
     "output_type": "stream",
     "text": [
      "User Length 32\n",
      "User Length 155\n"
     ]
    },
    {
     "name": "stderr",
     "output_type": "stream",
     "text": [
      "  0%|          | 256/190746 [01:31<20:09:13,  2.63it/s]"
     ]
    },
    {
     "name": "stdout",
     "output_type": "stream",
     "text": [
      "User Length 30\n",
      "User Length 28\n"
     ]
    },
    {
     "name": "stderr",
     "output_type": "stream",
     "text": [
      "  0%|          | 258/190746 [01:31<14:30:01,  3.65it/s]"
     ]
    },
    {
     "name": "stdout",
     "output_type": "stream",
     "text": [
      "User Length 36\n",
      "User Length 20\n"
     ]
    },
    {
     "name": "stderr",
     "output_type": "stream",
     "text": [
      "  0%|          | 260/190746 [01:31<11:02:28,  4.79it/s]"
     ]
    },
    {
     "name": "stdout",
     "output_type": "stream",
     "text": [
      "User Length 20\n",
      "User Length 40\n"
     ]
    },
    {
     "name": "stderr",
     "output_type": "stream",
     "text": [
      "  0%|          | 261/190746 [01:32<10:57:22,  4.83it/s]"
     ]
    },
    {
     "name": "stdout",
     "output_type": "stream",
     "text": [
      "User Length 25\n",
      "User Length 219\n"
     ]
    },
    {
     "name": "stderr",
     "output_type": "stream",
     "text": [
      "  0%|          | 263/190746 [01:33<21:41:06,  2.44it/s]"
     ]
    },
    {
     "name": "stdout",
     "output_type": "stream",
     "text": [
      "User Length 52\n"
     ]
    },
    {
     "name": "stderr",
     "output_type": "stream",
     "text": [
      "  0%|          | 264/190746 [01:34<19:00:15,  2.78it/s]"
     ]
    },
    {
     "name": "stdout",
     "output_type": "stream",
     "text": [
      "User Length 91\n"
     ]
    },
    {
     "name": "stderr",
     "output_type": "stream",
     "text": [
      "  0%|          | 265/190746 [01:34<21:20:10,  2.48it/s]"
     ]
    },
    {
     "name": "stdout",
     "output_type": "stream",
     "text": [
      "User Length 23\n",
      "User Length 36\n"
     ]
    },
    {
     "name": "stderr",
     "output_type": "stream",
     "text": [
      "  0%|          | 268/190746 [01:35<14:37:42,  3.62it/s]"
     ]
    },
    {
     "name": "stdout",
     "output_type": "stream",
     "text": [
      "User Length 40\n",
      "User Length 19\n",
      "User Length 63\n"
     ]
    },
    {
     "name": "stderr",
     "output_type": "stream",
     "text": [
      "  0%|          | 270/190746 [01:35<13:02:01,  4.06it/s]"
     ]
    },
    {
     "name": "stdout",
     "output_type": "stream",
     "text": [
      "User Length 21\n",
      "User Length 38\n"
     ]
    },
    {
     "name": "stderr",
     "output_type": "stream",
     "text": [
      "  0%|          | 272/190746 [01:35<10:56:28,  4.84it/s]"
     ]
    },
    {
     "name": "stdout",
     "output_type": "stream",
     "text": [
      "User Length 23\n",
      "User Length 37\n"
     ]
    },
    {
     "name": "stderr",
     "output_type": "stream",
     "text": [
      "  0%|          | 274/190746 [01:35<9:37:28,  5.50it/s] "
     ]
    },
    {
     "name": "stdout",
     "output_type": "stream",
     "text": [
      "User Length 95\n"
     ]
    },
    {
     "name": "stderr",
     "output_type": "stream",
     "text": [
      "  0%|          | 275/190746 [01:36<15:25:46,  3.43it/s]"
     ]
    },
    {
     "name": "stdout",
     "output_type": "stream",
     "text": [
      "User Length 48\n"
     ]
    },
    {
     "name": "stderr",
     "output_type": "stream",
     "text": [
      "  0%|          | 276/190746 [01:36<15:08:40,  3.49it/s]"
     ]
    },
    {
     "name": "stdout",
     "output_type": "stream",
     "text": [
      "User Length 23\n",
      "User Length 45\n"
     ]
    },
    {
     "name": "stderr",
     "output_type": "stream",
     "text": [
      "  0%|          | 279/190746 [01:37<11:05:38,  4.77it/s]"
     ]
    },
    {
     "name": "stdout",
     "output_type": "stream",
     "text": [
      "User Length 31\n",
      "User Length 20\n",
      "User Length 23\n"
     ]
    },
    {
     "name": "stderr",
     "output_type": "stream",
     "text": [
      "  0%|          | 282/190746 [01:37<7:48:17,  6.78it/s] "
     ]
    },
    {
     "name": "stdout",
     "output_type": "stream",
     "text": [
      "User Length 29\n",
      "User Length 47\n"
     ]
    },
    {
     "name": "stderr",
     "output_type": "stream",
     "text": [
      "  0%|          | 283/190746 [01:37<8:49:56,  5.99it/s]"
     ]
    },
    {
     "name": "stdout",
     "output_type": "stream",
     "text": [
      "User Length 24\n",
      "User Length 689\n"
     ]
    },
    {
     "name": "stderr",
     "output_type": "stream",
     "text": [
      "  0%|          | 285/190746 [01:45<70:13:25,  1.33s/it]"
     ]
    },
    {
     "name": "stdout",
     "output_type": "stream",
     "text": [
      "User Length 23\n",
      "User Length 28\n"
     ]
    },
    {
     "name": "stderr",
     "output_type": "stream",
     "text": [
      "  0%|          | 287/190746 [01:45<50:51:06,  1.04it/s]"
     ]
    },
    {
     "name": "stdout",
     "output_type": "stream",
     "text": [
      "User Length 24\n",
      "User Length 47\n"
     ]
    },
    {
     "name": "stderr",
     "output_type": "stream",
     "text": [
      "  0%|          | 289/190746 [01:46<38:05:38,  1.39it/s]"
     ]
    },
    {
     "name": "stdout",
     "output_type": "stream",
     "text": [
      "User Length 20\n",
      "User Length 115\n"
     ]
    },
    {
     "name": "stderr",
     "output_type": "stream",
     "text": [
      "  0%|          | 292/190746 [01:47<25:15:39,  2.09it/s]"
     ]
    },
    {
     "name": "stdout",
     "output_type": "stream",
     "text": [
      "User Length 35\n",
      "User Length 28\n"
     ]
    },
    {
     "name": "stderr",
     "output_type": "stream",
     "text": [
      "  0%|          | 294/190746 [01:47<19:35:26,  2.70it/s]"
     ]
    },
    {
     "name": "stdout",
     "output_type": "stream",
     "text": [
      "User Length 37\n",
      "User Length 22\n"
     ]
    },
    {
     "name": "stderr",
     "output_type": "stream",
     "text": [
      "  0%|          | 296/190746 [01:47<15:20:39,  3.45it/s]"
     ]
    },
    {
     "name": "stdout",
     "output_type": "stream",
     "text": [
      "User Length 31\n",
      "User Length 34\n"
     ]
    },
    {
     "name": "stderr",
     "output_type": "stream",
     "text": [
      "  0%|          | 297/190746 [01:47<12:59:55,  4.07it/s]"
     ]
    },
    {
     "name": "stdout",
     "output_type": "stream",
     "text": [
      "User Length 140\n"
     ]
    },
    {
     "name": "stderr",
     "output_type": "stream",
     "text": [
      "  0%|          | 299/190746 [01:48<20:25:25,  2.59it/s]"
     ]
    },
    {
     "name": "stdout",
     "output_type": "stream",
     "text": [
      "User Length 42\n",
      "User Length 51\n"
     ]
    },
    {
     "name": "stderr",
     "output_type": "stream",
     "text": [
      "  0%|          | 301/190746 [01:49<14:22:38,  3.68it/s]"
     ]
    },
    {
     "name": "stdout",
     "output_type": "stream",
     "text": [
      "User Length 20\n",
      "User Length 42\n"
     ]
    },
    {
     "name": "stderr",
     "output_type": "stream",
     "text": [
      "  0%|          | 302/190746 [01:49<14:00:33,  3.78it/s]"
     ]
    },
    {
     "name": "stdout",
     "output_type": "stream",
     "text": [
      "User Length 20\n",
      "User Length 53\n"
     ]
    },
    {
     "name": "stderr",
     "output_type": "stream",
     "text": [
      "  0%|          | 304/190746 [01:49<13:04:34,  4.05it/s]"
     ]
    },
    {
     "name": "stdout",
     "output_type": "stream",
     "text": [
      "User Length 84\n"
     ]
    },
    {
     "name": "stderr",
     "output_type": "stream",
     "text": [
      "  0%|          | 305/190746 [01:50<16:31:57,  3.20it/s]"
     ]
    },
    {
     "name": "stdout",
     "output_type": "stream",
     "text": [
      "User Length 68\n"
     ]
    },
    {
     "name": "stderr",
     "output_type": "stream",
     "text": [
      "  0%|          | 306/190746 [01:50<17:25:17,  3.04it/s]"
     ]
    },
    {
     "name": "stdout",
     "output_type": "stream",
     "text": [
      "User Length 81\n"
     ]
    },
    {
     "name": "stderr",
     "output_type": "stream",
     "text": [
      "  0%|          | 307/190746 [01:51<20:18:45,  2.60it/s]"
     ]
    },
    {
     "name": "stdout",
     "output_type": "stream",
     "text": [
      "User Length 39\n"
     ]
    },
    {
     "name": "stderr",
     "output_type": "stream",
     "text": [
      "  0%|          | 309/190746 [01:51<15:19:51,  3.45it/s]"
     ]
    },
    {
     "name": "stdout",
     "output_type": "stream",
     "text": [
      "User Length 32\n",
      "User Length 270\n"
     ]
    },
    {
     "name": "stderr",
     "output_type": "stream",
     "text": [
      "  0%|          | 310/190746 [01:53<46:01:01,  1.15it/s]"
     ]
    },
    {
     "name": "stdout",
     "output_type": "stream",
     "text": [
      "User Length 122\n"
     ]
    },
    {
     "name": "stderr",
     "output_type": "stream",
     "text": [
      "  0%|          | 313/190746 [01:54<32:09:13,  1.65it/s]"
     ]
    },
    {
     "name": "stdout",
     "output_type": "stream",
     "text": [
      "User Length 20\n",
      "User Length 21\n",
      "User Length 20\n"
     ]
    },
    {
     "name": "stderr",
     "output_type": "stream",
     "text": [
      "  0%|          | 315/190746 [01:54<23:42:30,  2.23it/s]"
     ]
    },
    {
     "name": "stdout",
     "output_type": "stream",
     "text": [
      "User Length 23\n",
      "User Length 78\n"
     ]
    },
    {
     "name": "stderr",
     "output_type": "stream",
     "text": [
      "  0%|          | 316/190746 [01:55<23:10:08,  2.28it/s]"
     ]
    },
    {
     "name": "stdout",
     "output_type": "stream",
     "text": [
      "User Length 181\n"
     ]
    },
    {
     "name": "stderr",
     "output_type": "stream",
     "text": [
      "  0%|          | 318/190746 [01:56<27:29:22,  1.92it/s]"
     ]
    },
    {
     "name": "stdout",
     "output_type": "stream",
     "text": [
      "User Length 25\n",
      "User Length 72\n"
     ]
    },
    {
     "name": "stderr",
     "output_type": "stream",
     "text": [
      "  0%|          | 319/190746 [01:57<25:38:45,  2.06it/s]"
     ]
    },
    {
     "name": "stdout",
     "output_type": "stream",
     "text": [
      "User Length 46\n"
     ]
    },
    {
     "name": "stderr",
     "output_type": "stream",
     "text": [
      "  0%|          | 321/190746 [01:57<17:05:50,  3.09it/s]"
     ]
    },
    {
     "name": "stdout",
     "output_type": "stream",
     "text": [
      "User Length 32\n",
      "User Length 44\n"
     ]
    },
    {
     "name": "stderr",
     "output_type": "stream",
     "text": [
      "  0%|          | 323/190746 [01:57<12:53:26,  4.10it/s]"
     ]
    },
    {
     "name": "stdout",
     "output_type": "stream",
     "text": [
      "User Length 26\n",
      "User Length 85\n"
     ]
    },
    {
     "name": "stderr",
     "output_type": "stream",
     "text": [
      "  0%|          | 325/190746 [01:58<13:38:36,  3.88it/s]"
     ]
    },
    {
     "name": "stdout",
     "output_type": "stream",
     "text": [
      "User Length 36\n",
      "User Length 37\n"
     ]
    },
    {
     "name": "stderr",
     "output_type": "stream",
     "text": [
      "  0%|          | 326/190746 [01:58<12:38:57,  4.18it/s]"
     ]
    },
    {
     "name": "stdout",
     "output_type": "stream",
     "text": [
      "User Length 52\n"
     ]
    },
    {
     "name": "stderr",
     "output_type": "stream",
     "text": [
      "  0%|          | 329/190746 [01:59<10:42:52,  4.94it/s]"
     ]
    },
    {
     "name": "stdout",
     "output_type": "stream",
     "text": [
      "User Length 21\n",
      "User Length 24\n",
      "User Length 58\n"
     ]
    },
    {
     "name": "stderr",
     "output_type": "stream",
     "text": [
      "  0%|          | 331/190746 [01:59<11:24:54,  4.63it/s]"
     ]
    },
    {
     "name": "stdout",
     "output_type": "stream",
     "text": [
      "User Length 29\n",
      "User Length 64\n"
     ]
    },
    {
     "name": "stderr",
     "output_type": "stream",
     "text": [
      "  0%|          | 332/190746 [01:59<13:44:45,  3.85it/s]"
     ]
    },
    {
     "name": "stdout",
     "output_type": "stream",
     "text": [
      "User Length 103\n"
     ]
    },
    {
     "name": "stderr",
     "output_type": "stream",
     "text": [
      "  0%|          | 333/190746 [02:00<20:31:58,  2.58it/s]"
     ]
    },
    {
     "name": "stdout",
     "output_type": "stream",
     "text": [
      "User Length 53\n"
     ]
    },
    {
     "name": "stderr",
     "output_type": "stream",
     "text": [
      "  0%|          | 335/190746 [02:01<15:31:02,  3.41it/s]"
     ]
    },
    {
     "name": "stdout",
     "output_type": "stream",
     "text": [
      "User Length 34\n",
      "User Length 48\n"
     ]
    },
    {
     "name": "stderr",
     "output_type": "stream",
     "text": [
      "  0%|          | 336/190746 [02:01<14:16:37,  3.70it/s]"
     ]
    },
    {
     "name": "stdout",
     "output_type": "stream",
     "text": [
      "User Length 60\n"
     ]
    },
    {
     "name": "stderr",
     "output_type": "stream",
     "text": [
      "  0%|          | 337/190746 [02:01<14:43:35,  3.59it/s]"
     ]
    },
    {
     "name": "stdout",
     "output_type": "stream",
     "text": [
      "User Length 126\n"
     ]
    },
    {
     "name": "stderr",
     "output_type": "stream",
     "text": [
      "  0%|          | 338/190746 [02:02<22:40:14,  2.33it/s]"
     ]
    },
    {
     "name": "stdout",
     "output_type": "stream",
     "text": [
      "User Length 88\n"
     ]
    },
    {
     "name": "stderr",
     "output_type": "stream",
     "text": [
      "  0%|          | 339/190746 [02:02<23:56:59,  2.21it/s]"
     ]
    },
    {
     "name": "stdout",
     "output_type": "stream",
     "text": [
      "User Length 92\n"
     ]
    },
    {
     "name": "stderr",
     "output_type": "stream",
     "text": [
      "  0%|          | 340/190746 [02:03<25:05:27,  2.11it/s]"
     ]
    },
    {
     "name": "stdout",
     "output_type": "stream",
     "text": [
      "User Length 1683\n"
     ]
    },
    {
     "name": "stderr",
     "output_type": "stream",
     "text": [
      "  0%|          | 343/190746 [02:38<400:13:33,  7.57s/it]"
     ]
    },
    {
     "name": "stdout",
     "output_type": "stream",
     "text": [
      "User Length 24\n",
      "User Length 31\n",
      "User Length 76\n"
     ]
    },
    {
     "name": "stderr",
     "output_type": "stream",
     "text": [
      "  0%|          | 345/190746 [02:38<202:51:57,  3.84s/it]"
     ]
    },
    {
     "name": "stdout",
     "output_type": "stream",
     "text": [
      "User Length 32\n",
      "User Length 60\n"
     ]
    },
    {
     "name": "stderr",
     "output_type": "stream",
     "text": [
      "  0%|          | 346/190746 [02:39<146:52:33,  2.78s/it]"
     ]
    },
    {
     "name": "stdout",
     "output_type": "stream",
     "text": [
      "User Length 42\n"
     ]
    },
    {
     "name": "stderr",
     "output_type": "stream",
     "text": [
      "  0%|          | 349/190746 [02:39<75:40:03,  1.43s/it] "
     ]
    },
    {
     "name": "stdout",
     "output_type": "stream",
     "text": [
      "User Length 24\n",
      "User Length 20\n",
      "User Length 54\n"
     ]
    },
    {
     "name": "stderr",
     "output_type": "stream",
     "text": [
      "  0%|          | 352/190746 [02:40<41:20:30,  1.28it/s]"
     ]
    },
    {
     "name": "stdout",
     "output_type": "stream",
     "text": [
      "User Length 23\n",
      "User Length 22\n",
      "User Length 153\n"
     ]
    },
    {
     "name": "stderr",
     "output_type": "stream",
     "text": [
      "  0%|          | 354/190746 [02:41<33:18:21,  1.59it/s]"
     ]
    },
    {
     "name": "stdout",
     "output_type": "stream",
     "text": [
      "User Length 32\n",
      "User Length 63\n"
     ]
    },
    {
     "name": "stderr",
     "output_type": "stream",
     "text": [
      "  0%|          | 355/190746 [02:41<28:39:51,  1.85it/s]"
     ]
    },
    {
     "name": "stdout",
     "output_type": "stream",
     "text": [
      "User Length 417\n"
     ]
    },
    {
     "name": "stderr",
     "output_type": "stream",
     "text": [
      "  0%|          | 356/190746 [02:45<82:43:56,  1.56s/it]"
     ]
    },
    {
     "name": "stdout",
     "output_type": "stream",
     "text": [
      "User Length 20\n",
      "User Length 80\n"
     ]
    },
    {
     "name": "stderr",
     "output_type": "stream",
     "text": [
      "  0%|          | 359/190746 [02:46<45:09:39,  1.17it/s]"
     ]
    },
    {
     "name": "stdout",
     "output_type": "stream",
     "text": [
      "User Length 29\n",
      "User Length 567\n"
     ]
    },
    {
     "name": "stderr",
     "output_type": "stream",
     "text": [
      "  0%|          | 360/190746 [02:52<128:19:16,  2.43s/it]"
     ]
    },
    {
     "name": "stdout",
     "output_type": "stream",
     "text": [
      "User Length 22\n",
      "User Length 78\n"
     ]
    },
    {
     "name": "stderr",
     "output_type": "stream",
     "text": [
      "  0%|          | 363/190746 [02:52<69:06:38,  1.31s/it] "
     ]
    },
    {
     "name": "stdout",
     "output_type": "stream",
     "text": [
      "User Length 33\n",
      "User Length 35\n"
     ]
    },
    {
     "name": "stderr",
     "output_type": "stream",
     "text": [
      "  0%|          | 364/190746 [02:53<51:19:50,  1.03it/s]"
     ]
    },
    {
     "name": "stdout",
     "output_type": "stream",
     "text": [
      "User Length 63\n"
     ]
    },
    {
     "name": "stderr",
     "output_type": "stream",
     "text": [
      "  0%|          | 365/190746 [02:53<41:30:24,  1.27it/s]"
     ]
    },
    {
     "name": "stdout",
     "output_type": "stream",
     "text": [
      "User Length 68\n"
     ]
    },
    {
     "name": "stderr",
     "output_type": "stream",
     "text": [
      "  0%|          | 367/190746 [02:54<27:05:17,  1.95it/s]"
     ]
    },
    {
     "name": "stdout",
     "output_type": "stream",
     "text": [
      "User Length 30\n",
      "User Length 35\n"
     ]
    },
    {
     "name": "stderr",
     "output_type": "stream",
     "text": [
      "  0%|          | 368/190746 [02:54<20:53:48,  2.53it/s]"
     ]
    },
    {
     "name": "stdout",
     "output_type": "stream",
     "text": [
      "User Length 44\n"
     ]
    },
    {
     "name": "stderr",
     "output_type": "stream",
     "text": [
      "  0%|          | 369/190746 [02:54<18:03:04,  2.93it/s]"
     ]
    },
    {
     "name": "stdout",
     "output_type": "stream",
     "text": [
      "User Length 25\n",
      "User Length 92\n"
     ]
    },
    {
     "name": "stderr",
     "output_type": "stream",
     "text": [
      "  0%|          | 371/190746 [02:54<17:19:48,  3.05it/s]"
     ]
    },
    {
     "name": "stdout",
     "output_type": "stream",
     "text": [
      "User Length 25\n",
      "User Length 53\n"
     ]
    },
    {
     "name": "stderr",
     "output_type": "stream",
     "text": [
      "  0%|          | 375/190746 [02:55<11:36:52,  4.55it/s]"
     ]
    },
    {
     "name": "stdout",
     "output_type": "stream",
     "text": [
      "User Length 22\n",
      "User Length 26\n",
      "User Length 43\n"
     ]
    },
    {
     "name": "stderr",
     "output_type": "stream",
     "text": [
      "  0%|          | 376/190746 [02:55<11:11:40,  4.72it/s]"
     ]
    },
    {
     "name": "stdout",
     "output_type": "stream",
     "text": [
      "User Length 106\n"
     ]
    },
    {
     "name": "stderr",
     "output_type": "stream",
     "text": [
      "  0%|          | 377/190746 [02:56<17:27:48,  3.03it/s]"
     ]
    },
    {
     "name": "stdout",
     "output_type": "stream",
     "text": [
      "User Length 22\n",
      "User Length 57\n"
     ]
    },
    {
     "name": "stderr",
     "output_type": "stream",
     "text": [
      "  0%|          | 379/190746 [02:56<14:56:39,  3.54it/s]"
     ]
    },
    {
     "name": "stdout",
     "output_type": "stream",
     "text": [
      "User Length 22\n",
      "User Length 56\n"
     ]
    },
    {
     "name": "stderr",
     "output_type": "stream",
     "text": [
      "  0%|          | 381/190746 [02:56<13:16:28,  3.98it/s]"
     ]
    },
    {
     "name": "stdout",
     "output_type": "stream",
     "text": [
      "User Length 430\n"
     ]
    },
    {
     "name": "stderr",
     "output_type": "stream",
     "text": [
      "  0%|          | 384/190746 [03:01<53:37:54,  1.01s/it]"
     ]
    },
    {
     "name": "stdout",
     "output_type": "stream",
     "text": [
      "User Length 28\n",
      "User Length 23\n",
      "User Length 28\n"
     ]
    },
    {
     "name": "stderr",
     "output_type": "stream",
     "text": [
      "  0%|          | 385/190746 [03:01<39:22:57,  1.34it/s]"
     ]
    },
    {
     "name": "stdout",
     "output_type": "stream",
     "text": [
      "User Length 50\n"
     ]
    },
    {
     "name": "stderr",
     "output_type": "stream",
     "text": [
      "  0%|          | 387/190746 [03:01<24:25:20,  2.17it/s]"
     ]
    },
    {
     "name": "stdout",
     "output_type": "stream",
     "text": [
      "User Length 28\n",
      "User Length 33\n"
     ]
    },
    {
     "name": "stderr",
     "output_type": "stream",
     "text": [
      "  0%|          | 388/190746 [03:01<19:34:19,  2.70it/s]"
     ]
    },
    {
     "name": "stdout",
     "output_type": "stream",
     "text": [
      "User Length 111\n"
     ]
    },
    {
     "name": "stderr",
     "output_type": "stream",
     "text": [
      "  0%|          | 390/190746 [03:02<20:02:24,  2.64it/s]"
     ]
    },
    {
     "name": "stdout",
     "output_type": "stream",
     "text": [
      "User Length 27\n",
      "User Length 23\n",
      "User Length 115\n"
     ]
    },
    {
     "name": "stderr",
     "output_type": "stream",
     "text": [
      "  0%|          | 392/190746 [03:03<20:37:21,  2.56it/s]"
     ]
    },
    {
     "name": "stdout",
     "output_type": "stream",
     "text": [
      "User Length 44\n"
     ]
    },
    {
     "name": "stderr",
     "output_type": "stream",
     "text": [
      "  0%|          | 393/190746 [03:03<18:09:04,  2.91it/s]"
     ]
    },
    {
     "name": "stdout",
     "output_type": "stream",
     "text": [
      "User Length 61\n"
     ]
    },
    {
     "name": "stderr",
     "output_type": "stream",
     "text": [
      "  0%|          | 395/190746 [03:04<16:04:36,  3.29it/s]"
     ]
    },
    {
     "name": "stdout",
     "output_type": "stream",
     "text": [
      "User Length 27\n",
      "User Length 75\n"
     ]
    },
    {
     "name": "stderr",
     "output_type": "stream",
     "text": [
      "  0%|          | 396/190746 [03:04<19:20:02,  2.73it/s]"
     ]
    },
    {
     "name": "stdout",
     "output_type": "stream",
     "text": [
      "User Length 310\n"
     ]
    },
    {
     "name": "stderr",
     "output_type": "stream",
     "text": [
      "  0%|          | 398/190746 [03:07<43:04:57,  1.23it/s]"
     ]
    },
    {
     "name": "stdout",
     "output_type": "stream",
     "text": [
      "User Length 30\n",
      "User Length 37\n"
     ]
    },
    {
     "name": "stderr",
     "output_type": "stream",
     "text": [
      "  0%|          | 399/190746 [03:08<32:43:46,  1.62it/s]"
     ]
    },
    {
     "name": "stdout",
     "output_type": "stream",
     "text": [
      "User Length 21\n",
      "User Length 65\n"
     ]
    },
    {
     "name": "stderr",
     "output_type": "stream",
     "text": [
      "  0%|          | 402/190746 [03:08<20:16:55,  2.61it/s]"
     ]
    },
    {
     "name": "stdout",
     "output_type": "stream",
     "text": [
      "User Length 30\n",
      "User Length 24\n"
     ]
    },
    {
     "name": "stderr",
     "output_type": "stream",
     "text": [
      "  0%|          | 403/190746 [03:08<15:48:34,  3.34it/s]"
     ]
    },
    {
     "name": "stdout",
     "output_type": "stream",
     "text": [
      "User Length 26\n",
      "User Length 42\n"
     ]
    },
    {
     "name": "stderr",
     "output_type": "stream",
     "text": [
      "  0%|          | 405/190746 [03:09<13:11:54,  4.01it/s]"
     ]
    },
    {
     "name": "stdout",
     "output_type": "stream",
     "text": [
      "User Length 43\n"
     ]
    },
    {
     "name": "stderr",
     "output_type": "stream",
     "text": [
      "  0%|          | 407/190746 [03:09<10:52:50,  4.86it/s]"
     ]
    },
    {
     "name": "stdout",
     "output_type": "stream",
     "text": [
      "User Length 36\n",
      "User Length 103\n"
     ]
    },
    {
     "name": "stderr",
     "output_type": "stream",
     "text": [
      "  0%|          | 409/190746 [03:10<13:41:47,  3.86it/s]"
     ]
    },
    {
     "name": "stdout",
     "output_type": "stream",
     "text": [
      "User Length 30\n",
      "User Length 58\n"
     ]
    },
    {
     "name": "stderr",
     "output_type": "stream",
     "text": [
      "  0%|          | 411/190746 [03:10<11:36:28,  4.55it/s]"
     ]
    },
    {
     "name": "stdout",
     "output_type": "stream",
     "text": [
      "User Length 37\n",
      "User Length 24\n",
      "User Length 61\n"
     ]
    },
    {
     "name": "stderr",
     "output_type": "stream",
     "text": [
      "  0%|          | 414/190746 [03:11<10:14:59,  5.16it/s]"
     ]
    },
    {
     "name": "stdout",
     "output_type": "stream",
     "text": [
      "User Length 39\n",
      "User Length 24\n"
     ]
    },
    {
     "name": "stderr",
     "output_type": "stream",
     "text": [
      "  0%|          | 416/190746 [03:11<8:45:11,  6.04it/s] "
     ]
    },
    {
     "name": "stdout",
     "output_type": "stream",
     "text": [
      "User Length 30\n",
      "User Length 22\n",
      "User Length 27\n"
     ]
    },
    {
     "name": "stderr",
     "output_type": "stream",
     "text": [
      "  0%|          | 420/190746 [03:11<6:41:40,  7.90it/s]"
     ]
    },
    {
     "name": "stdout",
     "output_type": "stream",
     "text": [
      "User Length 24\n",
      "User Length 29\n",
      "User Length 65\n"
     ]
    },
    {
     "name": "stderr",
     "output_type": "stream",
     "text": [
      "  0%|          | 422/190746 [03:12<10:27:52,  5.05it/s]"
     ]
    },
    {
     "name": "stdout",
     "output_type": "stream",
     "text": [
      "User Length 31\n",
      "User Length 38\n"
     ]
    },
    {
     "name": "stderr",
     "output_type": "stream",
     "text": [
      "  0%|          | 424/190746 [03:12<10:31:09,  5.03it/s]"
     ]
    },
    {
     "name": "stdout",
     "output_type": "stream",
     "text": [
      "User Length 33\n",
      "User Length 440\n"
     ]
    },
    {
     "name": "stderr",
     "output_type": "stream",
     "text": [
      "  0%|          | 425/190746 [03:17<78:14:02,  1.48s/it]"
     ]
    },
    {
     "name": "stdout",
     "output_type": "stream",
     "text": [
      "User Length 70\n"
     ]
    },
    {
     "name": "stderr",
     "output_type": "stream",
     "text": [
      "  0%|          | 426/190746 [03:17<62:30:07,  1.18s/it]"
     ]
    },
    {
     "name": "stdout",
     "output_type": "stream",
     "text": [
      "User Length 82\n"
     ]
    },
    {
     "name": "stderr",
     "output_type": "stream",
     "text": [
      "  0%|          | 427/190746 [03:18<52:19:44,  1.01it/s]"
     ]
    },
    {
     "name": "stdout",
     "output_type": "stream",
     "text": [
      "User Length 88\n"
     ]
    },
    {
     "name": "stderr",
     "output_type": "stream",
     "text": [
      "  0%|          | 428/190746 [03:18<46:28:25,  1.14it/s]"
     ]
    },
    {
     "name": "stdout",
     "output_type": "stream",
     "text": [
      "User Length 57\n"
     ]
    },
    {
     "name": "stderr",
     "output_type": "stream",
     "text": [
      "  0%|          | 431/190746 [03:19<27:30:07,  1.92it/s]"
     ]
    },
    {
     "name": "stdout",
     "output_type": "stream",
     "text": [
      "User Length 25\n",
      "User Length 24\n",
      "User Length 19\n"
     ]
    },
    {
     "name": "stderr",
     "output_type": "stream",
     "text": [
      "  0%|          | 433/190746 [03:19<20:22:14,  2.60it/s]"
     ]
    },
    {
     "name": "stdout",
     "output_type": "stream",
     "text": [
      "User Length 25\n",
      "User Length 23\n",
      "User Length 33\n"
     ]
    },
    {
     "name": "stderr",
     "output_type": "stream",
     "text": [
      "  0%|          | 435/190746 [03:19<15:54:11,  3.32it/s]"
     ]
    },
    {
     "name": "stdout",
     "output_type": "stream",
     "text": [
      "User Length 56\n"
     ]
    },
    {
     "name": "stderr",
     "output_type": "stream",
     "text": [
      "  0%|          | 437/190746 [03:19<13:11:23,  4.01it/s]"
     ]
    },
    {
     "name": "stdout",
     "output_type": "stream",
     "text": [
      "User Length 30\n",
      "User Length 27\n"
     ]
    },
    {
     "name": "stderr",
     "output_type": "stream",
     "text": [
      "  0%|          | 439/190746 [03:20<10:40:01,  4.96it/s]"
     ]
    },
    {
     "name": "stdout",
     "output_type": "stream",
     "text": [
      "User Length 23\n",
      "User Length 46\n"
     ]
    },
    {
     "name": "stderr",
     "output_type": "stream",
     "text": [
      "  0%|          | 440/190746 [03:20<10:30:27,  5.03it/s]"
     ]
    },
    {
     "name": "stdout",
     "output_type": "stream",
     "text": [
      "User Length 22\n",
      "User Length 70\n"
     ]
    },
    {
     "name": "stderr",
     "output_type": "stream",
     "text": [
      "  0%|          | 443/190746 [03:20<10:44:37,  4.92it/s]"
     ]
    },
    {
     "name": "stdout",
     "output_type": "stream",
     "text": [
      "User Length 41\n",
      "User Length 23\n"
     ]
    },
    {
     "name": "stderr",
     "output_type": "stream",
     "text": [
      "  0%|          | 445/190746 [03:21<9:33:55,  5.53it/s] "
     ]
    },
    {
     "name": "stdout",
     "output_type": "stream",
     "text": [
      "User Length 38\n",
      "User Length 34\n"
     ]
    },
    {
     "name": "stderr",
     "output_type": "stream",
     "text": [
      "  0%|          | 447/190746 [03:21<9:12:49,  5.74it/s]"
     ]
    },
    {
     "name": "stdout",
     "output_type": "stream",
     "text": [
      "User Length 39\n",
      "User Length 34\n"
     ]
    },
    {
     "name": "stderr",
     "output_type": "stream",
     "text": [
      "  0%|          | 448/190746 [03:21<8:43:54,  6.05it/s]"
     ]
    },
    {
     "name": "stdout",
     "output_type": "stream",
     "text": [
      "User Length 43\n"
     ]
    },
    {
     "name": "stderr",
     "output_type": "stream",
     "text": [
      "  0%|          | 449/190746 [03:21<9:22:51,  5.63it/s]"
     ]
    },
    {
     "name": "stdout",
     "output_type": "stream",
     "text": [
      "User Length 64\n"
     ]
    },
    {
     "name": "stderr",
     "output_type": "stream",
     "text": [
      "  0%|          | 451/190746 [03:22<10:51:31,  4.87it/s]"
     ]
    },
    {
     "name": "stdout",
     "output_type": "stream",
     "text": [
      "User Length 37\n",
      "User Length 24\n"
     ]
    },
    {
     "name": "stderr",
     "output_type": "stream",
     "text": [
      "  0%|          | 453/190746 [03:22<9:50:17,  5.37it/s] "
     ]
    },
    {
     "name": "stdout",
     "output_type": "stream",
     "text": [
      "User Length 38\n",
      "User Length 64\n"
     ]
    },
    {
     "name": "stderr",
     "output_type": "stream",
     "text": [
      "  0%|          | 454/190746 [03:23<12:45:06,  4.15it/s]"
     ]
    },
    {
     "name": "stdout",
     "output_type": "stream",
     "text": [
      "User Length 91\n"
     ]
    },
    {
     "name": "stderr",
     "output_type": "stream",
     "text": [
      "  0%|          | 455/190746 [03:23<17:05:45,  3.09it/s]"
     ]
    },
    {
     "name": "stdout",
     "output_type": "stream",
     "text": [
      "User Length 44\n"
     ]
    },
    {
     "name": "stderr",
     "output_type": "stream",
     "text": [
      "  0%|          | 456/190746 [03:23<15:25:02,  3.43it/s]"
     ]
    },
    {
     "name": "stdout",
     "output_type": "stream",
     "text": [
      "User Length 24\n",
      "User Length 44\n"
     ]
    },
    {
     "name": "stderr",
     "output_type": "stream",
     "text": [
      "  0%|          | 458/190746 [03:24<13:20:08,  3.96it/s]"
     ]
    },
    {
     "name": "stdout",
     "output_type": "stream",
     "text": [
      "User Length 79\n"
     ]
    },
    {
     "name": "stderr",
     "output_type": "stream",
     "text": [
      "  0%|          | 460/190746 [03:24<14:15:10,  3.71it/s]"
     ]
    },
    {
     "name": "stdout",
     "output_type": "stream",
     "text": [
      "User Length 24\n",
      "User Length 22\n",
      "User Length 58\n"
     ]
    },
    {
     "name": "stderr",
     "output_type": "stream",
     "text": [
      "  0%|          | 464/190746 [03:25<10:15:54,  5.15it/s]"
     ]
    },
    {
     "name": "stdout",
     "output_type": "stream",
     "text": [
      "User Length 21\n",
      "User Length 26\n",
      "User Length 29\n"
     ]
    },
    {
     "name": "stderr",
     "output_type": "stream",
     "text": [
      "  0%|          | 466/190746 [03:25<7:58:42,  6.62it/s] "
     ]
    },
    {
     "name": "stdout",
     "output_type": "stream",
     "text": [
      "User Length 30\n",
      "User Length 44\n"
     ]
    },
    {
     "name": "stderr",
     "output_type": "stream",
     "text": [
      "  0%|          | 468/190746 [03:25<9:21:07,  5.65it/s]"
     ]
    },
    {
     "name": "stdout",
     "output_type": "stream",
     "text": [
      "User Length 45\n",
      "User Length 151\n"
     ]
    },
    {
     "name": "stderr",
     "output_type": "stream",
     "text": [
      "  0%|          | 469/190746 [03:26<21:55:51,  2.41it/s]"
     ]
    },
    {
     "name": "stdout",
     "output_type": "stream",
     "text": [
      "User Length 23\n",
      "User Length 475\n"
     ]
    },
    {
     "name": "stderr",
     "output_type": "stream",
     "text": [
      "  0%|          | 471/190746 [03:31<51:50:08,  1.02it/s]"
     ]
    },
    {
     "name": "stdout",
     "output_type": "stream",
     "text": [
      "User Length 41\n"
     ]
    },
    {
     "name": "stderr",
     "output_type": "stream",
     "text": [
      "  0%|          | 473/190746 [03:31<31:15:22,  1.69it/s]"
     ]
    },
    {
     "name": "stdout",
     "output_type": "stream",
     "text": [
      "User Length 38\n",
      "User Length 22\n"
     ]
    },
    {
     "name": "stderr",
     "output_type": "stream",
     "text": [
      "  0%|          | 475/190746 [03:32<22:56:49,  2.30it/s]"
     ]
    },
    {
     "name": "stdout",
     "output_type": "stream",
     "text": [
      "User Length 20\n",
      "User Length 22\n",
      "User Length 20\n"
     ]
    },
    {
     "name": "stderr",
     "output_type": "stream",
     "text": [
      "  0%|          | 477/190746 [03:32<17:18:17,  3.05it/s]"
     ]
    },
    {
     "name": "stdout",
     "output_type": "stream",
     "text": [
      "User Length 39\n"
     ]
    },
    {
     "name": "stderr",
     "output_type": "stream",
     "text": [
      "  0%|          | 478/190746 [03:32<15:25:07,  3.43it/s]"
     ]
    },
    {
     "name": "stdout",
     "output_type": "stream",
     "text": [
      "User Length 109\n"
     ]
    },
    {
     "name": "stderr",
     "output_type": "stream",
     "text": [
      "  0%|          | 479/190746 [03:33<22:31:07,  2.35it/s]"
     ]
    },
    {
     "name": "stdout",
     "output_type": "stream",
     "text": [
      "User Length 25\n",
      "User Length 30\n"
     ]
    },
    {
     "name": "stderr",
     "output_type": "stream",
     "text": [
      "  0%|          | 482/190746 [03:33<14:30:35,  3.64it/s]"
     ]
    },
    {
     "name": "stdout",
     "output_type": "stream",
     "text": [
      "User Length 36\n",
      "User Length 22\n"
     ]
    },
    {
     "name": "stderr",
     "output_type": "stream",
     "text": [
      "  0%|          | 484/190746 [03:33<11:50:16,  4.46it/s]"
     ]
    },
    {
     "name": "stdout",
     "output_type": "stream",
     "text": [
      "User Length 27\n",
      "User Length 630\n"
     ]
    },
    {
     "name": "stderr",
     "output_type": "stream",
     "text": [
      "  0%|          | 486/190746 [03:40<83:06:58,  1.57s/it] "
     ]
    },
    {
     "name": "stdout",
     "output_type": "stream",
     "text": [
      "User Length 31\n",
      "User Length 103\n"
     ]
    },
    {
     "name": "stderr",
     "output_type": "stream",
     "text": [
      "  0%|          | 487/190746 [03:41<67:32:43,  1.28s/it]"
     ]
    },
    {
     "name": "stdout",
     "output_type": "stream",
     "text": [
      "User Length 28\n",
      "User Length 63\n"
     ]
    },
    {
     "name": "stderr",
     "output_type": "stream",
     "text": [
      "  0%|          | 489/190746 [03:41<50:33:06,  1.05it/s]"
     ]
    },
    {
     "name": "stdout",
     "output_type": "stream",
     "text": [
      "User Length 20\n",
      "User Length 30\n"
     ]
    },
    {
     "name": "stderr",
     "output_type": "stream",
     "text": [
      "  0%|          | 492/190746 [03:41<27:41:02,  1.91it/s]"
     ]
    },
    {
     "name": "stdout",
     "output_type": "stream",
     "text": [
      "User Length 27\n",
      "User Length 23\n",
      "User Length 111\n"
     ]
    },
    {
     "name": "stderr",
     "output_type": "stream",
     "text": [
      "  0%|          | 494/190746 [03:42<25:38:49,  2.06it/s]"
     ]
    },
    {
     "name": "stdout",
     "output_type": "stream",
     "text": [
      "User Length 85\n"
     ]
    },
    {
     "name": "stderr",
     "output_type": "stream",
     "text": [
      "  0%|          | 496/190746 [03:43<20:49:43,  2.54it/s]"
     ]
    },
    {
     "name": "stdout",
     "output_type": "stream",
     "text": [
      "User Length 40\n",
      "User Length 22\n"
     ]
    },
    {
     "name": "stderr",
     "output_type": "stream",
     "text": [
      "  0%|          | 499/190746 [03:43<12:52:04,  4.11it/s]"
     ]
    },
    {
     "name": "stdout",
     "output_type": "stream",
     "text": [
      "User Length 21\n",
      "User Length 31\n",
      "User Length 27\n"
     ]
    },
    {
     "name": "stderr",
     "output_type": "stream",
     "text": [
      "  0%|          | 501/190746 [03:43<9:12:01,  5.74it/s] "
     ]
    },
    {
     "name": "stdout",
     "output_type": "stream",
     "text": [
      "User Length 27\n",
      "User Length 182\n"
     ]
    },
    {
     "name": "stderr",
     "output_type": "stream",
     "text": [
      "  0%|          | 502/190746 [03:45<27:05:38,  1.95it/s]"
     ]
    },
    {
     "name": "stdout",
     "output_type": "stream",
     "text": [
      "User Length 27\n",
      "User Length 61\n"
     ]
    },
    {
     "name": "stderr",
     "output_type": "stream",
     "text": [
      "  0%|          | 505/190746 [03:45<16:58:59,  3.11it/s]"
     ]
    },
    {
     "name": "stdout",
     "output_type": "stream",
     "text": [
      "User Length 27\n",
      "User Length 24\n",
      "User Length 42\n"
     ]
    },
    {
     "name": "stderr",
     "output_type": "stream",
     "text": [
      "  0%|          | 507/190746 [03:45<14:11:45,  3.72it/s]"
     ]
    },
    {
     "name": "stdout",
     "output_type": "stream",
     "text": [
      "User Length 145\n"
     ]
    },
    {
     "name": "stderr",
     "output_type": "stream",
     "text": [
      "  0%|          | 508/190746 [03:46<25:04:39,  2.11it/s]"
     ]
    },
    {
     "name": "stdout",
     "output_type": "stream",
     "text": [
      "User Length 53\n"
     ]
    },
    {
     "name": "stderr",
     "output_type": "stream",
     "text": [
      "  0%|          | 509/190746 [03:47<21:23:07,  2.47it/s]"
     ]
    },
    {
     "name": "stdout",
     "output_type": "stream",
     "text": [
      "User Length 56\n"
     ]
    },
    {
     "name": "stderr",
     "output_type": "stream",
     "text": [
      "  0%|          | 510/190746 [03:47<19:37:56,  2.69it/s]"
     ]
    },
    {
     "name": "stdout",
     "output_type": "stream",
     "text": [
      "User Length 195\n"
     ]
    },
    {
     "name": "stderr",
     "output_type": "stream",
     "text": [
      "  0%|          | 512/190746 [03:48<25:31:31,  2.07it/s]"
     ]
    },
    {
     "name": "stdout",
     "output_type": "stream",
     "text": [
      "User Length 22\n",
      "User Length 34\n"
     ]
    },
    {
     "name": "stderr",
     "output_type": "stream",
     "text": [
      "  0%|          | 513/190746 [03:49<20:40:32,  2.56it/s]"
     ]
    },
    {
     "name": "stdout",
     "output_type": "stream",
     "text": [
      "User Length 193\n"
     ]
    },
    {
     "name": "stderr",
     "output_type": "stream",
     "text": [
      "  0%|          | 514/190746 [03:50<38:52:24,  1.36it/s]"
     ]
    },
    {
     "name": "stdout",
     "output_type": "stream",
     "text": [
      "User Length 50\n"
     ]
    },
    {
     "name": "stderr",
     "output_type": "stream",
     "text": [
      "  0%|          | 515/190746 [03:50<32:10:53,  1.64it/s]"
     ]
    },
    {
     "name": "stdout",
     "output_type": "stream",
     "text": [
      "User Length 59\n"
     ]
    },
    {
     "name": "stderr",
     "output_type": "stream",
     "text": [
      "  0%|          | 518/190746 [03:51<20:16:54,  2.61it/s]"
     ]
    },
    {
     "name": "stdout",
     "output_type": "stream",
     "text": [
      "User Length 26\n",
      "User Length 23\n",
      "User Length 20\n"
     ]
    },
    {
     "name": "stderr",
     "output_type": "stream",
     "text": [
      "  0%|          | 521/190746 [03:51<12:26:30,  4.25it/s]"
     ]
    },
    {
     "name": "stdout",
     "output_type": "stream",
     "text": [
      "User Length 21\n",
      "User Length 32\n",
      "User Length 51\n"
     ]
    },
    {
     "name": "stderr",
     "output_type": "stream",
     "text": [
      "  0%|          | 522/190746 [03:51<12:45:39,  4.14it/s]"
     ]
    },
    {
     "name": "stdout",
     "output_type": "stream",
     "text": [
      "User Length 23\n",
      "User Length 73\n"
     ]
    },
    {
     "name": "stderr",
     "output_type": "stream",
     "text": [
      "  0%|          | 526/190746 [03:52<9:46:53,  5.40it/s] "
     ]
    },
    {
     "name": "stdout",
     "output_type": "stream",
     "text": [
      "User Length 17\n",
      "User Length 22\n",
      "User Length 38\n"
     ]
    },
    {
     "name": "stderr",
     "output_type": "stream",
     "text": [
      "  0%|          | 529/190746 [03:52<7:49:59,  6.75it/s]"
     ]
    },
    {
     "name": "stdout",
     "output_type": "stream",
     "text": [
      "User Length 20\n",
      "User Length 26\n",
      "User Length 35\n",
      "User Length 140\n"
     ]
    },
    {
     "name": "stderr",
     "output_type": "stream",
     "text": [
      "  0%|          | 531/190746 [03:53<13:22:16,  3.95it/s]"
     ]
    },
    {
     "name": "stdout",
     "output_type": "stream",
     "text": [
      "User Length 45\n"
     ]
    },
    {
     "name": "stderr",
     "output_type": "stream",
     "text": [
      "  0%|          | 534/190746 [03:54<10:43:03,  4.93it/s]"
     ]
    },
    {
     "name": "stdout",
     "output_type": "stream",
     "text": [
      "User Length 25\n",
      "User Length 28\n",
      "User Length 33\n"
     ]
    },
    {
     "name": "stderr",
     "output_type": "stream",
     "text": [
      "  0%|          | 536/190746 [03:54<9:13:30,  5.73it/s] "
     ]
    },
    {
     "name": "stdout",
     "output_type": "stream",
     "text": [
      "User Length 37\n",
      "User Length 158\n"
     ]
    },
    {
     "name": "stderr",
     "output_type": "stream",
     "text": [
      "  0%|          | 537/190746 [03:55<22:57:58,  2.30it/s]"
     ]
    },
    {
     "name": "stdout",
     "output_type": "stream",
     "text": [
      "User Length 75\n"
     ]
    },
    {
     "name": "stderr",
     "output_type": "stream",
     "text": [
      "  0%|          | 539/190746 [03:55<17:32:39,  3.01it/s]"
     ]
    },
    {
     "name": "stdout",
     "output_type": "stream",
     "text": [
      "User Length 28\n",
      "User Length 97\n"
     ]
    },
    {
     "name": "stderr",
     "output_type": "stream",
     "text": [
      "  0%|          | 541/190746 [03:56<17:15:40,  3.06it/s]"
     ]
    },
    {
     "name": "stdout",
     "output_type": "stream",
     "text": [
      "User Length 24\n",
      "User Length 23\n",
      "User Length 26\n"
     ]
    },
    {
     "name": "stderr",
     "output_type": "stream",
     "text": [
      "  0%|          | 545/190746 [03:57<10:47:00,  4.90it/s]"
     ]
    },
    {
     "name": "stdout",
     "output_type": "stream",
     "text": [
      "User Length 21\n",
      "User Length 22\n",
      "User Length 62\n"
     ]
    },
    {
     "name": "stderr",
     "output_type": "stream",
     "text": [
      "  0%|          | 546/190746 [03:57<12:45:25,  4.14it/s]"
     ]
    },
    {
     "name": "stdout",
     "output_type": "stream",
     "text": [
      "User Length 25\n",
      "User Length 107\n"
     ]
    },
    {
     "name": "stderr",
     "output_type": "stream",
     "text": [
      "  0%|          | 548/190746 [03:58<14:38:54,  3.61it/s]"
     ]
    },
    {
     "name": "stdout",
     "output_type": "stream",
     "text": [
      "User Length 63\n"
     ]
    },
    {
     "name": "stderr",
     "output_type": "stream",
     "text": [
      "  0%|          | 549/190746 [03:58<15:23:00,  3.43it/s]"
     ]
    },
    {
     "name": "stdout",
     "output_type": "stream",
     "text": [
      "User Length 102\n"
     ]
    },
    {
     "name": "stderr",
     "output_type": "stream",
     "text": [
      "  0%|          | 551/190746 [03:59<18:23:47,  2.87it/s]"
     ]
    },
    {
     "name": "stdout",
     "output_type": "stream",
     "text": [
      "User Length 35\n",
      "User Length 21\n"
     ]
    },
    {
     "name": "stderr",
     "output_type": "stream",
     "text": [
      "  0%|          | 553/190746 [03:59<14:16:18,  3.70it/s]"
     ]
    },
    {
     "name": "stdout",
     "output_type": "stream",
     "text": [
      "User Length 25\n",
      "User Length 28\n"
     ]
    },
    {
     "name": "stderr",
     "output_type": "stream",
     "text": [
      "  0%|          | 555/190746 [03:59<10:31:56,  5.02it/s]"
     ]
    },
    {
     "name": "stdout",
     "output_type": "stream",
     "text": [
      "User Length 27\n",
      "User Length 23\n",
      "User Length 41\n"
     ]
    },
    {
     "name": "stderr",
     "output_type": "stream",
     "text": [
      "  0%|          | 557/190746 [04:00<9:47:51,  5.39it/s] "
     ]
    },
    {
     "name": "stdout",
     "output_type": "stream",
     "text": [
      "User Length 137\n"
     ]
    },
    {
     "name": "stderr",
     "output_type": "stream",
     "text": [
      "  0%|          | 559/190746 [04:01<17:13:11,  3.07it/s]"
     ]
    },
    {
     "name": "stdout",
     "output_type": "stream",
     "text": [
      "User Length 35\n",
      "User Length 21\n",
      "User Length 68\n"
     ]
    },
    {
     "name": "stderr",
     "output_type": "stream",
     "text": [
      "  0%|          | 561/190746 [04:01<15:19:07,  3.45it/s]"
     ]
    },
    {
     "name": "stdout",
     "output_type": "stream",
     "text": [
      "User Length 22\n",
      "User Length 38\n"
     ]
    },
    {
     "name": "stderr",
     "output_type": "stream",
     "text": [
      "  0%|          | 563/190746 [04:01<12:54:02,  4.10it/s]"
     ]
    },
    {
     "name": "stdout",
     "output_type": "stream",
     "text": [
      "User Length 53\n"
     ]
    },
    {
     "name": "stderr",
     "output_type": "stream",
     "text": [
      "  0%|          | 564/190746 [04:02<14:28:01,  3.65it/s]"
     ]
    },
    {
     "name": "stdout",
     "output_type": "stream",
     "text": [
      "User Length 65\n"
     ]
    },
    {
     "name": "stderr",
     "output_type": "stream",
     "text": [
      "  0%|          | 566/190746 [04:02<13:34:28,  3.89it/s]"
     ]
    },
    {
     "name": "stdout",
     "output_type": "stream",
     "text": [
      "User Length 23\n",
      "User Length 83\n"
     ]
    },
    {
     "name": "stderr",
     "output_type": "stream",
     "text": [
      "  0%|          | 567/190746 [04:03<18:53:36,  2.80it/s]"
     ]
    },
    {
     "name": "stdout",
     "output_type": "stream",
     "text": [
      "User Length 21\n",
      "User Length 30\n"
     ]
    },
    {
     "name": "stderr",
     "output_type": "stream",
     "text": [
      "  0%|          | 570/190746 [04:03<12:50:12,  4.12it/s]"
     ]
    },
    {
     "name": "stdout",
     "output_type": "stream",
     "text": [
      "User Length 30\n",
      "User Length 24\n"
     ]
    },
    {
     "name": "stderr",
     "output_type": "stream",
     "text": [
      "  0%|          | 571/190746 [04:03<11:21:32,  4.65it/s]"
     ]
    },
    {
     "name": "stdout",
     "output_type": "stream",
     "text": [
      "User Length 98\n"
     ]
    },
    {
     "name": "stderr",
     "output_type": "stream",
     "text": [
      "  0%|          | 573/190746 [04:04<15:15:09,  3.46it/s]"
     ]
    },
    {
     "name": "stdout",
     "output_type": "stream",
     "text": [
      "User Length 27\n",
      "User Length 76\n"
     ]
    },
    {
     "name": "stderr",
     "output_type": "stream",
     "text": [
      "  0%|          | 575/190746 [04:05<15:11:25,  3.48it/s]"
     ]
    },
    {
     "name": "stdout",
     "output_type": "stream",
     "text": [
      "User Length 23\n",
      "User Length 35\n"
     ]
    },
    {
     "name": "stderr",
     "output_type": "stream",
     "text": [
      "  0%|          | 576/190746 [04:05<13:43:10,  3.85it/s]"
     ]
    },
    {
     "name": "stdout",
     "output_type": "stream",
     "text": [
      "User Length 107\n"
     ]
    },
    {
     "name": "stderr",
     "output_type": "stream",
     "text": [
      "  0%|          | 578/190746 [04:06<16:25:04,  3.22it/s]"
     ]
    },
    {
     "name": "stdout",
     "output_type": "stream",
     "text": [
      "User Length 30\n",
      "User Length 37\n"
     ]
    },
    {
     "name": "stderr",
     "output_type": "stream",
     "text": [
      "  0%|          | 579/190746 [04:06<13:36:34,  3.88it/s]"
     ]
    },
    {
     "name": "stdout",
     "output_type": "stream",
     "text": [
      "User Length 59\n"
     ]
    },
    {
     "name": "stderr",
     "output_type": "stream",
     "text": [
      "  0%|          | 581/190746 [04:06<12:50:56,  4.11it/s]"
     ]
    },
    {
     "name": "stdout",
     "output_type": "stream",
     "text": [
      "User Length 39\n",
      "User Length 22\n",
      "User Length 77\n"
     ]
    },
    {
     "name": "stderr",
     "output_type": "stream",
     "text": [
      "  0%|          | 583/190746 [04:07<12:35:18,  4.20it/s]"
     ]
    },
    {
     "name": "stdout",
     "output_type": "stream",
     "text": [
      "User Length 20\n",
      "User Length 38\n"
     ]
    },
    {
     "name": "stderr",
     "output_type": "stream",
     "text": [
      "  0%|          | 586/190746 [04:07<10:00:13,  5.28it/s]"
     ]
    },
    {
     "name": "stdout",
     "output_type": "stream",
     "text": [
      "User Length 35\n",
      "User Length 22\n",
      "User Length 40\n"
     ]
    },
    {
     "name": "stderr",
     "output_type": "stream",
     "text": [
      "  0%|          | 588/190746 [04:08<9:00:04,  5.87it/s] "
     ]
    },
    {
     "name": "stdout",
     "output_type": "stream",
     "text": [
      "User Length 57\n"
     ]
    },
    {
     "name": "stderr",
     "output_type": "stream",
     "text": [
      "  0%|          | 589/190746 [04:08<11:21:56,  4.65it/s]"
     ]
    },
    {
     "name": "stdout",
     "output_type": "stream",
     "text": [
      "User Length 44\n"
     ]
    },
    {
     "name": "stderr",
     "output_type": "stream",
     "text": [
      "  0%|          | 591/190746 [04:08<9:55:02,  5.33it/s] "
     ]
    },
    {
     "name": "stdout",
     "output_type": "stream",
     "text": [
      "User Length 25\n",
      "User Length 113\n"
     ]
    },
    {
     "name": "stderr",
     "output_type": "stream",
     "text": [
      "  0%|          | 593/190746 [04:09<14:41:10,  3.60it/s]"
     ]
    },
    {
     "name": "stdout",
     "output_type": "stream",
     "text": [
      "User Length 31\n",
      "User Length 34\n"
     ]
    },
    {
     "name": "stderr",
     "output_type": "stream",
     "text": [
      "  0%|          | 594/190746 [04:09<12:34:46,  4.20it/s]"
     ]
    },
    {
     "name": "stdout",
     "output_type": "stream",
     "text": [
      "User Length 39\n"
     ]
    },
    {
     "name": "stderr",
     "output_type": "stream",
     "text": [
      "  0%|          | 595/190746 [04:09<12:00:48,  4.40it/s]"
     ]
    },
    {
     "name": "stdout",
     "output_type": "stream",
     "text": [
      "User Length 133\n"
     ]
    },
    {
     "name": "stderr",
     "output_type": "stream",
     "text": [
      "  0%|          | 597/190746 [04:10<16:38:01,  3.18it/s]"
     ]
    },
    {
     "name": "stdout",
     "output_type": "stream",
     "text": [
      "User Length 27\n",
      "User Length 35\n"
     ]
    },
    {
     "name": "stderr",
     "output_type": "stream",
     "text": [
      "  0%|          | 599/190746 [04:11<12:03:45,  4.38it/s]"
     ]
    },
    {
     "name": "stdout",
     "output_type": "stream",
     "text": [
      "User Length 22\n",
      "User Length 227\n"
     ]
    },
    {
     "name": "stderr",
     "output_type": "stream",
     "text": [
      "  0%|          | 600/190746 [04:12<35:13:33,  1.50it/s]"
     ]
    },
    {
     "name": "stdout",
     "output_type": "stream",
     "text": [
      "User Length 225\n"
     ]
    },
    {
     "name": "stderr",
     "output_type": "stream",
     "text": [
      "  0%|          | 601/190746 [04:14<50:20:37,  1.05it/s]"
     ]
    },
    {
     "name": "stdout",
     "output_type": "stream",
     "text": [
      "User Length 41\n"
     ]
    },
    {
     "name": "stderr",
     "output_type": "stream",
     "text": [
      "  0%|          | 602/190746 [04:14<39:46:19,  1.33it/s]"
     ]
    },
    {
     "name": "stdout",
     "output_type": "stream",
     "text": [
      "User Length 124\n"
     ]
    },
    {
     "name": "stderr",
     "output_type": "stream",
     "text": [
      "  0%|          | 604/190746 [04:15<31:37:05,  1.67it/s]"
     ]
    },
    {
     "name": "stdout",
     "output_type": "stream",
     "text": [
      "User Length 25\n",
      "User Length 75\n"
     ]
    },
    {
     "name": "stderr",
     "output_type": "stream",
     "text": [
      "  0%|          | 605/190746 [04:16<29:44:09,  1.78it/s]"
     ]
    },
    {
     "name": "stdout",
     "output_type": "stream",
     "text": [
      "User Length 21\n",
      "User Length 37\n"
     ]
    },
    {
     "name": "stderr",
     "output_type": "stream",
     "text": [
      "  0%|          | 607/190746 [04:16<22:54:14,  2.31it/s]"
     ]
    },
    {
     "name": "stdout",
     "output_type": "stream",
     "text": [
      "User Length 21\n",
      "User Length 25\n"
     ]
    },
    {
     "name": "stderr",
     "output_type": "stream",
     "text": [
      "  0%|          | 609/190746 [04:16<17:39:35,  2.99it/s]"
     ]
    },
    {
     "name": "stdout",
     "output_type": "stream",
     "text": [
      "User Length 62\n"
     ]
    },
    {
     "name": "stderr",
     "output_type": "stream",
     "text": [
      "  0%|          | 610/190746 [04:17<18:26:44,  2.86it/s]"
     ]
    },
    {
     "name": "stdout",
     "output_type": "stream",
     "text": [
      "User Length 55\n"
     ]
    },
    {
     "name": "stderr",
     "output_type": "stream",
     "text": [
      "  0%|          | 612/190746 [04:17<14:48:02,  3.57it/s]"
     ]
    },
    {
     "name": "stdout",
     "output_type": "stream",
     "text": [
      "User Length 29\n",
      "User Length 20\n",
      "User Length 37\n"
     ]
    },
    {
     "name": "stderr",
     "output_type": "stream",
     "text": [
      "  0%|          | 614/190746 [04:17<12:31:36,  4.22it/s]"
     ]
    },
    {
     "name": "stdout",
     "output_type": "stream",
     "text": [
      "User Length 87\n"
     ]
    },
    {
     "name": "stderr",
     "output_type": "stream",
     "text": [
      "  0%|          | 616/190746 [04:18<14:39:38,  3.60it/s]"
     ]
    },
    {
     "name": "stdout",
     "output_type": "stream",
     "text": [
      "User Length 28\n",
      "User Length 21\n",
      "User Length 24\n"
     ]
    },
    {
     "name": "stderr",
     "output_type": "stream",
     "text": [
      "  0%|          | 618/190746 [04:18<11:24:30,  4.63it/s]"
     ]
    },
    {
     "name": "stdout",
     "output_type": "stream",
     "text": [
      "User Length 91\n"
     ]
    },
    {
     "name": "stderr",
     "output_type": "stream",
     "text": [
      "  0%|          | 619/190746 [04:19<16:42:54,  3.16it/s]"
     ]
    },
    {
     "name": "stdout",
     "output_type": "stream",
     "text": [
      "User Length 23\n",
      "User Length 45\n"
     ]
    },
    {
     "name": "stderr",
     "output_type": "stream",
     "text": [
      "  0%|          | 623/190746 [04:19<10:47:15,  4.90it/s]"
     ]
    },
    {
     "name": "stdout",
     "output_type": "stream",
     "text": [
      "User Length 20\n",
      "User Length 20\n",
      "User Length 502\n"
     ]
    },
    {
     "name": "stderr",
     "output_type": "stream",
     "text": [
      "  0%|          | 624/190746 [04:24<91:29:03,  1.73s/it]"
     ]
    },
    {
     "name": "stdout",
     "output_type": "stream",
     "text": [
      "User Length 42\n"
     ]
    },
    {
     "name": "stderr",
     "output_type": "stream",
     "text": [
      "  0%|          | 625/190746 [04:25<67:31:38,  1.28s/it]"
     ]
    },
    {
     "name": "stdout",
     "output_type": "stream",
     "text": [
      "User Length 47\n"
     ]
    },
    {
     "name": "stderr",
     "output_type": "stream",
     "text": [
      "  0%|          | 626/190746 [04:25<50:53:27,  1.04it/s]"
     ]
    },
    {
     "name": "stdout",
     "output_type": "stream",
     "text": [
      "User Length 123\n"
     ]
    },
    {
     "name": "stderr",
     "output_type": "stream",
     "text": [
      "  0%|          | 627/190746 [04:26<47:55:50,  1.10it/s]"
     ]
    },
    {
     "name": "stdout",
     "output_type": "stream",
     "text": [
      "User Length 27\n",
      "User Length 188\n"
     ]
    },
    {
     "name": "stderr",
     "output_type": "stream",
     "text": [
      "  0%|          | 629/190746 [04:27<44:51:08,  1.18it/s]"
     ]
    },
    {
     "name": "stdout",
     "output_type": "stream",
     "text": [
      "User Length 22\n",
      "User Length 47\n"
     ]
    },
    {
     "name": "stderr",
     "output_type": "stream",
     "text": [
      "  0%|          | 631/190746 [04:27<33:44:57,  1.56it/s]"
     ]
    },
    {
     "name": "stdout",
     "output_type": "stream",
     "text": [
      "User Length 25\n",
      "User Length 48\n"
     ]
    },
    {
     "name": "stderr",
     "output_type": "stream",
     "text": [
      "  0%|          | 633/190746 [04:28<26:31:52,  1.99it/s]"
     ]
    },
    {
     "name": "stdout",
     "output_type": "stream",
     "text": [
      "User Length 44\n"
     ]
    },
    {
     "name": "stderr",
     "output_type": "stream",
     "text": [
      "  0%|          | 636/190746 [04:28<17:25:42,  3.03it/s]"
     ]
    },
    {
     "name": "stdout",
     "output_type": "stream",
     "text": [
      "User Length 23\n",
      "User Length 26\n",
      "User Length 33\n"
     ]
    },
    {
     "name": "stderr",
     "output_type": "stream",
     "text": [
      "  0%|          | 639/190746 [04:28<11:17:57,  4.67it/s]"
     ]
    },
    {
     "name": "stdout",
     "output_type": "stream",
     "text": [
      "User Length 20\n",
      "User Length 22\n",
      "User Length 30\n"
     ]
    },
    {
     "name": "stderr",
     "output_type": "stream",
     "text": [
      "  0%|          | 641/190746 [04:29<9:25:50,  5.60it/s] "
     ]
    },
    {
     "name": "stdout",
     "output_type": "stream",
     "text": [
      "User Length 36\n",
      "User Length 43\n"
     ]
    },
    {
     "name": "stderr",
     "output_type": "stream",
     "text": [
      "  0%|          | 643/190746 [04:29<9:22:15,  5.64it/s]"
     ]
    },
    {
     "name": "stdout",
     "output_type": "stream",
     "text": [
      "User Length 36\n",
      "User Length 20\n",
      "User Length 54\n"
     ]
    },
    {
     "name": "stderr",
     "output_type": "stream",
     "text": [
      "  0%|          | 645/190746 [04:29<9:17:01,  5.69it/s]"
     ]
    },
    {
     "name": "stdout",
     "output_type": "stream",
     "text": [
      "User Length 22\n",
      "User Length 54\n"
     ]
    },
    {
     "name": "stderr",
     "output_type": "stream",
     "text": [
      "  0%|          | 648/190746 [04:30<9:22:41,  5.63it/s]"
     ]
    },
    {
     "name": "stdout",
     "output_type": "stream",
     "text": [
      "User Length 31\n",
      "User Length 27\n"
     ]
    },
    {
     "name": "stderr",
     "output_type": "stream",
     "text": [
      "  0%|          | 649/190746 [04:30<8:27:56,  6.24it/s]"
     ]
    },
    {
     "name": "stdout",
     "output_type": "stream",
     "text": [
      "User Length 77\n"
     ]
    },
    {
     "name": "stderr",
     "output_type": "stream",
     "text": [
      "  0%|          | 650/190746 [04:31<12:43:28,  4.15it/s]"
     ]
    },
    {
     "name": "stdout",
     "output_type": "stream",
     "text": [
      "User Length 21\n",
      "User Length 87\n"
     ]
    },
    {
     "name": "stderr",
     "output_type": "stream",
     "text": [
      "  0%|          | 652/190746 [04:31<13:41:01,  3.86it/s]"
     ]
    },
    {
     "name": "stdout",
     "output_type": "stream",
     "text": [
      "User Length 54\n"
     ]
    },
    {
     "name": "stderr",
     "output_type": "stream",
     "text": [
      "  0%|          | 654/190746 [04:32<11:24:57,  4.63it/s]"
     ]
    },
    {
     "name": "stdout",
     "output_type": "stream",
     "text": [
      "User Length 29\n",
      "User Length 24\n",
      "User Length 61\n"
     ]
    },
    {
     "name": "stderr",
     "output_type": "stream",
     "text": [
      "  0%|          | 656/190746 [04:32<11:10:35,  4.72it/s]"
     ]
    },
    {
     "name": "stdout",
     "output_type": "stream",
     "text": [
      "User Length 22\n",
      "User Length 44\n"
     ]
    },
    {
     "name": "stderr",
     "output_type": "stream",
     "text": [
      "  0%|          | 659/190746 [04:32<10:20:21,  5.11it/s]"
     ]
    },
    {
     "name": "stdout",
     "output_type": "stream",
     "text": [
      "User Length 41\n",
      "User Length 31\n"
     ]
    },
    {
     "name": "stderr",
     "output_type": "stream",
     "text": [
      "  0%|          | 661/190746 [04:33<8:15:52,  6.39it/s] "
     ]
    },
    {
     "name": "stdout",
     "output_type": "stream",
     "text": [
      "User Length 30\n",
      "User Length 21\n",
      "User Length 34\n"
     ]
    },
    {
     "name": "stderr",
     "output_type": "stream",
     "text": [
      "  0%|          | 663/190746 [04:33<7:31:38,  7.01it/s]"
     ]
    },
    {
     "name": "stdout",
     "output_type": "stream",
     "text": [
      "User Length 64\n"
     ]
    },
    {
     "name": "stderr",
     "output_type": "stream",
     "text": [
      "  0%|          | 664/190746 [04:33<11:43:31,  4.50it/s]"
     ]
    },
    {
     "name": "stdout",
     "output_type": "stream",
     "text": [
      "User Length 20\n",
      "User Length 43\n"
     ]
    },
    {
     "name": "stderr",
     "output_type": "stream",
     "text": [
      "  0%|          | 668/190746 [04:34<8:44:40,  6.04it/s] "
     ]
    },
    {
     "name": "stdout",
     "output_type": "stream",
     "text": [
      "User Length 25\n",
      "User Length 22\n",
      "User Length 31\n"
     ]
    },
    {
     "name": "stderr",
     "output_type": "stream",
     "text": [
      "  0%|          | 670/190746 [04:34<7:32:15,  7.00it/s]"
     ]
    },
    {
     "name": "stdout",
     "output_type": "stream",
     "text": [
      "User Length 25\n",
      "User Length 62\n"
     ]
    },
    {
     "name": "stderr",
     "output_type": "stream",
     "text": [
      "  0%|          | 673/190746 [04:35<8:58:54,  5.88it/s] "
     ]
    },
    {
     "name": "stdout",
     "output_type": "stream",
     "text": [
      "User Length 22\n",
      "User Length 21\n",
      "User Length 210\n"
     ]
    },
    {
     "name": "stderr",
     "output_type": "stream",
     "text": [
      "  0%|          | 674/190746 [04:36<30:07:21,  1.75it/s]"
     ]
    },
    {
     "name": "stdout",
     "output_type": "stream",
     "text": [
      "User Length 53\n"
     ]
    },
    {
     "name": "stderr",
     "output_type": "stream",
     "text": [
      "  0%|          | 677/190746 [04:36<18:45:00,  2.82it/s]"
     ]
    },
    {
     "name": "stdout",
     "output_type": "stream",
     "text": [
      "User Length 24\n",
      "User Length 20\n",
      "User Length 36\n"
     ]
    },
    {
     "name": "stderr",
     "output_type": "stream",
     "text": [
      "  0%|          | 678/190746 [04:37<15:43:08,  3.36it/s]"
     ]
    },
    {
     "name": "stdout",
     "output_type": "stream",
     "text": [
      "User Length 24\n",
      "User Length 83\n"
     ]
    },
    {
     "name": "stderr",
     "output_type": "stream",
     "text": [
      "  0%|          | 681/190746 [04:37<12:52:44,  4.10it/s]"
     ]
    },
    {
     "name": "stdout",
     "output_type": "stream",
     "text": [
      "User Length 31\n",
      "User Length 29\n"
     ]
    },
    {
     "name": "stderr",
     "output_type": "stream",
     "text": [
      "  0%|          | 682/190746 [04:37<11:05:37,  4.76it/s]"
     ]
    },
    {
     "name": "stdout",
     "output_type": "stream",
     "text": [
      "User Length 102\n"
     ]
    },
    {
     "name": "stderr",
     "output_type": "stream",
     "text": [
      "  0%|          | 684/190746 [04:38<14:52:13,  3.55it/s]"
     ]
    },
    {
     "name": "stdout",
     "output_type": "stream",
     "text": [
      "User Length 37\n",
      "User Length 40\n"
     ]
    },
    {
     "name": "stderr",
     "output_type": "stream",
     "text": [
      "  0%|          | 685/190746 [04:38<13:26:50,  3.93it/s]"
     ]
    },
    {
     "name": "stdout",
     "output_type": "stream",
     "text": [
      "User Length 55\n"
     ]
    },
    {
     "name": "stderr",
     "output_type": "stream",
     "text": [
      "  0%|          | 687/190746 [04:39<11:38:35,  4.53it/s]"
     ]
    },
    {
     "name": "stdout",
     "output_type": "stream",
     "text": [
      "User Length 29\n",
      "User Length 22\n",
      "User Length 57\n"
     ]
    },
    {
     "name": "stderr",
     "output_type": "stream",
     "text": [
      "  0%|          | 689/190746 [04:39<10:54:54,  4.84it/s]"
     ]
    },
    {
     "name": "stdout",
     "output_type": "stream",
     "text": [
      "User Length 25\n",
      "User Length 66\n"
     ]
    },
    {
     "name": "stderr",
     "output_type": "stream",
     "text": [
      "  0%|          | 691/190746 [04:40<10:50:34,  4.87it/s]"
     ]
    },
    {
     "name": "stdout",
     "output_type": "stream",
     "text": [
      "User Length 45\n"
     ]
    },
    {
     "name": "stderr",
     "output_type": "stream",
     "text": [
      "  0%|          | 692/190746 [04:40<11:28:01,  4.60it/s]"
     ]
    },
    {
     "name": "stdout",
     "output_type": "stream",
     "text": [
      "User Length 53\n"
     ]
    },
    {
     "name": "stderr",
     "output_type": "stream",
     "text": [
      "  0%|          | 693/190746 [04:40<12:05:40,  4.36it/s]"
     ]
    },
    {
     "name": "stdout",
     "output_type": "stream",
     "text": [
      "User Length 76\n"
     ]
    },
    {
     "name": "stderr",
     "output_type": "stream",
     "text": [
      "  0%|          | 695/190746 [04:41<13:00:19,  4.06it/s]"
     ]
    },
    {
     "name": "stdout",
     "output_type": "stream",
     "text": [
      "User Length 32\n",
      "User Length 23\n"
     ]
    },
    {
     "name": "stderr",
     "output_type": "stream",
     "text": [
      "  0%|          | 697/190746 [04:41<10:09:26,  5.20it/s]"
     ]
    },
    {
     "name": "stdout",
     "output_type": "stream",
     "text": [
      "User Length 20\n",
      "User Length 60\n"
     ]
    },
    {
     "name": "stderr",
     "output_type": "stream",
     "text": [
      "  0%|          | 698/190746 [04:41<12:11:20,  4.33it/s]"
     ]
    },
    {
     "name": "stdout",
     "output_type": "stream",
     "text": [
      "User Length 108\n"
     ]
    },
    {
     "name": "stderr",
     "output_type": "stream",
     "text": [
      "  0%|          | 700/190746 [04:42<15:27:15,  3.42it/s]"
     ]
    },
    {
     "name": "stdout",
     "output_type": "stream",
     "text": [
      "User Length 29\n",
      "User Length 24\n"
     ]
    },
    {
     "name": "stderr",
     "output_type": "stream",
     "text": [
      "  0%|          | 701/190746 [04:42<12:24:29,  4.25it/s]"
     ]
    },
    {
     "name": "stdout",
     "output_type": "stream",
     "text": [
      "User Length 124\n"
     ]
    },
    {
     "name": "stderr",
     "output_type": "stream",
     "text": [
      "  0%|          | 702/190746 [04:43<20:36:55,  2.56it/s]"
     ]
    },
    {
     "name": "stdout",
     "output_type": "stream",
     "text": [
      "User Length 69\n"
     ]
    },
    {
     "name": "stderr",
     "output_type": "stream",
     "text": [
      "  0%|          | 705/190746 [04:43<15:32:56,  3.40it/s]"
     ]
    },
    {
     "name": "stdout",
     "output_type": "stream",
     "text": [
      "User Length 26\n",
      "User Length 25\n",
      "User Length 28\n"
     ]
    },
    {
     "name": "stderr",
     "output_type": "stream",
     "text": [
      "  0%|          | 706/190746 [04:43<13:24:47,  3.94it/s]"
     ]
    },
    {
     "name": "stdout",
     "output_type": "stream",
     "text": [
      "User Length 23\n",
      "User Length 288\n"
     ]
    },
    {
     "name": "stderr",
     "output_type": "stream",
     "text": [
      "  0%|          | 709/190746 [04:46<23:06:27,  2.28it/s]"
     ]
    },
    {
     "name": "stdout",
     "output_type": "stream",
     "text": [
      "User Length 40\n",
      "User Length 33\n"
     ]
    },
    {
     "name": "stderr",
     "output_type": "stream",
     "text": [
      "  0%|          | 711/190746 [04:46<14:35:34,  3.62it/s]"
     ]
    },
    {
     "name": "stdout",
     "output_type": "stream",
     "text": [
      "User Length 24\n",
      "User Length 13\n",
      "User Length 26\n"
     ]
    },
    {
     "name": "stderr",
     "output_type": "stream",
     "text": [
      "  0%|          | 713/190746 [04:46<11:32:37,  4.57it/s]"
     ]
    },
    {
     "name": "stdout",
     "output_type": "stream",
     "text": [
      "User Length 22\n",
      "User Length 35\n"
     ]
    },
    {
     "name": "stderr",
     "output_type": "stream",
     "text": [
      "  0%|          | 715/190746 [04:47<10:01:23,  5.27it/s]"
     ]
    },
    {
     "name": "stdout",
     "output_type": "stream",
     "text": [
      "User Length 244\n"
     ]
    },
    {
     "name": "stderr",
     "output_type": "stream",
     "text": [
      "  0%|          | 717/190746 [04:49<28:08:40,  1.88it/s]"
     ]
    },
    {
     "name": "stdout",
     "output_type": "stream",
     "text": [
      "User Length 34\n",
      "User Length 27\n"
     ]
    },
    {
     "name": "stderr",
     "output_type": "stream",
     "text": [
      "  0%|          | 719/190746 [04:49<17:58:31,  2.94it/s]"
     ]
    },
    {
     "name": "stdout",
     "output_type": "stream",
     "text": [
      "User Length 34\n",
      "User Length 26\n"
     ]
    },
    {
     "name": "stderr",
     "output_type": "stream",
     "text": [
      "  0%|          | 720/190746 [04:49<14:21:59,  3.67it/s]"
     ]
    },
    {
     "name": "stdout",
     "output_type": "stream",
     "text": [
      "User Length 39\n"
     ]
    },
    {
     "name": "stderr",
     "output_type": "stream",
     "text": [
      "  0%|          | 721/190746 [04:49<13:31:54,  3.90it/s]"
     ]
    },
    {
     "name": "stdout",
     "output_type": "stream",
     "text": [
      "User Length 20\n",
      "User Length 32\n"
     ]
    },
    {
     "name": "stderr",
     "output_type": "stream",
     "text": [
      "  0%|          | 724/190746 [04:50<9:48:26,  5.38it/s] "
     ]
    },
    {
     "name": "stdout",
     "output_type": "stream",
     "text": [
      "User Length 34\n",
      "User Length 24\n"
     ]
    },
    {
     "name": "stderr",
     "output_type": "stream",
     "text": [
      "  0%|          | 725/190746 [04:50<8:49:16,  5.98it/s]"
     ]
    },
    {
     "name": "stdout",
     "output_type": "stream",
     "text": [
      "User Length 22\n",
      "User Length 33\n"
     ]
    },
    {
     "name": "stderr",
     "output_type": "stream",
     "text": [
      "  0%|          | 727/190746 [04:50<8:13:58,  6.41it/s]"
     ]
    },
    {
     "name": "stdout",
     "output_type": "stream",
     "text": [
      "User Length 74\n"
     ]
    },
    {
     "name": "stderr",
     "output_type": "stream",
     "text": [
      "  0%|          | 728/190746 [04:51<13:50:54,  3.81it/s]"
     ]
    },
    {
     "name": "stdout",
     "output_type": "stream",
     "text": [
      "User Length 22\n",
      "User Length 41\n"
     ]
    },
    {
     "name": "stderr",
     "output_type": "stream",
     "text": [
      "  0%|          | 731/190746 [04:51<10:20:06,  5.11it/s]"
     ]
    },
    {
     "name": "stdout",
     "output_type": "stream",
     "text": [
      "User Length 25\n",
      "User Length 21\n",
      "User Length 28\n"
     ]
    },
    {
     "name": "stderr",
     "output_type": "stream",
     "text": [
      "  0%|          | 733/190746 [04:51<9:01:23,  5.85it/s] "
     ]
    },
    {
     "name": "stdout",
     "output_type": "stream",
     "text": [
      "User Length 46\n"
     ]
    },
    {
     "name": "stderr",
     "output_type": "stream",
     "text": [
      "  0%|          | 735/190746 [04:52<9:57:34,  5.30it/s] "
     ]
    },
    {
     "name": "stdout",
     "output_type": "stream",
     "text": [
      "User Length 39\n",
      "User Length 24\n",
      "User Length 140\n"
     ]
    },
    {
     "name": "stderr",
     "output_type": "stream",
     "text": [
      "  0%|          | 737/190746 [04:53<15:17:56,  3.45it/s]"
     ]
    },
    {
     "name": "stdout",
     "output_type": "stream",
     "text": [
      "User Length 25\n",
      "User Length 117\n"
     ]
    },
    {
     "name": "stderr",
     "output_type": "stream",
     "text": [
      "  0%|          | 740/190746 [04:54<15:05:59,  3.50it/s]"
     ]
    },
    {
     "name": "stdout",
     "output_type": "stream",
     "text": [
      "User Length 29\n",
      "User Length 29\n"
     ]
    },
    {
     "name": "stderr",
     "output_type": "stream",
     "text": [
      "  0%|          | 741/190746 [04:54<12:50:43,  4.11it/s]"
     ]
    },
    {
     "name": "stdout",
     "output_type": "stream",
     "text": [
      "User Length 51\n"
     ]
    },
    {
     "name": "stderr",
     "output_type": "stream",
     "text": [
      "  0%|          | 742/190746 [04:54<14:00:10,  3.77it/s]"
     ]
    },
    {
     "name": "stdout",
     "output_type": "stream",
     "text": [
      "User Length 21\n",
      "User Length 52\n"
     ]
    },
    {
     "name": "stderr",
     "output_type": "stream",
     "text": [
      "  0%|          | 745/190746 [04:55<10:50:46,  4.87it/s]"
     ]
    },
    {
     "name": "stdout",
     "output_type": "stream",
     "text": [
      "User Length 31\n",
      "User Length 25\n",
      "User Length 40\n"
     ]
    },
    {
     "name": "stderr",
     "output_type": "stream",
     "text": [
      "  0%|          | 749/190746 [04:55<8:11:00,  6.45it/s] "
     ]
    },
    {
     "name": "stdout",
     "output_type": "stream",
     "text": [
      "User Length 20\n",
      "User Length 22\n",
      "User Length 26\n"
     ]
    },
    {
     "name": "stderr",
     "output_type": "stream",
     "text": [
      "  0%|          | 751/190746 [04:56<7:45:06,  6.81it/s]"
     ]
    },
    {
     "name": "stdout",
     "output_type": "stream",
     "text": [
      "User Length 33\n",
      "User Length 21\n"
     ]
    },
    {
     "name": "stderr",
     "output_type": "stream",
     "text": [
      "  0%|          | 753/190746 [04:56<7:13:13,  7.31it/s]"
     ]
    },
    {
     "name": "stdout",
     "output_type": "stream",
     "text": [
      "User Length 33\n",
      "User Length 42\n"
     ]
    },
    {
     "name": "stderr",
     "output_type": "stream",
     "text": [
      "  0%|          | 755/190746 [04:56<7:37:26,  6.92it/s]"
     ]
    },
    {
     "name": "stdout",
     "output_type": "stream",
     "text": [
      "User Length 24\n",
      "User Length 28\n"
     ]
    },
    {
     "name": "stderr",
     "output_type": "stream",
     "text": [
      "  0%|          | 756/190746 [04:56<7:35:13,  6.96it/s]"
     ]
    },
    {
     "name": "stdout",
     "output_type": "stream",
     "text": [
      "User Length 20\n",
      "User Length 59\n"
     ]
    },
    {
     "name": "stderr",
     "output_type": "stream",
     "text": [
      "  0%|          | 759/190746 [04:57<8:06:15,  6.51it/s]"
     ]
    },
    {
     "name": "stdout",
     "output_type": "stream",
     "text": [
      "User Length 23\n",
      "User Length 31\n"
     ]
    },
    {
     "name": "stderr",
     "output_type": "stream",
     "text": [
      "  0%|          | 761/190746 [04:57<7:53:15,  6.69it/s]"
     ]
    },
    {
     "name": "stdout",
     "output_type": "stream",
     "text": [
      "User Length 27\n",
      "User Length 376\n"
     ]
    },
    {
     "name": "stderr",
     "output_type": "stream",
     "text": [
      "  0%|          | 763/190746 [05:01<44:58:38,  1.17it/s]"
     ]
    },
    {
     "name": "stdout",
     "output_type": "stream",
     "text": [
      "User Length 29\n",
      "User Length 43\n"
     ]
    },
    {
     "name": "stderr",
     "output_type": "stream",
     "text": [
      "  0%|          | 765/190746 [05:01<27:00:52,  1.95it/s]"
     ]
    },
    {
     "name": "stdout",
     "output_type": "stream",
     "text": [
      "User Length 35\n",
      "User Length 25\n",
      "User Length 70\n"
     ]
    },
    {
     "name": "stderr",
     "output_type": "stream",
     "text": [
      "  0%|          | 768/190746 [05:02<18:26:56,  2.86it/s]"
     ]
    },
    {
     "name": "stdout",
     "output_type": "stream",
     "text": [
      "User Length 38\n",
      "User Length 21\n"
     ]
    },
    {
     "name": "stderr",
     "output_type": "stream",
     "text": [
      "  0%|          | 770/190746 [05:02<14:25:19,  3.66it/s]"
     ]
    },
    {
     "name": "stdout",
     "output_type": "stream",
     "text": [
      "User Length 30\n",
      "User Length 23\n",
      "User Length 25\n"
     ]
    },
    {
     "name": "stderr",
     "output_type": "stream",
     "text": [
      "  0%|          | 774/190746 [05:02<9:07:40,  5.78it/s] "
     ]
    },
    {
     "name": "stdout",
     "output_type": "stream",
     "text": [
      "User Length 22\n",
      "User Length 26\n",
      "User Length 30\n"
     ]
    },
    {
     "name": "stderr",
     "output_type": "stream",
     "text": [
      "  0%|          | 776/190746 [05:02<7:46:25,  6.79it/s]"
     ]
    },
    {
     "name": "stdout",
     "output_type": "stream",
     "text": [
      "User Length 21\n",
      "User Length 43\n"
     ]
    },
    {
     "name": "stderr",
     "output_type": "stream",
     "text": [
      "  0%|          | 778/190746 [05:03<8:20:59,  6.32it/s]"
     ]
    },
    {
     "name": "stdout",
     "output_type": "stream",
     "text": [
      "User Length 37\n",
      "User Length 20\n"
     ]
    },
    {
     "name": "stderr",
     "output_type": "stream",
     "text": [
      "  0%|          | 780/190746 [05:03<7:00:13,  7.53it/s]"
     ]
    },
    {
     "name": "stdout",
     "output_type": "stream",
     "text": [
      "User Length 25\n",
      "User Length 154\n",
      "User Length 55\n"
     ]
    },
    {
     "name": "stderr",
     "output_type": "stream",
     "text": [
      "  0%|          | 783/190746 [05:04<12:31:18,  4.21it/s]"
     ]
    },
    {
     "name": "stdout",
     "output_type": "stream",
     "text": [
      "User Length 32\n",
      "User Length 59\n"
     ]
    },
    {
     "name": "stderr",
     "output_type": "stream",
     "text": [
      "  0%|          | 784/190746 [05:05<13:26:07,  3.93it/s]"
     ]
    },
    {
     "name": "stdout",
     "output_type": "stream",
     "text": [
      "User Length 241\n"
     ]
    },
    {
     "name": "stderr",
     "output_type": "stream",
     "text": [
      "  0%|          | 785/190746 [05:06<37:07:08,  1.42it/s]"
     ]
    },
    {
     "name": "stdout",
     "output_type": "stream",
     "text": [
      "User Length 23\n",
      "User Length 54\n"
     ]
    },
    {
     "name": "stderr",
     "output_type": "stream",
     "text": [
      "  0%|          | 788/190746 [05:07<22:29:00,  2.35it/s]"
     ]
    },
    {
     "name": "stdout",
     "output_type": "stream",
     "text": [
      "User Length 60\n",
      "User Length 46\n"
     ]
    },
    {
     "name": "stderr",
     "output_type": "stream",
     "text": [
      "  0%|          | 790/190746 [05:07<15:00:57,  3.51it/s]"
     ]
    },
    {
     "name": "stdout",
     "output_type": "stream",
     "text": [
      "User Length 33\n",
      "User Length 47\n"
     ]
    },
    {
     "name": "stderr",
     "output_type": "stream",
     "text": [
      "  0%|          | 791/190746 [05:07<14:04:31,  3.75it/s]"
     ]
    },
    {
     "name": "stdout",
     "output_type": "stream",
     "text": [
      "User Length 54\n"
     ]
    },
    {
     "name": "stderr",
     "output_type": "stream",
     "text": [
      "  0%|          | 792/190746 [05:08<13:13:20,  3.99it/s]"
     ]
    },
    {
     "name": "stdout",
     "output_type": "stream",
     "text": [
      "User Length 117\n"
     ]
    },
    {
     "name": "stderr",
     "output_type": "stream",
     "text": [
      "  0%|          | 793/190746 [05:08<21:04:56,  2.50it/s]"
     ]
    },
    {
     "name": "stdout",
     "output_type": "stream",
     "text": [
      "User Length 73\n"
     ]
    },
    {
     "name": "stderr",
     "output_type": "stream",
     "text": [
      "  0%|          | 795/190746 [05:09<16:47:23,  3.14it/s]"
     ]
    },
    {
     "name": "stdout",
     "output_type": "stream",
     "text": [
      "User Length 33\n",
      "User Length 20\n"
     ]
    },
    {
     "name": "stderr",
     "output_type": "stream",
     "text": [
      "  0%|          | 797/190746 [05:09<13:00:09,  4.06it/s]"
     ]
    },
    {
     "name": "stdout",
     "output_type": "stream",
     "text": [
      "User Length 25\n",
      "User Length 67\n"
     ]
    },
    {
     "name": "stderr",
     "output_type": "stream",
     "text": [
      "  0%|          | 799/190746 [05:10<13:16:53,  3.97it/s]"
     ]
    },
    {
     "name": "stdout",
     "output_type": "stream",
     "text": [
      "User Length 34\n",
      "User Length 20\n"
     ]
    },
    {
     "name": "stderr",
     "output_type": "stream",
     "text": [
      "  0%|          | 801/190746 [05:10<11:05:59,  4.75it/s]"
     ]
    },
    {
     "name": "stdout",
     "output_type": "stream",
     "text": [
      "User Length 32\n",
      "User Length 37\n"
     ]
    },
    {
     "name": "stderr",
     "output_type": "stream",
     "text": [
      "  0%|          | 804/190746 [05:10<8:08:18,  6.48it/s] "
     ]
    },
    {
     "name": "stdout",
     "output_type": "stream",
     "text": [
      "User Length 25\n",
      "User Length 20\n",
      "User Length 22\n",
      "User Length 47\n"
     ]
    },
    {
     "name": "stderr",
     "output_type": "stream",
     "text": [
      "  0%|          | 806/190746 [05:10<8:02:28,  6.56it/s]"
     ]
    },
    {
     "name": "stdout",
     "output_type": "stream",
     "text": [
      "User Length 46\n"
     ]
    },
    {
     "name": "stderr",
     "output_type": "stream",
     "text": [
      "  0%|          | 808/190746 [05:11<8:48:58,  5.98it/s]"
     ]
    },
    {
     "name": "stdout",
     "output_type": "stream",
     "text": [
      "User Length 32\n",
      "User Length 22\n"
     ]
    },
    {
     "name": "stderr",
     "output_type": "stream",
     "text": [
      "  0%|          | 809/190746 [05:11<7:55:37,  6.66it/s]"
     ]
    },
    {
     "name": "stdout",
     "output_type": "stream",
     "text": [
      "User Length 21\n",
      "User Length 98\n"
     ]
    },
    {
     "name": "stderr",
     "output_type": "stream",
     "text": [
      "  0%|          | 811/190746 [05:12<11:06:51,  4.75it/s]"
     ]
    },
    {
     "name": "stdout",
     "output_type": "stream",
     "text": [
      "User Length 21\n",
      "User Length 53\n"
     ]
    },
    {
     "name": "stderr",
     "output_type": "stream",
     "text": [
      "  0%|          | 814/190746 [05:12<9:36:20,  5.49it/s] "
     ]
    },
    {
     "name": "stdout",
     "output_type": "stream",
     "text": [
      "User Length 37\n",
      "User Length 52\n"
     ]
    },
    {
     "name": "stderr",
     "output_type": "stream",
     "text": [
      "  0%|          | 816/190746 [05:12<9:26:25,  5.59it/s] "
     ]
    },
    {
     "name": "stdout",
     "output_type": "stream",
     "text": [
      "User Length 31\n",
      "User Length 41\n"
     ]
    },
    {
     "name": "stderr",
     "output_type": "stream",
     "text": [
      "  0%|          | 817/190746 [05:13<9:49:17,  5.37it/s]"
     ]
    },
    {
     "name": "stdout",
     "output_type": "stream",
     "text": [
      "User Length 168\n"
     ]
    },
    {
     "name": "stderr",
     "output_type": "stream",
     "text": [
      "  0%|          | 818/190746 [05:14<24:23:00,  2.16it/s]"
     ]
    },
    {
     "name": "stdout",
     "output_type": "stream",
     "text": [
      "User Length 94\n"
     ]
    },
    {
     "name": "stderr",
     "output_type": "stream",
     "text": [
      "  0%|          | 820/190746 [05:15<20:34:29,  2.56it/s]"
     ]
    },
    {
     "name": "stdout",
     "output_type": "stream",
     "text": [
      "User Length 27\n",
      "User Length 25\n"
     ]
    },
    {
     "name": "stderr",
     "output_type": "stream",
     "text": [
      "  0%|          | 822/190746 [05:15<15:49:14,  3.33it/s]"
     ]
    },
    {
     "name": "stdout",
     "output_type": "stream",
     "text": [
      "User Length 24\n",
      "User Length 43\n"
     ]
    },
    {
     "name": "stderr",
     "output_type": "stream",
     "text": [
      "  0%|          | 823/190746 [05:15<14:33:58,  3.62it/s]"
     ]
    },
    {
     "name": "stdout",
     "output_type": "stream",
     "text": [
      "User Length 23\n",
      "User Length 56\n"
     ]
    },
    {
     "name": "stderr",
     "output_type": "stream",
     "text": [
      "  0%|          | 826/190746 [05:15<12:08:56,  4.34it/s]"
     ]
    },
    {
     "name": "stdout",
     "output_type": "stream",
     "text": [
      "User Length 39\n",
      "User Length 21\n"
     ]
    },
    {
     "name": "stderr",
     "output_type": "stream",
     "text": [
      "  0%|          | 828/190746 [05:16<9:39:28,  5.46it/s] "
     ]
    },
    {
     "name": "stdout",
     "output_type": "stream",
     "text": [
      "User Length 25\n",
      "User Length 32\n",
      "User Length 36\n"
     ]
    },
    {
     "name": "stderr",
     "output_type": "stream",
     "text": [
      "  0%|          | 830/190746 [05:16<8:34:04,  6.16it/s]"
     ]
    },
    {
     "name": "stdout",
     "output_type": "stream",
     "text": [
      "User Length 137\n"
     ]
    },
    {
     "name": "stderr",
     "output_type": "stream",
     "text": [
      "  0%|          | 832/190746 [05:17<17:00:53,  3.10it/s]"
     ]
    },
    {
     "name": "stdout",
     "output_type": "stream",
     "text": [
      "User Length 32\n",
      "User Length 22\n",
      "User Length 21\n"
     ]
    },
    {
     "name": "stderr",
     "output_type": "stream",
     "text": [
      "  0%|          | 834/190746 [05:17<13:12:10,  4.00it/s]"
     ]
    },
    {
     "name": "stdout",
     "output_type": "stream",
     "text": [
      "User Length 208\n"
     ]
    },
    {
     "name": "stderr",
     "output_type": "stream",
     "text": [
      "  0%|          | 835/190746 [05:19<33:59:38,  1.55it/s]"
     ]
    },
    {
     "name": "stdout",
     "output_type": "stream",
     "text": [
      "User Length 21\n",
      "User Length 129\n"
     ]
    },
    {
     "name": "stderr",
     "output_type": "stream",
     "text": [
      "  0%|          | 839/190746 [05:20<23:08:15,  2.28it/s]"
     ]
    },
    {
     "name": "stdout",
     "output_type": "stream",
     "text": [
      "User Length 26\n",
      "User Length 25\n",
      "User Length 30\n"
     ]
    },
    {
     "name": "stderr",
     "output_type": "stream",
     "text": [
      "  0%|          | 840/190746 [05:20<17:50:53,  2.96it/s]"
     ]
    },
    {
     "name": "stdout",
     "output_type": "stream",
     "text": [
      "User Length 26\n",
      "User Length 35\n"
     ]
    },
    {
     "name": "stderr",
     "output_type": "stream",
     "text": [
      "  0%|          | 843/190746 [05:20<13:08:37,  4.01it/s]"
     ]
    },
    {
     "name": "stdout",
     "output_type": "stream",
     "text": [
      "User Length 41\n",
      "User Length 33\n"
     ]
    },
    {
     "name": "stderr",
     "output_type": "stream",
     "text": [
      "  0%|          | 844/190746 [05:20<11:44:34,  4.49it/s]"
     ]
    },
    {
     "name": "stdout",
     "output_type": "stream",
     "text": [
      "User Length 23\n",
      "User Length 32\n"
     ]
    },
    {
     "name": "stderr",
     "output_type": "stream",
     "text": [
      "  0%|          | 846/190746 [05:21<10:08:58,  5.20it/s]"
     ]
    },
    {
     "name": "stdout",
     "output_type": "stream",
     "text": [
      "User Length 24\n",
      "User Length 56\n"
     ]
    },
    {
     "name": "stderr",
     "output_type": "stream",
     "text": [
      "  0%|          | 849/190746 [05:21<9:09:27,  5.76it/s] "
     ]
    },
    {
     "name": "stdout",
     "output_type": "stream",
     "text": [
      "User Length 36\n",
      "User Length 22\n",
      "User Length 87\n"
     ]
    },
    {
     "name": "stderr",
     "output_type": "stream",
     "text": [
      "  0%|          | 851/190746 [05:22<11:05:24,  4.76it/s]"
     ]
    },
    {
     "name": "stdout",
     "output_type": "stream",
     "text": [
      "User Length 90\n"
     ]
    },
    {
     "name": "stderr",
     "output_type": "stream",
     "text": [
      "  0%|          | 852/190746 [05:22<17:12:20,  3.07it/s]"
     ]
    },
    {
     "name": "stdout",
     "output_type": "stream",
     "text": [
      "User Length 337\n"
     ]
    },
    {
     "name": "stderr",
     "output_type": "stream",
     "text": [
      "  0%|          | 853/190746 [05:25<57:12:47,  1.08s/it]"
     ]
    },
    {
     "name": "stdout",
     "output_type": "stream",
     "text": [
      "User Length 20\n",
      "User Length 61\n"
     ]
    },
    {
     "name": "stderr",
     "output_type": "stream",
     "text": [
      "  0%|          | 855/190746 [05:26<43:06:37,  1.22it/s]"
     ]
    },
    {
     "name": "stdout",
     "output_type": "stream",
     "text": [
      "User Length 23\n",
      "User Length 72\n"
     ]
    },
    {
     "name": "stderr",
     "output_type": "stream",
     "text": [
      "  0%|          | 859/190746 [05:26<24:51:48,  2.12it/s]"
     ]
    },
    {
     "name": "stdout",
     "output_type": "stream",
     "text": [
      "User Length 24\n",
      "User Length 22\n",
      "User Length 30\n"
     ]
    },
    {
     "name": "stderr",
     "output_type": "stream",
     "text": [
      "  0%|          | 860/190746 [05:26<19:51:40,  2.66it/s]"
     ]
    },
    {
     "name": "stdout",
     "output_type": "stream",
     "text": [
      "User Length 68\n"
     ]
    },
    {
     "name": "stderr",
     "output_type": "stream",
     "text": [
      "  0%|          | 862/190746 [05:27<16:17:55,  3.24it/s]"
     ]
    },
    {
     "name": "stdout",
     "output_type": "stream",
     "text": [
      "User Length 36\n",
      "User Length 24\n"
     ]
    },
    {
     "name": "stderr",
     "output_type": "stream",
     "text": [
      "  0%|          | 864/190746 [05:27<13:27:04,  3.92it/s]"
     ]
    },
    {
     "name": "stdout",
     "output_type": "stream",
     "text": [
      "User Length 38\n",
      "User Length 21\n"
     ]
    },
    {
     "name": "stderr",
     "output_type": "stream",
     "text": [
      "  0%|          | 866/190746 [05:27<11:04:13,  4.76it/s]"
     ]
    },
    {
     "name": "stdout",
     "output_type": "stream",
     "text": [
      "User Length 34\n",
      "User Length 23\n",
      "User Length 80\n"
     ]
    },
    {
     "name": "stderr",
     "output_type": "stream",
     "text": [
      "  0%|          | 869/190746 [05:28<10:12:24,  5.17it/s]"
     ]
    },
    {
     "name": "stdout",
     "output_type": "stream",
     "text": [
      "User Length 30\n",
      "User Length 30\n"
     ]
    },
    {
     "name": "stderr",
     "output_type": "stream",
     "text": [
      "  0%|          | 870/190746 [05:28<9:09:12,  5.76it/s] "
     ]
    },
    {
     "name": "stdout",
     "output_type": "stream",
     "text": [
      "User Length 50\n"
     ]
    },
    {
     "name": "stderr",
     "output_type": "stream",
     "text": [
      "  0%|          | 871/190746 [05:28<10:52:17,  4.85it/s]"
     ]
    },
    {
     "name": "stdout",
     "output_type": "stream",
     "text": [
      "User Length 55\n"
     ]
    },
    {
     "name": "stderr",
     "output_type": "stream",
     "text": [
      "  0%|          | 873/190746 [05:29<11:28:50,  4.59it/s]"
     ]
    },
    {
     "name": "stdout",
     "output_type": "stream",
     "text": [
      "User Length 33\n",
      "User Length 22\n"
     ]
    },
    {
     "name": "stderr",
     "output_type": "stream",
     "text": [
      "  0%|          | 875/190746 [05:29<9:39:59,  5.46it/s] "
     ]
    },
    {
     "name": "stdout",
     "output_type": "stream",
     "text": [
      "User Length 25\n",
      "User Length 33\n"
     ]
    },
    {
     "name": "stderr",
     "output_type": "stream",
     "text": [
      "  0%|          | 876/190746 [05:29<9:39:35,  5.46it/s]"
     ]
    },
    {
     "name": "stdout",
     "output_type": "stream",
     "text": [
      "User Length 43\n"
     ]
    },
    {
     "name": "stderr",
     "output_type": "stream",
     "text": [
      "  0%|          | 878/190746 [05:30<9:39:51,  5.46it/s] "
     ]
    },
    {
     "name": "stdout",
     "output_type": "stream",
     "text": [
      "User Length 33\n",
      "User Length 22\n"
     ]
    },
    {
     "name": "stderr",
     "output_type": "stream",
     "text": [
      "  0%|          | 880/190746 [05:30<8:36:02,  6.13it/s]"
     ]
    },
    {
     "name": "stdout",
     "output_type": "stream",
     "text": [
      "User Length 39\n",
      "User Length 27\n",
      "User Length 60\n"
     ]
    },
    {
     "name": "stderr",
     "output_type": "stream",
     "text": [
      "  0%|          | 883/190746 [05:30<8:09:07,  6.47it/s]"
     ]
    },
    {
     "name": "stdout",
     "output_type": "stream",
     "text": [
      "User Length 29\n",
      "User Length 91\n"
     ]
    },
    {
     "name": "stderr",
     "output_type": "stream",
     "text": [
      "  0%|          | 884/190746 [05:31<13:49:14,  3.82it/s]"
     ]
    },
    {
     "name": "stdout",
     "output_type": "stream",
     "text": [
      "User Length 22\n",
      "User Length 40\n"
     ]
    },
    {
     "name": "stderr",
     "output_type": "stream",
     "text": [
      "  0%|          | 888/190746 [05:31<9:47:02,  5.39it/s] "
     ]
    },
    {
     "name": "stdout",
     "output_type": "stream",
     "text": [
      "User Length 23\n",
      "User Length 22\n",
      "User Length 28\n"
     ]
    },
    {
     "name": "stderr",
     "output_type": "stream",
     "text": [
      "  0%|          | 891/190746 [05:32<7:35:07,  6.95it/s]"
     ]
    },
    {
     "name": "stdout",
     "output_type": "stream",
     "text": [
      "User Length 21\n",
      "User Length 24\n",
      "User Length 28\n"
     ]
    },
    {
     "name": "stderr",
     "output_type": "stream",
     "text": [
      "  0%|          | 893/190746 [05:32<7:30:14,  7.03it/s]"
     ]
    },
    {
     "name": "stdout",
     "output_type": "stream",
     "text": [
      "User Length 36\n",
      "User Length 30\n"
     ]
    },
    {
     "name": "stderr",
     "output_type": "stream",
     "text": [
      "  0%|          | 896/190746 [05:32<6:33:57,  8.03it/s]"
     ]
    },
    {
     "name": "stdout",
     "output_type": "stream",
     "text": [
      "User Length 22\n",
      "User Length 35\n",
      "User Length 24\n"
     ]
    },
    {
     "name": "stderr",
     "output_type": "stream",
     "text": [
      "  0%|          | 898/190746 [05:32<6:17:24,  8.38it/s]"
     ]
    },
    {
     "name": "stdout",
     "output_type": "stream",
     "text": [
      "User Length 30\n",
      "User Length 38\n"
     ]
    },
    {
     "name": "stderr",
     "output_type": "stream",
     "text": [
      "  0%|          | 899/190746 [05:33<7:14:39,  7.28it/s]"
     ]
    },
    {
     "name": "stdout",
     "output_type": "stream",
     "text": [
      "User Length 22\n",
      "User Length 33\n"
     ]
    },
    {
     "name": "stderr",
     "output_type": "stream",
     "text": [
      "  0%|          | 902/190746 [05:33<6:52:28,  7.67it/s]"
     ]
    },
    {
     "name": "stdout",
     "output_type": "stream",
     "text": [
      "User Length 35\n",
      "User Length 25\n"
     ]
    },
    {
     "name": "stderr",
     "output_type": "stream",
     "text": [
      "  0%|          | 903/190746 [05:33<6:25:57,  8.20it/s]"
     ]
    },
    {
     "name": "stdout",
     "output_type": "stream",
     "text": [
      "User Length 95\n"
     ]
    },
    {
     "name": "stderr",
     "output_type": "stream",
     "text": [
      "  0%|          | 906/190746 [05:34<10:48:13,  4.88it/s]"
     ]
    },
    {
     "name": "stdout",
     "output_type": "stream",
     "text": [
      "User Length 24\n",
      "User Length 27\n",
      "User Length 20\n"
     ]
    },
    {
     "name": "stderr",
     "output_type": "stream",
     "text": [
      "  0%|          | 908/190746 [05:34<8:56:43,  5.89it/s] "
     ]
    },
    {
     "name": "stdout",
     "output_type": "stream",
     "text": [
      "User Length 29\n",
      "User Length 32\n"
     ]
    },
    {
     "name": "stderr",
     "output_type": "stream",
     "text": [
      "  0%|          | 910/190746 [05:34<7:57:22,  6.63it/s]"
     ]
    },
    {
     "name": "stdout",
     "output_type": "stream",
     "text": [
      "User Length 32\n",
      "User Length 26\n"
     ]
    },
    {
     "name": "stderr",
     "output_type": "stream",
     "text": [
      "  0%|          | 912/190746 [05:35<7:36:10,  6.94it/s]"
     ]
    },
    {
     "name": "stdout",
     "output_type": "stream",
     "text": [
      "User Length 28\n",
      "User Length 20\n",
      "User Length 48\n"
     ]
    },
    {
     "name": "stderr",
     "output_type": "stream",
     "text": [
      "  0%|          | 914/190746 [05:35<8:07:19,  6.49it/s]"
     ]
    },
    {
     "name": "stdout",
     "output_type": "stream",
     "text": [
      "User Length 77\n"
     ]
    },
    {
     "name": "stderr",
     "output_type": "stream",
     "text": [
      "  0%|          | 915/190746 [05:35<13:28:29,  3.91it/s]"
     ]
    },
    {
     "name": "stdout",
     "output_type": "stream",
     "text": [
      "User Length 781\n"
     ]
    },
    {
     "name": "stderr",
     "output_type": "stream",
     "text": [
      "  0%|          | 917/190746 [05:45<117:22:15,  2.23s/it]"
     ]
    },
    {
     "name": "stdout",
     "output_type": "stream",
     "text": [
      "User Length 30\n",
      "User Length 83\n"
     ]
    },
    {
     "name": "stderr",
     "output_type": "stream",
     "text": [
      "  0%|          | 918/190746 [05:46<89:55:46,  1.71s/it] "
     ]
    },
    {
     "name": "stdout",
     "output_type": "stream",
     "text": [
      "User Length 56\n"
     ]
    },
    {
     "name": "stderr",
     "output_type": "stream",
     "text": [
      "  0%|          | 920/190746 [05:46<49:35:28,  1.06it/s]"
     ]
    },
    {
     "name": "stdout",
     "output_type": "stream",
     "text": [
      "User Length 35\n",
      "User Length 51\n"
     ]
    },
    {
     "name": "stderr",
     "output_type": "stream",
     "text": [
      "  0%|          | 922/190746 [05:47<28:39:08,  1.84it/s]"
     ]
    },
    {
     "name": "stdout",
     "output_type": "stream",
     "text": [
      "User Length 27\n",
      "User Length 24\n",
      "User Length 56\n"
     ]
    },
    {
     "name": "stderr",
     "output_type": "stream",
     "text": [
      "  0%|          | 925/190746 [05:47<18:24:22,  2.86it/s]"
     ]
    },
    {
     "name": "stdout",
     "output_type": "stream",
     "text": [
      "User Length 32\n",
      "User Length 29\n"
     ]
    },
    {
     "name": "stderr",
     "output_type": "stream",
     "text": [
      "  0%|          | 927/190746 [05:47<12:19:19,  4.28it/s]"
     ]
    },
    {
     "name": "stdout",
     "output_type": "stream",
     "text": [
      "User Length 30\n",
      "User Length 21\n",
      "User Length 34\n"
     ]
    },
    {
     "name": "stderr",
     "output_type": "stream",
     "text": [
      "  0%|          | 929/190746 [05:48<10:11:37,  5.17it/s]"
     ]
    },
    {
     "name": "stdout",
     "output_type": "stream",
     "text": [
      "User Length 50\n"
     ]
    },
    {
     "name": "stderr",
     "output_type": "stream",
     "text": [
      "  0%|          | 930/190746 [05:48<11:19:35,  4.66it/s]"
     ]
    },
    {
     "name": "stdout",
     "output_type": "stream",
     "text": [
      "User Length 88\n"
     ]
    },
    {
     "name": "stderr",
     "output_type": "stream",
     "text": [
      "  0%|          | 931/190746 [05:48<16:30:05,  3.20it/s]"
     ]
    },
    {
     "name": "stdout",
     "output_type": "stream",
     "text": [
      "User Length 51\n"
     ]
    },
    {
     "name": "stderr",
     "output_type": "stream",
     "text": [
      "  0%|          | 933/190746 [05:49<13:20:36,  3.95it/s]"
     ]
    },
    {
     "name": "stdout",
     "output_type": "stream",
     "text": [
      "User Length 27\n",
      "User Length 30\n"
     ]
    },
    {
     "name": "stderr",
     "output_type": "stream",
     "text": [
      "  0%|          | 935/190746 [05:49<10:38:50,  4.95it/s]"
     ]
    },
    {
     "name": "stdout",
     "output_type": "stream",
     "text": [
      "User Length 20\n",
      "User Length 22\n",
      "User Length 25\n"
     ]
    },
    {
     "name": "stderr",
     "output_type": "stream",
     "text": [
      "  0%|          | 937/190746 [05:49<8:36:03,  6.13it/s] "
     ]
    },
    {
     "name": "stdout",
     "output_type": "stream",
     "text": [
      "User Length 50\n"
     ]
    },
    {
     "name": "stderr",
     "output_type": "stream",
     "text": [
      "  0%|          | 940/190746 [05:50<8:21:47,  6.30it/s] "
     ]
    },
    {
     "name": "stdout",
     "output_type": "stream",
     "text": [
      "User Length 25\n",
      "User Length 22\n",
      "User Length 61\n"
     ]
    },
    {
     "name": "stderr",
     "output_type": "stream",
     "text": [
      "  0%|          | 942/190746 [05:50<10:30:15,  5.02it/s]"
     ]
    },
    {
     "name": "stdout",
     "output_type": "stream",
     "text": [
      "User Length 36\n",
      "User Length 51\n"
     ]
    },
    {
     "name": "stderr",
     "output_type": "stream",
     "text": [
      "  0%|          | 943/190746 [05:50<11:49:10,  4.46it/s]"
     ]
    },
    {
     "name": "stdout",
     "output_type": "stream",
     "text": [
      "User Length 80\n"
     ]
    },
    {
     "name": "stderr",
     "output_type": "stream",
     "text": [
      "  0%|          | 945/190746 [05:51<13:03:21,  4.04it/s]"
     ]
    },
    {
     "name": "stdout",
     "output_type": "stream",
     "text": [
      "User Length 36\n",
      "User Length 25\n"
     ]
    },
    {
     "name": "stderr",
     "output_type": "stream",
     "text": [
      "  0%|          | 946/190746 [05:51<10:53:55,  4.84it/s]"
     ]
    },
    {
     "name": "stdout",
     "output_type": "stream",
     "text": [
      "User Length 49\n"
     ]
    },
    {
     "name": "stderr",
     "output_type": "stream",
     "text": [
      "  0%|          | 948/190746 [05:51<9:34:28,  5.51it/s] "
     ]
    },
    {
     "name": "stdout",
     "output_type": "stream",
     "text": [
      "User Length 27\n",
      "User Length 24\n",
      "User Length 20\n"
     ]
    },
    {
     "name": "stderr",
     "output_type": "stream",
     "text": [
      "  0%|          | 951/190746 [05:52<7:19:08,  7.20it/s]"
     ]
    },
    {
     "name": "stdout",
     "output_type": "stream",
     "text": [
      "User Length 24\n",
      "User Length 47\n"
     ]
    },
    {
     "name": "stderr",
     "output_type": "stream",
     "text": [
      "  0%|          | 952/190746 [05:52<10:10:03,  5.19it/s]"
     ]
    },
    {
     "name": "stdout",
     "output_type": "stream",
     "text": [
      "User Length 236\n"
     ]
    },
    {
     "name": "stderr",
     "output_type": "stream",
     "text": [
      "  0%|          | 953/190746 [05:54<38:48:47,  1.36it/s]"
     ]
    },
    {
     "name": "stdout",
     "output_type": "stream",
     "text": [
      "User Length 133\n"
     ]
    },
    {
     "name": "stderr",
     "output_type": "stream",
     "text": [
      "  1%|          | 954/190746 [05:55<41:18:12,  1.28it/s]"
     ]
    },
    {
     "name": "stdout",
     "output_type": "stream",
     "text": [
      "User Length 21\n",
      "User Length 41\n"
     ]
    },
    {
     "name": "stderr",
     "output_type": "stream",
     "text": [
      "  1%|          | 956/190746 [05:55<31:35:30,  1.67it/s]"
     ]
    },
    {
     "name": "stdout",
     "output_type": "stream",
     "text": [
      "User Length 21\n",
      "User Length 60\n"
     ]
    },
    {
     "name": "stderr",
     "output_type": "stream",
     "text": [
      "  1%|          | 959/190746 [05:56<19:50:48,  2.66it/s]"
     ]
    },
    {
     "name": "stdout",
     "output_type": "stream",
     "text": [
      "User Length 21\n",
      "User Length 58\n"
     ]
    },
    {
     "name": "stderr",
     "output_type": "stream",
     "text": [
      "  1%|          | 961/190746 [05:56<16:14:14,  3.25it/s]"
     ]
    },
    {
     "name": "stdout",
     "output_type": "stream",
     "text": [
      "User Length 33\n",
      "User Length 47\n"
     ]
    },
    {
     "name": "stderr",
     "output_type": "stream",
     "text": [
      "  1%|          | 962/190746 [05:57<14:28:23,  3.64it/s]"
     ]
    },
    {
     "name": "stdout",
     "output_type": "stream",
     "text": [
      "User Length 67\n"
     ]
    },
    {
     "name": "stderr",
     "output_type": "stream",
     "text": [
      "  1%|          | 964/190746 [05:57<13:17:14,  3.97it/s]"
     ]
    },
    {
     "name": "stdout",
     "output_type": "stream",
     "text": [
      "User Length 23\n",
      "User Length 34\n"
     ]
    },
    {
     "name": "stderr",
     "output_type": "stream",
     "text": [
      "  1%|          | 965/190746 [05:57<11:54:31,  4.43it/s]"
     ]
    },
    {
     "name": "stdout",
     "output_type": "stream",
     "text": [
      "User Length 22\n",
      "User Length 29\n"
     ]
    },
    {
     "name": "stderr",
     "output_type": "stream",
     "text": [
      "  1%|          | 968/190746 [05:58<9:19:33,  5.65it/s] "
     ]
    },
    {
     "name": "stdout",
     "output_type": "stream",
     "text": [
      "User Length 34\n",
      "User Length 32\n"
     ]
    },
    {
     "name": "stderr",
     "output_type": "stream",
     "text": [
      "  1%|          | 969/190746 [05:58<8:27:10,  6.24it/s]"
     ]
    },
    {
     "name": "stdout",
     "output_type": "stream",
     "text": [
      "User Length 22\n",
      "User Length 27\n"
     ]
    },
    {
     "name": "stderr",
     "output_type": "stream",
     "text": [
      "  1%|          | 972/190746 [05:58<7:50:04,  6.73it/s]"
     ]
    },
    {
     "name": "stdout",
     "output_type": "stream",
     "text": [
      "User Length 37\n",
      "User Length 50\n"
     ]
    },
    {
     "name": "stderr",
     "output_type": "stream",
     "text": [
      "  1%|          | 975/190746 [05:58<7:50:09,  6.73it/s]"
     ]
    },
    {
     "name": "stdout",
     "output_type": "stream",
     "text": [
      "User Length 24\n",
      "User Length 25\n",
      "User Length 40\n"
     ]
    },
    {
     "name": "stderr",
     "output_type": "stream",
     "text": [
      "  1%|          | 976/190746 [05:59<8:15:23,  6.38it/s]"
     ]
    },
    {
     "name": "stdout",
     "output_type": "stream",
     "text": [
      "User Length 47\n"
     ]
    },
    {
     "name": "stderr",
     "output_type": "stream",
     "text": [
      "  1%|          | 978/190746 [05:59<9:19:26,  5.65it/s]"
     ]
    },
    {
     "name": "stdout",
     "output_type": "stream",
     "text": [
      "User Length 39\n",
      "User Length 178\n"
     ]
    },
    {
     "name": "stderr",
     "output_type": "stream",
     "text": [
      "  1%|          | 979/190746 [06:00<28:53:43,  1.82it/s]"
     ]
    },
    {
     "name": "stdout",
     "output_type": "stream",
     "text": [
      "User Length 21\n",
      "User Length 24\n"
     ]
    },
    {
     "name": "stderr",
     "output_type": "stream",
     "text": [
      "  1%|          | 982/190746 [06:01<17:49:36,  2.96it/s]"
     ]
    },
    {
     "name": "stdout",
     "output_type": "stream",
     "text": [
      "User Length 31\n",
      "User Length 38\n"
     ]
    },
    {
     "name": "stderr",
     "output_type": "stream",
     "text": [
      "  1%|          | 983/190746 [06:01<15:54:45,  3.31it/s]"
     ]
    },
    {
     "name": "stdout",
     "output_type": "stream",
     "text": [
      "User Length 104\n"
     ]
    },
    {
     "name": "stderr",
     "output_type": "stream",
     "text": [
      "  1%|          | 984/190746 [06:02<21:54:23,  2.41it/s]"
     ]
    },
    {
     "name": "stdout",
     "output_type": "stream",
     "text": [
      "User Length 53\n"
     ]
    },
    {
     "name": "stderr",
     "output_type": "stream",
     "text": [
      "  1%|          | 985/190746 [06:02<19:18:57,  2.73it/s]"
     ]
    },
    {
     "name": "stdout",
     "output_type": "stream",
     "text": [
      "User Length 133\n"
     ]
    },
    {
     "name": "stderr",
     "output_type": "stream",
     "text": [
      "  1%|          | 987/190746 [06:03<20:41:32,  2.55it/s]"
     ]
    },
    {
     "name": "stdout",
     "output_type": "stream",
     "text": [
      "User Length 32\n",
      "User Length 153\n"
     ]
    },
    {
     "name": "stderr",
     "output_type": "stream",
     "text": [
      "  1%|          | 989/190746 [06:04<23:45:33,  2.22it/s]"
     ]
    },
    {
     "name": "stdout",
     "output_type": "stream",
     "text": [
      "User Length 36\n",
      "User Length 50\n"
     ]
    },
    {
     "name": "stderr",
     "output_type": "stream",
     "text": [
      "  1%|          | 990/190746 [06:04<20:48:36,  2.53it/s]"
     ]
    },
    {
     "name": "stdout",
     "output_type": "stream",
     "text": [
      "User Length 69\n"
     ]
    },
    {
     "name": "stderr",
     "output_type": "stream",
     "text": [
      "  1%|          | 991/190746 [06:05<22:13:19,  2.37it/s]"
     ]
    },
    {
     "name": "stdout",
     "output_type": "stream",
     "text": [
      "User Length 46\n"
     ]
    },
    {
     "name": "stderr",
     "output_type": "stream",
     "text": [
      "  1%|          | 993/190746 [06:05<15:18:30,  3.44it/s]"
     ]
    },
    {
     "name": "stdout",
     "output_type": "stream",
     "text": [
      "User Length 29\n",
      "User Length 38\n"
     ]
    },
    {
     "name": "stderr",
     "output_type": "stream",
     "text": [
      "  1%|          | 994/190746 [06:05<14:19:22,  3.68it/s]"
     ]
    },
    {
     "name": "stdout",
     "output_type": "stream",
     "text": [
      "User Length 20\n",
      "User Length 53\n"
     ]
    },
    {
     "name": "stderr",
     "output_type": "stream",
     "text": [
      "  1%|          | 997/190746 [06:06<11:13:47,  4.69it/s]"
     ]
    },
    {
     "name": "stdout",
     "output_type": "stream",
     "text": [
      "User Length 31\n",
      "User Length 29\n"
     ]
    },
    {
     "name": "stderr",
     "output_type": "stream",
     "text": [
      "  1%|          | 999/190746 [06:06<9:19:53,  5.65it/s] "
     ]
    },
    {
     "name": "stdout",
     "output_type": "stream",
     "text": [
      "User Length 37\n",
      "User Length 49\n"
     ]
    },
    {
     "name": "stderr",
     "output_type": "stream",
     "text": [
      "  1%|          | 1000/190746 [06:06<10:46:02,  4.90it/s]"
     ]
    },
    {
     "name": "stdout",
     "output_type": "stream",
     "text": [
      "User Length 71\n"
     ]
    },
    {
     "name": "stderr",
     "output_type": "stream",
     "text": [
      "/home/sonic/.conda/envs/RL_Env/lib/python3.7/site-packages/ipykernel_launcher.py:39: RuntimeWarning: More than 20 figures have been opened. Figures created through the pyplot interface (`matplotlib.pyplot.figure`) are retained until explicitly closed and may consume too much memory. (To control this warning, see the rcParam `figure.max_open_warning`).\n",
      "  1%|          | 1001/190746 [06:07<13:26:41,  3.92it/s]"
     ]
    },
    {
     "name": "stdout",
     "output_type": "stream",
     "text": [
      "User Length 90\n"
     ]
    },
    {
     "name": "stderr",
     "output_type": "stream",
     "text": [
      "  1%|          | 1004/190746 [06:07<13:00:21,  4.05it/s]"
     ]
    },
    {
     "name": "stdout",
     "output_type": "stream",
     "text": [
      "User Length 21\n",
      "User Length 30\n",
      "User Length 37\n"
     ]
    },
    {
     "name": "stderr",
     "output_type": "stream",
     "text": [
      "  1%|          | 1005/190746 [06:08<12:35:15,  4.19it/s]"
     ]
    },
    {
     "name": "stdout",
     "output_type": "stream",
     "text": [
      "User Length 52\n"
     ]
    },
    {
     "name": "stderr",
     "output_type": "stream",
     "text": [
      "  1%|          | 1006/190746 [06:08<13:53:34,  3.79it/s]"
     ]
    },
    {
     "name": "stdout",
     "output_type": "stream",
     "text": [
      "User Length 78\n"
     ]
    },
    {
     "name": "stderr",
     "output_type": "stream",
     "text": [
      "  1%|          | 1008/190746 [06:09<13:26:18,  3.92it/s]"
     ]
    },
    {
     "name": "stdout",
     "output_type": "stream",
     "text": [
      "User Length 31\n",
      "User Length 23\n"
     ]
    },
    {
     "name": "stderr",
     "output_type": "stream",
     "text": [
      "  1%|          | 1010/190746 [06:09<11:37:46,  4.53it/s]"
     ]
    },
    {
     "name": "stdout",
     "output_type": "stream",
     "text": [
      "User Length 36\n",
      "User Length 28\n"
     ]
    },
    {
     "name": "stderr",
     "output_type": "stream",
     "text": [
      "  1%|          | 1011/190746 [06:09<9:48:33,  5.37it/s] "
     ]
    },
    {
     "name": "stdout",
     "output_type": "stream",
     "text": [
      "User Length 45\n"
     ]
    },
    {
     "name": "stderr",
     "output_type": "stream",
     "text": [
      "  1%|          | 1012/190746 [06:09<10:09:16,  5.19it/s]"
     ]
    },
    {
     "name": "stdout",
     "output_type": "stream",
     "text": [
      "User Length 46\n"
     ]
    },
    {
     "name": "stderr",
     "output_type": "stream",
     "text": [
      "  1%|          | 1014/190746 [06:10<9:59:52,  5.27it/s] "
     ]
    },
    {
     "name": "stdout",
     "output_type": "stream",
     "text": [
      "User Length 32\n",
      "User Length 37\n"
     ]
    },
    {
     "name": "stderr",
     "output_type": "stream",
     "text": [
      "  1%|          | 1016/190746 [06:10<9:50:08,  5.36it/s] "
     ]
    },
    {
     "name": "stdout",
     "output_type": "stream",
     "text": [
      "User Length 29\n",
      "User Length 20\n"
     ]
    },
    {
     "name": "stderr",
     "output_type": "stream",
     "text": [
      "  1%|          | 1018/190746 [06:10<8:27:55,  6.23it/s]"
     ]
    },
    {
     "name": "stdout",
     "output_type": "stream",
     "text": [
      "User Length 26\n",
      "User Length 56\n"
     ]
    },
    {
     "name": "stderr",
     "output_type": "stream",
     "text": [
      "  1%|          | 1020/190746 [06:11<10:41:55,  4.93it/s]"
     ]
    },
    {
     "name": "stdout",
     "output_type": "stream",
     "text": [
      "User Length 33\n",
      "User Length 25\n"
     ]
    },
    {
     "name": "stderr",
     "output_type": "stream",
     "text": [
      "  1%|          | 1022/190746 [06:11<8:26:34,  6.24it/s] "
     ]
    },
    {
     "name": "stdout",
     "output_type": "stream",
     "text": [
      "User Length 25\n",
      "User Length 37\n"
     ]
    },
    {
     "name": "stderr",
     "output_type": "stream",
     "text": [
      "  1%|          | 1024/190746 [06:11<8:12:25,  6.42it/s]"
     ]
    },
    {
     "name": "stdout",
     "output_type": "stream",
     "text": [
      "User Length 23\n",
      "User Length 129\n"
     ]
    },
    {
     "name": "stderr",
     "output_type": "stream",
     "text": [
      "  1%|          | 1026/190746 [06:12<15:53:40,  3.32it/s]"
     ]
    },
    {
     "name": "stdout",
     "output_type": "stream",
     "text": [
      "User Length 38\n",
      "User Length 40\n"
     ]
    },
    {
     "name": "stderr",
     "output_type": "stream",
     "text": [
      "  1%|          | 1028/190746 [06:13<12:28:11,  4.23it/s]"
     ]
    },
    {
     "name": "stdout",
     "output_type": "stream",
     "text": [
      "User Length 35\n",
      "User Length 36\n"
     ]
    },
    {
     "name": "stderr",
     "output_type": "stream",
     "text": [
      "  1%|          | 1029/190746 [06:13<11:05:43,  4.75it/s]"
     ]
    },
    {
     "name": "stdout",
     "output_type": "stream",
     "text": [
      "User Length 24\n",
      "User Length 39\n"
     ]
    },
    {
     "name": "stderr",
     "output_type": "stream",
     "text": [
      "  1%|          | 1033/190746 [06:13<8:02:25,  6.55it/s] "
     ]
    },
    {
     "name": "stdout",
     "output_type": "stream",
     "text": [
      "User Length 22\n",
      "User Length 26\n",
      "User Length 33\n"
     ]
    },
    {
     "name": "stderr",
     "output_type": "stream",
     "text": [
      "  1%|          | 1034/190746 [06:13<8:04:19,  6.53it/s]"
     ]
    },
    {
     "name": "stdout",
     "output_type": "stream",
     "text": [
      "User Length 26\n",
      "User Length 28\n"
     ]
    },
    {
     "name": "stderr",
     "output_type": "stream",
     "text": [
      "  1%|          | 1037/190746 [06:14<6:50:36,  7.70it/s]"
     ]
    },
    {
     "name": "stdout",
     "output_type": "stream",
     "text": [
      "User Length 30\n",
      "User Length 20\n",
      "User Length 23\n"
     ]
    },
    {
     "name": "stderr",
     "output_type": "stream",
     "text": [
      "  1%|          | 1041/190746 [06:14<5:07:43, 10.27it/s]"
     ]
    },
    {
     "name": "stdout",
     "output_type": "stream",
     "text": [
      "User Length 20\n",
      "User Length 25\n",
      "User Length 78\n"
     ]
    },
    {
     "name": "stderr",
     "output_type": "stream",
     "text": [
      "  1%|          | 1043/190746 [06:15<8:49:19,  5.97it/s]"
     ]
    },
    {
     "name": "stdout",
     "output_type": "stream",
     "text": [
      "User Length 37\n",
      "User Length 42\n"
     ]
    },
    {
     "name": "stderr",
     "output_type": "stream",
     "text": [
      "  1%|          | 1044/190746 [06:15<9:18:26,  5.66it/s]"
     ]
    },
    {
     "name": "stdout",
     "output_type": "stream",
     "text": [
      "User Length 85\n"
     ]
    },
    {
     "name": "stderr",
     "output_type": "stream",
     "text": [
      "  1%|          | 1045/190746 [06:15<14:27:48,  3.64it/s]"
     ]
    },
    {
     "name": "stdout",
     "output_type": "stream",
     "text": [
      "User Length 115\n"
     ]
    },
    {
     "name": "stderr",
     "output_type": "stream",
     "text": [
      "  1%|          | 1046/190746 [06:16<23:01:11,  2.29it/s]"
     ]
    },
    {
     "name": "stdout",
     "output_type": "stream",
     "text": [
      "User Length 45\n"
     ]
    },
    {
     "name": "stderr",
     "output_type": "stream",
     "text": [
      "  1%|          | 1047/190746 [06:16<20:09:18,  2.61it/s]"
     ]
    },
    {
     "name": "stdout",
     "output_type": "stream",
     "text": [
      "User Length 64\n"
     ]
    },
    {
     "name": "stderr",
     "output_type": "stream",
     "text": [
      "  1%|          | 1049/190746 [06:17<15:59:11,  3.30it/s]"
     ]
    },
    {
     "name": "stdout",
     "output_type": "stream",
     "text": [
      "User Length 31\n",
      "User Length 24\n"
     ]
    },
    {
     "name": "stderr",
     "output_type": "stream",
     "text": [
      "  1%|          | 1051/190746 [06:17<12:38:04,  4.17it/s]"
     ]
    },
    {
     "name": "stdout",
     "output_type": "stream",
     "text": [
      "User Length 25\n",
      "User Length 30\n"
     ]
    },
    {
     "name": "stderr",
     "output_type": "stream",
     "text": [
      "  1%|          | 1052/190746 [06:17<10:39:18,  4.95it/s]"
     ]
    },
    {
     "name": "stdout",
     "output_type": "stream",
     "text": [
      "User Length 20\n",
      "User Length 68\n"
     ]
    },
    {
     "name": "stderr",
     "output_type": "stream",
     "text": [
      "  1%|          | 1056/190746 [06:18<9:05:57,  5.79it/s] "
     ]
    },
    {
     "name": "stdout",
     "output_type": "stream",
     "text": [
      "User Length 20\n",
      "User Length 29\n",
      "User Length 29\n"
     ]
    },
    {
     "name": "stderr",
     "output_type": "stream",
     "text": [
      "  1%|          | 1059/190746 [06:18<6:56:24,  7.59it/s]"
     ]
    },
    {
     "name": "stdout",
     "output_type": "stream",
     "text": [
      "User Length 22\n",
      "User Length 25\n",
      "User Length 21\n",
      "User Length 52\n"
     ]
    },
    {
     "name": "stderr",
     "output_type": "stream",
     "text": [
      "  1%|          | 1061/190746 [06:18<7:40:28,  6.87it/s]"
     ]
    },
    {
     "name": "stdout",
     "output_type": "stream",
     "text": [
      "User Length 24\n",
      "User Length 57\n"
     ]
    },
    {
     "name": "stderr",
     "output_type": "stream",
     "text": [
      "  1%|          | 1063/190746 [06:19<7:39:57,  6.87it/s]"
     ]
    },
    {
     "name": "stdout",
     "output_type": "stream",
     "text": [
      "User Length 21\n",
      "User Length 53\n"
     ]
    },
    {
     "name": "stderr",
     "output_type": "stream",
     "text": [
      "  1%|          | 1066/190746 [06:19<7:10:53,  7.34it/s]"
     ]
    },
    {
     "name": "stdout",
     "output_type": "stream",
     "text": [
      "User Length 25\n",
      "User Length 39\n"
     ]
    },
    {
     "name": "stderr",
     "output_type": "stream",
     "text": [
      "  1%|          | 1068/190746 [06:19<7:31:22,  7.00it/s]"
     ]
    },
    {
     "name": "stdout",
     "output_type": "stream",
     "text": [
      "User Length 31\n",
      "User Length 29\n"
     ]
    },
    {
     "name": "stderr",
     "output_type": "stream",
     "text": [
      "  1%|          | 1069/190746 [06:19<7:01:10,  7.51it/s]"
     ]
    },
    {
     "name": "stdout",
     "output_type": "stream",
     "text": [
      "User Length 20\n",
      "User Length 212\n"
     ]
    },
    {
     "name": "stderr",
     "output_type": "stream",
     "text": [
      "  1%|          | 1072/190746 [06:21<14:35:14,  3.61it/s]"
     ]
    },
    {
     "name": "stdout",
     "output_type": "stream",
     "text": [
      "User Length 33\n",
      "User Length 27\n"
     ]
    },
    {
     "name": "stderr",
     "output_type": "stream",
     "text": [
      "  1%|          | 1075/190746 [06:21<9:54:01,  5.32it/s] "
     ]
    },
    {
     "name": "stdout",
     "output_type": "stream",
     "text": [
      "User Length 20\n",
      "User Length 25\n",
      "User Length 24\n",
      "User Length 52\n"
     ]
    },
    {
     "name": "stderr",
     "output_type": "stream",
     "text": [
      "  1%|          | 1078/190746 [06:22<9:24:27,  5.60it/s]"
     ]
    },
    {
     "name": "stdout",
     "output_type": "stream",
     "text": [
      "User Length 37\n",
      "User Length 21\n",
      "User Length 44\n"
     ]
    },
    {
     "name": "stderr",
     "output_type": "stream",
     "text": [
      "  1%|          | 1080/190746 [06:22<9:19:03,  5.65it/s]"
     ]
    },
    {
     "name": "stdout",
     "output_type": "stream",
     "text": [
      "User Length 117\n"
     ]
    },
    {
     "name": "stderr",
     "output_type": "stream",
     "text": [
      "  1%|          | 1081/190746 [06:23<18:23:02,  2.87it/s]"
     ]
    },
    {
     "name": "stdout",
     "output_type": "stream",
     "text": [
      "User Length 45\n"
     ]
    },
    {
     "name": "stderr",
     "output_type": "stream",
     "text": [
      "  1%|          | 1082/190746 [06:23<16:42:07,  3.15it/s]"
     ]
    },
    {
     "name": "stdout",
     "output_type": "stream",
     "text": [
      "User Length 293\n"
     ]
    },
    {
     "name": "stderr",
     "output_type": "stream",
     "text": [
      "  1%|          | 1083/190746 [06:26<50:41:54,  1.04it/s]"
     ]
    },
    {
     "name": "stdout",
     "output_type": "stream",
     "text": [
      "User Length 71\n"
     ]
    },
    {
     "name": "stderr",
     "output_type": "stream",
     "text": [
      "  1%|          | 1086/190746 [06:26<30:21:37,  1.74it/s]"
     ]
    },
    {
     "name": "stdout",
     "output_type": "stream",
     "text": [
      "User Length 21\n",
      "User Length 21\n",
      "User Length 27\n"
     ]
    },
    {
     "name": "stderr",
     "output_type": "stream",
     "text": [
      "  1%|          | 1088/190746 [06:26<22:23:50,  2.35it/s]"
     ]
    },
    {
     "name": "stdout",
     "output_type": "stream",
     "text": [
      "User Length 21\n",
      "User Length 41\n"
     ]
    },
    {
     "name": "stderr",
     "output_type": "stream",
     "text": [
      "  1%|          | 1089/190746 [06:27<18:33:24,  2.84it/s]"
     ]
    },
    {
     "name": "stdout",
     "output_type": "stream",
     "text": [
      "User Length 61\n"
     ]
    },
    {
     "name": "stderr",
     "output_type": "stream",
     "text": [
      "  1%|          | 1090/190746 [06:27<17:48:23,  2.96it/s]"
     ]
    },
    {
     "name": "stdout",
     "output_type": "stream",
     "text": [
      "User Length 25\n",
      "User Length 50\n"
     ]
    },
    {
     "name": "stderr",
     "output_type": "stream",
     "text": [
      "  1%|          | 1093/190746 [06:27<12:19:40,  4.27it/s]"
     ]
    },
    {
     "name": "stdout",
     "output_type": "stream",
     "text": [
      "User Length 27\n",
      "User Length 25\n"
     ]
    },
    {
     "name": "stderr",
     "output_type": "stream",
     "text": [
      "  1%|          | 1095/190746 [06:28<10:26:33,  5.04it/s]"
     ]
    },
    {
     "name": "stdout",
     "output_type": "stream",
     "text": [
      "User Length 33\n",
      "User Length 20\n",
      "User Length 27\n"
     ]
    },
    {
     "name": "stderr",
     "output_type": "stream",
     "text": [
      "  1%|          | 1098/190746 [06:28<7:36:17,  6.93it/s] "
     ]
    },
    {
     "name": "stdout",
     "output_type": "stream",
     "text": [
      "User Length 31\n",
      "User Length 25\n",
      "User Length 44\n"
     ]
    },
    {
     "name": "stderr",
     "output_type": "stream",
     "text": [
      "  1%|          | 1101/190746 [06:28<7:39:04,  6.89it/s]"
     ]
    },
    {
     "name": "stdout",
     "output_type": "stream",
     "text": [
      "User Length 21\n",
      "User Length 77\n"
     ]
    },
    {
     "name": "stderr",
     "output_type": "stream",
     "text": [
      "  1%|          | 1102/190746 [06:29<13:46:22,  3.82it/s]"
     ]
    },
    {
     "name": "stdout",
     "output_type": "stream",
     "text": [
      "User Length 88\n"
     ]
    },
    {
     "name": "stderr",
     "output_type": "stream",
     "text": [
      "  1%|          | 1105/190746 [06:30<13:50:51,  3.80it/s]"
     ]
    },
    {
     "name": "stdout",
     "output_type": "stream",
     "text": [
      "User Length 24\n",
      "User Length 29\n",
      "User Length 60\n"
     ]
    },
    {
     "name": "stderr",
     "output_type": "stream",
     "text": [
      "  1%|          | 1107/190746 [06:30<11:54:10,  4.43it/s]"
     ]
    },
    {
     "name": "stdout",
     "output_type": "stream",
     "text": [
      "User Length 25\n",
      "User Length 194\n"
     ]
    },
    {
     "name": "stderr",
     "output_type": "stream",
     "text": [
      "  1%|          | 1108/190746 [06:32<32:14:39,  1.63it/s]"
     ]
    },
    {
     "name": "stdout",
     "output_type": "stream",
     "text": [
      "User Length 40\n"
     ]
    },
    {
     "name": "stderr",
     "output_type": "stream",
     "text": [
      "  1%|          | 1109/190746 [06:32<26:31:25,  1.99it/s]"
     ]
    },
    {
     "name": "stdout",
     "output_type": "stream",
     "text": [
      "User Length 60\n"
     ]
    },
    {
     "name": "stderr",
     "output_type": "stream",
     "text": [
      "  1%|          | 1110/190746 [06:32<24:52:13,  2.12it/s]"
     ]
    },
    {
     "name": "stdout",
     "output_type": "stream",
     "text": [
      "User Length 286\n"
     ]
    },
    {
     "name": "stderr",
     "output_type": "stream",
     "text": [
      "  1%|          | 1111/190746 [06:35<54:26:32,  1.03s/it]"
     ]
    },
    {
     "name": "stdout",
     "output_type": "stream",
     "text": [
      "User Length 20\n",
      "User Length 34\n"
     ]
    },
    {
     "name": "stderr",
     "output_type": "stream",
     "text": [
      "  1%|          | 1113/190746 [06:35<39:44:15,  1.33it/s]"
     ]
    },
    {
     "name": "stdout",
     "output_type": "stream",
     "text": [
      "User Length 21\n",
      "User Length 39\n"
     ]
    },
    {
     "name": "stderr",
     "output_type": "stream",
     "text": [
      "  1%|          | 1115/190746 [06:35<30:19:30,  1.74it/s]"
     ]
    },
    {
     "name": "stdout",
     "output_type": "stream",
     "text": [
      "User Length 69\n"
     ]
    },
    {
     "name": "stderr",
     "output_type": "stream",
     "text": [
      "  1%|          | 1118/190746 [06:36<20:23:53,  2.58it/s]"
     ]
    },
    {
     "name": "stdout",
     "output_type": "stream",
     "text": [
      "User Length 24\n",
      "User Length 21\n",
      "User Length 22\n",
      "User Length 298\n"
     ]
    },
    {
     "name": "stderr",
     "output_type": "stream",
     "text": [
      "  1%|          | 1121/190746 [06:38<25:30:49,  2.06it/s]"
     ]
    },
    {
     "name": "stdout",
     "output_type": "stream",
     "text": [
      "User Length 22\n",
      "User Length 24\n"
     ]
    },
    {
     "name": "stderr",
     "output_type": "stream",
     "text": [
      "  1%|          | 1122/190746 [06:38<19:47:05,  2.66it/s]"
     ]
    },
    {
     "name": "stdout",
     "output_type": "stream",
     "text": [
      "User Length 22\n",
      "User Length 37\n"
     ]
    },
    {
     "name": "stderr",
     "output_type": "stream",
     "text": [
      "  1%|          | 1124/190746 [06:39<15:52:57,  3.32it/s]"
     ]
    },
    {
     "name": "stdout",
     "output_type": "stream",
     "text": [
      "User Length 127\n"
     ]
    },
    {
     "name": "stderr",
     "output_type": "stream",
     "text": [
      "  1%|          | 1126/190746 [06:40<19:23:32,  2.72it/s]"
     ]
    },
    {
     "name": "stdout",
     "output_type": "stream",
     "text": [
      "User Length 39\n",
      "User Length 29\n"
     ]
    },
    {
     "name": "stderr",
     "output_type": "stream",
     "text": [
      "  1%|          | 1129/190746 [06:40<11:54:28,  4.42it/s]"
     ]
    },
    {
     "name": "stdout",
     "output_type": "stream",
     "text": [
      "User Length 25\n",
      "User Length 22\n",
      "User Length 22\n"
     ]
    },
    {
     "name": "stderr",
     "output_type": "stream",
     "text": [
      "  1%|          | 1131/190746 [06:40<9:27:51,  5.57it/s] "
     ]
    },
    {
     "name": "stdout",
     "output_type": "stream",
     "text": [
      "User Length 20\n",
      "User Length 35\n",
      "User Length 53\n"
     ]
    },
    {
     "name": "stderr",
     "output_type": "stream",
     "text": [
      "  1%|          | 1133/190746 [06:40<9:53:45,  5.32it/s]"
     ]
    },
    {
     "name": "stdout",
     "output_type": "stream",
     "text": [
      "User Length 22\n",
      "User Length 40\n"
     ]
    },
    {
     "name": "stderr",
     "output_type": "stream",
     "text": [
      "  1%|          | 1137/190746 [06:41<7:14:35,  7.27it/s]"
     ]
    },
    {
     "name": "stdout",
     "output_type": "stream",
     "text": [
      "User Length 21\n",
      "User Length 22\n",
      "User Length 21\n",
      "User Length 531\n"
     ]
    },
    {
     "name": "stderr",
     "output_type": "stream",
     "text": [
      "  1%|          | 1139/190746 [06:46<49:27:45,  1.06it/s]"
     ]
    },
    {
     "name": "stdout",
     "output_type": "stream",
     "text": [
      "User Length 78\n"
     ]
    },
    {
     "name": "stderr",
     "output_type": "stream",
     "text": [
      "  1%|          | 1140/190746 [06:47<41:22:31,  1.27it/s]"
     ]
    },
    {
     "name": "stdout",
     "output_type": "stream",
     "text": [
      "User Length 94\n"
     ]
    },
    {
     "name": "stderr",
     "output_type": "stream",
     "text": [
      "  1%|          | 1142/190746 [06:47<27:55:31,  1.89it/s]"
     ]
    },
    {
     "name": "stdout",
     "output_type": "stream",
     "text": [
      "User Length 24\n",
      "User Length 42\n"
     ]
    },
    {
     "name": "stderr",
     "output_type": "stream",
     "text": [
      "  1%|          | 1143/190746 [06:48<22:39:25,  2.32it/s]"
     ]
    },
    {
     "name": "stdout",
     "output_type": "stream",
     "text": [
      "User Length 23\n",
      "User Length 193\n"
     ]
    },
    {
     "name": "stderr",
     "output_type": "stream",
     "text": [
      "  1%|          | 1146/190746 [06:49<22:03:24,  2.39it/s]"
     ]
    },
    {
     "name": "stdout",
     "output_type": "stream",
     "text": [
      "User Length 31\n",
      "User Length 44\n"
     ]
    },
    {
     "name": "stderr",
     "output_type": "stream",
     "text": [
      "  1%|          | 1149/190746 [06:50<14:41:19,  3.59it/s]"
     ]
    },
    {
     "name": "stdout",
     "output_type": "stream",
     "text": [
      "User Length 30\n",
      "User Length 21\n",
      "User Length 22\n"
     ]
    },
    {
     "name": "stderr",
     "output_type": "stream",
     "text": [
      "  1%|          | 1151/190746 [06:50<11:58:32,  4.40it/s]"
     ]
    },
    {
     "name": "stdout",
     "output_type": "stream",
     "text": [
      "User Length 24\n",
      "User Length 102\n"
     ]
    },
    {
     "name": "stderr",
     "output_type": "stream",
     "text": [
      "  1%|          | 1154/190746 [06:51<14:20:54,  3.67it/s]"
     ]
    },
    {
     "name": "stdout",
     "output_type": "stream",
     "text": [
      "User Length 21\n",
      "User Length 27\n",
      "User Length 54\n"
     ]
    },
    {
     "name": "stderr",
     "output_type": "stream",
     "text": [
      "  1%|          | 1158/190746 [06:51<10:54:34,  4.83it/s]"
     ]
    },
    {
     "name": "stdout",
     "output_type": "stream",
     "text": [
      "User Length 21\n",
      "User Length 20\n",
      "User Length 21\n",
      "User Length 24\n",
      "User Length 108\n"
     ]
    },
    {
     "name": "stderr",
     "output_type": "stream",
     "text": [
      "  1%|          | 1161/190746 [06:52<12:24:51,  4.24it/s]"
     ]
    },
    {
     "name": "stdout",
     "output_type": "stream",
     "text": [
      "User Length 34\n",
      "User Length 24\n",
      "User Length 39\n"
     ]
    },
    {
     "name": "stderr",
     "output_type": "stream",
     "text": [
      "  1%|          | 1164/190746 [06:53<10:31:08,  5.01it/s]"
     ]
    },
    {
     "name": "stdout",
     "output_type": "stream",
     "text": [
      "User Length 34\n",
      "User Length 22\n"
     ]
    },
    {
     "name": "stderr",
     "output_type": "stream",
     "text": [
      "  1%|          | 1166/190746 [06:53<9:00:49,  5.84it/s] "
     ]
    },
    {
     "name": "stdout",
     "output_type": "stream",
     "text": [
      "User Length 29\n",
      "User Length 21\n"
     ]
    },
    {
     "name": "stderr",
     "output_type": "stream",
     "text": [
      "  1%|          | 1168/190746 [06:53<7:37:03,  6.91it/s]"
     ]
    },
    {
     "name": "stdout",
     "output_type": "stream",
     "text": [
      "User Length 23\n",
      "User Length 27\n",
      "User Length 44\n"
     ]
    },
    {
     "name": "stderr",
     "output_type": "stream",
     "text": [
      "  1%|          | 1172/190746 [06:53<6:34:10,  8.02it/s]"
     ]
    },
    {
     "name": "stdout",
     "output_type": "stream",
     "text": [
      "User Length 21\n",
      "User Length 23\n",
      "User Length 21\n",
      "User Length 69\n"
     ]
    },
    {
     "name": "stderr",
     "output_type": "stream",
     "text": [
      "  1%|          | 1174/190746 [06:54<8:40:17,  6.07it/s]"
     ]
    },
    {
     "name": "stdout",
     "output_type": "stream",
     "text": [
      "User Length 59\n"
     ]
    },
    {
     "name": "stderr",
     "output_type": "stream",
     "text": [
      "  1%|          | 1176/190746 [06:54<9:50:12,  5.35it/s] "
     ]
    },
    {
     "name": "stdout",
     "output_type": "stream",
     "text": [
      "User Length 33\n",
      "User Length 34\n"
     ]
    },
    {
     "name": "stderr",
     "output_type": "stream",
     "text": [
      "  1%|          | 1177/190746 [06:54<9:04:03,  5.81it/s]"
     ]
    },
    {
     "name": "stdout",
     "output_type": "stream",
     "text": [
      "User Length 20\n",
      "User Length 83\n"
     ]
    },
    {
     "name": "stderr",
     "output_type": "stream",
     "text": [
      "  1%|          | 1181/190746 [06:55<8:35:33,  6.13it/s] "
     ]
    },
    {
     "name": "stdout",
     "output_type": "stream",
     "text": [
      "User Length 26\n",
      "User Length 22\n",
      "User Length 26\n",
      "User Length 97\n"
     ]
    },
    {
     "name": "stderr",
     "output_type": "stream",
     "text": [
      "  1%|          | 1184/190746 [06:56<10:11:03,  5.17it/s]"
     ]
    },
    {
     "name": "stdout",
     "output_type": "stream",
     "text": [
      "User Length 24\n",
      "User Length 110\n"
     ]
    },
    {
     "name": "stderr",
     "output_type": "stream",
     "text": [
      "  1%|          | 1185/190746 [06:57<17:56:23,  2.94it/s]"
     ]
    },
    {
     "name": "stdout",
     "output_type": "stream",
     "text": [
      "User Length 108\n"
     ]
    },
    {
     "name": "stderr",
     "output_type": "stream",
     "text": [
      "  1%|          | 1186/190746 [06:57<22:52:53,  2.30it/s]"
     ]
    },
    {
     "name": "stdout",
     "output_type": "stream",
     "text": [
      "User Length 22\n",
      "User Length 39\n"
     ]
    },
    {
     "name": "stderr",
     "output_type": "stream",
     "text": [
      "  1%|          | 1189/190746 [06:58<15:14:22,  3.46it/s]"
     ]
    },
    {
     "name": "stdout",
     "output_type": "stream",
     "text": [
      "User Length 37\n",
      "User Length 26\n"
     ]
    },
    {
     "name": "stderr",
     "output_type": "stream",
     "text": [
      "  1%|          | 1192/190746 [06:58<10:12:57,  5.15it/s]"
     ]
    },
    {
     "name": "stdout",
     "output_type": "stream",
     "text": [
      "User Length 22\n",
      "User Length 29\n",
      "User Length 25\n"
     ]
    },
    {
     "name": "stderr",
     "output_type": "stream",
     "text": [
      "  1%|          | 1194/190746 [06:58<8:36:44,  6.11it/s] "
     ]
    },
    {
     "name": "stdout",
     "output_type": "stream",
     "text": [
      "User Length 28\n",
      "User Length 298\n"
     ]
    },
    {
     "name": "stderr",
     "output_type": "stream",
     "text": [
      "  1%|          | 1195/190746 [07:01<44:57:47,  1.17it/s]"
     ]
    },
    {
     "name": "stdout",
     "output_type": "stream",
     "text": [
      "User Length 25\n",
      "User Length 240\n"
     ]
    },
    {
     "name": "stderr",
     "output_type": "stream",
     "text": [
      "  1%|          | 1198/190746 [07:03<35:50:40,  1.47it/s]"
     ]
    },
    {
     "name": "stdout",
     "output_type": "stream",
     "text": [
      "User Length 40\n",
      "User Length 20\n"
     ]
    },
    {
     "name": "stderr",
     "output_type": "stream",
     "text": [
      "  1%|          | 1200/190746 [07:03<26:52:06,  1.96it/s]"
     ]
    },
    {
     "name": "stdout",
     "output_type": "stream",
     "text": [
      "User Length 27\n",
      "User Length 110\n"
     ]
    },
    {
     "name": "stderr",
     "output_type": "stream",
     "text": [
      "  1%|          | 1202/190746 [07:04<24:12:57,  2.17it/s]"
     ]
    },
    {
     "name": "stdout",
     "output_type": "stream",
     "text": [
      "User Length 35\n",
      "User Length 21\n",
      "User Length 65\n"
     ]
    },
    {
     "name": "stderr",
     "output_type": "stream",
     "text": [
      "  1%|          | 1206/190746 [07:05<15:49:13,  3.33it/s]"
     ]
    },
    {
     "name": "stdout",
     "output_type": "stream",
     "text": [
      "User Length 23\n",
      "User Length 22\n",
      "User Length 26\n"
     ]
    },
    {
     "name": "stderr",
     "output_type": "stream",
     "text": [
      "  1%|          | 1207/190746 [07:05<12:56:45,  4.07it/s]"
     ]
    },
    {
     "name": "stdout",
     "output_type": "stream",
     "text": [
      "User Length 62\n"
     ]
    },
    {
     "name": "stderr",
     "output_type": "stream",
     "text": [
      "  1%|          | 1208/190746 [07:05<15:38:31,  3.37it/s]"
     ]
    },
    {
     "name": "stdout",
     "output_type": "stream",
     "text": [
      "User Length 44\n"
     ]
    },
    {
     "name": "stderr",
     "output_type": "stream",
     "text": [
      "  1%|          | 1209/190746 [07:06<15:03:21,  3.50it/s]"
     ]
    },
    {
     "name": "stdout",
     "output_type": "stream",
     "text": [
      "User Length 27\n",
      "User Length 72\n"
     ]
    },
    {
     "name": "stderr",
     "output_type": "stream",
     "text": [
      "  1%|          | 1211/190746 [07:06<14:29:03,  3.63it/s]"
     ]
    },
    {
     "name": "stdout",
     "output_type": "stream",
     "text": [
      "User Length 128\n"
     ]
    },
    {
     "name": "stderr",
     "output_type": "stream",
     "text": [
      "  1%|          | 1213/190746 [07:07<20:52:05,  2.52it/s]"
     ]
    },
    {
     "name": "stdout",
     "output_type": "stream",
     "text": [
      "User Length 28\n",
      "User Length 60\n"
     ]
    },
    {
     "name": "stderr",
     "output_type": "stream",
     "text": [
      "  1%|          | 1216/190746 [07:08<16:00:21,  3.29it/s]"
     ]
    },
    {
     "name": "stdout",
     "output_type": "stream",
     "text": [
      "User Length 21\n",
      "User Length 24\n",
      "User Length 26\n"
     ]
    },
    {
     "name": "stderr",
     "output_type": "stream",
     "text": [
      "  1%|          | 1218/190746 [07:08<10:42:21,  4.92it/s]"
     ]
    },
    {
     "name": "stdout",
     "output_type": "stream",
     "text": [
      "User Length 28\n",
      "User Length 33\n"
     ]
    },
    {
     "name": "stderr",
     "output_type": "stream",
     "text": [
      "  1%|          | 1220/190746 [07:08<9:20:09,  5.64it/s] "
     ]
    },
    {
     "name": "stdout",
     "output_type": "stream",
     "text": [
      "User Length 27\n",
      "User Length 24\n"
     ]
    },
    {
     "name": "stderr",
     "output_type": "stream",
     "text": [
      "  1%|          | 1222/190746 [07:09<7:21:31,  7.15it/s]"
     ]
    },
    {
     "name": "stdout",
     "output_type": "stream",
     "text": [
      "User Length 28\n",
      "User Length 24\n",
      "User Length 70\n"
     ]
    },
    {
     "name": "stderr",
     "output_type": "stream",
     "text": [
      "  1%|          | 1224/190746 [07:09<9:03:10,  5.82it/s]"
     ]
    },
    {
     "name": "stdout",
     "output_type": "stream",
     "text": [
      "User Length 101\n"
     ]
    },
    {
     "name": "stderr",
     "output_type": "stream",
     "text": [
      "  1%|          | 1225/190746 [07:10<17:27:38,  3.02it/s]"
     ]
    },
    {
     "name": "stdout",
     "output_type": "stream",
     "text": [
      "User Length 37\n"
     ]
    },
    {
     "name": "stderr",
     "output_type": "stream",
     "text": [
      "  1%|          | 1226/190746 [07:10<15:35:55,  3.37it/s]"
     ]
    },
    {
     "name": "stdout",
     "output_type": "stream",
     "text": [
      "User Length 52\n"
     ]
    },
    {
     "name": "stderr",
     "output_type": "stream",
     "text": [
      "  1%|          | 1228/190746 [07:10<13:49:07,  3.81it/s]"
     ]
    },
    {
     "name": "stdout",
     "output_type": "stream",
     "text": [
      "User Length 28\n",
      "User Length 26\n"
     ]
    },
    {
     "name": "stderr",
     "output_type": "stream",
     "text": [
      "  1%|          | 1230/190746 [07:11<10:24:29,  5.06it/s]"
     ]
    },
    {
     "name": "stdout",
     "output_type": "stream",
     "text": [
      "User Length 30\n",
      "User Length 57\n"
     ]
    },
    {
     "name": "stderr",
     "output_type": "stream",
     "text": [
      "  1%|          | 1231/190746 [07:11<12:26:05,  4.23it/s]"
     ]
    },
    {
     "name": "stdout",
     "output_type": "stream",
     "text": [
      "User Length 75\n"
     ]
    },
    {
     "name": "stderr",
     "output_type": "stream",
     "text": [
      "  1%|          | 1232/190746 [07:11<15:56:49,  3.30it/s]"
     ]
    },
    {
     "name": "stdout",
     "output_type": "stream",
     "text": [
      "User Length 20\n",
      "User Length 36\n"
     ]
    },
    {
     "name": "stderr",
     "output_type": "stream",
     "text": [
      "  1%|          | 1235/190746 [07:12<10:40:31,  4.93it/s]"
     ]
    },
    {
     "name": "stdout",
     "output_type": "stream",
     "text": [
      "User Length 25\n",
      "User Length 36\n"
     ]
    },
    {
     "name": "stderr",
     "output_type": "stream",
     "text": [
      "  1%|          | 1236/190746 [07:12<10:12:22,  5.16it/s]"
     ]
    },
    {
     "name": "stdout",
     "output_type": "stream",
     "text": [
      "User Length 56\n"
     ]
    },
    {
     "name": "stderr",
     "output_type": "stream",
     "text": [
      "  1%|          | 1238/190746 [07:12<10:23:14,  5.07it/s]"
     ]
    },
    {
     "name": "stdout",
     "output_type": "stream",
     "text": [
      "User Length 29\n",
      "User Length 27\n"
     ]
    },
    {
     "name": "stderr",
     "output_type": "stream",
     "text": [
      "  1%|          | 1239/190746 [07:13<9:02:01,  5.83it/s] "
     ]
    },
    {
     "name": "stdout",
     "output_type": "stream",
     "text": [
      "User Length 23\n",
      "User Length 45\n"
     ]
    },
    {
     "name": "stderr",
     "output_type": "stream",
     "text": [
      "  1%|          | 1242/190746 [07:13<8:20:54,  6.31it/s]"
     ]
    },
    {
     "name": "stdout",
     "output_type": "stream",
     "text": [
      "User Length 35\n",
      "User Length 72\n"
     ]
    },
    {
     "name": "stderr",
     "output_type": "stream",
     "text": [
      "  1%|          | 1244/190746 [07:14<11:14:59,  4.68it/s]"
     ]
    },
    {
     "name": "stdout",
     "output_type": "stream",
     "text": [
      "User Length 41\n",
      "User Length 41\n"
     ]
    },
    {
     "name": "stderr",
     "output_type": "stream",
     "text": [
      "  1%|          | 1246/190746 [07:14<11:02:53,  4.76it/s]"
     ]
    },
    {
     "name": "stdout",
     "output_type": "stream",
     "text": [
      "User Length 40\n",
      "User Length 131\n"
     ]
    },
    {
     "name": "stderr",
     "output_type": "stream",
     "text": [
      "  1%|          | 1247/190746 [07:15<21:08:08,  2.49it/s]"
     ]
    },
    {
     "name": "stdout",
     "output_type": "stream",
     "text": [
      "User Length 54\n"
     ]
    },
    {
     "name": "stderr",
     "output_type": "stream",
     "text": [
      "  1%|          | 1249/190746 [07:15<16:22:47,  3.21it/s]"
     ]
    },
    {
     "name": "stdout",
     "output_type": "stream",
     "text": [
      "User Length 43\n"
     ]
    },
    {
     "name": "stderr",
     "output_type": "stream",
     "text": [
      "  1%|          | 1250/190746 [07:15<13:03:51,  4.03it/s]"
     ]
    },
    {
     "name": "stdout",
     "output_type": "stream",
     "text": [
      "User Length 24\n",
      "User Length 24\n"
     ]
    },
    {
     "name": "stderr",
     "output_type": "stream",
     "text": [
      "  1%|          | 1253/190746 [07:16<9:04:16,  5.80it/s] "
     ]
    },
    {
     "name": "stdout",
     "output_type": "stream",
     "text": [
      "User Length 21\n",
      "User Length 22\n",
      "User Length 29\n"
     ]
    },
    {
     "name": "stderr",
     "output_type": "stream",
     "text": [
      "  1%|          | 1254/190746 [07:16<8:12:39,  6.41it/s]"
     ]
    },
    {
     "name": "stdout",
     "output_type": "stream",
     "text": [
      "User Length 41\n"
     ]
    },
    {
     "name": "stderr",
     "output_type": "stream",
     "text": [
      "  1%|          | 1255/190746 [07:16<9:28:14,  5.56it/s]"
     ]
    },
    {
     "name": "stdout",
     "output_type": "stream",
     "text": [
      "User Length 121\n"
     ]
    },
    {
     "name": "stderr",
     "output_type": "stream",
     "text": [
      "  1%|          | 1258/190746 [07:17<14:57:05,  3.52it/s]"
     ]
    },
    {
     "name": "stdout",
     "output_type": "stream",
     "text": [
      "User Length 22\n",
      "User Length 21\n",
      "User Length 42\n"
     ]
    },
    {
     "name": "stderr",
     "output_type": "stream",
     "text": [
      "  1%|          | 1260/190746 [07:17<10:55:25,  4.82it/s]"
     ]
    },
    {
     "name": "stdout",
     "output_type": "stream",
     "text": [
      "User Length 22\n",
      "User Length 273\n"
     ]
    },
    {
     "name": "stderr",
     "output_type": "stream",
     "text": [
      "  1%|          | 1261/190746 [07:20<45:57:44,  1.15it/s]"
     ]
    },
    {
     "name": "stdout",
     "output_type": "stream",
     "text": [
      "User Length 20\n",
      "User Length 142\n"
     ]
    },
    {
     "name": "stderr",
     "output_type": "stream",
     "text": [
      "  1%|          | 1263/190746 [07:21<41:12:54,  1.28it/s]"
     ]
    },
    {
     "name": "stdout",
     "output_type": "stream",
     "text": [
      "User Length 57\n"
     ]
    },
    {
     "name": "stderr",
     "output_type": "stream",
     "text": [
      "  1%|          | 1264/190746 [07:21<34:32:19,  1.52it/s]"
     ]
    },
    {
     "name": "stdout",
     "output_type": "stream",
     "text": [
      "User Length 65\n"
     ]
    },
    {
     "name": "stderr",
     "output_type": "stream",
     "text": [
      "  1%|          | 1265/190746 [07:22<30:50:00,  1.71it/s]"
     ]
    },
    {
     "name": "stdout",
     "output_type": "stream",
     "text": [
      "User Length 222\n"
     ]
    },
    {
     "name": "stderr",
     "output_type": "stream",
     "text": [
      "  1%|          | 1266/190746 [07:24<51:05:08,  1.03it/s]"
     ]
    },
    {
     "name": "stdout",
     "output_type": "stream",
     "text": [
      "User Length 204\n"
     ]
    },
    {
     "name": "stderr",
     "output_type": "stream",
     "text": [
      "  1%|          | 1267/190746 [07:25<59:23:15,  1.13s/it]"
     ]
    },
    {
     "name": "stdout",
     "output_type": "stream",
     "text": [
      "User Length 21\n",
      "User Length 50\n"
     ]
    },
    {
     "name": "stderr",
     "output_type": "stream",
     "text": [
      "  1%|          | 1269/190746 [07:25<44:09:46,  1.19it/s]"
     ]
    },
    {
     "name": "stdout",
     "output_type": "stream",
     "text": [
      "User Length 46\n"
     ]
    },
    {
     "name": "stderr",
     "output_type": "stream",
     "text": [
      "  1%|          | 1271/190746 [07:26<26:15:39,  2.00it/s]"
     ]
    },
    {
     "name": "stdout",
     "output_type": "stream",
     "text": [
      "User Length 34\n",
      "User Length 22\n",
      "User Length 123\n"
     ]
    },
    {
     "name": "stderr",
     "output_type": "stream",
     "text": [
      "  1%|          | 1273/190746 [07:27<25:16:53,  2.08it/s]"
     ]
    },
    {
     "name": "stdout",
     "output_type": "stream",
     "text": [
      "User Length 94\n"
     ]
    },
    {
     "name": "stderr",
     "output_type": "stream",
     "text": [
      "  1%|          | 1274/190746 [07:27<26:44:03,  1.97it/s]"
     ]
    },
    {
     "name": "stdout",
     "output_type": "stream",
     "text": [
      "User Length 25\n",
      "User Length 35\n"
     ]
    },
    {
     "name": "stderr",
     "output_type": "stream",
     "text": [
      "  1%|          | 1277/190746 [07:28<17:44:21,  2.97it/s]"
     ]
    },
    {
     "name": "stdout",
     "output_type": "stream",
     "text": [
      "User Length 37\n",
      "User Length 39\n"
     ]
    },
    {
     "name": "stderr",
     "output_type": "stream",
     "text": [
      "  1%|          | 1279/190746 [07:28<12:49:40,  4.10it/s]"
     ]
    },
    {
     "name": "stdout",
     "output_type": "stream",
     "text": [
      "User Length 26\n",
      "User Length 27\n"
     ]
    },
    {
     "name": "stderr",
     "output_type": "stream",
     "text": [
      "  1%|          | 1281/190746 [07:28<9:37:29,  5.47it/s] "
     ]
    },
    {
     "name": "stdout",
     "output_type": "stream",
     "text": [
      "User Length 31\n",
      "User Length 187\n"
     ]
    },
    {
     "name": "stderr",
     "output_type": "stream",
     "text": [
      "  1%|          | 1282/190746 [07:30<28:40:17,  1.84it/s]"
     ]
    },
    {
     "name": "stdout",
     "output_type": "stream",
     "text": [
      "User Length 51\n"
     ]
    },
    {
     "name": "stderr",
     "output_type": "stream",
     "text": [
      "  1%|          | 1283/190746 [07:30<23:57:09,  2.20it/s]"
     ]
    },
    {
     "name": "stdout",
     "output_type": "stream",
     "text": [
      "User Length 74\n"
     ]
    },
    {
     "name": "stderr",
     "output_type": "stream",
     "text": [
      "  1%|          | 1285/190746 [07:30<17:17:55,  3.04it/s]"
     ]
    },
    {
     "name": "stdout",
     "output_type": "stream",
     "text": [
      "User Length 22\n",
      "User Length 22\n",
      "User Length 36\n"
     ]
    },
    {
     "name": "stderr",
     "output_type": "stream",
     "text": [
      "  1%|          | 1287/190746 [07:31<13:59:32,  3.76it/s]"
     ]
    },
    {
     "name": "stdout",
     "output_type": "stream",
     "text": [
      "User Length 530\n"
     ]
    },
    {
     "name": "stderr",
     "output_type": "stream",
     "text": [
      "  1%|          | 1288/190746 [07:36<93:51:49,  1.78s/it]"
     ]
    },
    {
     "name": "stdout",
     "output_type": "stream",
     "text": [
      "User Length 86\n"
     ]
    },
    {
     "name": "stderr",
     "output_type": "stream",
     "text": [
      "  1%|          | 1289/190746 [07:36<73:28:02,  1.40s/it]"
     ]
    },
    {
     "name": "stdout",
     "output_type": "stream",
     "text": [
      "User Length 20\n",
      "User Length 169\n"
     ]
    },
    {
     "name": "stderr",
     "output_type": "stream",
     "text": [
      "  1%|          | 1291/190746 [07:38<61:20:56,  1.17s/it]"
     ]
    },
    {
     "name": "stdout",
     "output_type": "stream",
     "text": [
      "User Length 88\n"
     ]
    },
    {
     "name": "stderr",
     "output_type": "stream",
     "text": [
      "  1%|          | 1292/190746 [07:38<53:31:30,  1.02s/it]"
     ]
    },
    {
     "name": "stdout",
     "output_type": "stream",
     "text": [
      "User Length 22\n",
      "User Length 35\n"
     ]
    },
    {
     "name": "stderr",
     "output_type": "stream",
     "text": [
      "  1%|          | 1295/190746 [07:39<29:34:13,  1.78it/s]"
     ]
    },
    {
     "name": "stdout",
     "output_type": "stream",
     "text": [
      "User Length 32\n",
      "User Length 133\n"
     ]
    },
    {
     "name": "stderr",
     "output_type": "stream",
     "text": [
      "  1%|          | 1298/190746 [07:40<25:56:55,  2.03it/s]"
     ]
    },
    {
     "name": "stdout",
     "output_type": "stream",
     "text": [
      "User Length 26\n",
      "User Length 23\n",
      "User Length 64\n"
     ]
    },
    {
     "name": "stderr",
     "output_type": "stream",
     "text": [
      "  1%|          | 1299/190746 [07:40<24:44:18,  2.13it/s]"
     ]
    },
    {
     "name": "stdout",
     "output_type": "stream",
     "text": [
      "User Length 21\n",
      "User Length 41\n"
     ]
    },
    {
     "name": "stderr",
     "output_type": "stream",
     "text": [
      "  1%|          | 1302/190746 [07:41<16:27:23,  3.20it/s]"
     ]
    },
    {
     "name": "stdout",
     "output_type": "stream",
     "text": [
      "User Length 32\n",
      "User Length 24\n"
     ]
    },
    {
     "name": "stderr",
     "output_type": "stream",
     "text": [
      "  1%|          | 1304/190746 [07:41<12:37:42,  4.17it/s]"
     ]
    },
    {
     "name": "stdout",
     "output_type": "stream",
     "text": [
      "User Length 22\n",
      "User Length 26\n",
      "User Length 47\n"
     ]
    },
    {
     "name": "stderr",
     "output_type": "stream",
     "text": [
      "  1%|          | 1306/190746 [07:41<11:35:35,  4.54it/s]"
     ]
    },
    {
     "name": "stdout",
     "output_type": "stream",
     "text": [
      "User Length 23\n",
      "User Length 524\n"
     ]
    }
   ],
   "source": [
    "env = OfflineEnv2(train_dataloader, users_dict, item_embeddings_dict)\n",
    "preddict = dict()\n",
    "accum_rewards = []\n",
    "for episode in tqdm.tqdm(range(train_num-1)):\n",
    "    ep_reward = 0\n",
    "    batch_size= 16\n",
    "\n",
    "    item_b, rating_b, size_b, userid_b, idx_b = env.data['item'], env.data['rating'], env.data['size'], env.data['userid'], env.data['idx']\n",
    "    memory = env.memory\n",
    "    preds = set(item_b)\n",
    "    state = drrave_state_rep(userid_b,memory,idx_b)\n",
    "    items = env.items.to(device)\n",
    "    \n",
    "    done = 0\n",
    "    user_len = len(env.user_history['item'])\n",
    "    print(\"User Length\", user_len)\n",
    "    while not done:    \n",
    "        state_rep =  torch.reshape(state,[-1])\n",
    "        action_emb = policy_net(state_rep)\n",
    "        action = get_action(state, action_emb, userid_b, items)\n",
    "        \n",
    "        memory, reward, done = env.step(action)\n",
    "    \n",
    "        ep_reward += reward\n",
    "        next_state = drrave_state_rep(userid_b, memory, idx_b)\n",
    "        next_state_rep = torch.reshape(next_state,[-1])\n",
    "\n",
    "        replay_buffer.store(state_rep.detach().cpu().numpy(), \n",
    "                            action_emb.detach().cpu().numpy(), \n",
    "                            reward, next_state_rep.detach().cpu().numpy(), done)\n",
    "        if replay_buffer.current_size > batch_size:\n",
    "            ddpg_update(batch_size=batch_size)\n",
    "\n",
    "        state = next_state\n",
    "    env.reset()\n",
    "    accum_rewards.append(ep_reward)\n",
    "    preddict[userid_b[0]] = preds\n",
    "#     if episode%50==0:\n",
    "#         plt.figure(facecolor='w')\n",
    "#         plt.plot(accum_rewards)\n",
    "    "
   ]
  },
  {
   "cell_type": "code",
   "execution_count": 192,
   "metadata": {},
   "outputs": [
    {
     "ename": "TypeError",
     "evalue": "'int' object is not iterable",
     "output_type": "error",
     "traceback": [
      "\u001b[0;31m---------------------------------------------------------------------------\u001b[0m",
      "\u001b[0;31mTypeError\u001b[0m                                 Traceback (most recent call last)",
      "\u001b[0;32m<ipython-input-192-31c61e8f6717>\u001b[0m in \u001b[0;36m<module>\u001b[0;34m\u001b[0m\n\u001b[0;32m----> 1\u001b[0;31m \u001b[0mlist\u001b[0m\u001b[0;34m(\u001b[0m\u001b[0;36m4\u001b[0m\u001b[0;34m)\u001b[0m\u001b[0;34m\u001b[0m\u001b[0m\n\u001b[0m",
      "\u001b[0;31mTypeError\u001b[0m: 'int' object is not iterable"
     ]
    }
   ],
   "source": [
    "list(4)"
   ]
  },
  {
   "cell_type": "code",
   "execution_count": 101,
   "metadata": {},
   "outputs": [
    {
     "data": {
      "text/plain": [
       "{tensor(4331406): {70276, 214356, 1391900, 2087086, 2498016},\n",
       " tensor(6717064): {2451670, 2465149, 2467158, 2471290, 2473794},\n",
       " tensor(1453186): {481794, 572572, 1162759, 1246217, 1593841},\n",
       " tensor(13746747): {196585, 197029, 197142, 198279, 2350592},\n",
       " tensor(12694617): {217072, 346067, 568990, 1674352, 2426519},\n",
       " tensor(12043813): {4266, 4689, 4844, 5437, 5902},\n",
       " tensor(7273102): {9770, 16688, 198716, 221579, 2719031},\n",
       " tensor(10077243): {1253013, 1569142, 1630879, 1738338, 1824579},\n",
       " tensor(13930480): {1856734, 2451670, 2453028, 2456229, 2456819},\n",
       " tensor(7836930): {1835140, 1849476, 2452924, 2461402, 2461946},\n",
       " tensor(11772633): {215711, 215713, 299006, 317365, 823298},\n",
       " tensor(2672556): {9770, 1569295, 1609389, 1616882, 2719031},\n",
       " tensor(1181767): {116144, 142283, 522654, 1556227, 1754966},\n",
       " tensor(9949838): {1569128, 1569228, 1569232, 1698923, 2438129},\n",
       " tensor(7391975): {284339, 678573, 1335215, 1463079, 1709433},\n",
       " tensor(13524533): {92502, 194278, 203097, 649014, 671984},\n",
       " tensor(593966): {285231, 583049, 619822, 1821923, 2422745},\n",
       " tensor(325864): {498150, 1570033, 1608584, 1689306, 1791375},\n",
       " tensor(13609319): {106927, 284498, 1569004, 2145514, 2925109},\n",
       " tensor(10698704): {526916, 1201338, 1451557, 1880403, 1938512},\n",
       " tensor(3844461): {72530, 97103, 134673, 241806, 852814},\n",
       " tensor(5228796): {457421, 709445, 833207, 834027, 1876664},\n",
       " tensor(7080661): {101652, 426482, 920105, 2057060, 2260382},\n",
       " tensor(1491627): {494803, 1263382, 1263383, 1593161, 1856367},\n",
       " tensor(8345666): {97369, 1377132, 1445984, 1611797, 2098716},\n",
       " tensor(880955): {18318, 69167, 102082, 1607000, 2153967},\n",
       " tensor(8433075): {3019, 146801, 427356, 486550, 1055466},\n",
       " tensor(14597616): {497383, 503325, 1579727, 1667451, 2027963},\n",
       " tensor(14076010): {255397, 328628, 346800, 1587977, 2045470},\n",
       " tensor(1902751): {97389, 115300, 169959, 577846, 2912475},\n",
       " tensor(13633933): {199060, 789693, 1194165, 2418507, 2787746},\n",
       " tensor(3534616): {486427, 728167, 1287811, 1457094, 1940743},\n",
       " tensor(9577437): {237576, 237594, 962301, 1134556, 1798627},\n",
       " tensor(3018619): {550991, 1219341, 1249089, 1598965, 1602709},\n",
       " tensor(3123765): {253466, 1802959, 2008693, 2458219, 2830455},\n",
       " tensor(9857898): {19968, 196461, 274674, 326630, 1526792},\n",
       " tensor(538605): {48355, 48647, 366276, 1309630, 2398788},\n",
       " tensor(2292497): {581622, 1686182, 1711145, 1783619, 1847318},\n",
       " tensor(2073829): {743168, 791020, 2082146, 2082263, 2591457},\n",
       " tensor(14091131): {1056024, 1120206, 1405152, 2065785, 2916002},\n",
       " tensor(10790772): {608800, 1468829, 2207578, 2221596, 2350592},\n",
       " tensor(8670549): {203097, 1246107, 1859576, 2052217, 2295422},\n",
       " tensor(9289869): {42032, 93122, 262813, 274920, 515267},\n",
       " tensor(10765394): {1677830, 1697548, 1747798, 1784126, 2469797},\n",
       " tensor(14583640): {575825, 584331, 1695871, 1745289, 2069491},\n",
       " tensor(13462237): {563774, 703277, 1629328, 2012084, 2273446},\n",
       " tensor(11785117): {233500, 245452, 299467, 609849, 1620438},\n",
       " tensor(2977239): {1515832, 1557218, 1569174, 1616687, 1715209},\n",
       " tensor(7080849): {574276, 1571520, 1773378, 1793131, 2470221},\n",
       " tensor(10609453): {18511, 23002, 69756, 185101, 2209806},\n",
       " tensor(4779514): {584396, 1220984, 2481339, 2481342, 2875871},\n",
       " tensor(4397386): {43272, 45391, 168974, 1951109, 2003519},\n",
       " tensor(14478995): {757945, 1509896, 1569290, 1813152, 2325764},\n",
       " tensor(423057): {1241976, 1788418, 1822694, 2433797, 2889743},\n",
       " tensor(10745610): {746441, 1858353, 2349449, 2350599, 2921888},\n",
       " tensor(3966161): {954871, 1400422, 2103431, 2220634, 2259487},\n",
       " tensor(4998592): {664097, 1118908, 1236213, 1698881, 2219657},\n",
       " tensor(7237840): {1262863, 1674790, 1702047, 1707189, 1739239},\n",
       " tensor(12829425): {35511, 717175, 1939185, 1975285, 2090325},\n",
       " tensor(11365896): {137068, 297117, 397880, 699163, 800371},\n",
       " tensor(6943603): {1378382, 1556098, 1568270, 2826606, 2873942},\n",
       " tensor(7703436): {220114, 1224485, 1249449, 1551532, 1843956},\n",
       " tensor(11236843): {177099, 294353, 531520, 664099, 1820204},\n",
       " tensor(5689680): {115050, 215992, 216662, 1028437, 2514299},\n",
       " tensor(9683696): {81211, 138415, 1158609, 1601258, 2533268},\n",
       " tensor(7596379): {18229, 345095, 439332, 1238274, 1307821},\n",
       " tensor(6573986): {757128, 757268, 757819, 2311984, 2311995},\n",
       " tensor(10692610): {291795, 310236, 347711, 360106, 748003},\n",
       " tensor(12715136): {218056, 1715183, 2347140, 2876036, 2888748},\n",
       " tensor(7921808): {1292619, 1473052, 2130636, 2216443, 2217201},\n",
       " tensor(4176348): {730754, 1391281, 1551880, 1698756, 1699482},\n",
       " tensor(8785884): {6837, 328528, 1723013, 1851412, 2478027},\n",
       " tensor(681860): {255310, 1752156, 2160350, 2160399, 2445207},\n",
       " tensor(5034399): {1761923, 1853137, 2451873, 2468627, 2480580},\n",
       " tensor(14339643): {23002, 535091, 664097, 2666075, 2913473},\n",
       " tensor(12773349): {94757, 105151, 388790, 605411, 2268184},\n",
       " tensor(1323881): {328628, 359974, 1541051, 1662691, 1672486},\n",
       " tensor(7131086): {33627, 216267, 504256, 1272494, 1596336},\n",
       " tensor(12840330): {1127412, 1217403, 1603283, 1623614, 2343040},\n",
       " tensor(9780716): {1599008, 1603283, 1609389, 1614728, 1680914},\n",
       " tensor(13840226): {1059854, 1094559, 1099206, 1912159, 2306822},\n",
       " tensor(14781267): {757905, 757929, 1077328, 1363816, 1437573},\n",
       " tensor(12891050): {1736698, 1745586, 1757045, 1758974, 1809150},\n",
       " tensor(14103227): {18318, 24514, 94040, 278270, 347995},\n",
       " tensor(9833564): {283811, 1699534, 1699554, 2096068, 2435234},\n",
       " tensor(12873167): {576370, 1039430, 1039447, 1864610, 1986061},\n",
       " tensor(12702230): {103649, 104692, 746789, 1594151, 2171976},\n",
       " tensor(14097399): {1736, 269969, 388614, 1700677, 2150217},\n",
       " tensor(12043588): {2756, 69252, 243316, 279011, 2378186},\n",
       " tensor(8432938): {200710, 532149, 1445984, 1487381, 1487383},\n",
       " tensor(5371337): {1256609, 1783392, 1786100, 1791408, 1804440},\n",
       " tensor(14457416): {284224, 327069, 327817, 789445, 2017441},\n",
       " tensor(12950330): {1007343, 1896014, 1896059, 1896120, 1896132},\n",
       " tensor(3394389): {18318, 1983125, 1983150, 1983201, 2024654},\n",
       " tensor(3576920): {169060, 840572, 967417, 1962035, 1962315},\n",
       " tensor(3758925): {16258, 37072, 106218, 2033884, 2695054},\n",
       " tensor(12415801): {445589, 506228, 507286, 507308, 1602664},\n",
       " tensor(2302782): {185986, 189734, 678022, 810200, 810214},\n",
       " tensor(8868933): {283835, 462976, 499266, 1568970, 2197860},\n",
       " tensor(4961801): {14483, 106218, 346185, 1386464, 2695054}}"
      ]
     },
     "execution_count": 101,
     "metadata": {},
     "output_type": "execute_result"
    }
   ],
   "source": [
    "preddict"
   ]
  },
  {
   "cell_type": "code",
   "execution_count": 102,
   "metadata": {},
   "outputs": [
    {
     "data": {
      "text/plain": [
       "tensor([1.])"
      ]
     },
     "execution_count": 102,
     "metadata": {},
     "output_type": "execute_result"
    }
   ],
   "source": [
    "reward"
   ]
  },
  {
   "cell_type": "code",
   "execution_count": 105,
   "metadata": {},
   "outputs": [
    {
     "data": {
      "text/plain": [
       "1.0"
      ]
     },
     "execution_count": 105,
     "metadata": {},
     "output_type": "execute_result"
    }
   ],
   "source": [
    "ratings"
   ]
  },
  {
   "cell_type": "code",
   "execution_count": 104,
   "metadata": {},
   "outputs": [
    {
     "data": {
      "text/plain": [
       "190747"
      ]
     },
     "execution_count": 104,
     "metadata": {},
     "output_type": "execute_result"
    }
   ],
   "source": [
    "len(memory)"
   ]
  },
  {
   "cell_type": "code",
   "execution_count": 192,
   "metadata": {
    "ExecuteTime": {
     "end_time": "2020-12-11T01:44:35.231209Z",
     "start_time": "2020-12-11T01:44:35.133125Z"
    }
   },
   "outputs": [
    {
     "data": {
      "text/plain": [
       "[<matplotlib.lines.Line2D at 0x7fe5e2233610>]"
      ]
     },
     "execution_count": 192,
     "metadata": {},
     "output_type": "execute_result"
    },
    {
     "data": {
      "image/png": "[encoded data removed]",
      "text/plain": [
       "<Figure size 432x288 with 1 Axes>"
      ]
     },
     "metadata": {
      "needs_background": "light"
     },
     "output_type": "display_data"
    }
   ],
   "source": [
    "plt.plot(v_loss)"
   ]
  },
  {
   "cell_type": "code",
   "execution_count": 193,
   "metadata": {
    "ExecuteTime": {
     "end_time": "2020-12-11T01:44:35.515266Z",
     "start_time": "2020-12-11T01:44:35.430641Z"
    }
   },
   "outputs": [
    {
     "data": {
      "text/plain": [
       "[<matplotlib.lines.Line2D at 0x7fe5e21bd350>]"
      ]
     },
     "execution_count": 193,
     "metadata": {},
     "output_type": "execute_result"
    },
    {
     "data": {
      "image/png": "[encoded data removed]",
      "text/plain": [
       "<Figure size 432x288 with 1 Axes>"
      ]
     },
     "metadata": {
      "needs_background": "light"
     },
     "output_type": "display_data"
    }
   ],
   "source": [
    "plt.plot(p_loss)"
   ]
  },
  {
   "cell_type": "markdown",
   "metadata": {},
   "source": [
    "## 6. Testing"
   ]
  },
  {
   "cell_type": "code",
   "execution_count": 58,
   "metadata": {
    "ExecuteTime": {
     "end_time": "2020-12-11T01:03:34.183968Z",
     "start_time": "2020-12-11T01:03:34.147087Z"
    }
   },
   "outputs": [
    {
     "ename": "NameError",
     "evalue": "name 'test_pred_dict' is not defined",
     "output_type": "error",
     "traceback": [
      "\u001b[0;31m---------------------------------------------------------------------------\u001b[0m",
      "\u001b[0;31mNameError\u001b[0m                                 Traceback (most recent call last)",
      "\u001b[0;32m<ipython-input-58-30de617b82c0>\u001b[0m in \u001b[0;36m<module>\u001b[0;34m\u001b[0m\n\u001b[1;32m     17\u001b[0m     \u001b[0;32mreturn\u001b[0m \u001b[0mtest_embed_array\u001b[0m\u001b[0;34m\u001b[0m\u001b[0;34m\u001b[0m\u001b[0m\n\u001b[1;32m     18\u001b[0m \u001b[0;34m\u001b[0m\u001b[0m\n\u001b[0;32m---> 19\u001b[0;31m \u001b[0mtest_embed_array\u001b[0m \u001b[0;34m=\u001b[0m \u001b[0mget_cosine_sim\u001b[0m\u001b[0;34m(\u001b[0m\u001b[0muserid_b\u001b[0m\u001b[0;34m[\u001b[0m\u001b[0;36m0\u001b[0m\u001b[0;34m]\u001b[0m\u001b[0;34m)\u001b[0m\u001b[0;34m\u001b[0m\u001b[0;34m\u001b[0m\u001b[0m\n\u001b[0m\u001b[1;32m     20\u001b[0m \u001b[0max\u001b[0m \u001b[0;34m=\u001b[0m \u001b[0msns\u001b[0m\u001b[0;34m.\u001b[0m\u001b[0mheatmap\u001b[0m\u001b[0;34m(\u001b[0m\u001b[0mcs\u001b[0m\u001b[0;34m(\u001b[0m\u001b[0mtest_embed_array\u001b[0m\u001b[0;34m)\u001b[0m\u001b[0;34m,\u001b[0m \u001b[0mlinewidth\u001b[0m\u001b[0;34m=\u001b[0m\u001b[0;36m0.5\u001b[0m\u001b[0;34m)\u001b[0m\u001b[0;34m\u001b[0m\u001b[0;34m\u001b[0m\u001b[0m\n\u001b[1;32m     21\u001b[0m \u001b[0mplt\u001b[0m\u001b[0;34m.\u001b[0m\u001b[0mshow\u001b[0m\u001b[0;34m(\u001b[0m\u001b[0;34m)\u001b[0m\u001b[0;34m\u001b[0m\u001b[0;34m\u001b[0m\u001b[0m\n",
      "\u001b[0;32m<ipython-input-58-30de617b82c0>\u001b[0m in \u001b[0;36mget_cosine_sim\u001b[0;34m(userid)\u001b[0m\n\u001b[1;32m      4\u001b[0m \u001b[0;34m\u001b[0m\u001b[0m\n\u001b[1;32m      5\u001b[0m \u001b[0;32mdef\u001b[0m \u001b[0mget_cosine_sim\u001b[0m\u001b[0;34m(\u001b[0m\u001b[0muserid\u001b[0m\u001b[0;34m)\u001b[0m\u001b[0;34m:\u001b[0m\u001b[0;34m\u001b[0m\u001b[0;34m\u001b[0m\u001b[0m\n\u001b[0;32m----> 6\u001b[0;31m     \u001b[0mtest_pred\u001b[0m \u001b[0;34m=\u001b[0m \u001b[0mtest_pred_dict\u001b[0m\u001b[0;34m[\u001b[0m\u001b[0muserid\u001b[0m\u001b[0;34m]\u001b[0m\u001b[0;34m\u001b[0m\u001b[0;34m\u001b[0m\u001b[0m\n\u001b[0m\u001b[1;32m      7\u001b[0m     \u001b[0;32mfor\u001b[0m \u001b[0mi\u001b[0m\u001b[0;34m,\u001b[0m\u001b[0mitem\u001b[0m \u001b[0;32min\u001b[0m \u001b[0menumerate\u001b[0m\u001b[0;34m(\u001b[0m\u001b[0musers_dict\u001b[0m\u001b[0;34m[\u001b[0m\u001b[0muserid\u001b[0m\u001b[0;34m]\u001b[0m\u001b[0;34m[\u001b[0m\u001b[0;34m\"item\"\u001b[0m\u001b[0;34m]\u001b[0m\u001b[0;34m)\u001b[0m\u001b[0;34m:\u001b[0m\u001b[0;34m\u001b[0m\u001b[0;34m\u001b[0m\u001b[0m\n\u001b[1;32m      8\u001b[0m         \u001b[0;32mif\u001b[0m \u001b[0mitem\u001b[0m \u001b[0;32min\u001b[0m \u001b[0mtest_pred\u001b[0m\u001b[0;34m:\u001b[0m\u001b[0;34m\u001b[0m\u001b[0;34m\u001b[0m\u001b[0m\n",
      "\u001b[0;31mNameError\u001b[0m: name 'test_pred_dict' is not defined"
     ]
    }
   ],
   "source": [
    "#Getting Cosine similarity of recommended items for a particular userid that has been evaluated\n",
    "# from sklearn.metrics.pairwise import cosine_similarity as cs\n",
    "# import seaborn as sns\n",
    "\n",
    "def get_cosine_sim(userid):\n",
    "    test_pred = test_pred_dict[userid]\n",
    "    for i,item in enumerate(users_dict[userid][\"item\"]):\n",
    "        if item in test_pred:\n",
    "            print(item,\":\",users_dict[userid][\"rating\"][i])\n",
    "\n",
    "    test_embed = []\n",
    "    for item in test_pred:\n",
    "        test_embed.append(np.array(item_embeddings_dict[int(item)]))\n",
    "\n",
    "    test_embed_array = np.array(test_embed)\n",
    "\n",
    "    return test_embed_array\n",
    "\n",
    "test_embed_array = get_cosine_sim(userid_b[0])\n",
    "ax = sns.heatmap(cs(test_embed_array), linewidth=0.5)\n",
    "plt.show()\n"
   ]
  },
  {
   "cell_type": "code",
   "execution_count": null,
   "metadata": {
    "ExecuteTime": {
     "end_time": "2020-12-10T06:50:48.281895Z",
     "start_time": "2020-12-10T06:50:46.481Z"
    }
   },
   "outputs": [],
   "source": [
    "#prediction algorithm\n",
    "it2 = iter(test_dataloader)\n",
    "precision = 0\n",
    "test_pred_dict = dict()\n",
    "for j in range(len(test_dataloader)-1):  #session 돌리기 : timestamps 내에서 items들 \n",
    "    first = next(it2)\n",
    "    item_b,rating_b,size_b,userid_b,idx_b = first['item'],first['rating'],first['size'],first['userid'],first['idx']\n",
    "    memory[idx_b] = [item[0] for item in item_b]\n",
    "    state = drrave_state_rep(userid_b,item_b,memory,idx_b)\n",
    "    count = 0\n",
    "    test_pred = set()\n",
    "    for j in range(5):  #policy network5번 돌리기 , 추천 5번 하기\n",
    "        state_rep =  torch.reshape(state,[-1])\n",
    "        action_emb = policy_net(state_rep)   # policy_net = actor : items들의 선호도 (rating)\n",
    "        action = get_action(state,action_emb,userid_b,item_b,test_pred)\n",
    "        rate = int(users_dict[userid_b[0]][\"rating\"][action])\n",
    "        try:\n",
    "            rating = (int(rate)-3)/2\n",
    "        except:\n",
    "            rating = 0\n",
    "        reward = torch.Tensor((rating,))\n",
    "\n",
    "        if reward > 0:\n",
    "            count += 1\n",
    "            update_memory(memory,int(users_dict[userid_b[0]][\"item\"][action]),idx_b)\n",
    "        next_state = drrave_state_rep(userid_b,item_b,memory,idx_b)\n",
    "        state = next_state\n",
    "    precision += count/5\n",
    "    test_pred_dict[userid_b[0]] = test_pred\n",
    "print(\"p\",precision/(len(test_dataloader)-1))"
   ]
  },
  {
   "cell_type": "markdown",
   "metadata": {},
   "source": [
    "## 7. Saving and Loading Models"
   ]
  },
  {
   "cell_type": "code",
   "execution_count": null,
   "metadata": {
    "ExecuteTime": {
     "end_time": "2020-12-10T06:50:48.282584Z",
     "start_time": "2020-12-10T06:50:46.482Z"
    }
   },
   "outputs": [],
   "source": [
    "PATH = '/content/gdrive/My Drive/RLProject/Models/drravepolicy_net.pth'\n",
    "torch.save(policy_net.state_dict(), PATH)"
   ]
  },
  {
   "cell_type": "code",
   "execution_count": null,
   "metadata": {
    "ExecuteTime": {
     "end_time": "2020-12-10T06:50:48.283124Z",
     "start_time": "2020-12-10T06:50:46.484Z"
    }
   },
   "outputs": [],
   "source": [
    "value_PATH = '/content/gdrive/My Drive/RLProject/Models/drravevalue_net.pth'\n",
    "torch.save(value_net.state_dict(), value_PATH)\n",
    "\n",
    "tpolicy_PATH = '/content/gdrive/My Drive/RLProject/Models/drravetpolicy_net.pth'\n",
    "torch.save(target_policy_net.state_dict(), tpolicy_PATH)\n",
    "\n",
    "tvalue_PATH = '/content/gdrive/My Drive/RLProject/Models/drravetvalue_net.pth'\n",
    "torch.save(target_value_net.state_dict(), tvalue_PATH)"
   ]
  },
  {
   "cell_type": "code",
   "execution_count": null,
   "metadata": {
    "ExecuteTime": {
     "end_time": "2020-12-10T06:50:48.283811Z",
     "start_time": "2020-12-10T06:50:46.485Z"
    }
   },
   "outputs": [],
   "source": [
    "np.save('/content/gdrive/My Drive/RLProject/Models/train_dataloader',train_dataloader)\n",
    "np.save('/content/gdrive/My Drive/RLProject/Models/test_dataloader',test_dataloader)"
   ]
  },
  {
   "cell_type": "code",
   "execution_count": null,
   "metadata": {
    "ExecuteTime": {
     "end_time": "2020-12-10T06:50:48.284614Z",
     "start_time": "2020-12-10T06:50:46.487Z"
    }
   },
   "outputs": [],
   "source": [
    "policy_net = Actor(5500,100,256)\n",
    "policy_net.load_state_dict(torch.load(PATH))\n",
    "policy_net.eval()\n",
    "\n",
    "value_net = Critic(5500,100,256)\n",
    "value_net.load_state_dict(torch.load(value_PATH))\n",
    "value_net.eval()\n",
    "\n",
    "target_policy_net = Actor(5500,100,256)\n",
    "target_policy_net.load_state_dict(torch.load(tpolicy_PATH))\n",
    "target_policy_net.eval()\n",
    "\n",
    "target_value_net = Critic(5500,100,256)\n",
    "target_value_net.load_state_dict(torch.load(tvalue_PATH))\n",
    "target_value_net.eval()\n"
   ]
  },
  {
   "cell_type": "code",
   "execution_count": null,
   "metadata": {
    "ExecuteTime": {
     "end_time": "2020-12-10T06:50:48.285220Z",
     "start_time": "2020-12-10T06:50:46.488Z"
    }
   },
   "outputs": [],
   "source": [
    "np_load_old = np.load\n",
    "\n",
    "# modify the default parameters of np.load\n",
    "np.load = lambda *a,**k: np_load_old(*a, allow_pickle=True, **k)\n",
    "\n",
    "train_data = np.load('/content/gdrive/My Drive/RLProject/Models/train_users.npy')"
   ]
  },
  {
   "cell_type": "code",
   "execution_count": null,
   "metadata": {
    "ExecuteTime": {
     "end_time": "2020-12-10T06:50:48.285755Z",
     "start_time": "2020-12-10T06:50:46.488Z"
    }
   },
   "outputs": [],
   "source": [
    "np.load = np_load_old"
   ]
  },
  {
   "cell_type": "code",
   "execution_count": null,
   "metadata": {},
   "outputs": [],
   "source": []
  }
 ],
 "metadata": {
  "kernelspec": {
   "display_name": "Python 3",
   "language": "python",
   "name": "python3"
  },
  "language_info": {
   "codemirror_mode": {
    "name": "ipython",
    "version": 3
   },
   "file_extension": ".py",
   "mimetype": "text/x-python",
   "name": "python",
   "nbconvert_exporter": "python",
   "pygments_lexer": "ipython3",
   "version": "3.7.6"
  }
 },
 "nbformat": 4,
 "nbformat_minor": 4
}
