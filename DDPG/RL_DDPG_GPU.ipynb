{
 "cells": [
  {
   "cell_type": "code",
   "execution_count": 2,
   "metadata": {
    "ExecuteTime": {
     "end_time": "2020-12-11T01:54:50.345009Z",
     "start_time": "2020-12-11T01:54:50.339962Z"
    }
   },
   "outputs": [],
   "source": [
    "#Dependencies\n",
    "import pandas as pd\n",
    "import numpy as np\n",
    "from scipy.sparse.linalg import svds\n",
    "from sklearn.model_selection import train_test_split\n",
    "import tensorflow as tf\n",
    "from torch.utils.data import DataLoader\n",
    "import itertools\n",
    "import torch\n",
    "\n",
    "import os\n",
    "\n",
    "import pandas as pd\n",
    "import numpy as np\n",
    "\n",
    "from scipy.sparse import csr_matrix\n",
    "\n",
    "from implicit.als import AlternatingLeastSquares\n",
    "                                                            \n",
    "import os \n",
    "\n",
    "from collections import defaultdict\n",
    "from collections import Counter\n",
    "\n",
    "import torch\n",
    "import torch.nn as nn\n",
    "import torch.nn.functional as F\n",
    "#from torchtools.optim import Ranger\n",
    "from ranger import Ranger\n",
    "\n",
    "import tqdm\n",
    "import random\n",
    "import matplotlib.pyplot as plt\n",
    "\n",
    "from sklearn.metrics.pairwise import cosine_similarity as cs\n",
    "import seaborn as sns"
   ]
  },
  {
   "cell_type": "markdown",
   "metadata": {},
   "source": [
    "## 1. 데이터 불러오기"
   ]
  },
  {
   "cell_type": "code",
   "execution_count": 3,
   "metadata": {
    "ExecuteTime": {
     "end_time": "2020-12-11T00:52:58.160268Z",
     "start_time": "2020-12-11T00:52:55.842550Z"
    }
   },
   "outputs": [
    {
     "data": {
      "text/html": [
       "<div>\n",
       "<style scoped>\n",
       "    .dataframe tbody tr th:only-of-type {\n",
       "        vertical-align: middle;\n",
       "    }\n",
       "\n",
       "    .dataframe tbody tr th {\n",
       "        vertical-align: top;\n",
       "    }\n",
       "\n",
       "    .dataframe thead th {\n",
       "        text-align: right;\n",
       "    }\n",
       "</style>\n",
       "<table border=\"1\" class=\"dataframe\">\n",
       "  <thead>\n",
       "    <tr style=\"text-align: right;\">\n",
       "      <th></th>\n",
       "      <th>item</th>\n",
       "      <th>user</th>\n",
       "      <th>rating</th>\n",
       "      <th>timestamp</th>\n",
       "    </tr>\n",
       "  </thead>\n",
       "  <tbody>\n",
       "    <tr>\n",
       "      <th>0</th>\n",
       "      <td>122</td>\n",
       "      <td>3094405</td>\n",
       "      <td>5</td>\n",
       "      <td>1112140800</td>\n",
       "    </tr>\n",
       "    <tr>\n",
       "      <th>1</th>\n",
       "      <td>122</td>\n",
       "      <td>14877871</td>\n",
       "      <td>5</td>\n",
       "      <td>1466380800</td>\n",
       "    </tr>\n",
       "    <tr>\n",
       "      <th>2</th>\n",
       "      <td>122</td>\n",
       "      <td>7151803</td>\n",
       "      <td>5</td>\n",
       "      <td>1436400000</td>\n",
       "    </tr>\n",
       "    <tr>\n",
       "      <th>3</th>\n",
       "      <td>122</td>\n",
       "      <td>10069097</td>\n",
       "      <td>5</td>\n",
       "      <td>1383436800</td>\n",
       "    </tr>\n",
       "    <tr>\n",
       "      <th>4</th>\n",
       "      <td>122</td>\n",
       "      <td>13327705</td>\n",
       "      <td>5</td>\n",
       "      <td>1357084800</td>\n",
       "    </tr>\n",
       "  </tbody>\n",
       "</table>\n",
       "</div>"
      ],
      "text/plain": [
       "   item      user  rating   timestamp\n",
       "0   122   3094405       5  1112140800\n",
       "1   122  14877871       5  1466380800\n",
       "2   122   7151803       5  1436400000\n",
       "3   122  10069097       5  1383436800\n",
       "4   122  13327705       5  1357084800"
      ]
     },
     "execution_count": 3,
     "metadata": {},
     "output_type": "execute_result"
    }
   ],
   "source": [
    "            datapath = '../data/data_final.csv'\n",
    "columns =  ['item', 'user', 'rating', 'timestamp']\n",
    "df = pd.read_csv(datapath, sep = \",\", names = columns, dtype = int)\n",
    "df.astype(int)\n",
    "df.head()"
   ]
  },
  {
   "cell_type": "code",
   "execution_count": 4,
   "metadata": {
    "ExecuteTime": {
     "end_time": "2020-12-11T00:53:32.671567Z",
     "start_time": "2020-12-11T00:52:58.161103Z"
    }
   },
   "outputs": [],
   "source": [
    "users_df = df.sort_values([\"user\",\"timestamp\"]).set_index(\"user\").fillna(0).drop(\"timestamp\",axis=1)\n",
    "users = dict(tuple(df.groupby(\"user\")))"
   ]
  },
  {
   "cell_type": "code",
   "execution_count": 5,
   "metadata": {
    "ExecuteTime": {
     "end_time": "2020-12-11T00:53:32.674966Z",
     "start_time": "2020-12-11T00:53:32.673073Z"
    }
   },
   "outputs": [
    {
     "name": "stdout",
     "output_type": "stream",
     "text": [
      "(13361842, 4)\n"
     ]
    }
   ],
   "source": [
    "print(df.shape)"
   ]
  },
  {
   "cell_type": "code",
   "execution_count": 6,
   "metadata": {
    "ExecuteTime": {
     "end_time": "2020-12-11T00:53:32.872955Z",
     "start_time": "2020-12-11T00:53:32.675878Z"
    }
   },
   "outputs": [
    {
     "data": {
      "text/plain": [
       "258582"
      ]
     },
     "execution_count": 6,
     "metadata": {},
     "output_type": "execute_result"
    }
   ],
   "source": [
    "df['user'].nunique()"
   ]
  },
  {
   "cell_type": "code",
   "execution_count": 7,
   "metadata": {
    "ExecuteTime": {
     "end_time": "2020-12-11T00:53:32.945426Z",
     "start_time": "2020-12-11T00:53:32.873974Z"
    }
   },
   "outputs": [
    {
     "data": {
      "text/plain": [
       "637911"
      ]
     },
     "execution_count": 7,
     "metadata": {},
     "output_type": "execute_result"
    }
   ],
   "source": [
    "df['item'].nunique()"
   ]
  },
  {
   "cell_type": "code",
   "execution_count": 8,
   "metadata": {
    "ExecuteTime": {
     "end_time": "2020-12-11T00:53:33.361214Z",
     "start_time": "2020-12-11T00:53:32.946258Z"
    }
   },
   "outputs": [],
   "source": [
    "# 고유한 유저, 아티스트를 찾아내는 코드\n",
    "user_unique = df['user'].unique()\n",
    "item_unique = df['item'].unique()\n",
    "\n",
    "# 유저, 아티스트 indexing 하는 코드 idx는 index의 약자입니다.\n",
    "user_to_idx = {v:k for k,v in enumerate(user_unique)}\n",
    "idx_to_user = {k:v for k,v in enumerate(user_unique)}\n",
    "item_to_idx = {v:k for k,v in enumerate(item_unique)}\n",
    "idx_to_item = {k:v for k,v in enumerate(item_unique)}"
   ]
  },
  {
   "cell_type": "code",
   "execution_count": 9,
   "metadata": {
    "ExecuteTime": {
     "end_time": "2020-12-11T00:53:44.124503Z",
     "start_time": "2020-12-11T00:53:33.362053Z"
    }
   },
   "outputs": [
    {
     "name": "stdout",
     "output_type": "stream",
     "text": [
      "userId column indexing OK!!\n",
      "itemId column indexing OK!!\n"
     ]
    }
   ],
   "source": [
    "# indexing을 통해 데이터 컬럼 내 값을 바꾸는 코드\n",
    "# dictionary 자료형의 get 함수는 https://wikidocs.net/16 을 참고하세요.\n",
    "\n",
    "# user_to_idx.get을 통해 user_id 컬럼의 모든 값을 인덱싱한 Series를 구해 봅시다. \n",
    "# 혹시 정상적으로 인덱싱되지 않은 row가 있다면 인덱스가 NaN이 될 테니 dropna()로 제거합니다. \n",
    "temp_user_data = df['user'].map(user_to_idx.get).dropna()\n",
    "if len(temp_user_data) == len(df):   # 모든 row가 정상적으로 인덱싱되었다면\n",
    "    print('userId column indexing OK!!')\n",
    "    df['user'] = temp_user_data   # data['userId']을 인덱싱된 Series로 교체해 줍니다. \n",
    "else:\n",
    "    print('userId column indexing Fail!!')\n",
    "\n",
    "# movie_to_idx을 통해 artist 컬럼도 동일한 방식으로 인덱싱해 줍니다. \n",
    "temp_item_data = df['item'].map(item_to_idx.get).dropna()\n",
    "if len(temp_item_data) == len(df):\n",
    "    print('itemId column indexing OK!!')\n",
    "    df['item'] = temp_item_data\n",
    "else:\n",
    "    print('itemId column indexing Fail!!')\n",
    "# up_data"
   ]
  },
  {
   "cell_type": "code",
   "execution_count": 10,
   "metadata": {
    "ExecuteTime": {
     "end_time": "2020-12-11T00:53:44.799300Z",
     "start_time": "2020-12-11T00:53:44.125909Z"
    }
   },
   "outputs": [],
   "source": [
    "num_user = df['user'].nunique()\n",
    "num_item = df['item'].nunique()\n",
    "\n",
    "csr_data = csr_matrix((df['rating'], (df.user, df.item)), shape= (num_user, num_item))"
   ]
  },
  {
   "cell_type": "code",
   "execution_count": 11,
   "metadata": {
    "ExecuteTime": {
     "end_time": "2020-12-11T00:56:26.713792Z",
     "start_time": "2020-12-11T00:53:44.800672Z"
    }
   },
   "outputs": [
    {
     "name": "stderr",
     "output_type": "stream",
     "text": [
      "WARNING:root:Intel MKL BLAS detected. Its highly recommend to set the environment variable 'export MKL_NUM_THREADS=1' to disable its internal multithreading\n"
     ]
    },
    {
     "data": {
      "application/vnd.jupyter.widget-view+json": {
       "model_id": "e655358aad9644f181a661a91d916813",
       "version_major": 2,
       "version_minor": 0
      },
      "text/plain": [
       "HBox(children=(HTML(value=''), FloatProgress(value=0.0, max=15.0), HTML(value='')))"
      ]
     },
     "metadata": {},
     "output_type": "display_data"
    },
    {
     "name": "stdout",
     "output_type": "stream",
     "text": [
      "\n"
     ]
    }
   ],
   "source": [
    "#num_threads=-1\n",
    "als_model = AlternatingLeastSquares(factors=100, regularization=0.01,use_gpu=False,\n",
    "                                    iterations=15,dtype=np.float32,calculate_training_loss=True, num_threads=1)\n",
    "\n",
    "#item x user\n",
    "csr_data_transpose = csr_data.T\n",
    "# csr_data_transpose\n",
    "als_model.fit(csr_data_transpose)"
   ]
  },
  {
   "cell_type": "code",
   "execution_count": 12,
   "metadata": {
    "ExecuteTime": {
     "end_time": "2020-12-11T00:56:33.547927Z",
     "start_time": "2020-12-11T00:56:26.714970Z"
    }
   },
   "outputs": [
    {
     "name": "stderr",
     "output_type": "stream",
     "text": [
      "100%|██████████| 637911/637911 [00:03<00:00, 183662.41it/s]\n",
      "100%|██████████| 258582/258582 [00:01<00:00, 133910.81it/s]\n"
     ]
    },
    {
     "data": {
      "text/plain": [
       "258582"
      ]
     },
     "execution_count": 12,
     "metadata": {},
     "output_type": "execute_result"
    }
   ],
   "source": [
    "item_embeddings_dict = {idx_to_item[i]:tf.convert_to_tensor(als_model.item_factors[i]) for i in tqdm.tqdm(range(num_item))}\n",
    "user_embeddings_dict = {idx_to_user[i]:tf.convert_to_tensor(als_model.user_factors[i]) for i in tqdm.tqdm(range(num_user))}\n",
    "\n",
    "len(user_embeddings_dict)"
   ]
  },
  {
   "cell_type": "code",
   "execution_count": 13,
   "metadata": {
    "ExecuteTime": {
     "end_time": "2020-12-11T00:56:33.551039Z",
     "start_time": "2020-12-11T00:56:33.548905Z"
    }
   },
   "outputs": [
    {
     "data": {
      "text/plain": [
       "637911"
      ]
     },
     "execution_count": 13,
     "metadata": {},
     "output_type": "execute_result"
    }
   ],
   "source": [
    "len(item_embeddings_dict)"
   ]
  },
  {
   "cell_type": "markdown",
   "metadata": {},
   "source": [
    "## 2. Train and Test Dataset"
   ]
  },
  {
   "cell_type": "code",
   "execution_count": 14,
   "metadata": {
    "ExecuteTime": {
     "end_time": "2020-12-11T01:49:30.737144Z",
     "start_time": "2020-12-11T01:49:26.068818Z"
    }
   },
   "outputs": [],
   "source": [
    "#Getting users with positive rating count greater than 10 \n",
    "# 10 == 'N' positively interacted items\n",
    "# from collections import defaultdict\n",
    "# from collections import Counter\n",
    "users_dict = defaultdict(dict)\n",
    "users_id_list = set()\n",
    "for user_id in users:\n",
    "    rating_freq = Counter(users[user_id][\"rating\"].values)\n",
    "    if rating_freq[4]+rating_freq[5]<10 :\n",
    "        continue    \n",
    "    else:\n",
    "        users_id_list.add(int(user_id))\n",
    "        users_dict[user_id][\"item\"] = users[user_id][\"item\"].values\n",
    "        users_dict[user_id][\"rating\"] = users[user_id][\"rating\"].values"
   ]
  },
  {
   "cell_type": "code",
   "execution_count": 15,
   "metadata": {},
   "outputs": [
    {
     "data": {
      "text/plain": [
       "array([5, 1, 2, 2, 2, 4, 4, 3, 4, 3, 5, 5, 3, 4, 5, 4, 5, 5, 4, 2, 1, 2,\n",
       "       2, 2, 4, 5, 4, 1, 2, 4, 4, 3, 5, 4, 4, 5, 5, 1, 5])"
      ]
     },
     "execution_count": 15,
     "metadata": {},
     "output_type": "execute_result"
    }
   ],
   "source": [
    "users_dict[14680070][\"rating\"]"
   ]
  },
  {
   "cell_type": "code",
   "execution_count": 16,
   "metadata": {
    "ExecuteTime": {
     "end_time": "2020-12-11T01:49:31.212212Z",
     "start_time": "2020-12-11T01:49:31.187556Z"
    }
   },
   "outputs": [
    {
     "name": "stdout",
     "output_type": "stream",
     "text": [
      "[12058627 14680070  7340040 ...  9437172 12058615 11010043]\n"
     ]
    }
   ],
   "source": [
    "users_id_list = np.array(list(users_id_list))\n",
    "print(users_id_list)"
   ]
  },
  {
   "cell_type": "code",
   "execution_count": 17,
   "metadata": {
    "ExecuteTime": {
     "end_time": "2020-12-11T01:55:04.699179Z",
     "start_time": "2020-12-11T01:55:04.695886Z"
    }
   },
   "outputs": [
    {
     "name": "stdout",
     "output_type": "stream",
     "text": [
      "{'item': array([  28067,   41744,   81990,   94755,   95277,  104841,  122183,\n",
      "        177661,  180581,  183115,  211122,  233553,  271914,  284884,\n",
      "        286968,  300146,  339862,  343635,  364176,  364388,  364375,\n",
      "        411644,  445202,  463239,  512989,  632956,  723559,  755129,\n",
      "        809664,  819077,  819739,  878301,  951090, 1009123, 1010557,\n",
      "       1042421, 1071233, 1107949, 1112160, 1125199, 1341839, 1347405,\n",
      "       1487939, 1514645, 1580541, 1928572, 1956531, 1956306, 1962144,\n",
      "       1972774, 1983891, 2009311, 2015798, 2031750, 2098284, 2127133,\n",
      "       2233093, 2285383, 2295964, 2295969, 2295970, 2301303, 2305905,\n",
      "       2388411, 2390438, 2542197,  527007, 2791251,  180670,  199910,\n",
      "        271858,  293239,  441781,  538337,  544191,  766746,  955067,\n",
      "        962416, 1010621, 1025036, 1151374, 1181909, 1889954, 2108769]), 'rating': array([4, 5, 4, 4, 5, 5, 3, 4, 5, 4, 5, 3, 5, 5, 5, 5, 5, 5, 5, 4, 1, 5,\n",
      "       5, 5, 4, 5, 5, 5, 1, 4, 5, 5, 5, 4, 5, 4, 5, 2, 5, 5, 4, 5, 5, 4,\n",
      "       5, 5, 4, 5, 3, 5, 5, 5, 4, 5, 5, 1, 5, 5, 5, 5, 5, 4, 5, 5, 4, 5,\n",
      "       4, 4, 5, 5, 5, 5, 5, 5, 5, 3, 5, 5, 5, 3, 4, 1, 5, 5])}\n"
     ]
    }
   ],
   "source": [
    "print(users_dict[12058627])"
   ]
  },
  {
   "cell_type": "code",
   "execution_count": 16,
   "metadata": {
    "ExecuteTime": {
     "end_time": "2020-12-11T01:55:05.550025Z",
     "start_time": "2020-12-11T01:55:05.539981Z"
    }
   },
   "outputs": [
    {
     "data": {
      "text/plain": [
       "254330"
      ]
     },
     "execution_count": 16,
     "metadata": {},
     "output_type": "execute_result"
    }
   ],
   "source": [
    "len(users_id_list)"
   ]
  },
  {
   "cell_type": "code",
   "execution_count": 18,
   "metadata": {
    "ExecuteTime": {
     "end_time": "2020-12-11T01:55:06.478935Z",
     "start_time": "2020-12-11T01:55:06.471115Z"
    }
   },
   "outputs": [
    {
     "name": "stdout",
     "output_type": "stream",
     "text": [
      "[ 7385348 13470479]\n"
     ]
    }
   ],
   "source": [
    "#choosing default train_test_split of 25%\n",
    "train_users,test_users = train_test_split(users_id_list)\n",
    "print(train_users[:2])"
   ]
  },
  {
   "cell_type": "code",
   "execution_count": 18,
   "metadata": {
    "ExecuteTime": {
     "end_time": "2020-12-11T01:55:07.323258Z",
     "start_time": "2020-12-11T01:55:07.319557Z"
    }
   },
   "outputs": [
    {
     "name": "stdout",
     "output_type": "stream",
     "text": [
      "[12923592 10435973]\n"
     ]
    }
   ],
   "source": [
    "print(test_users[:2])"
   ]
  },
  {
   "cell_type": "code",
   "execution_count": 19,
   "metadata": {
    "ExecuteTime": {
     "end_time": "2020-12-11T01:55:07.530601Z",
     "start_time": "2020-12-11T01:55:07.525967Z"
    }
   },
   "outputs": [],
   "source": [
    "from torch.utils.data import Dataset\n",
    "class UserDataset(Dataset):\n",
    "    def __init__(self,users_list,users_dict):\n",
    "        self.users_list = users_list\n",
    "        self.users_dict = users_dict\n",
    "\n",
    "    def __len__(self):\n",
    "        return len(self.users_list)\n",
    "\n",
    "    def __getitem__(self,idx):\n",
    "        user_id = self.users_list[idx]\n",
    "        items = [('1',)]*10\n",
    "        ratings = [('0',)]*10\n",
    "        j=0\n",
    "        for i,rate in enumerate(self.users_dict[user_id][\"rating\"]):\n",
    "            if int(rate) >3 and j < 10:\n",
    "                items[j] = self.users_dict[user_id][\"item\"][i]\n",
    "                ratings[j] = self.users_dict[user_id][\"rating\"][i]\n",
    "                j += 1\n",
    "        # item = list(self.users_dict[user_id][\"item\"][:])\n",
    "        # rating = list(self.users_dict[user_id][\"rating\"][:])\n",
    "        size = len(items)\n",
    "    \n",
    "        return {'item':items,'rating':ratings,'size':size,'userid':user_id,'idx':idx}"
   ]
  },
  {
   "cell_type": "code",
   "execution_count": 20,
   "metadata": {
    "ExecuteTime": {
     "end_time": "2020-12-11T01:55:07.709698Z",
     "start_time": "2020-12-11T01:55:07.707818Z"
    }
   },
   "outputs": [],
   "source": [
    "train_users_dataset = UserDataset(train_users,users_dict)\n",
    "test_users_dataset = UserDataset(test_users,users_dict)"
   ]
  },
  {
   "cell_type": "code",
   "execution_count": 21,
   "metadata": {
    "ExecuteTime": {
     "end_time": "2020-12-11T01:55:07.866212Z",
     "start_time": "2020-12-11T01:55:07.864248Z"
    }
   },
   "outputs": [],
   "source": [
    "train_dataloader = DataLoader(train_users_dataset, batch_size=1)\n",
    "test_dataloader = DataLoader(test_users_dataset, batch_size=1)"
   ]
  },
  {
   "cell_type": "code",
   "execution_count": 36,
   "metadata": {
    "ExecuteTime": {
     "end_time": "2020-12-11T01:55:08.006019Z",
     "start_time": "2020-12-11T01:55:08.003977Z"
    }
   },
   "outputs": [
    {
     "name": "stdout",
     "output_type": "stream",
     "text": [
      "190747\n"
     ]
    }
   ],
   "source": [
    "train_num = len(train_dataloader)\n",
    "print(train_num)"
   ]
  },
  {
   "cell_type": "code",
   "execution_count": 37,
   "metadata": {
    "ExecuteTime": {
     "end_time": "2020-12-11T01:55:08.160635Z",
     "start_time": "2020-12-11T01:55:08.158681Z"
    }
   },
   "outputs": [
    {
     "name": "stdout",
     "output_type": "stream",
     "text": [
      "63583\n"
     ]
    }
   ],
   "source": [
    "test_num = len(test_dataloader)\n",
    "print(test_num)"
   ]
  },
  {
   "cell_type": "markdown",
   "metadata": {},
   "source": [
    "## 3. State Representation Models¶"
   ]
  },
  {
   "cell_type": "markdown",
   "metadata": {},
   "source": [
    "### DDR-ave"
   ]
  },
  {
   "cell_type": "code",
   "execution_count": 38,
   "metadata": {
    "ExecuteTime": {
     "end_time": "2020-12-11T01:55:08.526962Z",
     "start_time": "2020-12-11T01:55:08.522227Z"
    }
   },
   "outputs": [],
   "source": [
    "''' input\n",
    "    # dataloader에서 나온 return들\n",
    "    # user_idb : 해당 user의 id \n",
    "    # itemb : 유저가 rating 한 item id 10개(tensor))\n",
    "    # memory :  유저가 rating 한 item들 list 크기는 유저 * 10(item)  \n",
    "    idx : user_list에서 user의 index\n",
    "    output\n",
    "    state : #state tensor shape [21,100]\n",
    "'''\n",
    "def drrave_state_rep(userid_b,items,memory,idx):\n",
    "    user_num = idx\n",
    "    H = [] #item embeddings\n",
    "    user_n_items = items\n",
    "    user_embeddings = torch.Tensor(np.array(user_embeddings_dict[int(userid_b[0])]),).unsqueeze(0)\n",
    "    for i,item in enumerate(user_n_items):\n",
    "        H.append(np.array(item_embeddings_dict[int(item[0])]))\n",
    "    avg_layer = nn.AvgPool1d(1)  # pooling layer 사용 \n",
    "    item_embeddings = avg_layer(torch.Tensor(H,).unsqueeze(0)).permute(0,2,1).squeeze(0)\n",
    "    #print('item_embedding.size: ', item_embeddings.size())\n",
    "    #print('item_embedding_no permute: ', item_embeddings)\n",
    "    #print('item_embedding_no permute_T: ', item_embeddings.T)\n",
    "    #item_embeddings_permute = avg_layer(torch.Tensor(H,).unsqueeze(0)).permute(0,2,1).squeeze(0)\n",
    "    #print('item_embedding_permute: ', item_embeddings)\n",
    "    #print('item_embedding.size: ', item_embeddings.size()) \n",
    "    #print(item_embeddings)\n",
    "    #assert (item_embeddings == item_embeddings_permute.T).any()\n",
    "    state = torch.cat([user_embeddings,user_embeddings*item_embeddings.T,item_embeddings.T])\n",
    "    #print('state.size: ', state.size())\n",
    "    #print('user_embedding.size: ', user_embeddings.size())\n",
    "    # permute => transpose\n",
    "    return state #state tensor shape [21,100]"
   ]
  },
  {
   "cell_type": "markdown",
   "metadata": {},
   "source": [
    "### DRR-u"
   ]
  },
  {
   "cell_type": "code",
   "execution_count": 39,
   "metadata": {
    "ExecuteTime": {
     "end_time": "2020-12-11T01:55:08.771891Z",
     "start_time": "2020-12-11T01:55:08.770312Z"
    }
   },
   "outputs": [],
   "source": [
    "# def drru_state_rep(userid_b,items,memory,idx):\n",
    "#     user_num = idx\n",
    "#     H = []\n",
    "#     user_n_items = items\n",
    "#     user_embeddings = user_embeddings_dict[userid_b[0]]\n",
    "#     for i,item in enumerate(user_n_items):\n",
    "#         ui = np.array(user_embeddings) * np.array(movie_embeddings_dict[item[0]])\n",
    "#         H.append(ui)\n",
    "\n",
    "#     pairs = list(itertools.combinations(memory[user_num], 2))\n",
    "#     for item1,item2 in pairs:\n",
    "#         pair1 =  np.array(movie_embeddings_dict[str(int(item1))])\n",
    "#         pair2 = np.array(movie_embeddings_dict[str(int(item2))])\n",
    "\n",
    "#         product = pair1*pair2\n",
    "#         H.append(product)\n",
    "#     state = torch.Tensor(H,)\n",
    "#     return state #state tensor shape [55,100]\n"
   ]
  },
  {
   "cell_type": "markdown",
   "metadata": {},
   "source": [
    "### DRR-p"
   ]
  },
  {
   "cell_type": "code",
   "execution_count": 40,
   "metadata": {
    "ExecuteTime": {
     "end_time": "2020-12-11T01:55:09.015721Z",
     "start_time": "2020-12-11T01:55:09.013893Z"
    }
   },
   "outputs": [],
   "source": [
    "# def drrp_state_rep(items,memory,idx):\n",
    "#   user_num = idx\n",
    "#   H = []\n",
    "#   user_n_items = items\n",
    "#   for i,item in enumerate(user_n_items):\n",
    "#     H.append(np.array(movie_embeddings_dict[item[0]]))\n",
    "  \n",
    "#   pairs = list(itertools.combinations(memory[user_num], 2))\n",
    "#   for item1,item2 in pairs:\n",
    "#     pair1 =  np.array(movie_embeddings_dict[str(int(item1))])\n",
    "#     pair2 = np.array(movie_embeddings_dict[str(int(item2))])\n",
    "#     product = pair1*pair2\n",
    "#     H.append(product)\n",
    "#   state = torch.Tensor(H,)\n",
    "#   return state"
   ]
  },
  {
   "cell_type": "markdown",
   "metadata": {},
   "source": [
    "### state-rep"
   ]
  },
  {
   "cell_type": "code",
   "execution_count": 41,
   "metadata": {
    "ExecuteTime": {
     "end_time": "2020-12-11T01:55:09.289202Z",
     "start_time": "2020-12-11T01:55:09.286535Z"
    }
   },
   "outputs": [
    {
     "data": {
      "text/plain": [
       "'\\ndef state_rep(item_b):\\n    state = []\\n    user_embeddings = np.zeros((len(columns),100))\\n    item_ids = list(item[0] for item in item_b)\\n    for i,subitem in enumerate(user_embeddings):\\n        if idx_to_id[i] in item_ids:\\n            user_embeddings[i] = np.array(item_embeddings_dict[idx_to_id[i]])\\n        else:\\n            user_embeddings[i] = np.zeros((100,))\\n    state = torch.Tensor(user_embeddings,)\\n    return torch.reshape(state,[-1]) \\n'"
      ]
     },
     "execution_count": 41,
     "metadata": {},
     "output_type": "execute_result"
    }
   ],
   "source": [
    "# just n items and their embeddings used to represent state\n",
    "'''\n",
    "def state_rep(item_b):\n",
    "    state = []\n",
    "    user_embeddings = np.zeros((len(columns),100))\n",
    "    item_ids = list(item[0] for item in item_b)\n",
    "    for i,subitem in enumerate(user_embeddings):\n",
    "        if idx_to_id[i] in item_ids:\n",
    "            user_embeddings[i] = np.array(item_embeddings_dict[idx_to_id[i]])\n",
    "        else:\n",
    "            user_embeddings[i] = np.zeros((100,))\n",
    "    state = torch.Tensor(user_embeddings,)\n",
    "    return torch.reshape(state,[-1]) \n",
    "'''"
   ]
  },
  {
   "cell_type": "markdown",
   "metadata": {},
   "source": [
    "## 4. Actor, Critic "
   ]
  },
  {
   "cell_type": "code",
   "execution_count": 28,
   "metadata": {
    "ExecuteTime": {
     "end_time": "2020-12-11T01:55:13.319158Z",
     "start_time": "2020-12-11T01:55:09.624768Z"
    }
   },
   "outputs": [
    {
     "name": "stdout",
     "output_type": "stream",
     "text": [
      "Collecting git+https://github.com/pabloppp/pytorch-tools@0.2.4\n",
      "  Cloning https://github.com/pabloppp/pytorch-tools (to revision 0.2.4) to /tmp/pip-req-build-v0gc1bg4\n",
      "Requirement already satisfied, skipping upgrade: torch==1.* in /home/aiffel0042/anaconda3/envs/aiffel/lib/python3.7/site-packages (from torchtools==0.2.4) (1.7.0+cu110)\n",
      "Requirement already satisfied, skipping upgrade: torchvision in /home/aiffel0042/anaconda3/envs/aiffel/lib/python3.7/site-packages (from torchtools==0.2.4) (0.8.1+cu110)\n",
      "Requirement already satisfied, skipping upgrade: numpy==1.* in /home/aiffel0042/anaconda3/envs/aiffel/lib/python3.7/site-packages (from torchtools==0.2.4) (1.18.5)\n",
      "Requirement already satisfied, skipping upgrade: future in /home/aiffel0042/anaconda3/envs/aiffel/lib/python3.7/site-packages (from torch==1.*->torchtools==0.2.4) (0.18.2)\n",
      "Requirement already satisfied, skipping upgrade: dataclasses in /home/aiffel0042/anaconda3/envs/aiffel/lib/python3.7/site-packages (from torch==1.*->torchtools==0.2.4) (0.6)\n",
      "Requirement already satisfied, skipping upgrade: typing-extensions in /home/aiffel0042/anaconda3/envs/aiffel/lib/python3.7/site-packages (from torch==1.*->torchtools==0.2.4) (3.7.4.2)\n",
      "Requirement already satisfied, skipping upgrade: pillow>=4.1.1 in /home/aiffel0042/anaconda3/envs/aiffel/lib/python3.7/site-packages (from torchvision->torchtools==0.2.4) (7.2.0)\n",
      "Building wheels for collected packages: torchtools\n",
      "  Building wheel for torchtools (setup.py) ... \u001b[?25ldone\n",
      "\u001b[?25h  Created wheel for torchtools: filename=torchtools-0.2.4-py3-none-any.whl size=19202 sha256=bf26534ca7e68846ce89152fbbe4e0ccfd3119fa7b2ffc01828cddbad47e77d6\n",
      "  Stored in directory: /tmp/pip-ephem-wheel-cache-a4afegj3/wheels/e9/db/08/ceb66f88d5c31d39af6901601b4b9084b365c3b484105ee2f5\n",
      "Successfully built torchtools\n",
      "Installing collected packages: torchtools\n",
      "  Attempting uninstall: torchtools\n",
      "    Found existing installation: torchtools 0.2.4\n",
      "    Uninstalling torchtools-0.2.4:\n",
      "      Successfully uninstalled torchtools-0.2.4\n",
      "Successfully installed torchtools-0.2.4\n",
      "\u001b[33mWARNING: You are using pip version 20.2.2; however, version 20.3.1 is available.\n",
      "You should consider upgrading via the '/home/aiffel0042/anaconda3/envs/aiffel/bin/python3 -m pip install --upgrade pip' command.\u001b[0m\n"
     ]
    }
   ],
   "source": [
    "!pip install git+https://github.com/pabloppp/pytorch-tools@0.2.4 -U"
   ]
  },
  {
   "cell_type": "code",
   "execution_count": 42,
   "metadata": {
    "ExecuteTime": {
     "end_time": "2020-12-11T01:55:13.324893Z",
     "start_time": "2020-12-11T01:55:13.320417Z"
    }
   },
   "outputs": [],
   "source": [
    "#Actor Model:\n",
    "#Generating an action a based on state s\n",
    "\n",
    "# Input_dim 5500, output_dim 100, hidden_dim 256 for drr-u, p\n",
    "# Input_dim 2100, output_dim 100, hidden_dim 256 for drr-ave\n",
    "\n",
    "# embedding을 normalize(-1, 1) => tanh\n",
    "# embedding을 standard scaling => PCA whitening\n",
    "\n",
    "class Actor(torch.nn.Module):\n",
    "    def __init__(self, input_dim, output_dim,hidden_dim):\n",
    "        super(Actor, self).__init__()\n",
    "\n",
    "        self.drop_layer = nn.Dropout(p=0.5)        \n",
    "        self.linear1 = nn.Linear(input_dim, hidden_dim)\n",
    "        self.linear2 = nn.Linear(hidden_dim, hidden_dim)\n",
    "        self.linear3 = nn.Linear(hidden_dim, output_dim)\n",
    "        \n",
    "    def forward(self, state):\n",
    "        x = F.relu(self.linear1(state.to(device)))\n",
    "        # print(x.shape)\n",
    "        x = self.drop_layer(x)\n",
    "        x = F.relu(self.linear2(x))\n",
    "        # print(x.shape)\n",
    "        x = self.drop_layer(x)\n",
    "        # x = torch.tanh(self.linear3(x)) # in case embeds are -1 1 normalized\n",
    "        x = self.linear3(x) # in case embeds are standard scaled / wiped using PCA whitening\n",
    "        # return state, x\n",
    "        return x # state = self.state_rep(state)\n",
    "   "
   ]
  },
  {
   "cell_type": "code",
   "execution_count": 43,
   "metadata": {
    "ExecuteTime": {
     "end_time": "2020-12-11T01:55:13.362147Z",
     "start_time": "2020-12-11T01:55:13.326002Z"
    }
   },
   "outputs": [],
   "source": [
    "class Critic(nn.Module):\n",
    "    def __init__(self,input_dim,output_dim,hidden_dim):\n",
    "\n",
    "        super(Critic, self).__init__()\n",
    "        \n",
    "        self.drop_layer = nn.Dropout(p=0.5)\n",
    "    \n",
    "        self.linear1 = nn.Linear(input_dim + output_dim, hidden_dim)\n",
    "        self.linear2 = nn.Linear(hidden_dim, hidden_dim)\n",
    "        self.linear3 = nn.Linear(hidden_dim, 1)\n",
    "\n",
    "    def forward(self,state,action):    \n",
    "        x = torch.cat([state.to(device), action.to(device)], 1)\n",
    "        # print(x.shape)\n",
    "        x = F.relu(self.linear1(x))\n",
    "        x = self.drop_layer(x)\n",
    "        x = F.relu(self.linear2(x))\n",
    "        x = self.drop_layer(x)\n",
    "        x = self.linear3(x)\n",
    "        return x"
   ]
  },
  {
   "cell_type": "code",
   "execution_count": 44,
   "metadata": {
    "ExecuteTime": {
     "end_time": "2020-12-11T01:55:13.372824Z",
     "start_time": "2020-12-11T01:55:13.363103Z"
    }
   },
   "outputs": [],
   "source": [
    "class ReplayBuffer:\n",
    "    def __init__(self, capacity):\n",
    "        self.capacity = capacity\n",
    "        #self.buffer = [0 for _ in range(capacity)]\n",
    "        self.buffer = []\n",
    "        self.position = 0\n",
    "    \n",
    "    def push(self, state, action, reward, next_state):\n",
    "        if len(self.buffer) < self.capacity:\n",
    "            self.buffer.append(None)\n",
    "        self.buffer[self.position] = (state, action, reward, next_state)\n",
    "        self.position = (self.position + 1) % self.capacity\n",
    "    \n",
    "    def sample(self, batch_size):\n",
    "        batch = random.sample(self.buffer, batch_size)\n",
    "        # print(batch)\n",
    "        '''\n",
    "        zip:\n",
    "        (s1, a1, r1, ns1) (s2, a2, r2, ns2) (s3, a3, r3, ns3)\n",
    "        => (s1, s2, s3), (a1, a2, a3), (r1, r2, r3)\n",
    "        '''\n",
    "        state, action, reward, next_state = map(np.stack,zip(*batch))\n",
    "        return state, action, reward, next_state\n",
    "    \n",
    "    def __len__(self):\n",
    "        return len(self.buffer)"
   ]
  },
  {
   "cell_type": "code",
   "execution_count": 45,
   "metadata": {
    "ExecuteTime": {
     "end_time": "2020-12-11T01:55:13.398552Z",
     "start_time": "2020-12-11T01:55:13.374234Z"
    }
   },
   "outputs": [
    {
     "data": {
      "text/plain": [
       "'\\nstate = drrave_state_rep(userid_b,item_b,memory,idx_b)\\nstate_rep =  torch.reshape(state,[-1])\\nnext_state = drrave_state_rep(userid_b,item_b,memory,idx_b)\\nnext_state_rep = torch.reshape(next_state,[-1])\\n#R.push(state_rep.detach().cpu().numpy(), action_emb.detach().cpu().numpy(), reward, next_state_rep.detach().cpu().numpy()\\n)\\n'"
      ]
     },
     "execution_count": 45,
     "metadata": {},
     "output_type": "execute_result"
    }
   ],
   "source": [
    "'''\n",
    "state = drrave_state_rep(userid_b,item_b,memory,idx_b)\n",
    "state_rep =  torch.reshape(state,[-1])\n",
    "next_state = drrave_state_rep(userid_b,item_b,memory,idx_b)\n",
    "next_state_rep = torch.reshape(next_state,[-1])\n",
    "#R.push(state_rep.detach().cpu().numpy(), action_emb.detach().cpu().numpy(), reward, next_state_rep.detach().cpu().numpy()\n",
    ")\n",
    "'''"
   ]
  },
  {
   "cell_type": "code",
   "execution_count": 171,
   "metadata": {},
   "outputs": [
    {
     "data": {
      "text/plain": [
       "True"
      ]
     },
     "execution_count": 171,
     "metadata": {},
     "output_type": "execute_result"
    }
   ],
   "source": [
    "torch.cuda.is_available()"
   ]
  },
  {
   "cell_type": "code",
   "execution_count": 46,
   "metadata": {
    "ExecuteTime": {
     "end_time": "2020-12-11T01:55:13.425094Z",
     "start_time": "2020-12-11T01:55:13.399459Z"
    }
   },
   "outputs": [],
   "source": [
    "# device = 'cpu'\n",
    "device = torch.device('cuda')"
   ]
  },
  {
   "cell_type": "code",
   "execution_count": 47,
   "metadata": {
    "ExecuteTime": {
     "end_time": "2020-12-11T01:55:13.441874Z",
     "start_time": "2020-12-11T01:55:13.425877Z"
    }
   },
   "outputs": [],
   "source": [
    "#used for plotting purposes\n",
    "p_loss = []\n",
    "v_loss = []"
   ]
  },
  {
   "cell_type": "code",
   "execution_count": 48,
   "metadata": {
    "ExecuteTime": {
     "end_time": "2020-12-11T01:55:13.453068Z",
     "start_time": "2020-12-11T01:55:13.443030Z"
    }
   },
   "outputs": [],
   "source": [
    "def ddpg_update(batch_size=1, \n",
    "                gamma = 0.6,\n",
    "                min_value=-np.inf,\n",
    "                max_value=np.inf,\n",
    "                soft_tau=1e-2):\n",
    "    \n",
    "    state, action, reward, next_state = replay_buffer.sample(batch_size)\n",
    "    state      = torch.FloatTensor(state).to(device)\n",
    "\n",
    "    next_state = torch.FloatTensor(next_state).to(device)\n",
    "\n",
    "    action     = torch.FloatTensor(action).to(device)\n",
    "    reward     = torch.FloatTensor(reward).to(device)\n",
    "    # print(state.shape)\n",
    "    # print(policy_net(state).shape)\n",
    "    policy_loss = value_net(state, policy_net(state))\n",
    "    policy_loss = -policy_loss.mean()\n",
    "    p_loss.append(policy_loss)\n",
    "    next_action    = target_policy_net(next_state)\n",
    "    target_value   = target_value_net(next_state, next_action.detach())\n",
    "    expected_value = reward + gamma * target_value\n",
    "    expected_value = torch.clamp(expected_value, min_value, max_value)\n",
    "\n",
    "    value = value_net(state, action)\n",
    "    # print(\"1\")\n",
    "    value_loss = value_criterion(value, expected_value.detach())\n",
    "    # print(\"2\")\n",
    "    v_loss.append(value_loss)\n",
    "    policy_optimizer.zero_grad()\n",
    "    # print(\"3\")\n",
    "    policy_loss.backward()\n",
    "    policy_optimizer.step()\n",
    "\n",
    "    value_optimizer.zero_grad()\n",
    "    value_loss.backward()\n",
    "    value_optimizer.step()\n",
    "\n",
    "    for target_param, param in zip(target_value_net.parameters(), value_net.parameters()):\n",
    "                target_param.data.copy_(\n",
    "                    target_param.data * (1.0 - soft_tau) + param.data * soft_tau\n",
    "                )\n",
    "\n",
    "    for target_param, param in zip(target_policy_net.parameters(), policy_net.parameters()):\n",
    "            target_param.data.copy_(\n",
    "                target_param.data * (1.0 - soft_tau) + param.data * soft_tau\n",
    "            )"
   ]
  },
  {
   "cell_type": "code",
   "execution_count": 159,
   "metadata": {
    "ExecuteTime": {
     "end_time": "2020-12-11T01:55:13.499173Z",
     "start_time": "2020-12-11T01:55:13.453995Z"
    }
   },
   "outputs": [],
   "source": [
    "# #initializing actor and critic networks for drru and drrp state representation\n",
    "\n",
    "# value_net = Critic(5500,100,256).to(device)\n",
    "# policy_net = Actor(5500,100,256).to(device)\n",
    "\n",
    "# target_value_net = Critic(5500,100,256).to(device)\n",
    "# target_policy_net = Actor(5500,100,256).to(device)\n",
    "\n",
    "    \n",
    "# target_policy_net.eval()\n",
    "# target_value_net.eval()\n",
    "\n",
    "# for target_param, param in zip(target_value_net.parameters(), value_net.parameters()):\n",
    "#     target_param.data.copy_(param.data)\n",
    "\n",
    "# for target_param, param in zip(target_policy_net.parameters(), policy_net.parameters()):\n",
    "#     target_param.data.copy_(param.data)\n",
    "\n",
    "# value_criterion = nn.MSELoss()\n",
    "# value_optimizer      = Ranger(value_net.parameters(),  lr=1e-4)\n",
    "# policy_optimizer     = Ranger(policy_net.parameters(), lr=1e-4)"
   ]
  },
  {
   "cell_type": "code",
   "execution_count": 49,
   "metadata": {
    "ExecuteTime": {
     "end_time": "2020-12-11T01:55:13.524198Z",
     "start_time": "2020-12-11T01:55:13.500374Z"
    }
   },
   "outputs": [
    {
     "name": "stdout",
     "output_type": "stream",
     "text": [
      "Ranger optimizer loaded. \n",
      "Gradient Centralization usage = True\n",
      "GC applied to both conv and fc layers\n",
      "Ranger optimizer loaded. \n",
      "Gradient Centralization usage = True\n",
      "GC applied to both conv and fc layers\n"
     ]
    }
   ],
   "source": [
    "#initializing for drrave state representation\n",
    "\n",
    "value_net = Critic(2100,100,256).to(device)\n",
    "policy_net = Actor(2100,100,256).to(device)\n",
    "\n",
    "target_value_net = Critic(2100,100,256).to(device)\n",
    "target_policy_net = Actor(2100,100,256).to(device)\n",
    "\n",
    "\n",
    "target_policy_net.eval()\n",
    "target_value_net.eval()\n",
    "\n",
    "for target_param, param in zip(target_value_net.parameters(), value_net.parameters()):\n",
    "    target_param.data.copy_(param.data)\n",
    "\n",
    "for target_param, param in zip(target_policy_net.parameters(), policy_net.parameters()):\n",
    "    target_param.data.copy_(param.data)\n",
    "\n",
    "value_criterion = nn.MSELoss()\n",
    "value_optimizer      = Ranger(value_net.parameters(),  lr=1e-4)\n",
    "policy_optimizer     = Ranger(policy_net.parameters(), lr=1e-4)"
   ]
  },
  {
   "cell_type": "code",
   "execution_count": 161,
   "metadata": {
    "ExecuteTime": {
     "end_time": "2020-12-11T01:55:13.527286Z",
     "start_time": "2020-12-11T01:55:13.525156Z"
    }
   },
   "outputs": [
    {
     "name": "stdout",
     "output_type": "stream",
     "text": [
      "Actor(\n",
      "  (drop_layer): Dropout(p=0.5, inplace=False)\n",
      "  (linear1): Linear(in_features=2100, out_features=256, bias=True)\n",
      "  (linear2): Linear(in_features=256, out_features=256, bias=True)\n",
      "  (linear3): Linear(in_features=256, out_features=100, bias=True)\n",
      ")\n"
     ]
    }
   ],
   "source": [
    "print(policy_net)"
   ]
  },
  {
   "cell_type": "code",
   "execution_count": 31,
   "metadata": {
    "ExecuteTime": {
     "end_time": "2020-12-11T01:55:13.614035Z",
     "start_time": "2020-12-11T01:55:13.608997Z"
    }
   },
   "outputs": [
    {
     "ename": "NameError",
     "evalue": "name 'train_num' is not defined",
     "output_type": "error",
     "traceback": [
      "\u001b[0;31m---------------------------------------------------------------------------\u001b[0m",
      "\u001b[0;31mNameError\u001b[0m                                 Traceback (most recent call last)",
      "\u001b[0;32m<ipython-input-31-b4ae551c7a8e>\u001b[0m in \u001b[0;36m<module>\u001b[0;34m\u001b[0m\n\u001b[1;32m      2\u001b[0m \u001b[0mreplay_buffer\u001b[0m \u001b[0;34m=\u001b[0m \u001b[0mReplayBuffer\u001b[0m\u001b[0;34m(\u001b[0m\u001b[0mreplay_buffer_size\u001b[0m\u001b[0;34m)\u001b[0m\u001b[0;34m\u001b[0m\u001b[0;34m\u001b[0m\u001b[0m\n\u001b[1;32m      3\u001b[0m \u001b[0;34m\u001b[0m\u001b[0m\n\u001b[0;32m----> 4\u001b[0;31m \u001b[0mmemory\u001b[0m \u001b[0;34m=\u001b[0m \u001b[0mnp\u001b[0m\u001b[0;34m.\u001b[0m\u001b[0mones\u001b[0m\u001b[0;34m(\u001b[0m\u001b[0;34m(\u001b[0m\u001b[0mtrain_num\u001b[0m\u001b[0;34m,\u001b[0m\u001b[0;36m10\u001b[0m\u001b[0;34m)\u001b[0m\u001b[0;34m)\u001b[0m\u001b[0;34m*\u001b[0m\u001b[0;34m-\u001b[0m\u001b[0;36m1\u001b[0m\u001b[0;34m\u001b[0m\u001b[0;34m\u001b[0m\u001b[0m\n\u001b[0m",
      "\u001b[0;31mNameError\u001b[0m: name 'train_num' is not defined"
     ]
    }
   ],
   "source": [
    "replay_buffer_size = 10000\n",
    "replay_buffer = ReplayBuffer(replay_buffer_size)\n",
    "\n",
    "memory = np.ones((train_num,10))*-1"
   ]
  },
  {
   "cell_type": "code",
   "execution_count": 141,
   "metadata": {
    "ExecuteTime": {
     "end_time": "2020-12-11T01:55:14.786678Z",
     "start_time": "2020-12-11T01:55:14.784692Z"
    }
   },
   "outputs": [
    {
     "name": "stdout",
     "output_type": "stream",
     "text": [
      "10990777\n"
     ]
    }
   ],
   "source": [
    "print(int(userid_b))"
   ]
  },
  {
   "cell_type": "code",
   "execution_count": 142,
   "metadata": {
    "ExecuteTime": {
     "end_time": "2020-12-11T01:55:15.145411Z",
     "start_time": "2020-12-11T01:55:15.142816Z"
    }
   },
   "outputs": [
    {
     "name": "stdout",
     "output_type": "stream",
     "text": [
      "10990777\n"
     ]
    }
   ],
   "source": [
    "print(int(userid_b[0]))"
   ]
  },
  {
   "cell_type": "code",
   "execution_count": 50,
   "metadata": {
    "ExecuteTime": {
     "end_time": "2020-12-11T01:55:15.395754Z",
     "start_time": "2020-12-11T01:55:15.391007Z"
    }
   },
   "outputs": [],
   "source": [
    "def get_action(state,action_emb,userid_b,item_b,preds):\n",
    "    action_emb = torch.reshape(action_emb,[1,100]).unsqueeze(0).to(device)\n",
    "    item_embedding = []\n",
    "    for item in users_dict[int(userid_b[0])][\"item\"]:  \n",
    "        item_embedding.append(np.array(item_embeddings_dict[item]))\n",
    "    item_embedding = torch.Tensor(item_embedding,)\n",
    "    items = item_embedding.T.unsqueeze(0).to(device)\n",
    "    m = torch.bmm(action_emb,items).squeeze(0)  #torch.bmm : batch 행렬 곱연산\n",
    "    sorted_m,indices = torch.sort(m,descending=True)\n",
    "    index_list = list(indices[0])\n",
    "    for i in index_list:\n",
    "        if users_dict[int(userid_b[0])][\"item\"][i] not in preds:    \n",
    "            preds.add(users_dict[int(userid_b[0])][\"item\"][i])\n",
    "            return int(i)"
   ]
  },
  {
   "cell_type": "code",
   "execution_count": 51,
   "metadata": {
    "ExecuteTime": {
     "end_time": "2020-12-11T01:55:15.708617Z",
     "start_time": "2020-12-11T01:55:15.706678Z"
    }
   },
   "outputs": [],
   "source": [
    "def update_memory(memory,action,idx):\n",
    "    memory[idx] = list(memory[idx,1:])+[action]"
   ]
  },
  {
   "cell_type": "code",
   "execution_count": 52,
   "metadata": {
    "ExecuteTime": {
     "end_time": "2020-12-11T01:55:15.993852Z",
     "start_time": "2020-12-11T01:55:15.992077Z"
    }
   },
   "outputs": [],
   "source": [
    "rate = 0"
   ]
  },
  {
   "cell_type": "code",
   "execution_count": 146,
   "metadata": {
    "ExecuteTime": {
     "end_time": "2020-12-11T01:55:16.263412Z",
     "start_time": "2020-12-11T01:55:16.259316Z"
    }
   },
   "outputs": [
    {
     "name": "stdout",
     "output_type": "stream",
     "text": [
      "[tensor([21786]), tensor([39725]), tensor([70276]), tensor([214354]), tensor([99133]), tensor([242976]), tensor([262049]), tensor([293522]), tensor([649985]), tensor([670284])]\n"
     ]
    }
   ],
   "source": [
    "it = iter(train_dataloader)\n",
    "first = next(it)\n",
    "item_b,rating_b,size_b,userid_b,idx_b = first['item'],first['rating'],first['size'],first['userid'],first['idx']\n",
    "print(item_b)"
   ]
  },
  {
   "cell_type": "code",
   "execution_count": 147,
   "metadata": {},
   "outputs": [
    {
     "name": "stdout",
     "output_type": "stream",
     "text": [
      "[tensor([38869]), tensor([39474]), tensor([204698]), tensor([258484]), tensor([326002]), tensor([325873]), tensor([326313]), tensor([328628]), tensor([328956]), tensor([442795])]\n"
     ]
    }
   ],
   "source": [
    "first = next(it)\n",
    "item_b,rating_b,size_b,userid_b,idx_b = first['item'],first['rating'],first['size'],first['userid'],first['idx']\n",
    "print(item_b)"
   ]
  },
  {
   "cell_type": "code",
   "execution_count": 148,
   "metadata": {},
   "outputs": [
    {
     "data": {
      "text/plain": [
       "[tensor([5]),\n",
       " tensor([5]),\n",
       " tensor([5]),\n",
       " tensor([5]),\n",
       " tensor([5]),\n",
       " tensor([5]),\n",
       " tensor([5]),\n",
       " tensor([5]),\n",
       " tensor([5]),\n",
       " tensor([5])]"
      ]
     },
     "execution_count": 148,
     "metadata": {},
     "output_type": "execute_result"
    }
   ],
   "source": [
    "first['rating']"
   ]
  },
  {
   "cell_type": "code",
   "execution_count": 149,
   "metadata": {
    "ExecuteTime": {
     "end_time": "2020-12-11T01:55:17.068465Z",
     "start_time": "2020-12-11T01:55:17.066142Z"
    }
   },
   "outputs": [
    {
     "name": "stdout",
     "output_type": "stream",
     "text": [
      "6717064\n"
     ]
    }
   ],
   "source": [
    "print(int(userid_b[0]))"
   ]
  },
  {
   "cell_type": "code",
   "execution_count": 165,
   "metadata": {
    "ExecuteTime": {
     "end_time": "2020-12-11T01:55:17.365820Z",
     "start_time": "2020-12-11T01:55:17.359048Z"
    }
   },
   "outputs": [
    {
     "data": {
      "text/plain": [
       "tensor([[-5.1019e-03,  1.8949e-02, -6.7247e-04,  ...,  1.5460e-03,\n",
       "         -5.4347e-03, -1.5698e-02],\n",
       "        [-1.2878e-04,  4.0399e-04,  8.6758e-06,  ...,  1.2162e-05,\n",
       "         -8.6169e-06,  3.9995e-05],\n",
       "        [-1.9765e-03,  7.8490e-03,  1.3121e-04,  ...,  2.7631e-04,\n",
       "         -1.7703e-03,  3.6182e-03],\n",
       "        ...,\n",
       "        [ 1.1743e-01,  1.7994e-01,  3.7203e-02,  ...,  2.0267e-02,\n",
       "          8.6662e-02,  1.4492e-01],\n",
       "        [ 8.2598e-03,  9.3675e-03,  9.7267e-03,  ...,  1.1377e-02,\n",
       "         -1.5253e-02,  2.3575e-02],\n",
       "        [ 1.2339e-01,  1.4494e-01,  5.7883e-02,  ...,  8.2417e-02,\n",
       "         -3.0751e-02,  7.4000e-02]])"
      ]
     },
     "execution_count": 165,
     "metadata": {},
     "output_type": "execute_result"
    }
   ],
   "source": [
    "memory = np.ones((train_num,10))*-1\n",
    "drrave_state_rep(userid_b,item_b,memory,idx_b)"
   ]
  },
  {
   "cell_type": "code",
   "execution_count": 151,
   "metadata": {
    "ExecuteTime": {
     "end_time": "2020-12-11T01:55:17.563451Z",
     "start_time": "2020-12-11T01:55:17.560788Z"
    }
   },
   "outputs": [
    {
     "name": "stdout",
     "output_type": "stream",
     "text": [
      "tensor([39474])\n"
     ]
    }
   ],
   "source": [
    "print(item_b[1])"
   ]
  },
  {
   "cell_type": "code",
   "execution_count": 54,
   "metadata": {
    "ExecuteTime": {
     "end_time": "2020-12-11T01:55:17.831067Z",
     "start_time": "2020-12-11T01:55:17.824602Z"
    }
   },
   "outputs": [],
   "source": [
    "memory = np.ones((train_num,10))*-1\n",
    "# memory[idx_b] = [item[0] for item in item_b]\n",
    "# print(memory[idx_b])"
   ]
  },
  {
   "cell_type": "code",
   "execution_count": 153,
   "metadata": {
    "ExecuteTime": {
     "end_time": "2020-12-11T01:55:18.121812Z",
     "start_time": "2020-12-11T01:55:18.119515Z"
    }
   },
   "outputs": [
    {
     "name": "stdout",
     "output_type": "stream",
     "text": [
      "tensor(39474)\n"
     ]
    }
   ],
   "source": [
    "print(item_b[1][0])"
   ]
  },
  {
   "cell_type": "code",
   "execution_count": 154,
   "metadata": {
    "ExecuteTime": {
     "end_time": "2020-12-11T01:55:18.544607Z",
     "start_time": "2020-12-11T01:55:18.541854Z"
    }
   },
   "outputs": [
    {
     "name": "stdout",
     "output_type": "stream",
     "text": [
      "[[-1.00000e+00 -1.00000e+00 -1.00000e+00 ... -1.00000e+00 -1.00000e+00\n",
      "  -1.00000e+00]\n",
      " [ 3.88690e+04  3.94740e+04  2.04698e+05 ...  3.28628e+05  3.28956e+05\n",
      "   4.42795e+05]\n",
      " [-1.00000e+00 -1.00000e+00 -1.00000e+00 ... -1.00000e+00 -1.00000e+00\n",
      "  -1.00000e+00]\n",
      " ...\n",
      " [-1.00000e+00 -1.00000e+00 -1.00000e+00 ... -1.00000e+00 -1.00000e+00\n",
      "  -1.00000e+00]\n",
      " [-1.00000e+00 -1.00000e+00 -1.00000e+00 ... -1.00000e+00 -1.00000e+00\n",
      "  -1.00000e+00]\n",
      " [-1.00000e+00 -1.00000e+00 -1.00000e+00 ... -1.00000e+00 -1.00000e+00\n",
      "  -1.00000e+00]]\n"
     ]
    }
   ],
   "source": [
    "print(memory)"
   ]
  },
  {
   "cell_type": "code",
   "execution_count": 155,
   "metadata": {
    "ExecuteTime": {
     "end_time": "2020-12-11T01:55:19.220192Z",
     "start_time": "2020-12-11T01:55:19.217639Z"
    }
   },
   "outputs": [
    {
     "name": "stdout",
     "output_type": "stream",
     "text": [
      "tensor([1])\n"
     ]
    }
   ],
   "source": [
    "print(idx_b)"
   ]
  },
  {
   "cell_type": "markdown",
   "metadata": {},
   "source": [
    "## 5. Training"
   ]
  },
  {
   "cell_type": "code",
   "execution_count": null,
   "metadata": {
    "ExecuteTime": {
     "start_time": "2020-12-11T01:55:20.117Z"
    }
   },
   "outputs": [
    {
     "name": "stderr",
     "output_type": "stream",
     "text": [
      "  0%|          | 0/190746 [00:00<?, ?it/s]/home/aiffel0042/Ranger-Deep-Learning-Optimizer/ranger/ranger.py:138: UserWarning: This overload of addcmul_ is deprecated:\n",
      "\taddcmul_(Number value, Tensor tensor1, Tensor tensor2)\n",
      "Consider using one of the following signatures instead:\n",
      "\taddcmul_(Tensor tensor1, Tensor tensor2, *, Number value) (Triggered internally at  /pytorch/torch/csrc/utils/python_arg_parser.cpp:882.)\n",
      "  exp_avg_sq.mul_(beta2).addcmul_(1 - beta2, grad, grad)\n",
      " 10%|█         | 19992/190746 [24:29<192:00:23,  4.05s/it] "
     ]
    }
   ],
   "source": [
    "preddict = dict()\n",
    "it = iter(train_dataloader)\n",
    "reward_li = []\n",
    "for episode in tqdm.tqdm(range(train_num-1)):\n",
    "    ep_reward = 0\n",
    "    batch_size= 16\n",
    "    preds = set()\n",
    "    #### Env : reset\n",
    "    first = next(it)\n",
    "    item_b,rating_b,size_b,userid_b,idx_b = first['item'],first['rating'],first['size'],first['userid'],first['idx']\n",
    "    memory[idx_b] = [item[0] for item in item_b]\n",
    "    state = drrave_state_rep(userid_b,item_b,memory,idx_b)\n",
    "    ######\n",
    "    for j in range(5):    \n",
    "        state_rep =  torch.reshape(state,[-1])\n",
    "        action_emb = policy_net(state_rep)\n",
    "        action = get_action(state,action_emb,userid_b,item_b,preds)\n",
    "        ### Env : step\n",
    "        rate = int(users_dict[int(userid_b[0])][\"rating\"][action])\n",
    "        try:\n",
    "            ratings = (int(rate)-3)/2\n",
    "        except:\n",
    "            ratings = 0\n",
    "        reward = torch.Tensor((ratings,))\n",
    "        ep_reward = ep_reward + ratings\n",
    "\n",
    "        if reward > 0:\n",
    "            update_memory(memory,int(users_dict[int(userid_b[0])][\"item\"][action]), idx_b)\n",
    "\n",
    "        next_state = drrave_state_rep(userid_b,item_b,memory,idx_b)\n",
    "        next_state_rep = torch.reshape(next_state,[-1])\n",
    "        ######\n",
    "        replay_buffer.push(state_rep.detach().cpu().numpy(), action_emb.detach().cpu().numpy(), reward, next_state_rep.detach().cpu().numpy())\n",
    "        \n",
    "        if len(replay_buffer) > batch_size:\n",
    "            ddpg_update(batch_size=batch_size)\n",
    "\n",
    "        state = next_state\n",
    "    reward_li.append(ep_reward)\n",
    "    preddict[userid_b[0]] = preds"
   ]
  },
  {
   "cell_type": "code",
   "execution_count": 188,
   "metadata": {},
   "outputs": [
    {
     "data": {
      "text/plain": [
       "[5.0,\n",
       " 5.0,\n",
       " 5.0,\n",
       " 5.0,\n",
       " 1.0,\n",
       " 5.0,\n",
       " 2.5,\n",
       " 3.5,\n",
       " 3.5,\n",
       " 3.5,\n",
       " -1.5,\n",
       " 5.0,\n",
       " 4.0,\n",
       " 4.5,\n",
       " 4.5,\n",
       " 5.0,\n",
       " 4.5,\n",
       " 2.0,\n",
       " 4.0,\n",
       " 3.5,\n",
       " 3.0,\n",
       " 5.0,\n",
       " 4.0,\n",
       " 2.0,\n",
       " 4.0,\n",
       " 4.5,\n",
       " 5.0,\n",
       " 0.5,\n",
       " 0.5,\n",
       " 4.0,\n",
       " 3.5,\n",
       " 5.0,\n",
       " 0.0,\n",
       " 1.0,\n",
       " 3.5,\n",
       " 2.0,\n",
       " 4.5,\n",
       " 4.0,\n",
       " 2.0,\n",
       " 4.0,\n",
       " 3.0,\n",
       " 5.0,\n",
       " 3.5,\n",
       " 4.5,\n",
       " 1.0,\n",
       " 0.5,\n",
       " 2.0,\n",
       " 3.5,\n",
       " 5.0,\n",
       " 3.0,\n",
       " 5.0,\n",
       " 4.0,\n",
       " 3.0,\n",
       " 5.0,\n",
       " 2.5,\n",
       " 3.5,\n",
       " 5.0,\n",
       " 4.0,\n",
       " 5.0,\n",
       " 5.0,\n",
       " 4.5,\n",
       " 5.0,\n",
       " 2.0,\n",
       " 4.0,\n",
       " 5.0,\n",
       " 3.5,\n",
       " 3.0,\n",
       " 5.0,\n",
       " 5.0,\n",
       " 2.0,\n",
       " 2.5,\n",
       " 0.0,\n",
       " 5.0,\n",
       " 3.5,\n",
       " 2.5,\n",
       " 3.0,\n",
       " 4.5,\n",
       " 1.5,\n",
       " 5.0,\n",
       " 3.0,\n",
       " 4.0,\n",
       " 5.0,\n",
       " 5.0,\n",
       " 0.5,\n",
       " 2.0,\n",
       " -1.5,\n",
       " 2.5,\n",
       " 5.0,\n",
       " 0.5,\n",
       " 5.0,\n",
       " 1.0,\n",
       " 1.5,\n",
       " 1.5,\n",
       " 5.0,\n",
       " 5.0,\n",
       " 4.5,\n",
       " 5.0,\n",
       " 4.5,\n",
       " 2.5,\n",
       " 0.0,\n",
       " 4.5,\n",
       " 4.0,\n",
       " 5.0,\n",
       " 4.0,\n",
       " 2.5,\n",
       " 2.5,\n",
       " 4.5,\n",
       " 4.0,\n",
       " 5.0,\n",
       " 4.0,\n",
       " 4.0,\n",
       " 5.0,\n",
       " 3.5,\n",
       " 5.0,\n",
       " -1.0,\n",
       " 5.0,\n",
       " 4.5,\n",
       " 5.0,\n",
       " 2.5,\n",
       " 5.0,\n",
       " 0.5,\n",
       " 4.0,\n",
       " 0.0,\n",
       " 4.5,\n",
       " 3.0,\n",
       " 3.5,\n",
       " 4.5,\n",
       " 2.0,\n",
       " 4.5,\n",
       " 2.5,\n",
       " -1.0,\n",
       " 5.0,\n",
       " 5.0,\n",
       " 4.5,\n",
       " 5.0,\n",
       " 5.0,\n",
       " 2.5,\n",
       " 4.5,\n",
       " 5.0,\n",
       " 5.0,\n",
       " 5.0,\n",
       " 0.0,\n",
       " 4.0,\n",
       " 4.0,\n",
       " 4.5,\n",
       " 5.0,\n",
       " 4.0,\n",
       " 3.0,\n",
       " 3.0,\n",
       " 4.5,\n",
       " 5.0,\n",
       " 5.0,\n",
       " 4.5,\n",
       " 3.0,\n",
       " 5.0,\n",
       " 3.0,\n",
       " 4.5,\n",
       " 2.5,\n",
       " 3.0,\n",
       " 2.5,\n",
       " 5.0,\n",
       " 3.5,\n",
       " 4.0,\n",
       " 1.5,\n",
       " 3.5,\n",
       " 0.5,\n",
       " 5.0,\n",
       " -0.5,\n",
       " 4.5,\n",
       " 4.0,\n",
       " 3.5,\n",
       " 4.0,\n",
       " 2.5,\n",
       " 4.5,\n",
       " 1.5,\n",
       " 4.0,\n",
       " 4.5,\n",
       " 0.0,\n",
       " 5.0,\n",
       " 1.0,\n",
       " 2.0,\n",
       " 1.5,\n",
       " 4.0,\n",
       " 5.0,\n",
       " 4.0,\n",
       " 4.0,\n",
       " 1.5,\n",
       " 2.5,\n",
       " 5.0,\n",
       " 5.0,\n",
       " 5.0,\n",
       " -1.0,\n",
       " 3.0,\n",
       " 4.5,\n",
       " 3.5,\n",
       " 3.0,\n",
       " 4.5,\n",
       " 1.5,\n",
       " 2.0,\n",
       " 1.0,\n",
       " 3.0,\n",
       " 3.0,\n",
       " 4.0,\n",
       " 3.5,\n",
       " 4.0,\n",
       " 5.0,\n",
       " 4.0,\n",
       " 4.5,\n",
       " 3.5,\n",
       " 3.5,\n",
       " 4.0,\n",
       " 1.0,\n",
       " 4.5,\n",
       " 5.0,\n",
       " 5.0,\n",
       " -1.0,\n",
       " 2.5,\n",
       " 4.0,\n",
       " 5.0,\n",
       " 5.0,\n",
       " 5.0,\n",
       " 0.5,\n",
       " 2.5,\n",
       " 2.0,\n",
       " -3.5,\n",
       " 3.5,\n",
       " 5.0,\n",
       " 5.0,\n",
       " 5.0,\n",
       " 3.0,\n",
       " 5.0,\n",
       " 5.0,\n",
       " 5.0,\n",
       " 5.0,\n",
       " 2.0,\n",
       " 5.0,\n",
       " -0.5,\n",
       " 4.0,\n",
       " 1.5,\n",
       " 2.0,\n",
       " 0.0,\n",
       " 2.0,\n",
       " 3.0,\n",
       " 2.0,\n",
       " 2.0,\n",
       " 5.0,\n",
       " 3.5,\n",
       " 5.0,\n",
       " 4.5,\n",
       " 5.0,\n",
       " 5.0,\n",
       " 5.0,\n",
       " 4.0,\n",
       " 2.0,\n",
       " 4.0,\n",
       " 4.5,\n",
       " 3.5,\n",
       " 0.5,\n",
       " 2.0,\n",
       " 3.5,\n",
       " 2.0,\n",
       " 4.0,\n",
       " 5.0,\n",
       " 5.0,\n",
       " 4.0,\n",
       " 5.0,\n",
       " 2.5,\n",
       " 4.0,\n",
       " 3.5,\n",
       " 4.5,\n",
       " 2.0,\n",
       " 5.0,\n",
       " -0.5,\n",
       " -1.5,\n",
       " 2.0,\n",
       " 4.5,\n",
       " 3.0,\n",
       " 2.0,\n",
       " 4.0,\n",
       " 1.0,\n",
       " 5.0,\n",
       " 4.0,\n",
       " 5.0,\n",
       " 4.5,\n",
       " 5.0,\n",
       " 2.0,\n",
       " 2.5,\n",
       " 0.0,\n",
       " 5.0,\n",
       " 2.0,\n",
       " 3.0,\n",
       " 5.0,\n",
       " 5.0,\n",
       " 3.5,\n",
       " 3.0,\n",
       " 0.5,\n",
       " -0.5,\n",
       " 2.0,\n",
       " 2.5,\n",
       " 3.0,\n",
       " 2.5,\n",
       " 4.5,\n",
       " 5.0,\n",
       " -1.0,\n",
       " 3.0,\n",
       " 5.0,\n",
       " 0.5,\n",
       " 4.5,\n",
       " 4.5,\n",
       " 1.5,\n",
       " 5.0,\n",
       " 5.0,\n",
       " 5.0,\n",
       " 2.5,\n",
       " 0.5,\n",
       " 4.5,\n",
       " 3.0,\n",
       " 2.5,\n",
       " 3.5,\n",
       " 2.5,\n",
       " 1.0,\n",
       " 3.5,\n",
       " 5.0,\n",
       " 4.0,\n",
       " 3.0,\n",
       " 3.5,\n",
       " 0.5,\n",
       " 2.5,\n",
       " 5.0,\n",
       " 5.0,\n",
       " 0.0,\n",
       " 2.0,\n",
       " 4.5,\n",
       " 5.0,\n",
       " 5.0,\n",
       " 4.5,\n",
       " 5.0,\n",
       " 3.5,\n",
       " 3.0,\n",
       " 5.0,\n",
       " 3.0,\n",
       " 5.0,\n",
       " 5.0,\n",
       " 4.5,\n",
       " 5.0,\n",
       " 2.0,\n",
       " 4.5,\n",
       " 1.5,\n",
       " 5.0,\n",
       " 4.5,\n",
       " 5.0,\n",
       " 5.0,\n",
       " 5.0,\n",
       " 4.0,\n",
       " 4.0,\n",
       " 4.5,\n",
       " 4.0,\n",
       " 3.5,\n",
       " 0.5,\n",
       " 5.0,\n",
       " 2.5,\n",
       " 2.5,\n",
       " 3.5,\n",
       " 3.5,\n",
       " 4.5,\n",
       " 3.0,\n",
       " 4.0,\n",
       " 3.5,\n",
       " 4.0,\n",
       " 5.0,\n",
       " 5.0,\n",
       " 0.5,\n",
       " 5.0,\n",
       " 1.0,\n",
       " 5.0,\n",
       " 4.0,\n",
       " 4.5,\n",
       " 3.0,\n",
       " 3.5,\n",
       " 2.5,\n",
       " 2.0,\n",
       " 3.0,\n",
       " 3.5,\n",
       " -0.5,\n",
       " 0.0,\n",
       " 5.0,\n",
       " 4.5,\n",
       " 4.5,\n",
       " 4.5,\n",
       " 3.5,\n",
       " 5.0,\n",
       " 5.0,\n",
       " -1.0,\n",
       " 4.5,\n",
       " 2.5,\n",
       " 1.0,\n",
       " 5.0,\n",
       " 2.5,\n",
       " 1.0,\n",
       " 4.0,\n",
       " 4.0,\n",
       " 5.0,\n",
       " 2.0,\n",
       " 5.0,\n",
       " 4.5,\n",
       " 5.0,\n",
       " 3.5,\n",
       " 1.0,\n",
       " 4.5,\n",
       " 5.0,\n",
       " 4.5,\n",
       " 5.0,\n",
       " 5.0,\n",
       " 5.0,\n",
       " 4.5,\n",
       " 0.5,\n",
       " 5.0,\n",
       " 4.5,\n",
       " 5.0,\n",
       " -1.5,\n",
       " 2.5,\n",
       " 5.0,\n",
       " 3.5,\n",
       " 3.0,\n",
       " 3.5,\n",
       " 4.5,\n",
       " 5.0,\n",
       " 4.0,\n",
       " 3.0,\n",
       " 3.0,\n",
       " -0.5,\n",
       " 5.0,\n",
       " 4.0,\n",
       " 4.0,\n",
       " 4.5,\n",
       " 5.0,\n",
       " 1.5,\n",
       " 4.5,\n",
       " 4.0,\n",
       " 4.5,\n",
       " 5.0,\n",
       " 2.0,\n",
       " 4.0,\n",
       " 4.5,\n",
       " 4.0,\n",
       " 0.0,\n",
       " 4.0,\n",
       " 2.5,\n",
       " 5.0,\n",
       " 4.5,\n",
       " 4.0,\n",
       " 4.5,\n",
       " 5.0,\n",
       " 3.5,\n",
       " 2.5,\n",
       " 5.0,\n",
       " 5.0,\n",
       " 3.5,\n",
       " 2.5,\n",
       " 5.0,\n",
       " 2.5,\n",
       " 2.5,\n",
       " 2.5,\n",
       " 4.0,\n",
       " 4.0,\n",
       " 3.5,\n",
       " 1.5,\n",
       " 2.5,\n",
       " 2.0,\n",
       " 2.5,\n",
       " 4.5,\n",
       " 2.0,\n",
       " 4.5,\n",
       " 3.0,\n",
       " 5.0,\n",
       " 3.5,\n",
       " 5.0,\n",
       " 1.5,\n",
       " 3.0,\n",
       " 5.0,\n",
       " 5.0,\n",
       " 3.5,\n",
       " 3.0,\n",
       " -4.0,\n",
       " 4.0,\n",
       " -0.5,\n",
       " 2.0,\n",
       " 5.0,\n",
       " 2.5,\n",
       " 3.0,\n",
       " 5.0,\n",
       " 5.0,\n",
       " 2.5,\n",
       " 0.5,\n",
       " 4.5,\n",
       " 4.0,\n",
       " 4.0,\n",
       " 3.5,\n",
       " 3.5,\n",
       " 3.0,\n",
       " 5.0,\n",
       " 3.0,\n",
       " 0.0,\n",
       " 3.0,\n",
       " 5.0,\n",
       " 4.5,\n",
       " 2.5,\n",
       " 5.0,\n",
       " 3.5,\n",
       " 5.0,\n",
       " 4.5,\n",
       " 5.0,\n",
       " 4.0,\n",
       " 5.0,\n",
       " 5.0,\n",
       " 3.5,\n",
       " 5.0,\n",
       " 5.0,\n",
       " 5.0,\n",
       " 5.0,\n",
       " 1.5,\n",
       " 4.0,\n",
       " 2.5,\n",
       " 3.5,\n",
       " 3.0,\n",
       " 4.0,\n",
       " 5.0,\n",
       " 4.5,\n",
       " 5.0,\n",
       " 5.0,\n",
       " 3.0,\n",
       " 4.0,\n",
       " 5.0,\n",
       " 4.0,\n",
       " 3.5,\n",
       " 3.5,\n",
       " 4.0,\n",
       " 3.5,\n",
       " 2.0,\n",
       " 5.0,\n",
       " 0.5,\n",
       " 4.5,\n",
       " -2.5,\n",
       " 3.0,\n",
       " 3.5,\n",
       " 4.0,\n",
       " 3.0,\n",
       " 5.0,\n",
       " 4.0,\n",
       " 2.0,\n",
       " 4.0,\n",
       " 4.0,\n",
       " 4.0,\n",
       " 1.5,\n",
       " 1.5,\n",
       " 5.0,\n",
       " 2.5,\n",
       " 2.5,\n",
       " 2.0,\n",
       " 3.0,\n",
       " 5.0,\n",
       " 1.5,\n",
       " 2.5,\n",
       " 3.5,\n",
       " 2.5,\n",
       " 4.0,\n",
       " 5.0,\n",
       " 5.0,\n",
       " 2.5,\n",
       " 3.5,\n",
       " 5.0,\n",
       " 3.5,\n",
       " 4.0,\n",
       " 2.5,\n",
       " 4.5,\n",
       " 4.0,\n",
       " -0.5,\n",
       " 1.5,\n",
       " 0.0,\n",
       " 4.0,\n",
       " 5.0,\n",
       " 3.0,\n",
       " 3.0,\n",
       " 4.5,\n",
       " 0.5,\n",
       " 5.0,\n",
       " 4.0,\n",
       " 3.5,\n",
       " 3.0,\n",
       " 4.0,\n",
       " 2.0,\n",
       " 4.0,\n",
       " 4.0,\n",
       " 5.0,\n",
       " 4.0,\n",
       " 2.5,\n",
       " 5.0,\n",
       " 4.0,\n",
       " 5.0,\n",
       " 3.5,\n",
       " 3.0,\n",
       " 5.0,\n",
       " 4.5,\n",
       " -1.5,\n",
       " 4.5,\n",
       " 1.5,\n",
       " 5.0,\n",
       " 3.5,\n",
       " 4.0,\n",
       " -0.5,\n",
       " 4.5,\n",
       " 3.0,\n",
       " 5.0,\n",
       " 5.0,\n",
       " 5.0,\n",
       " 3.5,\n",
       " 5.0,\n",
       " 5.0,\n",
       " 5.0,\n",
       " -1.5,\n",
       " 4.0,\n",
       " 4.5,\n",
       " 2.0,\n",
       " 5.0,\n",
       " 3.0,\n",
       " 3.5,\n",
       " 5.0,\n",
       " 4.5,\n",
       " 4.5,\n",
       " 3.5,\n",
       " 3.5,\n",
       " 3.0,\n",
       " 1.0,\n",
       " 4.0,\n",
       " -2.0,\n",
       " 5.0,\n",
       " 5.0,\n",
       " 4.0,\n",
       " 4.5,\n",
       " 4.5,\n",
       " 3.5,\n",
       " 3.5,\n",
       " 1.5,\n",
       " 2.5,\n",
       " 5.0,\n",
       " 2.5,\n",
       " 5.0,\n",
       " 0.5,\n",
       " 1.5,\n",
       " 1.5,\n",
       " 0.5,\n",
       " 5.0,\n",
       " 3.5,\n",
       " 1.0,\n",
       " 4.0,\n",
       " 2.5,\n",
       " 5.0,\n",
       " 2.0,\n",
       " 5.0,\n",
       " 5.0,\n",
       " 3.0,\n",
       " 5.0,\n",
       " 3.0,\n",
       " 3.5,\n",
       " 3.5,\n",
       " 5.0,\n",
       " 4.5,\n",
       " 4.0,\n",
       " 5.0,\n",
       " 2.5,\n",
       " 5.0,\n",
       " 3.0,\n",
       " 3.0,\n",
       " 3.5,\n",
       " 5.0,\n",
       " 1.5,\n",
       " 3.0,\n",
       " 2.0,\n",
       " 4.5,\n",
       " 2.0,\n",
       " 2.5,\n",
       " 4.5,\n",
       " 4.0,\n",
       " 5.0,\n",
       " 3.0,\n",
       " 5.0,\n",
       " 5.0,\n",
       " 2.0,\n",
       " 3.0,\n",
       " 4.5,\n",
       " 2.0,\n",
       " 2.5,\n",
       " 3.5,\n",
       " 3.5,\n",
       " 5.0,\n",
       " 4.0,\n",
       " 1.5,\n",
       " 2.5,\n",
       " 5.0,\n",
       " 2.5,\n",
       " 4.5,\n",
       " 5.0,\n",
       " 5.0,\n",
       " 5.0,\n",
       " 4.5,\n",
       " 5.0,\n",
       " 3.0,\n",
       " 5.0,\n",
       " 4.5,\n",
       " 5.0,\n",
       " 4.5,\n",
       " 4.5,\n",
       " 2.5,\n",
       " 5.0,\n",
       " 4.0,\n",
       " 4.5,\n",
       " 2.5,\n",
       " 4.0,\n",
       " 2.5,\n",
       " 5.0,\n",
       " 5.0,\n",
       " 4.5,\n",
       " 2.5,\n",
       " 4.0,\n",
       " 3.5,\n",
       " 4.0,\n",
       " 4.5,\n",
       " 4.5,\n",
       " 4.5,\n",
       " 1.0,\n",
       " 5.0,\n",
       " 5.0,\n",
       " 4.5,\n",
       " 5.0,\n",
       " 4.5,\n",
       " 1.5,\n",
       " 2.0,\n",
       " 2.5,\n",
       " 2.5,\n",
       " 0.0,\n",
       " 2.5,\n",
       " 3.0,\n",
       " 5.0,\n",
       " 4.5,\n",
       " 4.5,\n",
       " 2.0,\n",
       " 2.5,\n",
       " 1.0,\n",
       " 4.0,\n",
       " 4.5,\n",
       " 1.5,\n",
       " 5.0,\n",
       " 4.5,\n",
       " 5.0,\n",
       " 3.5,\n",
       " 4.0,\n",
       " 3.5,\n",
       " 5.0,\n",
       " 1.0,\n",
       " 5.0,\n",
       " 5.0,\n",
       " 3.0,\n",
       " 4.0,\n",
       " 2.5,\n",
       " 5.0,\n",
       " 2.5,\n",
       " 4.0,\n",
       " 4.5,\n",
       " -0.5,\n",
       " 4.0,\n",
       " 1.5,\n",
       " 3.0,\n",
       " 5.0,\n",
       " 4.0,\n",
       " 1.0,\n",
       " 3.5,\n",
       " -5.0,\n",
       " 1.5,\n",
       " 5.0,\n",
       " 4.0,\n",
       " 5.0,\n",
       " 5.0,\n",
       " 3.0,\n",
       " 5.0,\n",
       " 1.5,\n",
       " 5.0,\n",
       " 3.5,\n",
       " -1.0,\n",
       " 5.0,\n",
       " 4.0,\n",
       " 0.0,\n",
       " 5.0,\n",
       " 2.0,\n",
       " 0.0,\n",
       " 2.5,\n",
       " 3.0,\n",
       " 4.5,\n",
       " 2.0,\n",
       " 5.0,\n",
       " 0.5,\n",
       " 2.5,\n",
       " 2.5,\n",
       " 2.0,\n",
       " 1.0,\n",
       " 4.0,\n",
       " 3.5,\n",
       " 3.5,\n",
       " 5.0,\n",
       " 4.0,\n",
       " 3.0,\n",
       " 5.0,\n",
       " 3.0,\n",
       " 5.0,\n",
       " 3.5,\n",
       " 0.5,\n",
       " 3.5,\n",
       " 2.5,\n",
       " 1.5,\n",
       " -0.5,\n",
       " 0.5,\n",
       " 2.5,\n",
       " 1.5,\n",
       " 5.0,\n",
       " 5.0,\n",
       " 5.0,\n",
       " 3.0,\n",
       " 3.0,\n",
       " 5.0,\n",
       " 4.5,\n",
       " 1.0,\n",
       " 2.0,\n",
       " 4.0,\n",
       " 3.0,\n",
       " 5.0,\n",
       " 2.5,\n",
       " 5.0,\n",
       " 1.0,\n",
       " 3.0,\n",
       " 1.0,\n",
       " 5.0,\n",
       " 5.0,\n",
       " 5.0,\n",
       " 2.5,\n",
       " 4.5,\n",
       " 4.0,\n",
       " 5.0,\n",
       " 4.0,\n",
       " 3.5,\n",
       " 3.5,\n",
       " 0.0,\n",
       " 2.5,\n",
       " 5.0,\n",
       " 3.0,\n",
       " 3.0,\n",
       " 0.5,\n",
       " 2.5,\n",
       " 4.5,\n",
       " 5.0,\n",
       " -1.5,\n",
       " 1.5,\n",
       " 5.0,\n",
       " 4.5,\n",
       " 1.5,\n",
       " 1.5,\n",
       " 4.0,\n",
       " 2.0,\n",
       " 5.0,\n",
       " 4.5,\n",
       " 5.0,\n",
       " 0.5,\n",
       " 4.5,\n",
       " 1.5,\n",
       " 3.5,\n",
       " 2.0,\n",
       " 3.5,\n",
       " 3.0,\n",
       " 3.0,\n",
       " 3.5,\n",
       " 2.5,\n",
       " 5.0,\n",
       " 3.5,\n",
       " 3.0,\n",
       " 2.0,\n",
       " 5.0,\n",
       " 4.5,\n",
       " 1.0,\n",
       " 5.0,\n",
       " 3.0,\n",
       " 3.0,\n",
       " 5.0,\n",
       " 4.5,\n",
       " 3.0,\n",
       " 4.5,\n",
       " 3.5,\n",
       " 3.5,\n",
       " 2.0,\n",
       " 5.0,\n",
       " 2.0,\n",
       " 3.5,\n",
       " 5.0,\n",
       " 5.0,\n",
       " 4.0,\n",
       " 4.0,\n",
       " 4.0,\n",
       " 5.0,\n",
       " 5.0,\n",
       " 5.0,\n",
       " 3.5,\n",
       " 5.0,\n",
       " 3.0,\n",
       " 5.0,\n",
       " 5.0,\n",
       " 4.5,\n",
       " 5.0,\n",
       " 0.5,\n",
       " 1.0,\n",
       " -0.5,\n",
       " 2.5,\n",
       " 5.0,\n",
       " 2.0,\n",
       " 1.5,\n",
       " 4.5,\n",
       " 5.0,\n",
       " 4.5,\n",
       " 5.0,\n",
       " 5.0,\n",
       " 4.5,\n",
       " 5.0,\n",
       " 3.5,\n",
       " 5.0,\n",
       " 1.5,\n",
       " 5.0,\n",
       " 4.5,\n",
       " 2.0,\n",
       " -2.0,\n",
       " 3.5,\n",
       " 3.0,\n",
       " 5.0,\n",
       " 3.5,\n",
       " 2.5,\n",
       " 4.0,\n",
       " 3.5,\n",
       " 5.0,\n",
       " 5.0,\n",
       " 4.0,\n",
       " 4.0,\n",
       " 3.0,\n",
       " 4.0,\n",
       " 4.0,\n",
       " 3.5,\n",
       " 3.0,\n",
       " 4.0,\n",
       " 2.5,\n",
       " 5.0,\n",
       " 4.0,\n",
       " 5.0,\n",
       " 5.0,\n",
       " 5.0,\n",
       " 2.0,\n",
       " 5.0,\n",
       " 4.0,\n",
       " 4.0,\n",
       " 3.5,\n",
       " 4.0,\n",
       " 0.5,\n",
       " 2.5,\n",
       " 4.5,\n",
       " 2.5,\n",
       " 3.5,\n",
       " 5.0,\n",
       " 1.5,\n",
       " 3.5,\n",
       " 1.5,\n",
       " 5.0,\n",
       " 5.0,\n",
       " 2.0,\n",
       " 2.5,\n",
       " 5.0,\n",
       " 3.5,\n",
       " 2.5,\n",
       " 5.0,\n",
       " -2.0,\n",
       " -2.5,\n",
       " 4.5,\n",
       " 3.0,\n",
       " 0.5,\n",
       " 3.0,\n",
       " 4.5,\n",
       " 4.0,\n",
       " 2.5,\n",
       " 2.0,\n",
       " 4.5,\n",
       " 3.5,\n",
       " 4.0,\n",
       " 4.5,\n",
       " 5.0,\n",
       " 4.5,\n",
       " 4.5,\n",
       " 4.0,\n",
       " 2.0,\n",
       " ...]"
      ]
     },
     "execution_count": 188,
     "metadata": {},
     "output_type": "execute_result"
    }
   ],
   "source": [
    "reward_li"
   ]
  },
  {
   "cell_type": "code",
   "execution_count": 195,
   "metadata": {},
   "outputs": [
    {
     "data": {
      "text/plain": [
       "[<matplotlib.lines.Line2D at 0x7fe5e7f8bc90>]"
      ]
     },
     "execution_count": 195,
     "metadata": {},
     "output_type": "execute_result"
    },
    {
     "data": {
      "image/png": "[encoded data removed]",
      "text/plain": [
       "<Figure size 432x288 with 1 Axes>"
      ]
     },
     "metadata": {
      "needs_background": "light"
     },
     "output_type": "display_data"
    }
   ],
   "source": [
    "plt.plot(reward_li[-100:])"
   ]
  },
  {
   "cell_type": "code",
   "execution_count": 106,
   "metadata": {},
   "outputs": [
    {
     "data": {
      "text/plain": [
       "5"
      ]
     },
     "execution_count": 106,
     "metadata": {},
     "output_type": "execute_result"
    }
   ],
   "source": [
    "rate"
   ]
  },
  {
   "cell_type": "code",
   "execution_count": 101,
   "metadata": {},
   "outputs": [
    {
     "data": {
      "text/plain": [
       "{tensor(4331406): {70276, 214356, 1391900, 2087086, 2498016},\n",
       " tensor(6717064): {2451670, 2465149, 2467158, 2471290, 2473794},\n",
       " tensor(1453186): {481794, 572572, 1162759, 1246217, 1593841},\n",
       " tensor(13746747): {196585, 197029, 197142, 198279, 2350592},\n",
       " tensor(12694617): {217072, 346067, 568990, 1674352, 2426519},\n",
       " tensor(12043813): {4266, 4689, 4844, 5437, 5902},\n",
       " tensor(7273102): {9770, 16688, 198716, 221579, 2719031},\n",
       " tensor(10077243): {1253013, 1569142, 1630879, 1738338, 1824579},\n",
       " tensor(13930480): {1856734, 2451670, 2453028, 2456229, 2456819},\n",
       " tensor(7836930): {1835140, 1849476, 2452924, 2461402, 2461946},\n",
       " tensor(11772633): {215711, 215713, 299006, 317365, 823298},\n",
       " tensor(2672556): {9770, 1569295, 1609389, 1616882, 2719031},\n",
       " tensor(1181767): {116144, 142283, 522654, 1556227, 1754966},\n",
       " tensor(9949838): {1569128, 1569228, 1569232, 1698923, 2438129},\n",
       " tensor(7391975): {284339, 678573, 1335215, 1463079, 1709433},\n",
       " tensor(13524533): {92502, 194278, 203097, 649014, 671984},\n",
       " tensor(593966): {285231, 583049, 619822, 1821923, 2422745},\n",
       " tensor(325864): {498150, 1570033, 1608584, 1689306, 1791375},\n",
       " tensor(13609319): {106927, 284498, 1569004, 2145514, 2925109},\n",
       " tensor(10698704): {526916, 1201338, 1451557, 1880403, 1938512},\n",
       " tensor(3844461): {72530, 97103, 134673, 241806, 852814},\n",
       " tensor(5228796): {457421, 709445, 833207, 834027, 1876664},\n",
       " tensor(7080661): {101652, 426482, 920105, 2057060, 2260382},\n",
       " tensor(1491627): {494803, 1263382, 1263383, 1593161, 1856367},\n",
       " tensor(8345666): {97369, 1377132, 1445984, 1611797, 2098716},\n",
       " tensor(880955): {18318, 69167, 102082, 1607000, 2153967},\n",
       " tensor(8433075): {3019, 146801, 427356, 486550, 1055466},\n",
       " tensor(14597616): {497383, 503325, 1579727, 1667451, 2027963},\n",
       " tensor(14076010): {255397, 328628, 346800, 1587977, 2045470},\n",
       " tensor(1902751): {97389, 115300, 169959, 577846, 2912475},\n",
       " tensor(13633933): {199060, 789693, 1194165, 2418507, 2787746},\n",
       " tensor(3534616): {486427, 728167, 1287811, 1457094, 1940743},\n",
       " tensor(9577437): {237576, 237594, 962301, 1134556, 1798627},\n",
       " tensor(3018619): {550991, 1219341, 1249089, 1598965, 1602709},\n",
       " tensor(3123765): {253466, 1802959, 2008693, 2458219, 2830455},\n",
       " tensor(9857898): {19968, 196461, 274674, 326630, 1526792},\n",
       " tensor(538605): {48355, 48647, 366276, 1309630, 2398788},\n",
       " tensor(2292497): {581622, 1686182, 1711145, 1783619, 1847318},\n",
       " tensor(2073829): {743168, 791020, 2082146, 2082263, 2591457},\n",
       " tensor(14091131): {1056024, 1120206, 1405152, 2065785, 2916002},\n",
       " tensor(10790772): {608800, 1468829, 2207578, 2221596, 2350592},\n",
       " tensor(8670549): {203097, 1246107, 1859576, 2052217, 2295422},\n",
       " tensor(9289869): {42032, 93122, 262813, 274920, 515267},\n",
       " tensor(10765394): {1677830, 1697548, 1747798, 1784126, 2469797},\n",
       " tensor(14583640): {575825, 584331, 1695871, 1745289, 2069491},\n",
       " tensor(13462237): {563774, 703277, 1629328, 2012084, 2273446},\n",
       " tensor(11785117): {233500, 245452, 299467, 609849, 1620438},\n",
       " tensor(2977239): {1515832, 1557218, 1569174, 1616687, 1715209},\n",
       " tensor(7080849): {574276, 1571520, 1773378, 1793131, 2470221},\n",
       " tensor(10609453): {18511, 23002, 69756, 185101, 2209806},\n",
       " tensor(4779514): {584396, 1220984, 2481339, 2481342, 2875871},\n",
       " tensor(4397386): {43272, 45391, 168974, 1951109, 2003519},\n",
       " tensor(14478995): {757945, 1509896, 1569290, 1813152, 2325764},\n",
       " tensor(423057): {1241976, 1788418, 1822694, 2433797, 2889743},\n",
       " tensor(10745610): {746441, 1858353, 2349449, 2350599, 2921888},\n",
       " tensor(3966161): {954871, 1400422, 2103431, 2220634, 2259487},\n",
       " tensor(4998592): {664097, 1118908, 1236213, 1698881, 2219657},\n",
       " tensor(7237840): {1262863, 1674790, 1702047, 1707189, 1739239},\n",
       " tensor(12829425): {35511, 717175, 1939185, 1975285, 2090325},\n",
       " tensor(11365896): {137068, 297117, 397880, 699163, 800371},\n",
       " tensor(6943603): {1378382, 1556098, 1568270, 2826606, 2873942},\n",
       " tensor(7703436): {220114, 1224485, 1249449, 1551532, 1843956},\n",
       " tensor(11236843): {177099, 294353, 531520, 664099, 1820204},\n",
       " tensor(5689680): {115050, 215992, 216662, 1028437, 2514299},\n",
       " tensor(9683696): {81211, 138415, 1158609, 1601258, 2533268},\n",
       " tensor(7596379): {18229, 345095, 439332, 1238274, 1307821},\n",
       " tensor(6573986): {757128, 757268, 757819, 2311984, 2311995},\n",
       " tensor(10692610): {291795, 310236, 347711, 360106, 748003},\n",
       " tensor(12715136): {218056, 1715183, 2347140, 2876036, 2888748},\n",
       " tensor(7921808): {1292619, 1473052, 2130636, 2216443, 2217201},\n",
       " tensor(4176348): {730754, 1391281, 1551880, 1698756, 1699482},\n",
       " tensor(8785884): {6837, 328528, 1723013, 1851412, 2478027},\n",
       " tensor(681860): {255310, 1752156, 2160350, 2160399, 2445207},\n",
       " tensor(5034399): {1761923, 1853137, 2451873, 2468627, 2480580},\n",
       " tensor(14339643): {23002, 535091, 664097, 2666075, 2913473},\n",
       " tensor(12773349): {94757, 105151, 388790, 605411, 2268184},\n",
       " tensor(1323881): {328628, 359974, 1541051, 1662691, 1672486},\n",
       " tensor(7131086): {33627, 216267, 504256, 1272494, 1596336},\n",
       " tensor(12840330): {1127412, 1217403, 1603283, 1623614, 2343040},\n",
       " tensor(9780716): {1599008, 1603283, 1609389, 1614728, 1680914},\n",
       " tensor(13840226): {1059854, 1094559, 1099206, 1912159, 2306822},\n",
       " tensor(14781267): {757905, 757929, 1077328, 1363816, 1437573},\n",
       " tensor(12891050): {1736698, 1745586, 1757045, 1758974, 1809150},\n",
       " tensor(14103227): {18318, 24514, 94040, 278270, 347995},\n",
       " tensor(9833564): {283811, 1699534, 1699554, 2096068, 2435234},\n",
       " tensor(12873167): {576370, 1039430, 1039447, 1864610, 1986061},\n",
       " tensor(12702230): {103649, 104692, 746789, 1594151, 2171976},\n",
       " tensor(14097399): {1736, 269969, 388614, 1700677, 2150217},\n",
       " tensor(12043588): {2756, 69252, 243316, 279011, 2378186},\n",
       " tensor(8432938): {200710, 532149, 1445984, 1487381, 1487383},\n",
       " tensor(5371337): {1256609, 1783392, 1786100, 1791408, 1804440},\n",
       " tensor(14457416): {284224, 327069, 327817, 789445, 2017441},\n",
       " tensor(12950330): {1007343, 1896014, 1896059, 1896120, 1896132},\n",
       " tensor(3394389): {18318, 1983125, 1983150, 1983201, 2024654},\n",
       " tensor(3576920): {169060, 840572, 967417, 1962035, 1962315},\n",
       " tensor(3758925): {16258, 37072, 106218, 2033884, 2695054},\n",
       " tensor(12415801): {445589, 506228, 507286, 507308, 1602664},\n",
       " tensor(2302782): {185986, 189734, 678022, 810200, 810214},\n",
       " tensor(8868933): {283835, 462976, 499266, 1568970, 2197860},\n",
       " tensor(4961801): {14483, 106218, 346185, 1386464, 2695054}}"
      ]
     },
     "execution_count": 101,
     "metadata": {},
     "output_type": "execute_result"
    }
   ],
   "source": [
    "preddict"
   ]
  },
  {
   "cell_type": "code",
   "execution_count": 102,
   "metadata": {},
   "outputs": [
    {
     "data": {
      "text/plain": [
       "tensor([1.])"
      ]
     },
     "execution_count": 102,
     "metadata": {},
     "output_type": "execute_result"
    }
   ],
   "source": [
    "reward"
   ]
  },
  {
   "cell_type": "code",
   "execution_count": 105,
   "metadata": {},
   "outputs": [
    {
     "data": {
      "text/plain": [
       "1.0"
      ]
     },
     "execution_count": 105,
     "metadata": {},
     "output_type": "execute_result"
    }
   ],
   "source": [
    "ratings"
   ]
  },
  {
   "cell_type": "code",
   "execution_count": 104,
   "metadata": {},
   "outputs": [
    {
     "data": {
      "text/plain": [
       "190747"
      ]
     },
     "execution_count": 104,
     "metadata": {},
     "output_type": "execute_result"
    }
   ],
   "source": [
    "len(memory)"
   ]
  },
  {
   "cell_type": "code",
   "execution_count": 192,
   "metadata": {
    "ExecuteTime": {
     "end_time": "2020-12-11T01:44:35.231209Z",
     "start_time": "2020-12-11T01:44:35.133125Z"
    }
   },
   "outputs": [
    {
     "data": {
      "text/plain": [
       "[<matplotlib.lines.Line2D at 0x7fe5e2233610>]"
      ]
     },
     "execution_count": 192,
     "metadata": {},
     "output_type": "execute_result"
    },
    {
     "data": {
      "image/png": "[encoded data removed]",
      "text/plain": [
       "<Figure size 432x288 with 1 Axes>"
      ]
     },
     "metadata": {
      "needs_background": "light"
     },
     "output_type": "display_data"
    }
   ],
   "source": [
    "plt.plot(v_loss)"
   ]
  },
  {
   "cell_type": "code",
   "execution_count": 193,
   "metadata": {
    "ExecuteTime": {
     "end_time": "2020-12-11T01:44:35.515266Z",
     "start_time": "2020-12-11T01:44:35.430641Z"
    }
   },
   "outputs": [
    {
     "data": {
      "text/plain": [
       "[<matplotlib.lines.Line2D at 0x7fe5e21bd350>]"
      ]
     },
     "execution_count": 193,
     "metadata": {},
     "output_type": "execute_result"
    },
    {
     "data": {
      "image/png": "[encoded data removed]",
      "text/plain": [
       "<Figure size 432x288 with 1 Axes>"
      ]
     },
     "metadata": {
      "needs_background": "light"
     },
     "output_type": "display_data"
    }
   ],
   "source": [
    "plt.plot(p_loss)"
   ]
  },
  {
   "cell_type": "markdown",
   "metadata": {},
   "source": [
    "## 6. Testing"
   ]
  },
  {
   "cell_type": "code",
   "execution_count": 58,
   "metadata": {
    "ExecuteTime": {
     "end_time": "2020-12-11T01:03:34.183968Z",
     "start_time": "2020-12-11T01:03:34.147087Z"
    }
   },
   "outputs": [
    {
     "ename": "NameError",
     "evalue": "name 'test_pred_dict' is not defined",
     "output_type": "error",
     "traceback": [
      "\u001b[0;31m---------------------------------------------------------------------------\u001b[0m",
      "\u001b[0;31mNameError\u001b[0m                                 Traceback (most recent call last)",
      "\u001b[0;32m<ipython-input-58-30de617b82c0>\u001b[0m in \u001b[0;36m<module>\u001b[0;34m\u001b[0m\n\u001b[1;32m     17\u001b[0m     \u001b[0;32mreturn\u001b[0m \u001b[0mtest_embed_array\u001b[0m\u001b[0;34m\u001b[0m\u001b[0;34m\u001b[0m\u001b[0m\n\u001b[1;32m     18\u001b[0m \u001b[0;34m\u001b[0m\u001b[0m\n\u001b[0;32m---> 19\u001b[0;31m \u001b[0mtest_embed_array\u001b[0m \u001b[0;34m=\u001b[0m \u001b[0mget_cosine_sim\u001b[0m\u001b[0;34m(\u001b[0m\u001b[0muserid_b\u001b[0m\u001b[0;34m[\u001b[0m\u001b[0;36m0\u001b[0m\u001b[0;34m]\u001b[0m\u001b[0;34m)\u001b[0m\u001b[0;34m\u001b[0m\u001b[0;34m\u001b[0m\u001b[0m\n\u001b[0m\u001b[1;32m     20\u001b[0m \u001b[0max\u001b[0m \u001b[0;34m=\u001b[0m \u001b[0msns\u001b[0m\u001b[0;34m.\u001b[0m\u001b[0mheatmap\u001b[0m\u001b[0;34m(\u001b[0m\u001b[0mcs\u001b[0m\u001b[0;34m(\u001b[0m\u001b[0mtest_embed_array\u001b[0m\u001b[0;34m)\u001b[0m\u001b[0;34m,\u001b[0m \u001b[0mlinewidth\u001b[0m\u001b[0;34m=\u001b[0m\u001b[0;36m0.5\u001b[0m\u001b[0;34m)\u001b[0m\u001b[0;34m\u001b[0m\u001b[0;34m\u001b[0m\u001b[0m\n\u001b[1;32m     21\u001b[0m \u001b[0mplt\u001b[0m\u001b[0;34m.\u001b[0m\u001b[0mshow\u001b[0m\u001b[0;34m(\u001b[0m\u001b[0;34m)\u001b[0m\u001b[0;34m\u001b[0m\u001b[0;34m\u001b[0m\u001b[0m\n",
      "\u001b[0;32m<ipython-input-58-30de617b82c0>\u001b[0m in \u001b[0;36mget_cosine_sim\u001b[0;34m(userid)\u001b[0m\n\u001b[1;32m      4\u001b[0m \u001b[0;34m\u001b[0m\u001b[0m\n\u001b[1;32m      5\u001b[0m \u001b[0;32mdef\u001b[0m \u001b[0mget_cosine_sim\u001b[0m\u001b[0;34m(\u001b[0m\u001b[0muserid\u001b[0m\u001b[0;34m)\u001b[0m\u001b[0;34m:\u001b[0m\u001b[0;34m\u001b[0m\u001b[0;34m\u001b[0m\u001b[0m\n\u001b[0;32m----> 6\u001b[0;31m     \u001b[0mtest_pred\u001b[0m \u001b[0;34m=\u001b[0m \u001b[0mtest_pred_dict\u001b[0m\u001b[0;34m[\u001b[0m\u001b[0muserid\u001b[0m\u001b[0;34m]\u001b[0m\u001b[0;34m\u001b[0m\u001b[0;34m\u001b[0m\u001b[0m\n\u001b[0m\u001b[1;32m      7\u001b[0m     \u001b[0;32mfor\u001b[0m \u001b[0mi\u001b[0m\u001b[0;34m,\u001b[0m\u001b[0mitem\u001b[0m \u001b[0;32min\u001b[0m \u001b[0menumerate\u001b[0m\u001b[0;34m(\u001b[0m\u001b[0musers_dict\u001b[0m\u001b[0;34m[\u001b[0m\u001b[0muserid\u001b[0m\u001b[0;34m]\u001b[0m\u001b[0;34m[\u001b[0m\u001b[0;34m\"item\"\u001b[0m\u001b[0;34m]\u001b[0m\u001b[0;34m)\u001b[0m\u001b[0;34m:\u001b[0m\u001b[0;34m\u001b[0m\u001b[0;34m\u001b[0m\u001b[0m\n\u001b[1;32m      8\u001b[0m         \u001b[0;32mif\u001b[0m \u001b[0mitem\u001b[0m \u001b[0;32min\u001b[0m \u001b[0mtest_pred\u001b[0m\u001b[0;34m:\u001b[0m\u001b[0;34m\u001b[0m\u001b[0;34m\u001b[0m\u001b[0m\n",
      "\u001b[0;31mNameError\u001b[0m: name 'test_pred_dict' is not defined"
     ]
    }
   ],
   "source": [
    "#Getting Cosine similarity of recommended items for a particular userid that has been evaluated\n",
    "# from sklearn.metrics.pairwise import cosine_similarity as cs\n",
    "# import seaborn as sns\n",
    "\n",
    "def get_cosine_sim(userid):\n",
    "    test_pred = test_pred_dict[userid]\n",
    "    for i,item in enumerate(users_dict[userid][\"item\"]):\n",
    "        if item in test_pred:\n",
    "            print(item,\":\",users_dict[userid][\"rating\"][i])\n",
    "\n",
    "    test_embed = []\n",
    "    for item in test_pred:\n",
    "        test_embed.append(np.array(item_embeddings_dict[int(item)]))\n",
    "\n",
    "    test_embed_array = np.array(test_embed)\n",
    "\n",
    "    return test_embed_array\n",
    "\n",
    "test_embed_array = get_cosine_sim(userid_b[0])\n",
    "ax = sns.heatmap(cs(test_embed_array), linewidth=0.5)\n",
    "plt.show()\n"
   ]
  },
  {
   "cell_type": "code",
   "execution_count": null,
   "metadata": {
    "ExecuteTime": {
     "end_time": "2020-12-10T06:50:48.281895Z",
     "start_time": "2020-12-10T06:50:46.481Z"
    }
   },
   "outputs": [],
   "source": [
    "#prediction algorithm\n",
    "it2 = iter(test_dataloader)\n",
    "precision = 0\n",
    "test_pred_dict = dict()\n",
    "for j in range(len(test_dataloader)-1):  #session 돌리기 : timestamps 내에서 items들 \n",
    "    first = next(it2)\n",
    "    item_b,rating_b,size_b,userid_b,idx_b = first['item'],first['rating'],first['size'],first['userid'],first['idx']\n",
    "    memory[idx_b] = [item[0] for item in item_b]\n",
    "    state = drrave_state_rep(userid_b,item_b,memory,idx_b)\n",
    "    count = 0\n",
    "    test_pred = set()\n",
    "    for j in range(5):  #policy network5번 돌리기 , 추천 5번 하기\n",
    "        state_rep =  torch.reshape(state,[-1])\n",
    "        action_emb = policy_net(state_rep)   # policy_net = actor : items들의 선호도 (rating)\n",
    "        action = get_action(state,action_emb,userid_b,item_b,test_pred)\n",
    "        rate = int(users_dict[userid_b[0]][\"rating\"][action])\n",
    "        try:\n",
    "            rating = (int(rate)-3)/2\n",
    "        except:\n",
    "            rating = 0\n",
    "        reward = torch.Tensor((rating,))\n",
    "\n",
    "        if reward > 0:\n",
    "            count += 1\n",
    "            update_memory(memory,int(users_dict[userid_b[0]][\"item\"][action]),idx_b)\n",
    "        next_state = drrave_state_rep(userid_b,item_b,memory,idx_b)\n",
    "        state = next_state\n",
    "    precision += count/5\n",
    "    test_pred_dict[userid_b[0]] = test_pred\n",
    "print(\"p\",precision/(len(test_dataloader)-1))"
   ]
  },
  {
   "cell_type": "markdown",
   "metadata": {},
   "source": [
    "## 7. Saving and Loading Models"
   ]
  },
  {
   "cell_type": "code",
   "execution_count": null,
   "metadata": {
    "ExecuteTime": {
     "end_time": "2020-12-10T06:50:48.282584Z",
     "start_time": "2020-12-10T06:50:46.482Z"
    }
   },
   "outputs": [],
   "source": [
    "PATH = '/content/gdrive/My Drive/RLProject/Models/drravepolicy_net.pth'\n",
    "torch.save(policy_net.state_dict(), PATH)"
   ]
  },
  {
   "cell_type": "code",
   "execution_count": null,
   "metadata": {
    "ExecuteTime": {
     "end_time": "2020-12-10T06:50:48.283124Z",
     "start_time": "2020-12-10T06:50:46.484Z"
    }
   },
   "outputs": [],
   "source": [
    "value_PATH = '/content/gdrive/My Drive/RLProject/Models/drravevalue_net.pth'\n",
    "torch.save(value_net.state_dict(), value_PATH)\n",
    "\n",
    "tpolicy_PATH = '/content/gdrive/My Drive/RLProject/Models/drravetpolicy_net.pth'\n",
    "torch.save(target_policy_net.state_dict(), tpolicy_PATH)\n",
    "\n",
    "tvalue_PATH = '/content/gdrive/My Drive/RLProject/Models/drravetvalue_net.pth'\n",
    "torch.save(target_value_net.state_dict(), tvalue_PATH)"
   ]
  },
  {
   "cell_type": "code",
   "execution_count": null,
   "metadata": {
    "ExecuteTime": {
     "end_time": "2020-12-10T06:50:48.283811Z",
     "start_time": "2020-12-10T06:50:46.485Z"
    }
   },
   "outputs": [],
   "source": [
    "np.save('/content/gdrive/My Drive/RLProject/Models/train_dataloader',train_dataloader)\n",
    "np.save('/content/gdrive/My Drive/RLProject/Models/test_dataloader',test_dataloader)"
   ]
  },
  {
   "cell_type": "code",
   "execution_count": null,
   "metadata": {
    "ExecuteTime": {
     "end_time": "2020-12-10T06:50:48.284614Z",
     "start_time": "2020-12-10T06:50:46.487Z"
    }
   },
   "outputs": [],
   "source": [
    "policy_net = Actor(5500,100,256)\n",
    "policy_net.load_state_dict(torch.load(PATH))\n",
    "policy_net.eval()\n",
    "\n",
    "value_net = Critic(5500,100,256)\n",
    "value_net.load_state_dict(torch.load(value_PATH))\n",
    "value_net.eval()\n",
    "\n",
    "target_policy_net = Actor(5500,100,256)\n",
    "target_policy_net.load_state_dict(torch.load(tpolicy_PATH))\n",
    "target_policy_net.eval()\n",
    "\n",
    "target_value_net = Critic(5500,100,256)\n",
    "target_value_net.load_state_dict(torch.load(tvalue_PATH))\n",
    "target_value_net.eval()\n"
   ]
  },
  {
   "cell_type": "code",
   "execution_count": null,
   "metadata": {
    "ExecuteTime": {
     "end_time": "2020-12-10T06:50:48.285220Z",
     "start_time": "2020-12-10T06:50:46.488Z"
    }
   },
   "outputs": [],
   "source": [
    "np_load_old = np.load\n",
    "\n",
    "# modify the default parameters of np.load\n",
    "np.load = lambda *a,**k: np_load_old(*a, allow_pickle=True, **k)\n",
    "\n",
    "train_data = np.load('/content/gdrive/My Drive/RLProject/Models/train_users.npy')"
   ]
  },
  {
   "cell_type": "code",
   "execution_count": null,
   "metadata": {
    "ExecuteTime": {
     "end_time": "2020-12-10T06:50:48.285755Z",
     "start_time": "2020-12-10T06:50:46.488Z"
    }
   },
   "outputs": [],
   "source": [
    "np.load = np_load_old"
   ]
  },
  {
   "cell_type": "code",
   "execution_count": null,
   "metadata": {},
   "outputs": [],
   "source": []
  }
 ],
 "metadata": {
  "kernelspec": {
   "display_name": "aiffel",
   "language": "python",
   "name": "aiffel"
  },
  "language_info": {
   "codemirror_mode": {
    "name": "ipython",
    "version": 3
   },
   "file_extension": ".py",
   "mimetype": "text/x-python",
   "name": "python",
   "nbconvert_exporter": "python",
   "pygments_lexer": "ipython3",
   "version": "3.7.6"
  }
 },
 "nbformat": 4,
 "nbformat_minor": 4
}
